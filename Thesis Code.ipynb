{
 "cells": [
  {
   "cell_type": "code",
   "execution_count": 52,
   "id": "83649893",
   "metadata": {},
   "outputs": [
    {
     "data": {
      "text/html": [
       "<div>\n",
       "<style scoped>\n",
       "    .dataframe tbody tr th:only-of-type {\n",
       "        vertical-align: middle;\n",
       "    }\n",
       "\n",
       "    .dataframe tbody tr th {\n",
       "        vertical-align: top;\n",
       "    }\n",
       "\n",
       "    .dataframe thead th {\n",
       "        text-align: right;\n",
       "    }\n",
       "</style>\n",
       "<table border=\"1\" class=\"dataframe\">\n",
       "  <thead>\n",
       "    <tr style=\"text-align: right;\">\n",
       "      <th></th>\n",
       "      <th>case</th>\n",
       "      <th>event</th>\n",
       "      <th>time</th>\n",
       "      <th>lifecycle:transition</th>\n",
       "      <th>ApplicationType</th>\n",
       "      <th>LoanGoal</th>\n",
       "      <th>RequestedAmount</th>\n",
       "      <th>MonthlyCost</th>\n",
       "      <th>org:resource</th>\n",
       "      <th>Selected</th>\n",
       "      <th>...</th>\n",
       "      <th>Accepted</th>\n",
       "      <th>CreditScore</th>\n",
       "      <th>NumberOfTerms</th>\n",
       "      <th>EventOrigin</th>\n",
       "      <th>OfferedAmount</th>\n",
       "      <th>case:concept:name</th>\n",
       "      <th>concept:name</th>\n",
       "      <th>time:timestamp</th>\n",
       "      <th>@@index</th>\n",
       "      <th>@@case_index</th>\n",
       "    </tr>\n",
       "  </thead>\n",
       "  <tbody>\n",
       "    <tr>\n",
       "      <th>0</th>\n",
       "      <td>Application_1000086665</td>\n",
       "      <td>A_Create Application</td>\n",
       "      <td>2016-08-03 17:57:21.673000+00:00</td>\n",
       "      <td>COMPLETE</td>\n",
       "      <td>New credit</td>\n",
       "      <td>Other, see explanation</td>\n",
       "      <td>5000.0</td>\n",
       "      <td>NaN</td>\n",
       "      <td>User_1</td>\n",
       "      <td>NaN</td>\n",
       "      <td>...</td>\n",
       "      <td>NaN</td>\n",
       "      <td>NaN</td>\n",
       "      <td>NaN</td>\n",
       "      <td>Application</td>\n",
       "      <td>NaN</td>\n",
       "      <td>Application_1000086665</td>\n",
       "      <td>A_Create Application</td>\n",
       "      <td>2016-08-03 17:57:21.673000+00:00</td>\n",
       "      <td>0</td>\n",
       "      <td>0</td>\n",
       "    </tr>\n",
       "    <tr>\n",
       "      <th>1</th>\n",
       "      <td>Application_1000086665</td>\n",
       "      <td>A_Submitted</td>\n",
       "      <td>2016-08-03 17:57:21.734000+00:00</td>\n",
       "      <td>COMPLETE</td>\n",
       "      <td>New credit</td>\n",
       "      <td>Other, see explanation</td>\n",
       "      <td>5000.0</td>\n",
       "      <td>NaN</td>\n",
       "      <td>User_1</td>\n",
       "      <td>NaN</td>\n",
       "      <td>...</td>\n",
       "      <td>NaN</td>\n",
       "      <td>NaN</td>\n",
       "      <td>NaN</td>\n",
       "      <td>Application</td>\n",
       "      <td>NaN</td>\n",
       "      <td>Application_1000086665</td>\n",
       "      <td>A_Submitted</td>\n",
       "      <td>2016-08-03 17:57:21.734000+00:00</td>\n",
       "      <td>1</td>\n",
       "      <td>0</td>\n",
       "    </tr>\n",
       "    <tr>\n",
       "      <th>2</th>\n",
       "      <td>Application_1000086665</td>\n",
       "      <td>W_Handle leads</td>\n",
       "      <td>2016-08-03 17:57:21.963000+00:00</td>\n",
       "      <td>SCHEDULE</td>\n",
       "      <td>New credit</td>\n",
       "      <td>Other, see explanation</td>\n",
       "      <td>5000.0</td>\n",
       "      <td>NaN</td>\n",
       "      <td>User_1</td>\n",
       "      <td>NaN</td>\n",
       "      <td>...</td>\n",
       "      <td>NaN</td>\n",
       "      <td>NaN</td>\n",
       "      <td>NaN</td>\n",
       "      <td>Workflow</td>\n",
       "      <td>NaN</td>\n",
       "      <td>Application_1000086665</td>\n",
       "      <td>W_Handle leads</td>\n",
       "      <td>2016-08-03 17:57:21.963000+00:00</td>\n",
       "      <td>2</td>\n",
       "      <td>0</td>\n",
       "    </tr>\n",
       "    <tr>\n",
       "      <th>3</th>\n",
       "      <td>Application_1000086665</td>\n",
       "      <td>W_Handle leads</td>\n",
       "      <td>2016-08-03 17:58:28.286000+00:00</td>\n",
       "      <td>WITHDRAW</td>\n",
       "      <td>New credit</td>\n",
       "      <td>Other, see explanation</td>\n",
       "      <td>5000.0</td>\n",
       "      <td>NaN</td>\n",
       "      <td>User_1</td>\n",
       "      <td>NaN</td>\n",
       "      <td>...</td>\n",
       "      <td>NaN</td>\n",
       "      <td>NaN</td>\n",
       "      <td>NaN</td>\n",
       "      <td>Workflow</td>\n",
       "      <td>NaN</td>\n",
       "      <td>Application_1000086665</td>\n",
       "      <td>W_Handle leads</td>\n",
       "      <td>2016-08-03 17:58:28.286000+00:00</td>\n",
       "      <td>3</td>\n",
       "      <td>0</td>\n",
       "    </tr>\n",
       "    <tr>\n",
       "      <th>4</th>\n",
       "      <td>Application_1000086665</td>\n",
       "      <td>W_Complete application</td>\n",
       "      <td>2016-08-03 17:58:28.293000+00:00</td>\n",
       "      <td>SCHEDULE</td>\n",
       "      <td>New credit</td>\n",
       "      <td>Other, see explanation</td>\n",
       "      <td>5000.0</td>\n",
       "      <td>NaN</td>\n",
       "      <td>User_1</td>\n",
       "      <td>NaN</td>\n",
       "      <td>...</td>\n",
       "      <td>NaN</td>\n",
       "      <td>NaN</td>\n",
       "      <td>NaN</td>\n",
       "      <td>Workflow</td>\n",
       "      <td>NaN</td>\n",
       "      <td>Application_1000086665</td>\n",
       "      <td>W_Complete application</td>\n",
       "      <td>2016-08-03 17:58:28.293000+00:00</td>\n",
       "      <td>4</td>\n",
       "      <td>0</td>\n",
       "    </tr>\n",
       "    <tr>\n",
       "      <th>...</th>\n",
       "      <td>...</td>\n",
       "      <td>...</td>\n",
       "      <td>...</td>\n",
       "      <td>...</td>\n",
       "      <td>...</td>\n",
       "      <td>...</td>\n",
       "      <td>...</td>\n",
       "      <td>...</td>\n",
       "      <td>...</td>\n",
       "      <td>...</td>\n",
       "      <td>...</td>\n",
       "      <td>...</td>\n",
       "      <td>...</td>\n",
       "      <td>...</td>\n",
       "      <td>...</td>\n",
       "      <td>...</td>\n",
       "      <td>...</td>\n",
       "      <td>...</td>\n",
       "      <td>...</td>\n",
       "      <td>...</td>\n",
       "      <td>...</td>\n",
       "    </tr>\n",
       "    <tr>\n",
       "      <th>1202262</th>\n",
       "      <td>Application_999993812</td>\n",
       "      <td>W_Call incomplete files</td>\n",
       "      <td>2016-10-20 10:19:28.812000+00:00</td>\n",
       "      <td>RESUME</td>\n",
       "      <td>New credit</td>\n",
       "      <td>Caravan / Camper</td>\n",
       "      <td>30000.0</td>\n",
       "      <td>NaN</td>\n",
       "      <td>User_41</td>\n",
       "      <td>NaN</td>\n",
       "      <td>...</td>\n",
       "      <td>NaN</td>\n",
       "      <td>NaN</td>\n",
       "      <td>NaN</td>\n",
       "      <td>Workflow</td>\n",
       "      <td>NaN</td>\n",
       "      <td>Application_999993812</td>\n",
       "      <td>W_Call incomplete files</td>\n",
       "      <td>2016-10-20 10:19:28.812000+00:00</td>\n",
       "      <td>1202262</td>\n",
       "      <td>31508</td>\n",
       "    </tr>\n",
       "    <tr>\n",
       "      <th>1202263</th>\n",
       "      <td>Application_999993812</td>\n",
       "      <td>W_Call incomplete files</td>\n",
       "      <td>2016-10-20 10:21:59.667000+00:00</td>\n",
       "      <td>SUSPEND</td>\n",
       "      <td>New credit</td>\n",
       "      <td>Caravan / Camper</td>\n",
       "      <td>30000.0</td>\n",
       "      <td>NaN</td>\n",
       "      <td>User_41</td>\n",
       "      <td>NaN</td>\n",
       "      <td>...</td>\n",
       "      <td>NaN</td>\n",
       "      <td>NaN</td>\n",
       "      <td>NaN</td>\n",
       "      <td>Workflow</td>\n",
       "      <td>NaN</td>\n",
       "      <td>Application_999993812</td>\n",
       "      <td>W_Call incomplete files</td>\n",
       "      <td>2016-10-20 10:21:59.667000+00:00</td>\n",
       "      <td>1202263</td>\n",
       "      <td>31508</td>\n",
       "    </tr>\n",
       "    <tr>\n",
       "      <th>1202264</th>\n",
       "      <td>Application_999993812</td>\n",
       "      <td>O_Accepted</td>\n",
       "      <td>2016-10-24 08:24:30.056000+00:00</td>\n",
       "      <td>COMPLETE</td>\n",
       "      <td>New credit</td>\n",
       "      <td>Caravan / Camper</td>\n",
       "      <td>30000.0</td>\n",
       "      <td>NaN</td>\n",
       "      <td>User_68</td>\n",
       "      <td>NaN</td>\n",
       "      <td>...</td>\n",
       "      <td>NaN</td>\n",
       "      <td>NaN</td>\n",
       "      <td>NaN</td>\n",
       "      <td>Offer</td>\n",
       "      <td>NaN</td>\n",
       "      <td>Application_999993812</td>\n",
       "      <td>O_Accepted</td>\n",
       "      <td>2016-10-24 08:24:30.056000+00:00</td>\n",
       "      <td>1202264</td>\n",
       "      <td>31508</td>\n",
       "    </tr>\n",
       "    <tr>\n",
       "      <th>1202265</th>\n",
       "      <td>Application_999993812</td>\n",
       "      <td>A_Pending</td>\n",
       "      <td>2016-10-24 08:24:30.059000+00:00</td>\n",
       "      <td>COMPLETE</td>\n",
       "      <td>New credit</td>\n",
       "      <td>Caravan / Camper</td>\n",
       "      <td>30000.0</td>\n",
       "      <td>NaN</td>\n",
       "      <td>User_68</td>\n",
       "      <td>NaN</td>\n",
       "      <td>...</td>\n",
       "      <td>NaN</td>\n",
       "      <td>NaN</td>\n",
       "      <td>NaN</td>\n",
       "      <td>Application</td>\n",
       "      <td>NaN</td>\n",
       "      <td>Application_999993812</td>\n",
       "      <td>A_Pending</td>\n",
       "      <td>2016-10-24 08:24:30.059000+00:00</td>\n",
       "      <td>1202265</td>\n",
       "      <td>31508</td>\n",
       "    </tr>\n",
       "    <tr>\n",
       "      <th>1202266</th>\n",
       "      <td>Application_999993812</td>\n",
       "      <td>W_Call incomplete files</td>\n",
       "      <td>2016-10-24 08:24:30.061000+00:00</td>\n",
       "      <td>ATE_ABORT</td>\n",
       "      <td>New credit</td>\n",
       "      <td>Caravan / Camper</td>\n",
       "      <td>30000.0</td>\n",
       "      <td>NaN</td>\n",
       "      <td>User_68</td>\n",
       "      <td>NaN</td>\n",
       "      <td>...</td>\n",
       "      <td>NaN</td>\n",
       "      <td>NaN</td>\n",
       "      <td>NaN</td>\n",
       "      <td>Workflow</td>\n",
       "      <td>NaN</td>\n",
       "      <td>Application_999993812</td>\n",
       "      <td>W_Call incomplete files</td>\n",
       "      <td>2016-10-24 08:24:30.061000+00:00</td>\n",
       "      <td>1202266</td>\n",
       "      <td>31508</td>\n",
       "    </tr>\n",
       "  </tbody>\n",
       "</table>\n",
       "<p>1202267 rows × 24 columns</p>\n",
       "</div>"
      ],
      "text/plain": [
       "                           case                    event  \\\n",
       "0        Application_1000086665     A_Create Application   \n",
       "1        Application_1000086665              A_Submitted   \n",
       "2        Application_1000086665           W_Handle leads   \n",
       "3        Application_1000086665           W_Handle leads   \n",
       "4        Application_1000086665   W_Complete application   \n",
       "...                         ...                      ...   \n",
       "1202262   Application_999993812  W_Call incomplete files   \n",
       "1202263   Application_999993812  W_Call incomplete files   \n",
       "1202264   Application_999993812               O_Accepted   \n",
       "1202265   Application_999993812                A_Pending   \n",
       "1202266   Application_999993812  W_Call incomplete files   \n",
       "\n",
       "                                    time lifecycle:transition ApplicationType  \\\n",
       "0       2016-08-03 17:57:21.673000+00:00             COMPLETE      New credit   \n",
       "1       2016-08-03 17:57:21.734000+00:00             COMPLETE      New credit   \n",
       "2       2016-08-03 17:57:21.963000+00:00             SCHEDULE      New credit   \n",
       "3       2016-08-03 17:58:28.286000+00:00             WITHDRAW      New credit   \n",
       "4       2016-08-03 17:58:28.293000+00:00             SCHEDULE      New credit   \n",
       "...                                  ...                  ...             ...   \n",
       "1202262 2016-10-20 10:19:28.812000+00:00               RESUME      New credit   \n",
       "1202263 2016-10-20 10:21:59.667000+00:00              SUSPEND      New credit   \n",
       "1202264 2016-10-24 08:24:30.056000+00:00             COMPLETE      New credit   \n",
       "1202265 2016-10-24 08:24:30.059000+00:00             COMPLETE      New credit   \n",
       "1202266 2016-10-24 08:24:30.061000+00:00            ATE_ABORT      New credit   \n",
       "\n",
       "                       LoanGoal  RequestedAmount  MonthlyCost org:resource  \\\n",
       "0        Other, see explanation           5000.0          NaN       User_1   \n",
       "1        Other, see explanation           5000.0          NaN       User_1   \n",
       "2        Other, see explanation           5000.0          NaN       User_1   \n",
       "3        Other, see explanation           5000.0          NaN       User_1   \n",
       "4        Other, see explanation           5000.0          NaN       User_1   \n",
       "...                         ...              ...          ...          ...   \n",
       "1202262        Caravan / Camper          30000.0          NaN      User_41   \n",
       "1202263        Caravan / Camper          30000.0          NaN      User_41   \n",
       "1202264        Caravan / Camper          30000.0          NaN      User_68   \n",
       "1202265        Caravan / Camper          30000.0          NaN      User_68   \n",
       "1202266        Caravan / Camper          30000.0          NaN      User_68   \n",
       "\n",
       "        Selected  ... Accepted CreditScore  NumberOfTerms  EventOrigin  \\\n",
       "0            NaN  ...      NaN         NaN            NaN  Application   \n",
       "1            NaN  ...      NaN         NaN            NaN  Application   \n",
       "2            NaN  ...      NaN         NaN            NaN     Workflow   \n",
       "3            NaN  ...      NaN         NaN            NaN     Workflow   \n",
       "4            NaN  ...      NaN         NaN            NaN     Workflow   \n",
       "...          ...  ...      ...         ...            ...          ...   \n",
       "1202262      NaN  ...      NaN         NaN            NaN     Workflow   \n",
       "1202263      NaN  ...      NaN         NaN            NaN     Workflow   \n",
       "1202264      NaN  ...      NaN         NaN            NaN        Offer   \n",
       "1202265      NaN  ...      NaN         NaN            NaN  Application   \n",
       "1202266      NaN  ...      NaN         NaN            NaN     Workflow   \n",
       "\n",
       "        OfferedAmount       case:concept:name             concept:name  \\\n",
       "0                 NaN  Application_1000086665     A_Create Application   \n",
       "1                 NaN  Application_1000086665              A_Submitted   \n",
       "2                 NaN  Application_1000086665           W_Handle leads   \n",
       "3                 NaN  Application_1000086665           W_Handle leads   \n",
       "4                 NaN  Application_1000086665   W_Complete application   \n",
       "...               ...                     ...                      ...   \n",
       "1202262           NaN   Application_999993812  W_Call incomplete files   \n",
       "1202263           NaN   Application_999993812  W_Call incomplete files   \n",
       "1202264           NaN   Application_999993812               O_Accepted   \n",
       "1202265           NaN   Application_999993812                A_Pending   \n",
       "1202266           NaN   Application_999993812  W_Call incomplete files   \n",
       "\n",
       "                          time:timestamp  @@index @@case_index  \n",
       "0       2016-08-03 17:57:21.673000+00:00        0            0  \n",
       "1       2016-08-03 17:57:21.734000+00:00        1            0  \n",
       "2       2016-08-03 17:57:21.963000+00:00        2            0  \n",
       "3       2016-08-03 17:58:28.286000+00:00        3            0  \n",
       "4       2016-08-03 17:58:28.293000+00:00        4            0  \n",
       "...                                  ...      ...          ...  \n",
       "1202262 2016-10-20 10:19:28.812000+00:00  1202262        31508  \n",
       "1202263 2016-10-20 10:21:59.667000+00:00  1202263        31508  \n",
       "1202264 2016-10-24 08:24:30.056000+00:00  1202264        31508  \n",
       "1202265 2016-10-24 08:24:30.059000+00:00  1202265        31508  \n",
       "1202266 2016-10-24 08:24:30.061000+00:00  1202266        31508  \n",
       "\n",
       "[1202267 rows x 24 columns]"
      ]
     },
     "metadata": {},
     "output_type": "display_data"
    }
   ],
   "source": [
    "import pandas as pd\n",
    "import pm4py\n",
    "from logview.utils import LogViewBuilder\n",
    "\n",
    "# Load data\n",
    "bpi_data = pd.read_csv(\"C:/Users/cshek/OneDrive/Bureaublad/Thesis/BPI_Challenge_2017.csv\", sep=',', quotechar='\"')\n",
    "bpi_data.columns = bpi_data.columns.str.strip()\n",
    "bpi_data['time'] = pd.to_datetime(bpi_data['time'], format='%Y/%m/%d %H:%M:%S.%f')\n",
    "log = pm4py.format_dataframe(bpi_data, case_id='case', activity_key='event', timestamp_key='time')\n",
    "display(log)\n",
    "\n",
    "# Build LogView\n",
    "log_view = LogViewBuilder.build_log_view(log)"
   ]
  },
  {
   "cell_type": "code",
   "execution_count": 53,
   "id": "36054c29",
   "metadata": {},
   "outputs": [
    {
     "name": "stdout",
     "output_type": "stream",
     "text": [
      "+----+----------------------+-------------------+----------------------+-----------------------+\n",
      "|    | source_log           | query             | result_set           | labels                |\n",
      "|----+----------------------+-------------------+----------------------+-----------------------|\n",
      "|  0 | initial_source_log   | GoodCredit        | rs_GoodCredit        | ['GoodCredit']        |\n",
      "|  1 | rs_GoodCredit        | LoanOverThreshold | rs_LoanOverThreshold | ['LoanOverThreshold'] |\n",
      "|  2 | rs_LoanOverThreshold | SmallAmount       | rs_SmallAmount       | ['SmallAmount']       |\n",
      "|  3 | rs_SmallAmount       | IsNewCredit       | rs_IsNewCredit       | ['IsNewCredit']       |\n",
      "|  4 | initial_source_log   | StartWithCreate   | rs_StartWithCreate   | ['StartWithCreate']   |\n",
      "|  5 | initial_source_log   | ModerateDuration  | rs_ModerateDuration  | ['ModerateDuration']  |\n",
      "+----+----------------------+-------------------+----------------------+-----------------------+\n",
      "+----+-------------------+----------------------------------------+\n",
      "|    | query             | predicates                             |\n",
      "|----+-------------------+----------------------------------------|\n",
      "|  0 | GoodCredit        | (CreditScore >= 600)                   |\n",
      "|  1 | LoanOverThreshold | (RequestedAmount >= 10000)             |\n",
      "|  2 | SmallAmount       | (RequestedAmount < 15000)              |\n",
      "|  3 | IsNewCredit       | (ApplicationType in { 'New credit' })  |\n",
      "|  4 | StartWithCreate   | (StartWith { 'A_Create Application' }) |\n",
      "|  5 | ModerateDuration  | (DurationWithin [172800, 604800])      |\n",
      "+----+-------------------+----------------------------------------+\n"
     ]
    }
   ],
   "source": [
    "from logview.predicate import Query, EqToConstant, NotEqToConstant, GreaterEqualToConstant, LessThanConstant, StartWith, EndWith, DurationWithin\n",
    "\n",
    "# CreditScore ≥ 600\n",
    "query_1 = Query('GoodCredit', [GreaterEqualToConstant('CreditScore', 600)])\n",
    "result_set_1, complement_1 = log_view.evaluate_query('rs_GoodCredit', log, query_1)\n",
    "log_view.label_result_set(result_set_1, 'GoodCredit')\n",
    "\n",
    "# RequestedAmount ≥ 10000\n",
    "query_2 = Query('LoanOverThreshold', [GreaterEqualToConstant('RequestedAmount', 10000)])\n",
    "result_set_2, complement_2 = log_view.evaluate_query('rs_LoanOverThreshold', result_set_1, query_2)\n",
    "log_view.label_result_set(result_set_2, 'LoanOverThreshold')\n",
    "\n",
    "# RequestedAmount < 15000\n",
    "query_3 = Query('SmallAmount', [LessThanConstant('RequestedAmount', 15000)])\n",
    "result_set_3, complement_3 = log_view.evaluate_query('rs_SmallAmount', result_set_2, query_3)\n",
    "log_view.label_result_set(result_set_3, 'SmallAmount')\n",
    "\n",
    "# ApplicationType = 'New credit'\n",
    "query_4 = Query('IsNewCredit', [EqToConstant('ApplicationType', 'New credit')])\n",
    "result_set_4, complement_4 = log_view.evaluate_query('rs_IsNewCredit', result_set_3, query_4)\n",
    "log_view.label_result_set(result_set_4, 'IsNewCredit')\n",
    "\n",
    "# Starts with A_Create Application\n",
    "query_5 = Query('StartWithCreate', [StartWith(['A_Create Application'])])\n",
    "result_set_5, complement_5 = log_view.evaluate_query('rs_StartWithCreate', log, query_5)\n",
    "log_view.label_result_set(result_set_5, 'StartWithCreate')\n",
    "\n",
    "# Duration between 2 and 7 days\n",
    "query_6 = Query('ModerateDuration', [DurationWithin(172800, 604800)])\n",
    "result_set_6, complement_6 = log_view.evaluate_query('rs_ModerateDuration', log, query_6)\n",
    "log_view.label_result_set(result_set_6, 'ModerateDuration')\n",
    "\n",
    "# Summary\n",
    "summary = log_view.get_summary()\n"
   ]
  },
  {
   "cell_type": "code",
   "execution_count": 54,
   "id": "8747ed27",
   "metadata": {},
   "outputs": [
    {
     "data": {
      "text/plain": [
       "{'evaluations':              source_log              query            result_set  \\\n",
       " 0    initial_source_log         GoodCredit         rs_GoodCredit   \n",
       " 1         rs_GoodCredit  LoanOverThreshold  rs_LoanOverThreshold   \n",
       " 2  rs_LoanOverThreshold        SmallAmount        rs_SmallAmount   \n",
       " 3        rs_SmallAmount        IsNewCredit        rs_IsNewCredit   \n",
       " 4    initial_source_log    StartWithCreate    rs_StartWithCreate   \n",
       " 5    initial_source_log   ModerateDuration   rs_ModerateDuration   \n",
       " \n",
       "                 labels  \n",
       " 0         [GoodCredit]  \n",
       " 1  [LoanOverThreshold]  \n",
       " 2        [SmallAmount]  \n",
       " 3        [IsNewCredit]  \n",
       " 4    [StartWithCreate]  \n",
       " 5   [ModerateDuration]  ,\n",
       " 'queries':                query                              predicates\n",
       " 0         GoodCredit                    (CreditScore >= 600)\n",
       " 1  LoanOverThreshold              (RequestedAmount >= 10000)\n",
       " 2        SmallAmount               (RequestedAmount < 15000)\n",
       " 3        IsNewCredit   (ApplicationType in { 'New credit' })\n",
       " 4    StartWithCreate  (StartWith { 'A_Create Application' })\n",
       " 5   ModerateDuration       (DurationWithin [172800, 604800])}"
      ]
     },
     "metadata": {},
     "output_type": "display_data"
    }
   ],
   "source": [
    "registry = log_view.query_registry.summary()\n",
    "display(registry)\n"
   ]
  },
  {
   "cell_type": "code",
   "execution_count": 55,
   "id": "9ed3e3a7",
   "metadata": {},
   "outputs": [
    {
     "data": {
      "text/html": [
       "<div>\n",
       "<style scoped>\n",
       "    .dataframe tbody tr th:only-of-type {\n",
       "        vertical-align: middle;\n",
       "    }\n",
       "\n",
       "    .dataframe tbody tr th {\n",
       "        vertical-align: top;\n",
       "    }\n",
       "\n",
       "    .dataframe thead th {\n",
       "        text-align: right;\n",
       "    }\n",
       "</style>\n",
       "<table border=\"1\" class=\"dataframe\">\n",
       "  <thead>\n",
       "    <tr style=\"text-align: right;\">\n",
       "      <th></th>\n",
       "      <th>source_log</th>\n",
       "      <th>query</th>\n",
       "      <th>result_set</th>\n",
       "      <th>labels</th>\n",
       "    </tr>\n",
       "  </thead>\n",
       "  <tbody>\n",
       "    <tr>\n",
       "      <th>0</th>\n",
       "      <td>initial_source_log</td>\n",
       "      <td>GoodCredit</td>\n",
       "      <td>rs_GoodCredit</td>\n",
       "      <td>[GoodCredit]</td>\n",
       "    </tr>\n",
       "    <tr>\n",
       "      <th>1</th>\n",
       "      <td>rs_GoodCredit</td>\n",
       "      <td>LoanOverThreshold</td>\n",
       "      <td>rs_LoanOverThreshold</td>\n",
       "      <td>[LoanOverThreshold]</td>\n",
       "    </tr>\n",
       "    <tr>\n",
       "      <th>2</th>\n",
       "      <td>rs_LoanOverThreshold</td>\n",
       "      <td>SmallAmount</td>\n",
       "      <td>rs_SmallAmount</td>\n",
       "      <td>[SmallAmount]</td>\n",
       "    </tr>\n",
       "    <tr>\n",
       "      <th>3</th>\n",
       "      <td>rs_SmallAmount</td>\n",
       "      <td>IsNewCredit</td>\n",
       "      <td>rs_IsNewCredit</td>\n",
       "      <td>[IsNewCredit]</td>\n",
       "    </tr>\n",
       "  </tbody>\n",
       "</table>\n",
       "</div>"
      ],
      "text/plain": [
       "             source_log              query            result_set  \\\n",
       "0    initial_source_log         GoodCredit         rs_GoodCredit   \n",
       "1         rs_GoodCredit  LoanOverThreshold  rs_LoanOverThreshold   \n",
       "2  rs_LoanOverThreshold        SmallAmount        rs_SmallAmount   \n",
       "3        rs_SmallAmount        IsNewCredit        rs_IsNewCredit   \n",
       "\n",
       "                labels  \n",
       "0         [GoodCredit]  \n",
       "1  [LoanOverThreshold]  \n",
       "2        [SmallAmount]  \n",
       "3        [IsNewCredit]  "
      ]
     },
     "execution_count": 55,
     "metadata": {},
     "output_type": "execute_result"
    }
   ],
   "source": [
    "def get_lineage(registry, result_set_name):\n",
    "    \"\"\"\n",
    "    Given a registry and a result_set name, return a filtered DataFrame\n",
    "    showing the lineage of how that result_set was derived.\n",
    "    \"\"\"\n",
    "    evaluations = registry['evaluations']\n",
    "    \n",
    "    lineage_rows = []\n",
    "\n",
    "    def trace_back(current_result_set):\n",
    "        for _, row in evaluations.iterrows():\n",
    "            if row['result_set'] == current_result_set:\n",
    "                lineage_rows.append(row)\n",
    "                trace_back(row['source_log'])\n",
    "\n",
    "    trace_back(result_set_name)\n",
    "    \n",
    "    # Reverse the result to show forward lineage\n",
    "    lineage_df = pd.DataFrame(lineage_rows[::-1])\n",
    "    return lineage_df\n",
    "\n",
    "lineage = get_lineage(registry, 'rs_IsNewCredit')\n",
    "lineage"
   ]
  },
  {
   "cell_type": "code",
   "execution_count": 56,
   "id": "8f239097",
   "metadata": {},
   "outputs": [
    {
     "data": {
      "text/plain": [
       "'\\nimport dash\\nfrom dash import html, dcc, Input, Output, State, ctx, dash_table\\nimport pandas as pd\\nimport threading\\nimport flask\\n\\n# Load and prepare registry\\nregistry_raw = log_view.query_registry.summary()\\nregistry = registry_raw[\\'evaluations\\'].copy()\\nregistry[\\'labels\\'] = registry[\\'labels\\'].apply(lambda x: \\', \\'.join(x) if isinstance(x, list) else str(x))\\n\\n# Global variables\\nselected_filters = []\\nselected_sequence_df = pd.DataFrame()\\nshutdown_pending = False\\n\\napp = dash.Dash(__name__)\\nserver = app.server\\n\\napp.layout = html.Div([\\n    html.H2(\"Step-by-Step Filter Builder\"),\\n\\n    html.Div(id=\\'instruction\\', children=\"Start by selecting a filter from the original log.\"),\\n\\n    dash_table.DataTable(\\n        id=\\'registry-table\\',\\n        columns=[{\"name\": i, \"id\": i} for i in registry.columns],\\n        data=[], \\n        row_selectable=\\'single\\',\\n        selected_rows=[],\\n        page_size=10,\\n        style_table={\\'overflowX\\': \\'auto\\'},\\n        style_cell={\\'textAlign\\': \\'left\\'}\\n    ),\\n\\n    html.Button(\"Add Filter to Chain\", id=\"confirm-button\", n_clicks=0),\\n\\n    html.Hr(),\\n\\n    html.Div(id=\\'selected-output\\')\\n])\\n\\n\\ndef shutdown_server():\\n    func = flask.request.environ.get(\"werkzeug.server.shutdown\")\\n    if func:\\n        func()\\n    else:\\n        print(\"Shutdown function not found.\")\\n\\n\\n@app.callback(\\n    Output(\\'registry-table\\', \\'data\\'),\\n    Output(\\'registry-table\\', \\'selected_rows\\'),\\n    Output(\\'instruction\\', \\'children\\'),\\n    Output(\\'selected-output\\', \\'children\\'),\\n    Input(\\'confirm-button\\', \\'n_clicks\\'),\\n    State(\\'registry-table\\', \\'derived_virtual_selected_rows\\'),\\n    State(\\'registry-table\\', \\'data\\')\\n)\\ndef update_table(n_clicks, selected_rows, table_data):\\n    global selected_filters, shutdown_pending, selected_sequence_df\\n\\n    if shutdown_pending:\\n        return [], [], \"Sequence complete. Shutting down...\", dash_table.DataTable()\\n\\n    if n_clicks == 0 or not selected_rows:\\n        initial = registry[registry[\\'source_log\\'] == \\'initial_source_log\\']\\n        return initial.to_dict(\\'records\\'), [], \"Start by selecting a filter from the original log.\", \"No filters selected yet.\"\\n\\n    selected_row = table_data[selected_rows[0]]\\n    selected_filters.append(selected_row)\\n    selected_sequence_df = pd.DataFrame(selected_filters)\\n\\n    # Determine next options\\n    last_result_set = selected_row[\\'result_set\\']\\n    next_filters = registry[registry[\\'source_log\\'] == last_result_set]\\n\\n    # Display current sequence\\n    sequence_table = dash_table.DataTable(\\n        columns=[{\"name\": i, \"id\": i} for i in selected_sequence_df.columns],\\n        data=selected_sequence_df.to_dict(\\'records\\'),\\n        style_cell={\\'textAlign\\': \\'left\\'},\\n        style_table={\\'overflowX\\': \\'auto\\'}\\n    )\\n\\n    if next_filters.empty:\\n        print(\"\\n Final filter chain:\")\\n        print(selected_sequence_df)\\n\\n        shutdown_pending = True\\n        threading.Timer(1.0, lambda: flask.request.environ.get(\\'werkzeug.server.shutdown\\')()).start()\\n\\n        return [], [], \"No more filters. Closing app...\", html.Div([\\n            html.H4(\"Final Filter Sequence:\"),\\n            sequence_table\\n        ])\\n\\n    return next_filters.to_dict(\\'records\\'), [], f\"Select the next filter from: {last_result_set}\", html.Div([\\n        html.H4(\"Current Filter Sequence:\"),\\n        sequence_table\\n    ])\\n\\n\\nif __name__ == \\'__main__\\':\\n    app.run(debug=True)\\n\\nselected_sequence_df '"
      ]
     },
     "execution_count": 56,
     "metadata": {},
     "output_type": "execute_result"
    }
   ],
   "source": [
    "\"\"\"\n",
    "import dash\n",
    "from dash import html, dcc, Input, Output, State, ctx, dash_table\n",
    "import pandas as pd\n",
    "import threading\n",
    "import flask\n",
    "\n",
    "# Load and prepare registry\n",
    "registry_raw = log_view.query_registry.summary()\n",
    "registry = registry_raw['evaluations'].copy()\n",
    "registry['labels'] = registry['labels'].apply(lambda x: ', '.join(x) if isinstance(x, list) else str(x))\n",
    "\n",
    "# Global variables\n",
    "selected_filters = []\n",
    "selected_sequence_df = pd.DataFrame()\n",
    "shutdown_pending = False\n",
    "\n",
    "app = dash.Dash(__name__)\n",
    "server = app.server\n",
    "\n",
    "app.layout = html.Div([\n",
    "    html.H2(\"Step-by-Step Filter Builder\"),\n",
    "\n",
    "    html.Div(id='instruction', children=\"Start by selecting a filter from the original log.\"),\n",
    "\n",
    "    dash_table.DataTable(\n",
    "        id='registry-table',\n",
    "        columns=[{\"name\": i, \"id\": i} for i in registry.columns],\n",
    "        data=[], \n",
    "        row_selectable='single',\n",
    "        selected_rows=[],\n",
    "        page_size=10,\n",
    "        style_table={'overflowX': 'auto'},\n",
    "        style_cell={'textAlign': 'left'}\n",
    "    ),\n",
    "\n",
    "    html.Button(\"Add Filter to Chain\", id=\"confirm-button\", n_clicks=0),\n",
    "\n",
    "    html.Hr(),\n",
    "\n",
    "    html.Div(id='selected-output')\n",
    "])\n",
    "\n",
    "\n",
    "def shutdown_server():\n",
    "    func = flask.request.environ.get(\"werkzeug.server.shutdown\")\n",
    "    if func:\n",
    "        func()\n",
    "    else:\n",
    "        print(\"Shutdown function not found.\")\n",
    "\n",
    "\n",
    "@app.callback(\n",
    "    Output('registry-table', 'data'),\n",
    "    Output('registry-table', 'selected_rows'),\n",
    "    Output('instruction', 'children'),\n",
    "    Output('selected-output', 'children'),\n",
    "    Input('confirm-button', 'n_clicks'),\n",
    "    State('registry-table', 'derived_virtual_selected_rows'),\n",
    "    State('registry-table', 'data')\n",
    ")\n",
    "def update_table(n_clicks, selected_rows, table_data):\n",
    "    global selected_filters, shutdown_pending, selected_sequence_df\n",
    "\n",
    "    if shutdown_pending:\n",
    "        return [], [], \"Sequence complete. Shutting down...\", dash_table.DataTable()\n",
    "\n",
    "    if n_clicks == 0 or not selected_rows:\n",
    "        initial = registry[registry['source_log'] == 'initial_source_log']\n",
    "        return initial.to_dict('records'), [], \"Start by selecting a filter from the original log.\", \"No filters selected yet.\"\n",
    "\n",
    "    selected_row = table_data[selected_rows[0]]\n",
    "    selected_filters.append(selected_row)\n",
    "    selected_sequence_df = pd.DataFrame(selected_filters)\n",
    "\n",
    "    # Determine next options\n",
    "    last_result_set = selected_row['result_set']\n",
    "    next_filters = registry[registry['source_log'] == last_result_set]\n",
    "\n",
    "    # Display current sequence\n",
    "    sequence_table = dash_table.DataTable(\n",
    "        columns=[{\"name\": i, \"id\": i} for i in selected_sequence_df.columns],\n",
    "        data=selected_sequence_df.to_dict('records'),\n",
    "        style_cell={'textAlign': 'left'},\n",
    "        style_table={'overflowX': 'auto'}\n",
    "    )\n",
    "\n",
    "    if next_filters.empty:\n",
    "        print(\"\\n Final filter chain:\")\n",
    "        print(selected_sequence_df)\n",
    "\n",
    "        shutdown_pending = True\n",
    "        threading.Timer(1.0, lambda: flask.request.environ.get('werkzeug.server.shutdown')()).start()\n",
    "\n",
    "        return [], [], \"No more filters. Closing app...\", html.Div([\n",
    "            html.H4(\"Final Filter Sequence:\"),\n",
    "            sequence_table\n",
    "        ])\n",
    "\n",
    "    return next_filters.to_dict('records'), [], f\"Select the next filter from: {last_result_set}\", html.Div([\n",
    "        html.H4(\"Current Filter Sequence:\"),\n",
    "        sequence_table\n",
    "    ])\n",
    "\n",
    "\n",
    "if __name__ == '__main__':\n",
    "    app.run(debug=True)\n",
    "\n",
    "selected_sequence_df \"\"\""
   ]
  },
  {
   "cell_type": "code",
   "execution_count": null,
   "id": "42e78da9",
   "metadata": {},
   "outputs": [],
   "source": [
    "import pandas as pd\n",
    "from logview.predicate import Query\n",
    "\n",
    "def precompute_case_durations(log_df):\n",
    "    \"\"\"\n",
    "    Adds a 'case_duration' column to the original log dataframe.\n",
    "    \"\"\"\n",
    "    case_durations = (\n",
    "        log_df.groupby(\"case:concept:name\")[\"time:timestamp\"]\n",
    "        .agg([\"min\", \"max\"])\n",
    "        .apply(lambda row: (row[\"max\"] - row[\"min\"]).total_seconds(), axis=1)\n",
    "    )\n",
    "    log_df = log_df.copy()\n",
    "    log_df[\"case_duration\"] = log_df[\"case:concept:name\"].map(case_durations)\n",
    "    return log_df\n",
    "\n",
    "def compute_case_stats(df, name, label_path):\n",
    "    \"\"\"\n",
    "    Computes statistics for a filtered DataFrame subset.\n",
    "    \"\"\"\n",
    "    if df.empty:\n",
    "        return {\n",
    "            \"subset_name\": name,\n",
    "            \"label_path\": \" → \".join(label_path),\n",
    "            \"num_cases\": 0,\n",
    "            \"avg_case_duration_seconds\": 0\n",
    "        }\n",
    "\n",
    "    durations = df.drop_duplicates(\"case:concept:name\")[\"case_duration\"]\n",
    "    return {\n",
    "        \"subset_name\": name,\n",
    "        \"label_path\": \" → \".join(label_path),\n",
    "        \"num_cases\": df[\"case:concept:name\"].nunique(),\n",
    "        \"avg_case_duration_seconds\": durations.mean()\n",
    "    }\n",
    "\n",
    "def split_subsets(subsets, query_obj, filter_label, step_index, query_evaluator, filter_cache):\n",
    "    \"\"\"\n",
    "    Applies a filter to each subset and splits it into matching and non-matching subsets.\n",
    "    \"\"\"\n",
    "    new_subsets = []\n",
    "\n",
    "    for subset in subsets:\n",
    "        subset_df = subset[\"df\"]\n",
    "        subset_name = subset[\"name\"]\n",
    "        path = subset[\"label_path\"]\n",
    "\n",
    "        cache_key = (subset_name, query_obj.name)\n",
    "        if cache_key in filter_cache:\n",
    "            df_filtered, df_complement = filter_cache[cache_key]\n",
    "        else:\n",
    "            df_filtered, df_complement = query_evaluator.evaluate(subset_df, query_obj)\n",
    "            filter_cache[cache_key] = (df_filtered, df_complement)\n",
    "\n",
    "        # Create new names and paths\n",
    "        filtered_name = f\"{subset_name}_F{step_index+1}\"\n",
    "        complement_name = f\"{subset_name}_C{step_index+1}\"\n",
    "        path_filtered = path + [f\"{filter_label} ✓\"]\n",
    "        path_complement = path + [f\"{filter_label} ✗\"]\n",
    "\n",
    "        # Append next subsets (don't compute stats here)\n",
    "        new_subsets.append({\n",
    "            \"df\": df_filtered,\n",
    "            \"name\": filtered_name,\n",
    "            \"label_path\": path_filtered\n",
    "        })\n",
    "        new_subsets.append({\n",
    "            \"df\": df_complement,\n",
    "            \"name\": complement_name,\n",
    "            \"label_path\": path_complement\n",
    "        })\n",
    "\n",
    "    return new_subsets\n",
    "\n",
    "def recursively_apply_filters(selected_sequence_df, log_view):\n",
    "    \"\"\"\n",
    "    Applies a sequence of filters recursively and computes case statistics for each leaf subset.\n",
    "    \"\"\"\n",
    "    # Precompute query map\n",
    "    query_map = {\n",
    "        evaluation[\"query\"].name: evaluation[\"query\"]\n",
    "        for result_set_id in log_view.query_registry.get_registered_result_set_ids()\n",
    "        for evaluation in [log_view.query_registry.get_evaluation(result_set_id)]\n",
    "    }\n",
    "\n",
    "    # Get the initial log and precompute durations\n",
    "    initial_log_name = selected_sequence_df.iloc[0]['source_log']\n",
    "    initial_df = precompute_case_durations(log_view.result_set_name_cache[initial_log_name])\n",
    "\n",
    "    current_subsets = [{\n",
    "        \"df\": initial_df,\n",
    "        \"name\": initial_log_name,\n",
    "        \"label_path\": [\"Initial Source\"]\n",
    "    }]\n",
    "\n",
    "    filter_cache = {}\n",
    "\n",
    "    # Apply filters iteratively\n",
    "    for i, row in selected_sequence_df.iterrows():\n",
    "        query_name = row[\"query\"]\n",
    "        filter_label = row[\"labels\"]\n",
    "\n",
    "        query_obj = query_map.get(query_name)\n",
    "        if query_obj is None:\n",
    "            raise ValueError(f\"Query '{query_name}' not found in registry.\")\n",
    "\n",
    "        current_subsets = split_subsets(\n",
    "            current_subsets,\n",
    "            query_obj,\n",
    "            filter_label,\n",
    "            i,\n",
    "            log_view.query_evaluator,\n",
    "            filter_cache\n",
    "        )\n",
    "\n",
    "    # Compute stats only for leaf subsets\n",
    "    results = [\n",
    "        compute_case_stats(subset[\"df\"], subset[\"name\"], subset[\"label_path\"])\n",
    "        for subset in current_subsets if not subset[\"df\"].empty\n",
    "    ]\n",
    "\n",
    "    return pd.DataFrame(results)\n"
   ]
  },
  {
   "cell_type": "code",
   "execution_count": 58,
   "id": "94ae364f",
   "metadata": {},
   "outputs": [
    {
     "data": {
      "text/html": [
       "<div>\n",
       "<style scoped>\n",
       "    .dataframe tbody tr th:only-of-type {\n",
       "        vertical-align: middle;\n",
       "    }\n",
       "\n",
       "    .dataframe tbody tr th {\n",
       "        vertical-align: top;\n",
       "    }\n",
       "\n",
       "    .dataframe thead th {\n",
       "        text-align: right;\n",
       "    }\n",
       "</style>\n",
       "<table border=\"1\" class=\"dataframe\">\n",
       "  <thead>\n",
       "    <tr style=\"text-align: right;\">\n",
       "      <th></th>\n",
       "      <th>subset_name</th>\n",
       "      <th>label_path</th>\n",
       "      <th>num_cases</th>\n",
       "      <th>avg_case_duration_seconds</th>\n",
       "    </tr>\n",
       "  </thead>\n",
       "  <tbody>\n",
       "    <tr>\n",
       "      <th>0</th>\n",
       "      <td>initial_source_log_F1_F2_F3_F4</td>\n",
       "      <td>Initial Source → ['GoodCredit'] ✓ → ['LoanOver...</td>\n",
       "      <td>2461</td>\n",
       "      <td>1.548907e+06</td>\n",
       "    </tr>\n",
       "    <tr>\n",
       "      <th>1</th>\n",
       "      <td>initial_source_log_F1_F2_F3_C4</td>\n",
       "      <td>Initial Source → ['GoodCredit'] ✓ → ['LoanOver...</td>\n",
       "      <td>68</td>\n",
       "      <td>1.171228e+06</td>\n",
       "    </tr>\n",
       "    <tr>\n",
       "      <th>2</th>\n",
       "      <td>initial_source_log_F1_F2_C3_F4</td>\n",
       "      <td>Initial Source → ['GoodCredit'] ✓ → ['LoanOver...</td>\n",
       "      <td>7288</td>\n",
       "      <td>1.754820e+06</td>\n",
       "    </tr>\n",
       "    <tr>\n",
       "      <th>3</th>\n",
       "      <td>initial_source_log_F1_F2_C3_C4</td>\n",
       "      <td>Initial Source → ['GoodCredit'] ✓ → ['LoanOver...</td>\n",
       "      <td>267</td>\n",
       "      <td>1.245295e+06</td>\n",
       "    </tr>\n",
       "    <tr>\n",
       "      <th>4</th>\n",
       "      <td>initial_source_log_F1_C2_F3_F4</td>\n",
       "      <td>Initial Source → ['GoodCredit'] ✓ → ['LoanOver...</td>\n",
       "      <td>4976</td>\n",
       "      <td>1.472006e+06</td>\n",
       "    </tr>\n",
       "    <tr>\n",
       "      <th>5</th>\n",
       "      <td>initial_source_log_F1_C2_F3_C4</td>\n",
       "      <td>Initial Source → ['GoodCredit'] ✓ → ['LoanOver...</td>\n",
       "      <td>178</td>\n",
       "      <td>1.097686e+06</td>\n",
       "    </tr>\n",
       "    <tr>\n",
       "      <th>6</th>\n",
       "      <td>initial_source_log_C1_F2_F3_F4</td>\n",
       "      <td>Initial Source → ['GoodCredit'] ✗ → ['LoanOver...</td>\n",
       "      <td>2158</td>\n",
       "      <td>2.294083e+06</td>\n",
       "    </tr>\n",
       "    <tr>\n",
       "      <th>7</th>\n",
       "      <td>initial_source_log_C1_F2_F3_C4</td>\n",
       "      <td>Initial Source → ['GoodCredit'] ✗ → ['LoanOver...</td>\n",
       "      <td>351</td>\n",
       "      <td>1.490905e+06</td>\n",
       "    </tr>\n",
       "    <tr>\n",
       "      <th>8</th>\n",
       "      <td>initial_source_log_C1_F2_C3_F4</td>\n",
       "      <td>Initial Source → ['GoodCredit'] ✗ → ['LoanOver...</td>\n",
       "      <td>5845</td>\n",
       "      <td>2.340604e+06</td>\n",
       "    </tr>\n",
       "    <tr>\n",
       "      <th>9</th>\n",
       "      <td>initial_source_log_C1_F2_C3_C4</td>\n",
       "      <td>Initial Source → ['GoodCredit'] ✗ → ['LoanOver...</td>\n",
       "      <td>1666</td>\n",
       "      <td>1.548217e+06</td>\n",
       "    </tr>\n",
       "    <tr>\n",
       "      <th>10</th>\n",
       "      <td>initial_source_log_C1_C2_F3_F4</td>\n",
       "      <td>Initial Source → ['GoodCredit'] ✗ → ['LoanOver...</td>\n",
       "      <td>5392</td>\n",
       "      <td>2.230740e+06</td>\n",
       "    </tr>\n",
       "    <tr>\n",
       "      <th>11</th>\n",
       "      <td>initial_source_log_C1_C2_F3_C4</td>\n",
       "      <td>Initial Source → ['GoodCredit'] ✗ → ['LoanOver...</td>\n",
       "      <td>859</td>\n",
       "      <td>1.539130e+06</td>\n",
       "    </tr>\n",
       "  </tbody>\n",
       "</table>\n",
       "</div>"
      ],
      "text/plain": [
       "                       subset_name  \\\n",
       "0   initial_source_log_F1_F2_F3_F4   \n",
       "1   initial_source_log_F1_F2_F3_C4   \n",
       "2   initial_source_log_F1_F2_C3_F4   \n",
       "3   initial_source_log_F1_F2_C3_C4   \n",
       "4   initial_source_log_F1_C2_F3_F4   \n",
       "5   initial_source_log_F1_C2_F3_C4   \n",
       "6   initial_source_log_C1_F2_F3_F4   \n",
       "7   initial_source_log_C1_F2_F3_C4   \n",
       "8   initial_source_log_C1_F2_C3_F4   \n",
       "9   initial_source_log_C1_F2_C3_C4   \n",
       "10  initial_source_log_C1_C2_F3_F4   \n",
       "11  initial_source_log_C1_C2_F3_C4   \n",
       "\n",
       "                                           label_path  num_cases  \\\n",
       "0   Initial Source → ['GoodCredit'] ✓ → ['LoanOver...       2461   \n",
       "1   Initial Source → ['GoodCredit'] ✓ → ['LoanOver...         68   \n",
       "2   Initial Source → ['GoodCredit'] ✓ → ['LoanOver...       7288   \n",
       "3   Initial Source → ['GoodCredit'] ✓ → ['LoanOver...        267   \n",
       "4   Initial Source → ['GoodCredit'] ✓ → ['LoanOver...       4976   \n",
       "5   Initial Source → ['GoodCredit'] ✓ → ['LoanOver...        178   \n",
       "6   Initial Source → ['GoodCredit'] ✗ → ['LoanOver...       2158   \n",
       "7   Initial Source → ['GoodCredit'] ✗ → ['LoanOver...        351   \n",
       "8   Initial Source → ['GoodCredit'] ✗ → ['LoanOver...       5845   \n",
       "9   Initial Source → ['GoodCredit'] ✗ → ['LoanOver...       1666   \n",
       "10  Initial Source → ['GoodCredit'] ✗ → ['LoanOver...       5392   \n",
       "11  Initial Source → ['GoodCredit'] ✗ → ['LoanOver...        859   \n",
       "\n",
       "    avg_case_duration_seconds  \n",
       "0                1.548907e+06  \n",
       "1                1.171228e+06  \n",
       "2                1.754820e+06  \n",
       "3                1.245295e+06  \n",
       "4                1.472006e+06  \n",
       "5                1.097686e+06  \n",
       "6                2.294083e+06  \n",
       "7                1.490905e+06  \n",
       "8                2.340604e+06  \n",
       "9                1.548217e+06  \n",
       "10               2.230740e+06  \n",
       "11               1.539130e+06  "
      ]
     },
     "metadata": {},
     "output_type": "display_data"
    }
   ],
   "source": [
    "tree_stats_df = recursively_apply_filters(lineage, log_view)\n",
    "display(tree_stats_df)"
   ]
  },
  {
   "cell_type": "code",
   "execution_count": 62,
   "id": "c9391e8c",
   "metadata": {},
   "outputs": [],
   "source": [
    "def prepare_sunburst_data_for_sunburst(tree_stats_df):\n",
    "    \"\"\"\n",
    "    Prepares leaf node stats (already filtered) for Plotly sunburst by splitting label paths.\n",
    "    \"\"\"\n",
    "    level_df = tree_stats_df['label_path'].str.split(\" → \", expand=True)\n",
    "    level_df.columns = [f'Level{i+1}' for i in range(level_df.shape[1])]\n",
    "\n",
    "    sunburst_df = pd.concat([level_df, tree_stats_df[['num_cases', 'avg_case_duration_seconds']]], axis=1)\n",
    "    return sunburst_df\n"
   ]
  },
  {
   "cell_type": "code",
   "execution_count": 63,
   "id": "bf8bbf17",
   "metadata": {},
   "outputs": [
    {
     "data": {
      "text/html": [
       "<div>\n",
       "<style scoped>\n",
       "    .dataframe tbody tr th:only-of-type {\n",
       "        vertical-align: middle;\n",
       "    }\n",
       "\n",
       "    .dataframe tbody tr th {\n",
       "        vertical-align: top;\n",
       "    }\n",
       "\n",
       "    .dataframe thead th {\n",
       "        text-align: right;\n",
       "    }\n",
       "</style>\n",
       "<table border=\"1\" class=\"dataframe\">\n",
       "  <thead>\n",
       "    <tr style=\"text-align: right;\">\n",
       "      <th></th>\n",
       "      <th>Level1</th>\n",
       "      <th>Level2</th>\n",
       "      <th>Level3</th>\n",
       "      <th>Level4</th>\n",
       "      <th>Level5</th>\n",
       "      <th>num_cases</th>\n",
       "      <th>avg_case_duration_seconds</th>\n",
       "    </tr>\n",
       "  </thead>\n",
       "  <tbody>\n",
       "    <tr>\n",
       "      <th>0</th>\n",
       "      <td>Initial Source</td>\n",
       "      <td>['GoodCredit'] ✓</td>\n",
       "      <td>['LoanOverThreshold'] ✓</td>\n",
       "      <td>['SmallAmount'] ✓</td>\n",
       "      <td>['IsNewCredit'] ✓</td>\n",
       "      <td>2461</td>\n",
       "      <td>1.548907e+06</td>\n",
       "    </tr>\n",
       "    <tr>\n",
       "      <th>1</th>\n",
       "      <td>Initial Source</td>\n",
       "      <td>['GoodCredit'] ✓</td>\n",
       "      <td>['LoanOverThreshold'] ✓</td>\n",
       "      <td>['SmallAmount'] ✓</td>\n",
       "      <td>['IsNewCredit'] ✗</td>\n",
       "      <td>68</td>\n",
       "      <td>1.171228e+06</td>\n",
       "    </tr>\n",
       "    <tr>\n",
       "      <th>2</th>\n",
       "      <td>Initial Source</td>\n",
       "      <td>['GoodCredit'] ✓</td>\n",
       "      <td>['LoanOverThreshold'] ✓</td>\n",
       "      <td>['SmallAmount'] ✗</td>\n",
       "      <td>['IsNewCredit'] ✓</td>\n",
       "      <td>7288</td>\n",
       "      <td>1.754820e+06</td>\n",
       "    </tr>\n",
       "    <tr>\n",
       "      <th>3</th>\n",
       "      <td>Initial Source</td>\n",
       "      <td>['GoodCredit'] ✓</td>\n",
       "      <td>['LoanOverThreshold'] ✓</td>\n",
       "      <td>['SmallAmount'] ✗</td>\n",
       "      <td>['IsNewCredit'] ✗</td>\n",
       "      <td>267</td>\n",
       "      <td>1.245295e+06</td>\n",
       "    </tr>\n",
       "    <tr>\n",
       "      <th>4</th>\n",
       "      <td>Initial Source</td>\n",
       "      <td>['GoodCredit'] ✓</td>\n",
       "      <td>['LoanOverThreshold'] ✗</td>\n",
       "      <td>['SmallAmount'] ✓</td>\n",
       "      <td>['IsNewCredit'] ✓</td>\n",
       "      <td>4976</td>\n",
       "      <td>1.472006e+06</td>\n",
       "    </tr>\n",
       "    <tr>\n",
       "      <th>5</th>\n",
       "      <td>Initial Source</td>\n",
       "      <td>['GoodCredit'] ✓</td>\n",
       "      <td>['LoanOverThreshold'] ✗</td>\n",
       "      <td>['SmallAmount'] ✓</td>\n",
       "      <td>['IsNewCredit'] ✗</td>\n",
       "      <td>178</td>\n",
       "      <td>1.097686e+06</td>\n",
       "    </tr>\n",
       "    <tr>\n",
       "      <th>6</th>\n",
       "      <td>Initial Source</td>\n",
       "      <td>['GoodCredit'] ✗</td>\n",
       "      <td>['LoanOverThreshold'] ✓</td>\n",
       "      <td>['SmallAmount'] ✓</td>\n",
       "      <td>['IsNewCredit'] ✓</td>\n",
       "      <td>2158</td>\n",
       "      <td>2.294083e+06</td>\n",
       "    </tr>\n",
       "    <tr>\n",
       "      <th>7</th>\n",
       "      <td>Initial Source</td>\n",
       "      <td>['GoodCredit'] ✗</td>\n",
       "      <td>['LoanOverThreshold'] ✓</td>\n",
       "      <td>['SmallAmount'] ✓</td>\n",
       "      <td>['IsNewCredit'] ✗</td>\n",
       "      <td>351</td>\n",
       "      <td>1.490905e+06</td>\n",
       "    </tr>\n",
       "    <tr>\n",
       "      <th>8</th>\n",
       "      <td>Initial Source</td>\n",
       "      <td>['GoodCredit'] ✗</td>\n",
       "      <td>['LoanOverThreshold'] ✓</td>\n",
       "      <td>['SmallAmount'] ✗</td>\n",
       "      <td>['IsNewCredit'] ✓</td>\n",
       "      <td>5845</td>\n",
       "      <td>2.340604e+06</td>\n",
       "    </tr>\n",
       "    <tr>\n",
       "      <th>9</th>\n",
       "      <td>Initial Source</td>\n",
       "      <td>['GoodCredit'] ✗</td>\n",
       "      <td>['LoanOverThreshold'] ✓</td>\n",
       "      <td>['SmallAmount'] ✗</td>\n",
       "      <td>['IsNewCredit'] ✗</td>\n",
       "      <td>1666</td>\n",
       "      <td>1.548217e+06</td>\n",
       "    </tr>\n",
       "    <tr>\n",
       "      <th>10</th>\n",
       "      <td>Initial Source</td>\n",
       "      <td>['GoodCredit'] ✗</td>\n",
       "      <td>['LoanOverThreshold'] ✗</td>\n",
       "      <td>['SmallAmount'] ✓</td>\n",
       "      <td>['IsNewCredit'] ✓</td>\n",
       "      <td>5392</td>\n",
       "      <td>2.230740e+06</td>\n",
       "    </tr>\n",
       "    <tr>\n",
       "      <th>11</th>\n",
       "      <td>Initial Source</td>\n",
       "      <td>['GoodCredit'] ✗</td>\n",
       "      <td>['LoanOverThreshold'] ✗</td>\n",
       "      <td>['SmallAmount'] ✓</td>\n",
       "      <td>['IsNewCredit'] ✗</td>\n",
       "      <td>859</td>\n",
       "      <td>1.539130e+06</td>\n",
       "    </tr>\n",
       "  </tbody>\n",
       "</table>\n",
       "</div>"
      ],
      "text/plain": [
       "            Level1            Level2                   Level3  \\\n",
       "0   Initial Source  ['GoodCredit'] ✓  ['LoanOverThreshold'] ✓   \n",
       "1   Initial Source  ['GoodCredit'] ✓  ['LoanOverThreshold'] ✓   \n",
       "2   Initial Source  ['GoodCredit'] ✓  ['LoanOverThreshold'] ✓   \n",
       "3   Initial Source  ['GoodCredit'] ✓  ['LoanOverThreshold'] ✓   \n",
       "4   Initial Source  ['GoodCredit'] ✓  ['LoanOverThreshold'] ✗   \n",
       "5   Initial Source  ['GoodCredit'] ✓  ['LoanOverThreshold'] ✗   \n",
       "6   Initial Source  ['GoodCredit'] ✗  ['LoanOverThreshold'] ✓   \n",
       "7   Initial Source  ['GoodCredit'] ✗  ['LoanOverThreshold'] ✓   \n",
       "8   Initial Source  ['GoodCredit'] ✗  ['LoanOverThreshold'] ✓   \n",
       "9   Initial Source  ['GoodCredit'] ✗  ['LoanOverThreshold'] ✓   \n",
       "10  Initial Source  ['GoodCredit'] ✗  ['LoanOverThreshold'] ✗   \n",
       "11  Initial Source  ['GoodCredit'] ✗  ['LoanOverThreshold'] ✗   \n",
       "\n",
       "               Level4             Level5  num_cases  avg_case_duration_seconds  \n",
       "0   ['SmallAmount'] ✓  ['IsNewCredit'] ✓       2461               1.548907e+06  \n",
       "1   ['SmallAmount'] ✓  ['IsNewCredit'] ✗         68               1.171228e+06  \n",
       "2   ['SmallAmount'] ✗  ['IsNewCredit'] ✓       7288               1.754820e+06  \n",
       "3   ['SmallAmount'] ✗  ['IsNewCredit'] ✗        267               1.245295e+06  \n",
       "4   ['SmallAmount'] ✓  ['IsNewCredit'] ✓       4976               1.472006e+06  \n",
       "5   ['SmallAmount'] ✓  ['IsNewCredit'] ✗        178               1.097686e+06  \n",
       "6   ['SmallAmount'] ✓  ['IsNewCredit'] ✓       2158               2.294083e+06  \n",
       "7   ['SmallAmount'] ✓  ['IsNewCredit'] ✗        351               1.490905e+06  \n",
       "8   ['SmallAmount'] ✗  ['IsNewCredit'] ✓       5845               2.340604e+06  \n",
       "9   ['SmallAmount'] ✗  ['IsNewCredit'] ✗       1666               1.548217e+06  \n",
       "10  ['SmallAmount'] ✓  ['IsNewCredit'] ✓       5392               2.230740e+06  \n",
       "11  ['SmallAmount'] ✓  ['IsNewCredit'] ✗        859               1.539130e+06  "
      ]
     },
     "metadata": {},
     "output_type": "display_data"
    }
   ],
   "source": [
    "sunburst_df = prepare_sunburst_data_for_sunburst(tree_stats_df)\n",
    "display(sunburst_df)"
   ]
  },
  {
   "cell_type": "code",
   "execution_count": null,
   "id": "2ed547b8",
   "metadata": {},
   "outputs": [
    {
     "data": {
      "application/vnd.plotly.v1+json": {
       "config": {
        "plotlyServerURL": "https://plot.ly"
       },
       "data": [
        {
         "branchvalues": "total",
         "customdata": {
          "bdata": "21QwsmqiN0GrocqOG98xQVrv9A3ExjpBxT1VqW4AM0FfDdaHBXY2Qa+aBq3VvzBB3BFtmKGAQUF/MNiM2L82QTRoUsp920FBSkB3qLifN0Erkjzs6QRBQeYLnpI5fDdB4O9Rn796N0F+9JIAbYA6QZmhE+qFQzZB9Su/tCylQEEvALjnNoRAQZ4GahFKS0BB7jwuh2S+OUGZoRPqhUM2QSwuSLl3jEBBngZqEUpLQEEIh50kEpE4Qbtuz2ttc0BBXWDJrfDePEE=",
          "dtype": "f8",
          "shape": "25, 1"
         },
         "domain": {
          "x": [
           0,
           1
          ],
          "y": [
           0,
           1
          ]
         },
         "hovertemplate": "labels=%{label}<br>num_cases=%{value}<br>parent=%{parent}<br>id=%{id}<br>avg_case_duration_seconds=%{color}<extra></extra>",
         "ids": [
          "Initial Source/['GoodCredit'] ✓/['LoanOverThreshold'] ✓/['SmallAmount'] ✓/['IsNewCredit'] ✓",
          "Initial Source/['GoodCredit'] ✓/['LoanOverThreshold'] ✓/['SmallAmount'] ✓/['IsNewCredit'] ✗",
          "Initial Source/['GoodCredit'] ✓/['LoanOverThreshold'] ✓/['SmallAmount'] ✗/['IsNewCredit'] ✓",
          "Initial Source/['GoodCredit'] ✓/['LoanOverThreshold'] ✓/['SmallAmount'] ✗/['IsNewCredit'] ✗",
          "Initial Source/['GoodCredit'] ✓/['LoanOverThreshold'] ✗/['SmallAmount'] ✓/['IsNewCredit'] ✓",
          "Initial Source/['GoodCredit'] ✓/['LoanOverThreshold'] ✗/['SmallAmount'] ✓/['IsNewCredit'] ✗",
          "Initial Source/['GoodCredit'] ✗/['LoanOverThreshold'] ✓/['SmallAmount'] ✓/['IsNewCredit'] ✓",
          "Initial Source/['GoodCredit'] ✗/['LoanOverThreshold'] ✓/['SmallAmount'] ✓/['IsNewCredit'] ✗",
          "Initial Source/['GoodCredit'] ✗/['LoanOverThreshold'] ✓/['SmallAmount'] ✗/['IsNewCredit'] ✓",
          "Initial Source/['GoodCredit'] ✗/['LoanOverThreshold'] ✓/['SmallAmount'] ✗/['IsNewCredit'] ✗",
          "Initial Source/['GoodCredit'] ✗/['LoanOverThreshold'] ✗/['SmallAmount'] ✓/['IsNewCredit'] ✓",
          "Initial Source/['GoodCredit'] ✗/['LoanOverThreshold'] ✗/['SmallAmount'] ✓/['IsNewCredit'] ✗",
          "Initial Source/['GoodCredit'] ✓/['LoanOverThreshold'] ✓/['SmallAmount'] ✓",
          "Initial Source/['GoodCredit'] ✓/['LoanOverThreshold'] ✓/['SmallAmount'] ✗",
          "Initial Source/['GoodCredit'] ✓/['LoanOverThreshold'] ✗/['SmallAmount'] ✓",
          "Initial Source/['GoodCredit'] ✗/['LoanOverThreshold'] ✓/['SmallAmount'] ✓",
          "Initial Source/['GoodCredit'] ✗/['LoanOverThreshold'] ✓/['SmallAmount'] ✗",
          "Initial Source/['GoodCredit'] ✗/['LoanOverThreshold'] ✗/['SmallAmount'] ✓",
          "Initial Source/['GoodCredit'] ✓/['LoanOverThreshold'] ✓",
          "Initial Source/['GoodCredit'] ✓/['LoanOverThreshold'] ✗",
          "Initial Source/['GoodCredit'] ✗/['LoanOverThreshold'] ✓",
          "Initial Source/['GoodCredit'] ✗/['LoanOverThreshold'] ✗",
          "Initial Source/['GoodCredit'] ✓",
          "Initial Source/['GoodCredit'] ✗",
          "Initial Source"
         ],
         "labels": [
          "['IsNewCredit'] ✓",
          "['IsNewCredit'] ✗",
          "['IsNewCredit'] ✓",
          "['IsNewCredit'] ✗",
          "['IsNewCredit'] ✓",
          "['IsNewCredit'] ✗",
          "['IsNewCredit'] ✓",
          "['IsNewCredit'] ✗",
          "['IsNewCredit'] ✓",
          "['IsNewCredit'] ✗",
          "['IsNewCredit'] ✓",
          "['IsNewCredit'] ✗",
          "['SmallAmount'] ✓",
          "['SmallAmount'] ✗",
          "['SmallAmount'] ✓",
          "['SmallAmount'] ✓",
          "['SmallAmount'] ✗",
          "['SmallAmount'] ✓",
          "['LoanOverThreshold'] ✓",
          "['LoanOverThreshold'] ✗",
          "['LoanOverThreshold'] ✓",
          "['LoanOverThreshold'] ✗",
          "['GoodCredit'] ✓",
          "['GoodCredit'] ✗",
          "Initial Source"
         ],
         "marker": {
          "coloraxis": "coloraxis",
          "colors": {
           "bdata": "21QwsmqiN0GrocqOG98xQVrv9A3ExjpBxT1VqW4AM0FfDdaHBXY2Qa+aBq3VvzBB3BFtmKGAQUF/MNiM2L82QTRoUsp920FBSkB3qLifN0Erkjzs6QRBQeYLnpI5fDdB4O9Rn796N0F+9JIAbYA6QZmhE+qFQzZB9Su/tCylQEEvALjnNoRAQZ4GahFKS0BB7jwuh2S+OUGZoRPqhUM2QSwuSLl3jEBBngZqEUpLQEEIh50kEpE4Qbtuz2ttc0BBXWDJrfDePEE=",
           "dtype": "f8"
          }
         },
         "name": "",
         "parents": [
          "Initial Source/['GoodCredit'] ✓/['LoanOverThreshold'] ✓/['SmallAmount'] ✓",
          "Initial Source/['GoodCredit'] ✓/['LoanOverThreshold'] ✓/['SmallAmount'] ✓",
          "Initial Source/['GoodCredit'] ✓/['LoanOverThreshold'] ✓/['SmallAmount'] ✗",
          "Initial Source/['GoodCredit'] ✓/['LoanOverThreshold'] ✓/['SmallAmount'] ✗",
          "Initial Source/['GoodCredit'] ✓/['LoanOverThreshold'] ✗/['SmallAmount'] ✓",
          "Initial Source/['GoodCredit'] ✓/['LoanOverThreshold'] ✗/['SmallAmount'] ✓",
          "Initial Source/['GoodCredit'] ✗/['LoanOverThreshold'] ✓/['SmallAmount'] ✓",
          "Initial Source/['GoodCredit'] ✗/['LoanOverThreshold'] ✓/['SmallAmount'] ✓",
          "Initial Source/['GoodCredit'] ✗/['LoanOverThreshold'] ✓/['SmallAmount'] ✗",
          "Initial Source/['GoodCredit'] ✗/['LoanOverThreshold'] ✓/['SmallAmount'] ✗",
          "Initial Source/['GoodCredit'] ✗/['LoanOverThreshold'] ✗/['SmallAmount'] ✓",
          "Initial Source/['GoodCredit'] ✗/['LoanOverThreshold'] ✗/['SmallAmount'] ✓",
          "Initial Source/['GoodCredit'] ✓/['LoanOverThreshold'] ✓",
          "Initial Source/['GoodCredit'] ✓/['LoanOverThreshold'] ✓",
          "Initial Source/['GoodCredit'] ✓/['LoanOverThreshold'] ✗",
          "Initial Source/['GoodCredit'] ✗/['LoanOverThreshold'] ✓",
          "Initial Source/['GoodCredit'] ✗/['LoanOverThreshold'] ✓",
          "Initial Source/['GoodCredit'] ✗/['LoanOverThreshold'] ✗",
          "Initial Source/['GoodCredit'] ✓",
          "Initial Source/['GoodCredit'] ✓",
          "Initial Source/['GoodCredit'] ✗",
          "Initial Source/['GoodCredit'] ✗",
          "Initial Source",
          "Initial Source",
          ""
         ],
         "type": "sunburst",
         "values": {
          "bdata": "AAAAAAA6o0AAAAAAAABRQAAAAAAAeLxAAAAAAACwcEAAAAAAAHCzQAAAAAAAQGZAAAAAAADcoEAAAAAAAPB1QAAAAAAA1bZAAAAAAAAImkAAAAAAABC1QAAAAAAA2IpAAAAAAADCo0AAAAAAAIO9QAAAAAAAIrRAAAAAAACao0AAAAAAAFe9QAAAAAAAa7hAAAAAAACyw0AAAAAAACK0QAAAAAAAksNAAAAAAABruEAAAAAAAMPNQAAAAACAx89AAAAAAEDF3kA=",
          "dtype": "f8"
         }
        }
       ],
       "layout": {
        "coloraxis": {
         "colorbar": {
          "title": {
           "text": "avg_case_duration_seconds"
          }
         },
         "colorscale": [
          [
           0,
           "rgb(247,251,255)"
          ],
          [
           0.125,
           "rgb(222,235,247)"
          ],
          [
           0.25,
           "rgb(198,219,239)"
          ],
          [
           0.375,
           "rgb(158,202,225)"
          ],
          [
           0.5,
           "rgb(107,174,214)"
          ],
          [
           0.625,
           "rgb(66,146,198)"
          ],
          [
           0.75,
           "rgb(33,113,181)"
          ],
          [
           0.875,
           "rgb(8,81,156)"
          ],
          [
           1,
           "rgb(8,48,107)"
          ]
         ]
        },
        "legend": {
         "tracegroupgap": 0
        },
        "margin": {
         "b": 0,
         "l": 0,
         "r": 0,
         "t": 40
        },
        "template": {
         "data": {
          "bar": [
           {
            "error_x": {
             "color": "#2a3f5f"
            },
            "error_y": {
             "color": "#2a3f5f"
            },
            "marker": {
             "line": {
              "color": "#E5ECF6",
              "width": 0.5
             },
             "pattern": {
              "fillmode": "overlay",
              "size": 10,
              "solidity": 0.2
             }
            },
            "type": "bar"
           }
          ],
          "barpolar": [
           {
            "marker": {
             "line": {
              "color": "#E5ECF6",
              "width": 0.5
             },
             "pattern": {
              "fillmode": "overlay",
              "size": 10,
              "solidity": 0.2
             }
            },
            "type": "barpolar"
           }
          ],
          "carpet": [
           {
            "aaxis": {
             "endlinecolor": "#2a3f5f",
             "gridcolor": "white",
             "linecolor": "white",
             "minorgridcolor": "white",
             "startlinecolor": "#2a3f5f"
            },
            "baxis": {
             "endlinecolor": "#2a3f5f",
             "gridcolor": "white",
             "linecolor": "white",
             "minorgridcolor": "white",
             "startlinecolor": "#2a3f5f"
            },
            "type": "carpet"
           }
          ],
          "choropleth": [
           {
            "colorbar": {
             "outlinewidth": 0,
             "ticks": ""
            },
            "type": "choropleth"
           }
          ],
          "contour": [
           {
            "colorbar": {
             "outlinewidth": 0,
             "ticks": ""
            },
            "colorscale": [
             [
              0,
              "#0d0887"
             ],
             [
              0.1111111111111111,
              "#46039f"
             ],
             [
              0.2222222222222222,
              "#7201a8"
             ],
             [
              0.3333333333333333,
              "#9c179e"
             ],
             [
              0.4444444444444444,
              "#bd3786"
             ],
             [
              0.5555555555555556,
              "#d8576b"
             ],
             [
              0.6666666666666666,
              "#ed7953"
             ],
             [
              0.7777777777777778,
              "#fb9f3a"
             ],
             [
              0.8888888888888888,
              "#fdca26"
             ],
             [
              1,
              "#f0f921"
             ]
            ],
            "type": "contour"
           }
          ],
          "contourcarpet": [
           {
            "colorbar": {
             "outlinewidth": 0,
             "ticks": ""
            },
            "type": "contourcarpet"
           }
          ],
          "heatmap": [
           {
            "colorbar": {
             "outlinewidth": 0,
             "ticks": ""
            },
            "colorscale": [
             [
              0,
              "#0d0887"
             ],
             [
              0.1111111111111111,
              "#46039f"
             ],
             [
              0.2222222222222222,
              "#7201a8"
             ],
             [
              0.3333333333333333,
              "#9c179e"
             ],
             [
              0.4444444444444444,
              "#bd3786"
             ],
             [
              0.5555555555555556,
              "#d8576b"
             ],
             [
              0.6666666666666666,
              "#ed7953"
             ],
             [
              0.7777777777777778,
              "#fb9f3a"
             ],
             [
              0.8888888888888888,
              "#fdca26"
             ],
             [
              1,
              "#f0f921"
             ]
            ],
            "type": "heatmap"
           }
          ],
          "histogram": [
           {
            "marker": {
             "pattern": {
              "fillmode": "overlay",
              "size": 10,
              "solidity": 0.2
             }
            },
            "type": "histogram"
           }
          ],
          "histogram2d": [
           {
            "colorbar": {
             "outlinewidth": 0,
             "ticks": ""
            },
            "colorscale": [
             [
              0,
              "#0d0887"
             ],
             [
              0.1111111111111111,
              "#46039f"
             ],
             [
              0.2222222222222222,
              "#7201a8"
             ],
             [
              0.3333333333333333,
              "#9c179e"
             ],
             [
              0.4444444444444444,
              "#bd3786"
             ],
             [
              0.5555555555555556,
              "#d8576b"
             ],
             [
              0.6666666666666666,
              "#ed7953"
             ],
             [
              0.7777777777777778,
              "#fb9f3a"
             ],
             [
              0.8888888888888888,
              "#fdca26"
             ],
             [
              1,
              "#f0f921"
             ]
            ],
            "type": "histogram2d"
           }
          ],
          "histogram2dcontour": [
           {
            "colorbar": {
             "outlinewidth": 0,
             "ticks": ""
            },
            "colorscale": [
             [
              0,
              "#0d0887"
             ],
             [
              0.1111111111111111,
              "#46039f"
             ],
             [
              0.2222222222222222,
              "#7201a8"
             ],
             [
              0.3333333333333333,
              "#9c179e"
             ],
             [
              0.4444444444444444,
              "#bd3786"
             ],
             [
              0.5555555555555556,
              "#d8576b"
             ],
             [
              0.6666666666666666,
              "#ed7953"
             ],
             [
              0.7777777777777778,
              "#fb9f3a"
             ],
             [
              0.8888888888888888,
              "#fdca26"
             ],
             [
              1,
              "#f0f921"
             ]
            ],
            "type": "histogram2dcontour"
           }
          ],
          "mesh3d": [
           {
            "colorbar": {
             "outlinewidth": 0,
             "ticks": ""
            },
            "type": "mesh3d"
           }
          ],
          "parcoords": [
           {
            "line": {
             "colorbar": {
              "outlinewidth": 0,
              "ticks": ""
             }
            },
            "type": "parcoords"
           }
          ],
          "pie": [
           {
            "automargin": true,
            "type": "pie"
           }
          ],
          "scatter": [
           {
            "fillpattern": {
             "fillmode": "overlay",
             "size": 10,
             "solidity": 0.2
            },
            "type": "scatter"
           }
          ],
          "scatter3d": [
           {
            "line": {
             "colorbar": {
              "outlinewidth": 0,
              "ticks": ""
             }
            },
            "marker": {
             "colorbar": {
              "outlinewidth": 0,
              "ticks": ""
             }
            },
            "type": "scatter3d"
           }
          ],
          "scattercarpet": [
           {
            "marker": {
             "colorbar": {
              "outlinewidth": 0,
              "ticks": ""
             }
            },
            "type": "scattercarpet"
           }
          ],
          "scattergeo": [
           {
            "marker": {
             "colorbar": {
              "outlinewidth": 0,
              "ticks": ""
             }
            },
            "type": "scattergeo"
           }
          ],
          "scattergl": [
           {
            "marker": {
             "colorbar": {
              "outlinewidth": 0,
              "ticks": ""
             }
            },
            "type": "scattergl"
           }
          ],
          "scattermap": [
           {
            "marker": {
             "colorbar": {
              "outlinewidth": 0,
              "ticks": ""
             }
            },
            "type": "scattermap"
           }
          ],
          "scattermapbox": [
           {
            "marker": {
             "colorbar": {
              "outlinewidth": 0,
              "ticks": ""
             }
            },
            "type": "scattermapbox"
           }
          ],
          "scatterpolar": [
           {
            "marker": {
             "colorbar": {
              "outlinewidth": 0,
              "ticks": ""
             }
            },
            "type": "scatterpolar"
           }
          ],
          "scatterpolargl": [
           {
            "marker": {
             "colorbar": {
              "outlinewidth": 0,
              "ticks": ""
             }
            },
            "type": "scatterpolargl"
           }
          ],
          "scatterternary": [
           {
            "marker": {
             "colorbar": {
              "outlinewidth": 0,
              "ticks": ""
             }
            },
            "type": "scatterternary"
           }
          ],
          "surface": [
           {
            "colorbar": {
             "outlinewidth": 0,
             "ticks": ""
            },
            "colorscale": [
             [
              0,
              "#0d0887"
             ],
             [
              0.1111111111111111,
              "#46039f"
             ],
             [
              0.2222222222222222,
              "#7201a8"
             ],
             [
              0.3333333333333333,
              "#9c179e"
             ],
             [
              0.4444444444444444,
              "#bd3786"
             ],
             [
              0.5555555555555556,
              "#d8576b"
             ],
             [
              0.6666666666666666,
              "#ed7953"
             ],
             [
              0.7777777777777778,
              "#fb9f3a"
             ],
             [
              0.8888888888888888,
              "#fdca26"
             ],
             [
              1,
              "#f0f921"
             ]
            ],
            "type": "surface"
           }
          ],
          "table": [
           {
            "cells": {
             "fill": {
              "color": "#EBF0F8"
             },
             "line": {
              "color": "white"
             }
            },
            "header": {
             "fill": {
              "color": "#C8D4E3"
             },
             "line": {
              "color": "white"
             }
            },
            "type": "table"
           }
          ]
         },
         "layout": {
          "annotationdefaults": {
           "arrowcolor": "#2a3f5f",
           "arrowhead": 0,
           "arrowwidth": 1
          },
          "autotypenumbers": "strict",
          "coloraxis": {
           "colorbar": {
            "outlinewidth": 0,
            "ticks": ""
           }
          },
          "colorscale": {
           "diverging": [
            [
             0,
             "#8e0152"
            ],
            [
             0.1,
             "#c51b7d"
            ],
            [
             0.2,
             "#de77ae"
            ],
            [
             0.3,
             "#f1b6da"
            ],
            [
             0.4,
             "#fde0ef"
            ],
            [
             0.5,
             "#f7f7f7"
            ],
            [
             0.6,
             "#e6f5d0"
            ],
            [
             0.7,
             "#b8e186"
            ],
            [
             0.8,
             "#7fbc41"
            ],
            [
             0.9,
             "#4d9221"
            ],
            [
             1,
             "#276419"
            ]
           ],
           "sequential": [
            [
             0,
             "#0d0887"
            ],
            [
             0.1111111111111111,
             "#46039f"
            ],
            [
             0.2222222222222222,
             "#7201a8"
            ],
            [
             0.3333333333333333,
             "#9c179e"
            ],
            [
             0.4444444444444444,
             "#bd3786"
            ],
            [
             0.5555555555555556,
             "#d8576b"
            ],
            [
             0.6666666666666666,
             "#ed7953"
            ],
            [
             0.7777777777777778,
             "#fb9f3a"
            ],
            [
             0.8888888888888888,
             "#fdca26"
            ],
            [
             1,
             "#f0f921"
            ]
           ],
           "sequentialminus": [
            [
             0,
             "#0d0887"
            ],
            [
             0.1111111111111111,
             "#46039f"
            ],
            [
             0.2222222222222222,
             "#7201a8"
            ],
            [
             0.3333333333333333,
             "#9c179e"
            ],
            [
             0.4444444444444444,
             "#bd3786"
            ],
            [
             0.5555555555555556,
             "#d8576b"
            ],
            [
             0.6666666666666666,
             "#ed7953"
            ],
            [
             0.7777777777777778,
             "#fb9f3a"
            ],
            [
             0.8888888888888888,
             "#fdca26"
            ],
            [
             1,
             "#f0f921"
            ]
           ]
          },
          "colorway": [
           "#636efa",
           "#EF553B",
           "#00cc96",
           "#ab63fa",
           "#FFA15A",
           "#19d3f3",
           "#FF6692",
           "#B6E880",
           "#FF97FF",
           "#FECB52"
          ],
          "font": {
           "color": "#2a3f5f"
          },
          "geo": {
           "bgcolor": "white",
           "lakecolor": "white",
           "landcolor": "#E5ECF6",
           "showlakes": true,
           "showland": true,
           "subunitcolor": "white"
          },
          "hoverlabel": {
           "align": "left"
          },
          "hovermode": "closest",
          "mapbox": {
           "style": "light"
          },
          "paper_bgcolor": "white",
          "plot_bgcolor": "#E5ECF6",
          "polar": {
           "angularaxis": {
            "gridcolor": "white",
            "linecolor": "white",
            "ticks": ""
           },
           "bgcolor": "#E5ECF6",
           "radialaxis": {
            "gridcolor": "white",
            "linecolor": "white",
            "ticks": ""
           }
          },
          "scene": {
           "xaxis": {
            "backgroundcolor": "#E5ECF6",
            "gridcolor": "white",
            "gridwidth": 2,
            "linecolor": "white",
            "showbackground": true,
            "ticks": "",
            "zerolinecolor": "white"
           },
           "yaxis": {
            "backgroundcolor": "#E5ECF6",
            "gridcolor": "white",
            "gridwidth": 2,
            "linecolor": "white",
            "showbackground": true,
            "ticks": "",
            "zerolinecolor": "white"
           },
           "zaxis": {
            "backgroundcolor": "#E5ECF6",
            "gridcolor": "white",
            "gridwidth": 2,
            "linecolor": "white",
            "showbackground": true,
            "ticks": "",
            "zerolinecolor": "white"
           }
          },
          "shapedefaults": {
           "line": {
            "color": "#2a3f5f"
           }
          },
          "ternary": {
           "aaxis": {
            "gridcolor": "white",
            "linecolor": "white",
            "ticks": ""
           },
           "baxis": {
            "gridcolor": "white",
            "linecolor": "white",
            "ticks": ""
           },
           "bgcolor": "#E5ECF6",
           "caxis": {
            "gridcolor": "white",
            "linecolor": "white",
            "ticks": ""
           }
          },
          "title": {
           "x": 0.05
          },
          "xaxis": {
           "automargin": true,
           "gridcolor": "white",
           "linecolor": "white",
           "ticks": "",
           "title": {
            "standoff": 15
           },
           "zerolinecolor": "white",
           "zerolinewidth": 2
          },
          "yaxis": {
           "automargin": true,
           "gridcolor": "white",
           "linecolor": "white",
           "ticks": "",
           "title": {
            "standoff": 15
           },
           "zerolinecolor": "white",
           "zerolinewidth": 2
          }
         }
        },
        "title": {
         "text": "Case Breakdown by Filter Path"
        }
       }
      }
     },
     "metadata": {},
     "output_type": "display_data"
    }
   ],
   "source": [
    "import plotly.express as px\n",
    "\n",
    "fig = px.sunburst(\n",
    "    sunburst_df,\n",
    "    path=[col for col in sunburst_df.columns if col.startswith(\"Level\")],\n",
    "    values='num_cases',\n",
    "    color='avg_case_duration_seconds',\n",
    "    color_continuous_scale='Blues',\n",
    "    title='Case Breakdown by Filter Path'\n",
    ")\n",
    "fig.update_layout(margin=dict(t=40, l=0, r=0, b=0))\n",
    "fig.show()\n"
   ]
  }
 ],
 "metadata": {
  "kernelspec": {
   "display_name": "Python 3",
   "language": "python",
   "name": "python3"
  },
  "language_info": {
   "codemirror_mode": {
    "name": "ipython",
    "version": 3
   },
   "file_extension": ".py",
   "mimetype": "text/x-python",
   "name": "python",
   "nbconvert_exporter": "python",
   "pygments_lexer": "ipython3",
   "version": "3.10.2"
  }
 },
 "nbformat": 4,
 "nbformat_minor": 5
}
