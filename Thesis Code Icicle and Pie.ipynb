{
 "cells": [
  {
   "cell_type": "code",
   "execution_count": 51,
   "id": "8920755f",
   "metadata": {},
   "outputs": [],
   "source": [
    "import pandas as pd\n",
    "import pm4py\n",
    "from logview.utils import LogViewBuilder\n",
    "from logview.predicate import Query, EqToConstant, NotEqToConstant, GreaterEqualToConstant, LessThanConstant, StartWith, EndWith, DurationWithin\n",
    "import plotly.express as px\n",
    "import time\n",
    "from datetime import timedelta\n",
    "import string\n",
    "import plotly.graph_objects as go\n",
    "from plotly.colors import sample_colorscale\n",
    "import numpy as np\n",
    "\n"
   ]
  },
  {
   "cell_type": "code",
   "execution_count": 52,
   "id": "ab2d69e0",
   "metadata": {},
   "outputs": [
    {
     "data": {
      "text/html": [
       "<div>\n",
       "<style scoped>\n",
       "    .dataframe tbody tr th:only-of-type {\n",
       "        vertical-align: middle;\n",
       "    }\n",
       "\n",
       "    .dataframe tbody tr th {\n",
       "        vertical-align: top;\n",
       "    }\n",
       "\n",
       "    .dataframe thead th {\n",
       "        text-align: right;\n",
       "    }\n",
       "</style>\n",
       "<table border=\"1\" class=\"dataframe\">\n",
       "  <thead>\n",
       "    <tr style=\"text-align: right;\">\n",
       "      <th></th>\n",
       "      <th>case</th>\n",
       "      <th>event</th>\n",
       "      <th>time</th>\n",
       "      <th>lifecycle:transition</th>\n",
       "      <th>ApplicationType</th>\n",
       "      <th>LoanGoal</th>\n",
       "      <th>RequestedAmount</th>\n",
       "      <th>MonthlyCost</th>\n",
       "      <th>org:resource</th>\n",
       "      <th>Selected</th>\n",
       "      <th>...</th>\n",
       "      <th>Accepted</th>\n",
       "      <th>CreditScore</th>\n",
       "      <th>NumberOfTerms</th>\n",
       "      <th>EventOrigin</th>\n",
       "      <th>OfferedAmount</th>\n",
       "      <th>case:concept:name</th>\n",
       "      <th>concept:name</th>\n",
       "      <th>time:timestamp</th>\n",
       "      <th>@@index</th>\n",
       "      <th>@@case_index</th>\n",
       "    </tr>\n",
       "  </thead>\n",
       "  <tbody>\n",
       "    <tr>\n",
       "      <th>0</th>\n",
       "      <td>Application_1000086665</td>\n",
       "      <td>A_Create Application</td>\n",
       "      <td>2016-08-03 17:57:21.673000+00:00</td>\n",
       "      <td>COMPLETE</td>\n",
       "      <td>New credit</td>\n",
       "      <td>Other, see explanation</td>\n",
       "      <td>5000.0</td>\n",
       "      <td>NaN</td>\n",
       "      <td>User_1</td>\n",
       "      <td>NaN</td>\n",
       "      <td>...</td>\n",
       "      <td>NaN</td>\n",
       "      <td>NaN</td>\n",
       "      <td>NaN</td>\n",
       "      <td>Application</td>\n",
       "      <td>NaN</td>\n",
       "      <td>Application_1000086665</td>\n",
       "      <td>A_Create Application</td>\n",
       "      <td>2016-08-03 17:57:21.673000+00:00</td>\n",
       "      <td>0</td>\n",
       "      <td>0</td>\n",
       "    </tr>\n",
       "    <tr>\n",
       "      <th>1</th>\n",
       "      <td>Application_1000086665</td>\n",
       "      <td>A_Submitted</td>\n",
       "      <td>2016-08-03 17:57:21.734000+00:00</td>\n",
       "      <td>COMPLETE</td>\n",
       "      <td>New credit</td>\n",
       "      <td>Other, see explanation</td>\n",
       "      <td>5000.0</td>\n",
       "      <td>NaN</td>\n",
       "      <td>User_1</td>\n",
       "      <td>NaN</td>\n",
       "      <td>...</td>\n",
       "      <td>NaN</td>\n",
       "      <td>NaN</td>\n",
       "      <td>NaN</td>\n",
       "      <td>Application</td>\n",
       "      <td>NaN</td>\n",
       "      <td>Application_1000086665</td>\n",
       "      <td>A_Submitted</td>\n",
       "      <td>2016-08-03 17:57:21.734000+00:00</td>\n",
       "      <td>1</td>\n",
       "      <td>0</td>\n",
       "    </tr>\n",
       "    <tr>\n",
       "      <th>2</th>\n",
       "      <td>Application_1000086665</td>\n",
       "      <td>W_Handle leads</td>\n",
       "      <td>2016-08-03 17:57:21.963000+00:00</td>\n",
       "      <td>SCHEDULE</td>\n",
       "      <td>New credit</td>\n",
       "      <td>Other, see explanation</td>\n",
       "      <td>5000.0</td>\n",
       "      <td>NaN</td>\n",
       "      <td>User_1</td>\n",
       "      <td>NaN</td>\n",
       "      <td>...</td>\n",
       "      <td>NaN</td>\n",
       "      <td>NaN</td>\n",
       "      <td>NaN</td>\n",
       "      <td>Workflow</td>\n",
       "      <td>NaN</td>\n",
       "      <td>Application_1000086665</td>\n",
       "      <td>W_Handle leads</td>\n",
       "      <td>2016-08-03 17:57:21.963000+00:00</td>\n",
       "      <td>2</td>\n",
       "      <td>0</td>\n",
       "    </tr>\n",
       "    <tr>\n",
       "      <th>3</th>\n",
       "      <td>Application_1000086665</td>\n",
       "      <td>W_Handle leads</td>\n",
       "      <td>2016-08-03 17:58:28.286000+00:00</td>\n",
       "      <td>WITHDRAW</td>\n",
       "      <td>New credit</td>\n",
       "      <td>Other, see explanation</td>\n",
       "      <td>5000.0</td>\n",
       "      <td>NaN</td>\n",
       "      <td>User_1</td>\n",
       "      <td>NaN</td>\n",
       "      <td>...</td>\n",
       "      <td>NaN</td>\n",
       "      <td>NaN</td>\n",
       "      <td>NaN</td>\n",
       "      <td>Workflow</td>\n",
       "      <td>NaN</td>\n",
       "      <td>Application_1000086665</td>\n",
       "      <td>W_Handle leads</td>\n",
       "      <td>2016-08-03 17:58:28.286000+00:00</td>\n",
       "      <td>3</td>\n",
       "      <td>0</td>\n",
       "    </tr>\n",
       "    <tr>\n",
       "      <th>4</th>\n",
       "      <td>Application_1000086665</td>\n",
       "      <td>W_Complete application</td>\n",
       "      <td>2016-08-03 17:58:28.293000+00:00</td>\n",
       "      <td>SCHEDULE</td>\n",
       "      <td>New credit</td>\n",
       "      <td>Other, see explanation</td>\n",
       "      <td>5000.0</td>\n",
       "      <td>NaN</td>\n",
       "      <td>User_1</td>\n",
       "      <td>NaN</td>\n",
       "      <td>...</td>\n",
       "      <td>NaN</td>\n",
       "      <td>NaN</td>\n",
       "      <td>NaN</td>\n",
       "      <td>Workflow</td>\n",
       "      <td>NaN</td>\n",
       "      <td>Application_1000086665</td>\n",
       "      <td>W_Complete application</td>\n",
       "      <td>2016-08-03 17:58:28.293000+00:00</td>\n",
       "      <td>4</td>\n",
       "      <td>0</td>\n",
       "    </tr>\n",
       "    <tr>\n",
       "      <th>...</th>\n",
       "      <td>...</td>\n",
       "      <td>...</td>\n",
       "      <td>...</td>\n",
       "      <td>...</td>\n",
       "      <td>...</td>\n",
       "      <td>...</td>\n",
       "      <td>...</td>\n",
       "      <td>...</td>\n",
       "      <td>...</td>\n",
       "      <td>...</td>\n",
       "      <td>...</td>\n",
       "      <td>...</td>\n",
       "      <td>...</td>\n",
       "      <td>...</td>\n",
       "      <td>...</td>\n",
       "      <td>...</td>\n",
       "      <td>...</td>\n",
       "      <td>...</td>\n",
       "      <td>...</td>\n",
       "      <td>...</td>\n",
       "      <td>...</td>\n",
       "    </tr>\n",
       "    <tr>\n",
       "      <th>1202262</th>\n",
       "      <td>Application_999993812</td>\n",
       "      <td>W_Call incomplete files</td>\n",
       "      <td>2016-10-20 10:19:28.812000+00:00</td>\n",
       "      <td>RESUME</td>\n",
       "      <td>New credit</td>\n",
       "      <td>Caravan / Camper</td>\n",
       "      <td>30000.0</td>\n",
       "      <td>NaN</td>\n",
       "      <td>User_41</td>\n",
       "      <td>NaN</td>\n",
       "      <td>...</td>\n",
       "      <td>NaN</td>\n",
       "      <td>NaN</td>\n",
       "      <td>NaN</td>\n",
       "      <td>Workflow</td>\n",
       "      <td>NaN</td>\n",
       "      <td>Application_999993812</td>\n",
       "      <td>W_Call incomplete files</td>\n",
       "      <td>2016-10-20 10:19:28.812000+00:00</td>\n",
       "      <td>1202262</td>\n",
       "      <td>31508</td>\n",
       "    </tr>\n",
       "    <tr>\n",
       "      <th>1202263</th>\n",
       "      <td>Application_999993812</td>\n",
       "      <td>W_Call incomplete files</td>\n",
       "      <td>2016-10-20 10:21:59.667000+00:00</td>\n",
       "      <td>SUSPEND</td>\n",
       "      <td>New credit</td>\n",
       "      <td>Caravan / Camper</td>\n",
       "      <td>30000.0</td>\n",
       "      <td>NaN</td>\n",
       "      <td>User_41</td>\n",
       "      <td>NaN</td>\n",
       "      <td>...</td>\n",
       "      <td>NaN</td>\n",
       "      <td>NaN</td>\n",
       "      <td>NaN</td>\n",
       "      <td>Workflow</td>\n",
       "      <td>NaN</td>\n",
       "      <td>Application_999993812</td>\n",
       "      <td>W_Call incomplete files</td>\n",
       "      <td>2016-10-20 10:21:59.667000+00:00</td>\n",
       "      <td>1202263</td>\n",
       "      <td>31508</td>\n",
       "    </tr>\n",
       "    <tr>\n",
       "      <th>1202264</th>\n",
       "      <td>Application_999993812</td>\n",
       "      <td>O_Accepted</td>\n",
       "      <td>2016-10-24 08:24:30.056000+00:00</td>\n",
       "      <td>COMPLETE</td>\n",
       "      <td>New credit</td>\n",
       "      <td>Caravan / Camper</td>\n",
       "      <td>30000.0</td>\n",
       "      <td>NaN</td>\n",
       "      <td>User_68</td>\n",
       "      <td>NaN</td>\n",
       "      <td>...</td>\n",
       "      <td>NaN</td>\n",
       "      <td>NaN</td>\n",
       "      <td>NaN</td>\n",
       "      <td>Offer</td>\n",
       "      <td>NaN</td>\n",
       "      <td>Application_999993812</td>\n",
       "      <td>O_Accepted</td>\n",
       "      <td>2016-10-24 08:24:30.056000+00:00</td>\n",
       "      <td>1202264</td>\n",
       "      <td>31508</td>\n",
       "    </tr>\n",
       "    <tr>\n",
       "      <th>1202265</th>\n",
       "      <td>Application_999993812</td>\n",
       "      <td>A_Pending</td>\n",
       "      <td>2016-10-24 08:24:30.059000+00:00</td>\n",
       "      <td>COMPLETE</td>\n",
       "      <td>New credit</td>\n",
       "      <td>Caravan / Camper</td>\n",
       "      <td>30000.0</td>\n",
       "      <td>NaN</td>\n",
       "      <td>User_68</td>\n",
       "      <td>NaN</td>\n",
       "      <td>...</td>\n",
       "      <td>NaN</td>\n",
       "      <td>NaN</td>\n",
       "      <td>NaN</td>\n",
       "      <td>Application</td>\n",
       "      <td>NaN</td>\n",
       "      <td>Application_999993812</td>\n",
       "      <td>A_Pending</td>\n",
       "      <td>2016-10-24 08:24:30.059000+00:00</td>\n",
       "      <td>1202265</td>\n",
       "      <td>31508</td>\n",
       "    </tr>\n",
       "    <tr>\n",
       "      <th>1202266</th>\n",
       "      <td>Application_999993812</td>\n",
       "      <td>W_Call incomplete files</td>\n",
       "      <td>2016-10-24 08:24:30.061000+00:00</td>\n",
       "      <td>ATE_ABORT</td>\n",
       "      <td>New credit</td>\n",
       "      <td>Caravan / Camper</td>\n",
       "      <td>30000.0</td>\n",
       "      <td>NaN</td>\n",
       "      <td>User_68</td>\n",
       "      <td>NaN</td>\n",
       "      <td>...</td>\n",
       "      <td>NaN</td>\n",
       "      <td>NaN</td>\n",
       "      <td>NaN</td>\n",
       "      <td>Workflow</td>\n",
       "      <td>NaN</td>\n",
       "      <td>Application_999993812</td>\n",
       "      <td>W_Call incomplete files</td>\n",
       "      <td>2016-10-24 08:24:30.061000+00:00</td>\n",
       "      <td>1202266</td>\n",
       "      <td>31508</td>\n",
       "    </tr>\n",
       "  </tbody>\n",
       "</table>\n",
       "<p>1202267 rows × 24 columns</p>\n",
       "</div>"
      ],
      "text/plain": [
       "                           case                    event  \\\n",
       "0        Application_1000086665     A_Create Application   \n",
       "1        Application_1000086665              A_Submitted   \n",
       "2        Application_1000086665           W_Handle leads   \n",
       "3        Application_1000086665           W_Handle leads   \n",
       "4        Application_1000086665   W_Complete application   \n",
       "...                         ...                      ...   \n",
       "1202262   Application_999993812  W_Call incomplete files   \n",
       "1202263   Application_999993812  W_Call incomplete files   \n",
       "1202264   Application_999993812               O_Accepted   \n",
       "1202265   Application_999993812                A_Pending   \n",
       "1202266   Application_999993812  W_Call incomplete files   \n",
       "\n",
       "                                    time lifecycle:transition ApplicationType  \\\n",
       "0       2016-08-03 17:57:21.673000+00:00             COMPLETE      New credit   \n",
       "1       2016-08-03 17:57:21.734000+00:00             COMPLETE      New credit   \n",
       "2       2016-08-03 17:57:21.963000+00:00             SCHEDULE      New credit   \n",
       "3       2016-08-03 17:58:28.286000+00:00             WITHDRAW      New credit   \n",
       "4       2016-08-03 17:58:28.293000+00:00             SCHEDULE      New credit   \n",
       "...                                  ...                  ...             ...   \n",
       "1202262 2016-10-20 10:19:28.812000+00:00               RESUME      New credit   \n",
       "1202263 2016-10-20 10:21:59.667000+00:00              SUSPEND      New credit   \n",
       "1202264 2016-10-24 08:24:30.056000+00:00             COMPLETE      New credit   \n",
       "1202265 2016-10-24 08:24:30.059000+00:00             COMPLETE      New credit   \n",
       "1202266 2016-10-24 08:24:30.061000+00:00            ATE_ABORT      New credit   \n",
       "\n",
       "                       LoanGoal  RequestedAmount  MonthlyCost org:resource  \\\n",
       "0        Other, see explanation           5000.0          NaN       User_1   \n",
       "1        Other, see explanation           5000.0          NaN       User_1   \n",
       "2        Other, see explanation           5000.0          NaN       User_1   \n",
       "3        Other, see explanation           5000.0          NaN       User_1   \n",
       "4        Other, see explanation           5000.0          NaN       User_1   \n",
       "...                         ...              ...          ...          ...   \n",
       "1202262        Caravan / Camper          30000.0          NaN      User_41   \n",
       "1202263        Caravan / Camper          30000.0          NaN      User_41   \n",
       "1202264        Caravan / Camper          30000.0          NaN      User_68   \n",
       "1202265        Caravan / Camper          30000.0          NaN      User_68   \n",
       "1202266        Caravan / Camper          30000.0          NaN      User_68   \n",
       "\n",
       "        Selected  ... Accepted CreditScore  NumberOfTerms  EventOrigin  \\\n",
       "0            NaN  ...      NaN         NaN            NaN  Application   \n",
       "1            NaN  ...      NaN         NaN            NaN  Application   \n",
       "2            NaN  ...      NaN         NaN            NaN     Workflow   \n",
       "3            NaN  ...      NaN         NaN            NaN     Workflow   \n",
       "4            NaN  ...      NaN         NaN            NaN     Workflow   \n",
       "...          ...  ...      ...         ...            ...          ...   \n",
       "1202262      NaN  ...      NaN         NaN            NaN     Workflow   \n",
       "1202263      NaN  ...      NaN         NaN            NaN     Workflow   \n",
       "1202264      NaN  ...      NaN         NaN            NaN        Offer   \n",
       "1202265      NaN  ...      NaN         NaN            NaN  Application   \n",
       "1202266      NaN  ...      NaN         NaN            NaN     Workflow   \n",
       "\n",
       "        OfferedAmount       case:concept:name             concept:name  \\\n",
       "0                 NaN  Application_1000086665     A_Create Application   \n",
       "1                 NaN  Application_1000086665              A_Submitted   \n",
       "2                 NaN  Application_1000086665           W_Handle leads   \n",
       "3                 NaN  Application_1000086665           W_Handle leads   \n",
       "4                 NaN  Application_1000086665   W_Complete application   \n",
       "...               ...                     ...                      ...   \n",
       "1202262           NaN   Application_999993812  W_Call incomplete files   \n",
       "1202263           NaN   Application_999993812  W_Call incomplete files   \n",
       "1202264           NaN   Application_999993812               O_Accepted   \n",
       "1202265           NaN   Application_999993812                A_Pending   \n",
       "1202266           NaN   Application_999993812  W_Call incomplete files   \n",
       "\n",
       "                          time:timestamp  @@index @@case_index  \n",
       "0       2016-08-03 17:57:21.673000+00:00        0            0  \n",
       "1       2016-08-03 17:57:21.734000+00:00        1            0  \n",
       "2       2016-08-03 17:57:21.963000+00:00        2            0  \n",
       "3       2016-08-03 17:58:28.286000+00:00        3            0  \n",
       "4       2016-08-03 17:58:28.293000+00:00        4            0  \n",
       "...                                  ...      ...          ...  \n",
       "1202262 2016-10-20 10:19:28.812000+00:00  1202262        31508  \n",
       "1202263 2016-10-20 10:21:59.667000+00:00  1202263        31508  \n",
       "1202264 2016-10-24 08:24:30.056000+00:00  1202264        31508  \n",
       "1202265 2016-10-24 08:24:30.059000+00:00  1202265        31508  \n",
       "1202266 2016-10-24 08:24:30.061000+00:00  1202266        31508  \n",
       "\n",
       "[1202267 rows x 24 columns]"
      ]
     },
     "metadata": {},
     "output_type": "display_data"
    }
   ],
   "source": [
    "# Load data\n",
    "bpi_data = pd.read_csv(\"C:/Users/cshek/OneDrive/Bureaublad/Thesis/BPI_Challenge_2017.csv\", sep=',', quotechar='\"')\n",
    "bpi_data.columns = bpi_data.columns.str.strip()\n",
    "bpi_data['time'] = pd.to_datetime(bpi_data['time'], format='%Y/%m/%d %H:%M:%S.%f')\n",
    "log = pm4py.format_dataframe(bpi_data, case_id='case', activity_key='event', timestamp_key='time')\n",
    "display(log)\n",
    "\n",
    "# Build LogView\n",
    "log_view = LogViewBuilder.build_log_view(log)"
   ]
  },
  {
   "cell_type": "code",
   "execution_count": 53,
   "id": "8ea4abea",
   "metadata": {},
   "outputs": [
    {
     "name": "stdout",
     "output_type": "stream",
     "text": [
      "+----+----------------------+-------------------+----------------------+-----------------------+\n",
      "|    | source_log           | query             | result_set           | labels                |\n",
      "|----+----------------------+-------------------+----------------------+-----------------------|\n",
      "|  0 | initial_source_log   | GoodCredit        | rs_GoodCredit        | ['GoodCredit']        |\n",
      "|  1 | rs_GoodCredit        | LoanOverThreshold | rs_LoanOverThreshold | ['LoanOverThreshold'] |\n",
      "|  2 | rs_LoanOverThreshold | SmallAmount       | rs_SmallAmount       | ['SmallAmount']       |\n",
      "|  3 | rs_SmallAmount       | IsNewCredit       | rs_IsNewCredit       | ['IsNewCredit']       |\n",
      "|  4 | initial_source_log   | StartWithCreate   | rs_StartWithCreate   | ['StartWithCreate']   |\n",
      "|  5 | initial_source_log   | ModerateDuration  | rs_ModerateDuration  | ['ModerateDuration']  |\n",
      "+----+----------------------+-------------------+----------------------+-----------------------+\n",
      "+----+-------------------+----------------------------------------+\n",
      "|    | query             | predicates                             |\n",
      "|----+-------------------+----------------------------------------|\n",
      "|  0 | GoodCredit        | (CreditScore >= 600)                   |\n",
      "|  1 | LoanOverThreshold | (RequestedAmount >= 10000)             |\n",
      "|  2 | SmallAmount       | (RequestedAmount < 15000)              |\n",
      "|  3 | IsNewCredit       | (ApplicationType in { 'New credit' })  |\n",
      "|  4 | StartWithCreate   | (StartWith { 'A_Create Application' }) |\n",
      "|  5 | ModerateDuration  | (DurationWithin [172800, 604800])      |\n",
      "+----+-------------------+----------------------------------------+\n"
     ]
    },
    {
     "data": {
      "text/plain": [
       "{'evaluations':              source_log              query            result_set  \\\n",
       " 0    initial_source_log         GoodCredit         rs_GoodCredit   \n",
       " 1         rs_GoodCredit  LoanOverThreshold  rs_LoanOverThreshold   \n",
       " 2  rs_LoanOverThreshold        SmallAmount        rs_SmallAmount   \n",
       " 3        rs_SmallAmount        IsNewCredit        rs_IsNewCredit   \n",
       " 4    initial_source_log    StartWithCreate    rs_StartWithCreate   \n",
       " 5    initial_source_log   ModerateDuration   rs_ModerateDuration   \n",
       " \n",
       "                 labels  \n",
       " 0         [GoodCredit]  \n",
       " 1  [LoanOverThreshold]  \n",
       " 2        [SmallAmount]  \n",
       " 3        [IsNewCredit]  \n",
       " 4    [StartWithCreate]  \n",
       " 5   [ModerateDuration]  ,\n",
       " 'queries':                query                              predicates\n",
       " 0         GoodCredit                    (CreditScore >= 600)\n",
       " 1  LoanOverThreshold              (RequestedAmount >= 10000)\n",
       " 2        SmallAmount               (RequestedAmount < 15000)\n",
       " 3        IsNewCredit   (ApplicationType in { 'New credit' })\n",
       " 4    StartWithCreate  (StartWith { 'A_Create Application' })\n",
       " 5   ModerateDuration       (DurationWithin [172800, 604800])}"
      ]
     },
     "execution_count": 53,
     "metadata": {},
     "output_type": "execute_result"
    }
   ],
   "source": [
    "# CreditScore ≥ 600\n",
    "query_1 = Query('GoodCredit', [GreaterEqualToConstant('CreditScore', 600)])\n",
    "result_set_1, complement_1 = log_view.evaluate_query('rs_GoodCredit', log, query_1)\n",
    "log_view.label_result_set(result_set_1, 'GoodCredit')\n",
    "\n",
    "# RequestedAmount ≥ 10000\n",
    "query_2 = Query('LoanOverThreshold', [GreaterEqualToConstant('RequestedAmount', 10000)])\n",
    "result_set_2, complement_2 = log_view.evaluate_query('rs_LoanOverThreshold', result_set_1, query_2)\n",
    "log_view.label_result_set(result_set_2, 'LoanOverThreshold')\n",
    "\n",
    "# RequestedAmount < 15000\n",
    "query_3 = Query('SmallAmount', [LessThanConstant('RequestedAmount', 15000)])\n",
    "result_set_3, complement_3 = log_view.evaluate_query('rs_SmallAmount', result_set_2, query_3)\n",
    "log_view.label_result_set(result_set_3, 'SmallAmount')\n",
    "\n",
    "# ApplicationType = 'New credit'\n",
    "query_4 = Query('IsNewCredit', [EqToConstant('ApplicationType', 'New credit')])\n",
    "result_set_4, complement_4 = log_view.evaluate_query('rs_IsNewCredit', result_set_3, query_4)\n",
    "log_view.label_result_set(result_set_4, 'IsNewCredit')\n",
    "\n",
    "# Starts with A_Create Application\n",
    "query_5 = Query('StartWithCreate', [StartWith(['A_Create Application'])])\n",
    "result_set_5, complement_5 = log_view.evaluate_query('rs_StartWithCreate', log, query_5)\n",
    "log_view.label_result_set(result_set_5, 'StartWithCreate')\n",
    "\n",
    "# Duration between 2 and 7 days\n",
    "query_6 = Query('ModerateDuration', [DurationWithin(172800, 604800)])\n",
    "result_set_6, complement_6 = log_view.evaluate_query('rs_ModerateDuration', log, query_6)\n",
    "log_view.label_result_set(result_set_6, 'ModerateDuration')\n",
    "\n",
    "summary = log_view.get_summary()\n",
    "summary"
   ]
  },
  {
   "cell_type": "code",
   "execution_count": 54,
   "id": "840b9c4e",
   "metadata": {},
   "outputs": [],
   "source": [
    "def get_lineage(registry, result_set_name):\n",
    "    \"\"\"\n",
    "    Given a registry and a result_set name, return a filtered DataFrame\n",
    "    showing the lineage of how that result_set was derived.\n",
    "    \"\"\"\n",
    "    evaluations = registry['evaluations']\n",
    "    \n",
    "    lineage_rows = []\n",
    "\n",
    "    def trace_back(current_result_set):\n",
    "        for _, row in evaluations.iterrows():\n",
    "            if row['result_set'] == current_result_set:\n",
    "                lineage_rows.append(row)\n",
    "                trace_back(row['source_log'])\n",
    "\n",
    "    trace_back(result_set_name)\n",
    "    \n",
    "    # Reverse the result to show forward lineage\n",
    "    lineage_df = pd.DataFrame(lineage_rows[::-1])\n",
    "    return lineage_df\n",
    "\n",
    "def add_case_durations(df):\n",
    "    grouped = df.groupby(\"case:concept:name\")[\"time:timestamp\"]\n",
    "    durations = (grouped.max() - grouped.min()).dt.total_seconds()\n",
    "    df = df.copy()\n",
    "    df[\"case_duration\"] = df[\"case:concept:name\"].map(durations)\n",
    "    return df\n",
    "\n",
    "def add_event_counts(df):\n",
    "    event_counts = df.groupby(\"case:concept:name\").size()\n",
    "    df = df.copy()\n",
    "    df[\"num_events\"] = df[\"case:concept:name\"].map(event_counts)\n",
    "    return df\n",
    "\n",
    "def add_avg_time_between_events(df):\n",
    "    def avg_diff(x):\n",
    "        diffs = x.sort_values().diff().dropna()\n",
    "        return diffs.mean().total_seconds() if len(diffs) > 0 else 0\n",
    "    avg_diffs = df.groupby(\"case:concept:name\")[\"time:timestamp\"].apply(avg_diff)\n",
    "    df = df.copy()\n",
    "    df[\"avg_time_between_events\"] = df[\"case:concept:name\"].map(avg_diffs)\n",
    "    return df\n",
    "\n",
    "def precompute_case_durations(log_df):\n",
    "    \"\"\"\n",
    "    Adds a 'case_duration' column to the original log dataframe.\n",
    "    \"\"\"\n",
    "    case_durations = (\n",
    "        log_df.groupby(\"case:concept:name\")[\"time:timestamp\"]\n",
    "        .agg([\"min\", \"max\"])\n",
    "        .apply(lambda row: (row[\"max\"] - row[\"min\"]).total_seconds(), axis=1)\n",
    "    )\n",
    "    log_df = log_df.copy()\n",
    "    log_df[\"case_duration\"] = log_df[\"case:concept:name\"].map(case_durations)\n",
    "    return log_df\n",
    "\n",
    "def format_seconds(seconds):\n",
    "    if pd.isna(seconds):\n",
    "        return \"N/A\"\n",
    "    seconds = int(seconds)\n",
    "    days, rem = divmod(seconds, 86400)\n",
    "    hours, rem = divmod(rem, 3600)\n",
    "    minutes = rem // 60\n",
    "    parts = []\n",
    "    if days: parts.append(f\"{days}d\")\n",
    "    if hours: parts.append(f\"{hours}h\")\n",
    "    if minutes: parts.append(f\"{minutes}m\")\n",
    "    return \" \".join(parts) if parts else \"0m\"\n",
    "\n",
    "def compute_hover_data(df, metric):\n",
    "    import numpy as np\n",
    "\n",
    "    path_cols = [col for col in df.columns if col.startswith(\"Level\")]\n",
    "    \n",
    "    # Compute ID and parent ID using cleaned labels\n",
    "    def clean(label):\n",
    "        return label.replace(\"🟡 \", \"\").strip()\n",
    "\n",
    "    cleaned_path = df[path_cols].map(clean)\n",
    "    df[\"id\"] = cleaned_path.agg(\" → \".join, axis=1)\n",
    "    df[\"parent_id\"] = cleaned_path.shift(axis=1).fillna(\"\").agg(\" → \".join, axis=1)\n",
    "    \n",
    "    df.loc[df[\"parent_id\"].str.strip() == \"\", \"parent_id\"] = None\n",
    "\n",
    "    # Create lookup table for parent metrics\n",
    "    parent_lookup = df.set_index(\"id\")[[metric, \"num_cases\"]].to_dict(\"index\")\n",
    "\n",
    "    hover_cases = []\n",
    "    hover_pct = []\n",
    "    hover_metric = []\n",
    "    hover_delta = []\n",
    "\n",
    "    for _, row in df.iterrows():\n",
    "        cur_val = row[metric]\n",
    "        cur_cases = row[\"num_cases\"]\n",
    "        parent_info = parent_lookup.get(row[\"parent_id\"])\n",
    "\n",
    "        # Cases\n",
    "        hover_cases.append(f\"{cur_cases:,}\")\n",
    "\n",
    "        # Percentage of parent\n",
    "        if parent_info and parent_info[\"num_cases\"] > 0:\n",
    "            pct = (cur_cases / parent_info[\"num_cases\"]) * 100\n",
    "            hover_pct.append(f\"{pct:.1f}%\")\n",
    "        else:\n",
    "            hover_pct.append(\"100%\")\n",
    "\n",
    "        # Metric\n",
    "        if \"duration\" in metric or \"time\" in metric:\n",
    "            # Format time in human readable form\n",
    "            sec = cur_val\n",
    "            d = int(sec // 86400)\n",
    "            h = int((sec % 86400) // 3600)\n",
    "            m = int((sec % 3600) // 60)\n",
    "            hover_metric.append(f\"{d}d {h}h {m}m\")\n",
    "        else:\n",
    "            hover_metric.append(f\"{cur_val:.2f}\")\n",
    "\n",
    "        # Delta\n",
    "        if parent_info:\n",
    "            diff = cur_val - parent_info[metric]\n",
    "            if \"duration\" in metric or \"time\" in metric:\n",
    "                sign = \"-\" if diff < 0 else \"+\"\n",
    "                diff = abs(diff)\n",
    "                d = int(diff // 86400)\n",
    "                h = int((diff % 86400) // 3600)\n",
    "                m = int((diff % 3600) // 60)\n",
    "                hover_delta.append(f\"{sign}{d}d {h}h {m}m\")\n",
    "            else:\n",
    "                sign = \"-\" if diff < 0 else \"+\"\n",
    "                hover_delta.append(f\"{sign}{abs(diff):.2f}\")\n",
    "        else:\n",
    "            hover_delta.append(\"—\")\n",
    "\n",
    "    df[\"hover_cases\"] = hover_cases\n",
    "    df[\"hover_pct\"] = hover_pct\n",
    "    df[\"hover_metric\"] = hover_metric\n",
    "    df[\"hover_delta\"] = hover_delta\n",
    "    return df\n",
    "\n",
    "def compute_case_stats(df, name, label_path, metric):\n",
    "    if df.empty:\n",
    "        return {\n",
    "            \"subset_name\": name,\n",
    "            \"label_path\": \" → \".join(label_path),\n",
    "            \"num_cases\": 0,\n",
    "            metric: 0\n",
    "        }\n",
    "\n",
    "    df = df.drop_duplicates(\"case:concept:name\")\n",
    "\n",
    "    column = {\n",
    "        \"avg_case_duration_seconds\": \"case_duration\",\n",
    "        \"avg_events_per_case\": \"num_events\",\n",
    "        \"avg_time_between_events\": \"avg_time_between_events\"\n",
    "    }[metric]\n",
    "\n",
    "    return {\n",
    "        \"subset_name\": name,\n",
    "        \"label_path\": \" → \".join(label_path),\n",
    "        \"num_cases\": df[\"case:concept:name\"].nunique(),\n",
    "        metric: df[column].mean()\n",
    "    }\n",
    "\n",
    "def split_subsets(subsets, query_obj, filter_label, step_index, query_evaluator, filter_cache):\n",
    "    new_subsets = []\n",
    "\n",
    "    for subset in subsets:\n",
    "        subset_df = subset[\"df\"]\n",
    "        subset_name = subset[\"name\"]\n",
    "        path = subset[\"label_path\"]\n",
    "        order_path = subset.get(\"order_path\", [])  # track ordering\n",
    "\n",
    "        cache_key = (subset_name, query_obj.name)\n",
    "        if cache_key in filter_cache:\n",
    "            df_filtered, df_complement = filter_cache[cache_key]\n",
    "        else:\n",
    "            df_filtered, df_complement = query_evaluator.evaluate(subset_df, query_obj)\n",
    "            filter_cache[cache_key] = (df_filtered, df_complement)\n",
    "\n",
    "        new_subsets.append({\n",
    "            \"df\": df_filtered,\n",
    "            \"name\": f\"{subset_name}_F{step_index+1}\",\n",
    "            \"label_path\": path + [f\"{filter_label} ✓\"],\n",
    "            \"order_path\": order_path + [0]\n",
    "        })\n",
    "        new_subsets.append({\n",
    "            \"df\": df_complement,\n",
    "            \"name\": f\"{subset_name}_C{step_index+1}\",\n",
    "            \"label_path\": path + [f\"{filter_label} ✗\"],\n",
    "            \"order_path\": order_path + [1]\n",
    "        })\n",
    "\n",
    "    return new_subsets\n",
    "\n",
    "def recursively_apply_filters(selected_sequence_df, log_view, metric):\n",
    "    initial_log_name = selected_sequence_df.iloc[0]['source_log']\n",
    "    base_df = log_view.result_set_name_cache[initial_log_name]\n",
    "\n",
    "    if metric == \"avg_case_duration_seconds\":\n",
    "        initial_df = add_case_durations(base_df)\n",
    "    elif metric == \"avg_events_per_case\":\n",
    "        initial_df = add_event_counts(base_df)\n",
    "    elif metric == \"avg_time_between_events\":\n",
    "        initial_df = add_avg_time_between_events(base_df)\n",
    "    else:\n",
    "        raise ValueError(f\"Unsupported metric: {metric}\")\n",
    "\n",
    "    main_path_leaf = None\n",
    "\n",
    "    current_subsets = [{\n",
    "        \"df\": initial_df,\n",
    "        \"name\": initial_log_name,\n",
    "        \"label_path\": [\"Initial Source\"],\n",
    "        \"order_path\": [],\n",
    "        \"is_main_path\": True\n",
    "    }]\n",
    "\n",
    "    filter_cache = {}\n",
    "\n",
    "    query_map = {\n",
    "        evaluation[\"query\"].name: evaluation[\"query\"]\n",
    "        for result_set_id in log_view.query_registry.get_registered_result_set_ids()\n",
    "        for evaluation in [log_view.query_registry.get_evaluation(result_set_id)]\n",
    "    }\n",
    "\n",
    "    query_expression_map = {\n",
    "        evaluation[\"query\"].name: evaluation[\"query\"].as_string()\n",
    "        for result_set_id in log_view.query_registry.get_registered_result_set_ids()\n",
    "        for evaluation in [log_view.query_registry.get_evaluation(result_set_id)]\n",
    "    }\n",
    "\n",
    "    for i, row in selected_sequence_df.iterrows():\n",
    "        query_obj = query_map.get(row[\"query\"])\n",
    "        query_expr = query_expression_map.get(row[\"query\"], row[\"labels\"])\n",
    "        next_subsets = []\n",
    "\n",
    "        for subset in current_subsets:\n",
    "            df = subset[\"df\"]\n",
    "            if df.empty:\n",
    "                continue\n",
    "\n",
    "            path = subset[\"label_path\"]\n",
    "            order_path = subset[\"order_path\"]\n",
    "            is_main = subset[\"is_main_path\"]\n",
    "\n",
    "            cache_key = (subset[\"name\"], query_obj.name)\n",
    "            if cache_key in filter_cache:\n",
    "                df_filtered, df_complement = filter_cache[cache_key]\n",
    "            else:\n",
    "                df_filtered, df_complement = log_view.query_evaluator.evaluate(df, query_obj)\n",
    "                filter_cache[cache_key] = (df_filtered, df_complement)\n",
    "\n",
    "            next_subsets.append({\n",
    "                \"df\": df_filtered,\n",
    "                \"name\": f\"{subset['name']}_F{i+1}\",\n",
    "                \"label_path\": path + [f\"{query_expr} ✔\"],\n",
    "                \"order_path\": order_path + [0],\n",
    "                \"is_main_path\": is_main\n",
    "            })\n",
    "            next_subsets.append({\n",
    "                \"df\": df_complement,\n",
    "                \"name\": f\"{subset['name']}_C{i+1}\",\n",
    "                \"label_path\": path + [f\"{query_expr} ✘\"],\n",
    "                \"order_path\": order_path + [1],\n",
    "                \"is_main_path\": False\n",
    "            })\n",
    "\n",
    "        current_subsets = next_subsets\n",
    "\n",
    "    for subset in current_subsets:\n",
    "        if subset[\"is_main_path\"] and not subset[\"df\"].empty:\n",
    "            main_path_leaf = subset\n",
    "            break\n",
    "\n",
    "    main_path_label_set = set()\n",
    "    if main_path_leaf:\n",
    "        for i in range(len(main_path_leaf[\"label_path\"])):\n",
    "            main_path_label_set.add(tuple(main_path_leaf[\"label_path\"][:i + 1]))\n",
    "\n",
    "    result_rows = []\n",
    "    for subset in current_subsets:\n",
    "        df = subset[\"df\"]\n",
    "        if df.empty:\n",
    "            continue\n",
    "\n",
    "        label_path = subset[\"label_path\"]\n",
    "        display_path = []\n",
    "\n",
    "        for i in range(len(label_path)):\n",
    "            path_prefix = tuple(label_path[:i + 1])\n",
    "            if path_prefix in main_path_label_set:\n",
    "                display_path.append(\"🟡 \" + label_path[i])\n",
    "            else:\n",
    "                display_path.append(label_path[i])\n",
    "\n",
    "        stats = compute_case_stats(df, subset[\"name\"], display_path, metric)\n",
    "        row = {\n",
    "            **{f\"Level{i+1}\": label for i, label in enumerate(display_path)},\n",
    "            \"num_cases\": stats[\"num_cases\"],\n",
    "            metric: stats[metric],\n",
    "            \"order_path\": subset[\"order_path\"]\n",
    "        }\n",
    "        result_rows.append(row)\n",
    "\n",
    "    result_df = pd.DataFrame(result_rows)\n",
    "    result_df = result_df.sort_values(by=\"order_path\")\n",
    "\n",
    "    return result_df, main_path_leaf[\"label_path\"] if main_path_leaf else []\n",
    "\n",
    "def icicle(result_set_name, metric=\"avg_case_duration_seconds\", show_time=False):\n",
    "    import time\n",
    "    import plotly.express as px\n",
    "\n",
    "    times = {}\n",
    "    start_all = time.time()\n",
    "\n",
    "    # Get lineage\n",
    "    t0 = time.time()\n",
    "    lineage = get_lineage(log_view.query_registry.summary(), result_set_name)\n",
    "    times['lineage'] = time.time() - t0\n",
    "\n",
    "    # Compute filtered subsets and stats\n",
    "    t1 = time.time()\n",
    "    icicle_df, main_path = recursively_apply_filters(lineage, log_view, metric=metric)\n",
    "    icicle_df = compute_hover_data(icicle_df, metric)\n",
    "    times['apply_filters'] = time.time() - t1\n",
    "\n",
    "    # Define color settings\n",
    "    color_schemes = {\n",
    "        \"avg_case_duration_seconds\": \"Blues\",\n",
    "        \"avg_events_per_case\": \"Reds\",\n",
    "        \"avg_time_between_events\": \"Greens\"\n",
    "    }\n",
    "    color_labels = {\n",
    "        \"avg_case_duration_seconds\": \"Avg Case Duration (s)\",\n",
    "        \"avg_events_per_case\": \"Avg Events per Case\",\n",
    "        \"avg_time_between_events\": \"Avg Time Between Events (s)\"\n",
    "    }\n",
    "\n",
    "    # Plot icicle\n",
    "    fig = px.icicle(\n",
    "        icicle_df,\n",
    "        path=[col for col in icicle_df.columns if col.startswith(\"Level\")],\n",
    "        values=\"num_cases\",\n",
    "        color=metric,\n",
    "        custom_data=[\"hover_cases\", \"hover_pct\", \"hover_metric\", \"hover_delta\"],\n",
    "        color_continuous_scale=color_schemes.get(metric, \"Blues\"),\n",
    "        title=f\"Icicle Chart for: {result_set_name}\"\n",
    "    )\n",
    "\n",
    "    # Update hovertemplate\n",
    "    fig.update_traces(\n",
    "        hovertemplate=(\n",
    "            \"<b>%{label}</b><br>\" +\n",
    "            \"Cases: %{customdata[0]}<br>\" +\n",
    "            \"Share of parent: %{customdata[1]}<br>\" +\n",
    "            f\"{color_labels.get(metric, metric)}: \" + \"%{customdata[2]}<br>\" +\n",
    "            \"Δ from parent: %{customdata[3]}<extra></extra>\"\n",
    "        )\n",
    "    )\n",
    "\n",
    "    # Update layout\n",
    "    fig.update_layout(\n",
    "        margin=dict(t=40, l=0, r=0, b=0),\n",
    "        coloraxis_colorbar=dict(title=color_labels.get(metric, metric))\n",
    "    )\n",
    "\n",
    "    # Show\n",
    "    fig.show()\n",
    "    times['plot'] = time.time() - t1\n",
    "    times['total'] = time.time() - start_all\n",
    "\n",
    "    # Show main path\n",
    "    if main_path:\n",
    "        print(\"\\nMain Analysis:\", \" → \".join(f\"🟡 {step}\" for step in main_path))\n",
    "\n",
    "    # Show timing\n",
    "    if show_time:\n",
    "        print(\"\\n--- Execution Time (seconds) ---\")\n",
    "        for k, v in times.items():\n",
    "            print(f\"{k:25}: {v:.4f}\")\n",
    "\n",
    "def get_sibling_subsets(result_set_name, log_view):\n",
    "    lineage_df = get_lineage(log_view.query_registry.summary(), result_set_name)\n",
    "    if len(lineage_df) < 1:\n",
    "        raise ValueError(\"Lineage not found.\")\n",
    "\n",
    "    last_query_row = lineage_df.iloc[-1]\n",
    "    parent_log = last_query_row[\"source_log\"]\n",
    "    query_name = last_query_row[\"query\"]\n",
    "    label = last_query_row[\"labels\"]\n",
    "    step_index = len(lineage_df) - 1\n",
    "\n",
    "    # Lookup actual query object from registry\n",
    "    query_obj = None\n",
    "    for rs_id in log_view.query_registry.get_registered_result_set_ids():\n",
    "        evaluation = log_view.query_registry.get_evaluation(rs_id)\n",
    "        if evaluation[\"query\"].name == query_name:\n",
    "            query_obj = evaluation[\"query\"]\n",
    "            break\n",
    "\n",
    "    if query_obj is None:\n",
    "        raise ValueError(f\"Query object for '{query_name}' not found.\")\n",
    "\n",
    "    return parent_log, query_obj, label, step_index, lineage_df\n",
    "\n",
    "def pie(result_set_name, metric=\"avg_case_duration_seconds\"):\n",
    "    from plotly.colors import sample_colorscale\n",
    "\n",
    "    # Get lineage and query\n",
    "    parent_log, query_obj, label, step_index, lineage_df = get_sibling_subsets(result_set_name, log_view)\n",
    "\n",
    "    # Metric setup\n",
    "    full_log = log_view.query_registry.get_initial_source_log()\n",
    "    if metric == \"avg_case_duration_seconds\":\n",
    "        full_log = add_case_durations(full_log)\n",
    "        value_col = \"case_duration\"\n",
    "        color_scheme = \"Blues\"\n",
    "        color_title = \"Avg Duration (s)\"\n",
    "    elif metric == \"avg_events_per_case\":\n",
    "        full_log = add_event_counts(full_log)\n",
    "        value_col = \"num_events\"\n",
    "        color_scheme = \"Reds\"\n",
    "        color_title = \"Avg Events/Case\"\n",
    "    elif metric == \"avg_time_between_events\":\n",
    "        full_log = add_avg_time_between_events(full_log)\n",
    "        value_col = \"avg_time_between_events\"\n",
    "        color_scheme = \"Greens\"\n",
    "        color_title = \"Avg Time Between Events (s)\"\n",
    "    else:\n",
    "        raise ValueError(\"Unsupported metric\")\n",
    "\n",
    "    # Evaluate last query\n",
    "    filtered, _ = log_view.query_evaluator.evaluate(full_log, query_obj)\n",
    "\n",
    "    # Get query expressions\n",
    "    query_expr_map = {\n",
    "        ev[\"query\"].name: ev[\"query\"].as_string()\n",
    "        for rs_id in log_view.query_registry.get_registered_result_set_ids()\n",
    "        for ev in [log_view.query_registry.get_evaluation(rs_id)]\n",
    "    }\n",
    "\n",
    "    # Assign lineage path to cases\n",
    "    case_paths = {}\n",
    "    for _, row in lineage_df.iterrows():\n",
    "        qname = row[\"query\"]\n",
    "        qexpr = query_expr_map.get(qname, qname)\n",
    "        step_obj = next(\n",
    "            (log_view.query_registry.get_evaluation(rs)[\"query\"]\n",
    "             for rs in log_view.query_registry.get_registered_result_set_ids()\n",
    "             if log_view.query_registry.get_evaluation(rs)[\"query\"].name == qname),\n",
    "            None\n",
    "        )\n",
    "        if step_obj:\n",
    "            passed_df, _ = log_view.query_evaluator.evaluate(full_log, step_obj)\n",
    "            passed_cases = set(passed_df[\"case:concept:name\"])\n",
    "            for cid in filtered[\"case:concept:name\"].unique():\n",
    "                case_paths.setdefault(cid, [])\n",
    "                case_paths[cid].append(f\"{qexpr} ✅\" if cid in passed_cases else f\"{qexpr} ❌\")\n",
    "\n",
    "    filtered = filtered.copy()\n",
    "    filtered[\"path_label\"] = filtered[\"case:concept:name\"].map(\n",
    "        lambda cid: \" → \".join(case_paths.get(cid, []))\n",
    "    )\n",
    "\n",
    "    # Aggregate\n",
    "    grouped = (\n",
    "        filtered.groupby(\"path_label\")[[\"case:concept:name\", value_col]]\n",
    "        .agg(num_cases=(\"case:concept:name\", \"nunique\"), avg_metric=(value_col, \"mean\"))\n",
    "        .reset_index()\n",
    "    )\n",
    "\n",
    "    # Normalize color\n",
    "    min_val, max_val = grouped[\"avg_metric\"].min(), grouped[\"avg_metric\"].max()\n",
    "    normed = (grouped[\"avg_metric\"] - min_val) / (max_val - min_val + 1e-9)\n",
    "    color_values = sample_colorscale(color_scheme, normed.tolist())\n",
    "\n",
    "    # Clean slice labels\n",
    "    total_cases = grouped[\"num_cases\"].sum()\n",
    "    grouped[\"slice_label\"] = grouped.apply(\n",
    "        lambda r: f\"{int(r['num_cases']):,} cases ({r['num_cases'] / total_cases:.0%})\", axis=1\n",
    "    )\n",
    "\n",
    "    # Build chart\n",
    "    fig = go.Figure(\n",
    "        data=[go.Pie(\n",
    "            labels=grouped[\"slice_label\"],\n",
    "            values=grouped[\"num_cases\"],\n",
    "            textinfo=\"label\",\n",
    "            customdata=grouped[[\"path_label\", \"num_cases\", \"avg_metric\"]],\n",
    "            hovertemplate=(\n",
    "            \"<b>%{customdata[0]}</b><br>\" +\n",
    "            \"Cases: %{customdata[1]:,}<br>\" +\n",
    "            color_title + \": %{customdata[2]:.2f}<extra></extra>\"\n",
    "            ),\n",
    "            marker=dict(colors=color_values)\n",
    "        )]\n",
    "    )\n",
    "\n",
    "    # Add colorbar\n",
    "    fig.add_trace(go.Scatter(\n",
    "        x=[None], y=[None], mode='markers',\n",
    "        marker=dict(\n",
    "            colorscale=color_scheme,\n",
    "            cmin=min_val,\n",
    "            cmax=max_val,\n",
    "            colorbar=dict(title=color_title, len=0.8, thickness=15),\n",
    "            color=[min_val],\n",
    "            showscale=True\n",
    "        ),\n",
    "        hoverinfo='none',\n",
    "        showlegend=False\n",
    "    ))\n",
    "\n",
    "    fig.update_layout(\n",
    "        title=f\"Breakdown of Filter: {query_obj.as_string()}\",\n",
    "        width=800,\n",
    "        height=700,\n",
    "        showlegend=False,\n",
    "        paper_bgcolor='white',\n",
    "        plot_bgcolor='white',\n",
    "        xaxis=dict(showgrid=False, zeroline=False, showticklabels=False),\n",
    "        yaxis=dict(showgrid=False, zeroline=False, showticklabels=False)\n",
    "    )\n",
    "\n",
    "    fig.show()\n",
    "\n",
    "    # Print details\n",
    "    print(\"\\nFilter Paths:\\n\")\n",
    "    for _, row in grouped.iterrows():\n",
    "        print(f\"- {row['slice_label']}: {row['path_label']} | Avg: {row['avg_metric']:.2f}\")"
   ]
  },
  {
   "cell_type": "code",
   "execution_count": 55,
   "id": "18057973",
   "metadata": {},
   "outputs": [
    {
     "data": {
      "application/vnd.plotly.v1+json": {
       "config": {
        "plotlyServerURL": "https://plot.ly"
       },
       "data": [
        {
         "branchvalues": "total",
         "customdata": [
          [
           "2,461",
           "100%",
           "17d 22h 15m",
           "—",
           1548906.6960499797
          ],
          [
           "68",
           "100%",
           "13d 13h 20m",
           "—",
           1171227.5577794116
          ],
          [
           "7,288",
           "100%",
           "20d 7h 27m",
           "—",
           1754820.054518661
          ],
          [
           "267",
           "100%",
           "14d 9h 54m",
           "—",
           1245294.6614569288
          ],
          [
           "4,976",
           "100%",
           "17d 0h 53m",
           "—",
           1472005.5306099278
          ],
          [
           "178",
           "100%",
           "12d 16h 54m",
           "—",
           1097685.6758820226
          ],
          [
           "2,158",
           "100%",
           "26d 13h 14m",
           "—",
           2294083.190828545
          ],
          [
           "351",
           "100%",
           "17d 6h 8m",
           "—",
           1490904.550173789
          ],
          [
           "5,845",
           "100%",
           "27d 2h 10m",
           "—",
           2340603.5806398634
          ],
          [
           "1,666",
           "100%",
           "17d 22h 3m",
           "—",
           1548216.6580696278
          ],
          [
           "5,392",
           "100%",
           "25d 19h 38m",
           "—",
           2230739.8455984793
          ],
          [
           "859",
           "100%",
           "17d 19h 32m",
           "—",
           1539129.5727240979
          ],
          [
           "(?)",
           "100%",
           "(?)",
           "—",
           1538751.6223440096
          ],
          [
           "(?)",
           "100%",
           "(?)",
           "—",
           1736813.002242356
          ],
          [
           "(?)",
           "100%",
           "(?)",
           "—",
           1459077.914362049
          ],
          [
           "(?)",
           "100%",
           "(?)",
           "—",
           2181721.4120840975
          ],
          [
           "(?)",
           "100%",
           "(?)",
           "—",
           2164845.8103027563
          ],
          [
           "(?)",
           "100%",
           "(?)",
           "—",
           2135700.136048152
          ],
          [
           "(?)",
           "100%",
           "(?)",
           "—",
           1687140.528049286
          ],
          [
           "(?)",
           "100%",
           "(?)",
           "—",
           1459077.914362049
          ],
          [
           "(?)",
           "100%",
           "(?)",
           "—",
           2169071.4475152697
          ],
          [
           "(?)",
           "100%",
           "(?)",
           "—",
           2135700.136048152
          ],
          [
           "(?)",
           "100%",
           "(?)",
           "—",
           1610002.1430286784
          ],
          [
           "(?)",
           "100%",
           "(?)",
           "—",
           2156250.842267839
          ],
          [
           "(?)",
           "100%",
           "(?)",
           "—",
           1892080.6788540103
          ]
         ],
         "domain": {
          "x": [
           0,
           1
          ],
          "y": [
           0,
           1
          ]
         },
         "hovertemplate": "<b>%{label}</b><br>Cases: %{customdata[0]}<br>Share of parent: %{customdata[1]}<br>Avg Case Duration (s): %{customdata[2]}<br>Δ from parent: %{customdata[3]}<extra></extra>",
         "ids": [
          "🟡 Initial Source/🟡 (CreditScore >= 600) ✔/🟡 (RequestedAmount >= 10000) ✔/🟡 (RequestedAmount < 15000) ✔/🟡 (ApplicationType in { 'New credit' }) ✔",
          "🟡 Initial Source/🟡 (CreditScore >= 600) ✔/🟡 (RequestedAmount >= 10000) ✔/🟡 (RequestedAmount < 15000) ✔/(ApplicationType in { 'New credit' }) ✘",
          "🟡 Initial Source/🟡 (CreditScore >= 600) ✔/🟡 (RequestedAmount >= 10000) ✔/(RequestedAmount < 15000) ✘/(ApplicationType in { 'New credit' }) ✔",
          "🟡 Initial Source/🟡 (CreditScore >= 600) ✔/🟡 (RequestedAmount >= 10000) ✔/(RequestedAmount < 15000) ✘/(ApplicationType in { 'New credit' }) ✘",
          "🟡 Initial Source/🟡 (CreditScore >= 600) ✔/(RequestedAmount >= 10000) ✘/(RequestedAmount < 15000) ✔/(ApplicationType in { 'New credit' }) ✔",
          "🟡 Initial Source/🟡 (CreditScore >= 600) ✔/(RequestedAmount >= 10000) ✘/(RequestedAmount < 15000) ✔/(ApplicationType in { 'New credit' }) ✘",
          "🟡 Initial Source/(CreditScore >= 600) ✘/(RequestedAmount >= 10000) ✔/(RequestedAmount < 15000) ✔/(ApplicationType in { 'New credit' }) ✔",
          "🟡 Initial Source/(CreditScore >= 600) ✘/(RequestedAmount >= 10000) ✔/(RequestedAmount < 15000) ✔/(ApplicationType in { 'New credit' }) ✘",
          "🟡 Initial Source/(CreditScore >= 600) ✘/(RequestedAmount >= 10000) ✔/(RequestedAmount < 15000) ✘/(ApplicationType in { 'New credit' }) ✔",
          "🟡 Initial Source/(CreditScore >= 600) ✘/(RequestedAmount >= 10000) ✔/(RequestedAmount < 15000) ✘/(ApplicationType in { 'New credit' }) ✘",
          "🟡 Initial Source/(CreditScore >= 600) ✘/(RequestedAmount >= 10000) ✘/(RequestedAmount < 15000) ✔/(ApplicationType in { 'New credit' }) ✔",
          "🟡 Initial Source/(CreditScore >= 600) ✘/(RequestedAmount >= 10000) ✘/(RequestedAmount < 15000) ✔/(ApplicationType in { 'New credit' }) ✘",
          "🟡 Initial Source/🟡 (CreditScore >= 600) ✔/🟡 (RequestedAmount >= 10000) ✔/🟡 (RequestedAmount < 15000) ✔",
          "🟡 Initial Source/🟡 (CreditScore >= 600) ✔/🟡 (RequestedAmount >= 10000) ✔/(RequestedAmount < 15000) ✘",
          "🟡 Initial Source/🟡 (CreditScore >= 600) ✔/(RequestedAmount >= 10000) ✘/(RequestedAmount < 15000) ✔",
          "🟡 Initial Source/(CreditScore >= 600) ✘/(RequestedAmount >= 10000) ✔/(RequestedAmount < 15000) ✔",
          "🟡 Initial Source/(CreditScore >= 600) ✘/(RequestedAmount >= 10000) ✔/(RequestedAmount < 15000) ✘",
          "🟡 Initial Source/(CreditScore >= 600) ✘/(RequestedAmount >= 10000) ✘/(RequestedAmount < 15000) ✔",
          "🟡 Initial Source/🟡 (CreditScore >= 600) ✔/🟡 (RequestedAmount >= 10000) ✔",
          "🟡 Initial Source/🟡 (CreditScore >= 600) ✔/(RequestedAmount >= 10000) ✘",
          "🟡 Initial Source/(CreditScore >= 600) ✘/(RequestedAmount >= 10000) ✔",
          "🟡 Initial Source/(CreditScore >= 600) ✘/(RequestedAmount >= 10000) ✘",
          "🟡 Initial Source/🟡 (CreditScore >= 600) ✔",
          "🟡 Initial Source/(CreditScore >= 600) ✘",
          "🟡 Initial Source"
         ],
         "labels": [
          "🟡 (ApplicationType in { 'New credit' }) ✔",
          "(ApplicationType in { 'New credit' }) ✘",
          "(ApplicationType in { 'New credit' }) ✔",
          "(ApplicationType in { 'New credit' }) ✘",
          "(ApplicationType in { 'New credit' }) ✔",
          "(ApplicationType in { 'New credit' }) ✘",
          "(ApplicationType in { 'New credit' }) ✔",
          "(ApplicationType in { 'New credit' }) ✘",
          "(ApplicationType in { 'New credit' }) ✔",
          "(ApplicationType in { 'New credit' }) ✘",
          "(ApplicationType in { 'New credit' }) ✔",
          "(ApplicationType in { 'New credit' }) ✘",
          "🟡 (RequestedAmount < 15000) ✔",
          "(RequestedAmount < 15000) ✘",
          "(RequestedAmount < 15000) ✔",
          "(RequestedAmount < 15000) ✔",
          "(RequestedAmount < 15000) ✘",
          "(RequestedAmount < 15000) ✔",
          "🟡 (RequestedAmount >= 10000) ✔",
          "(RequestedAmount >= 10000) ✘",
          "(RequestedAmount >= 10000) ✔",
          "(RequestedAmount >= 10000) ✘",
          "🟡 (CreditScore >= 600) ✔",
          "(CreditScore >= 600) ✘",
          "🟡 Initial Source"
         ],
         "marker": {
          "coloraxis": "coloraxis",
          "colors": {
           "bdata": "21QwsmqiN0GrocqOG98xQVrv9A3ExjpBxT1VqW4AM0FfDdaHBXY2Qa+aBq3VvzBB3BFtmKGAQUF/MNiM2L82QTRoUsp920FBSkB3qLifN0Erkjzs6QRBQeYLnpI5fDdB4O9Rn796N0F+9JIAbYA6QZmhE+qFQzZB9Su/tCylQEEvALjnNoRAQZ4GahFKS0BB7jwuh2S+OUGZoRPqhUM2QSwuSLl3jEBBngZqEUpLQEEIh50kEpE4Qbtuz2ttc0BBXWDJrfDePEE=",
           "dtype": "f8"
          }
         },
         "name": "",
         "parents": [
          "🟡 Initial Source/🟡 (CreditScore >= 600) ✔/🟡 (RequestedAmount >= 10000) ✔/🟡 (RequestedAmount < 15000) ✔",
          "🟡 Initial Source/🟡 (CreditScore >= 600) ✔/🟡 (RequestedAmount >= 10000) ✔/🟡 (RequestedAmount < 15000) ✔",
          "🟡 Initial Source/🟡 (CreditScore >= 600) ✔/🟡 (RequestedAmount >= 10000) ✔/(RequestedAmount < 15000) ✘",
          "🟡 Initial Source/🟡 (CreditScore >= 600) ✔/🟡 (RequestedAmount >= 10000) ✔/(RequestedAmount < 15000) ✘",
          "🟡 Initial Source/🟡 (CreditScore >= 600) ✔/(RequestedAmount >= 10000) ✘/(RequestedAmount < 15000) ✔",
          "🟡 Initial Source/🟡 (CreditScore >= 600) ✔/(RequestedAmount >= 10000) ✘/(RequestedAmount < 15000) ✔",
          "🟡 Initial Source/(CreditScore >= 600) ✘/(RequestedAmount >= 10000) ✔/(RequestedAmount < 15000) ✔",
          "🟡 Initial Source/(CreditScore >= 600) ✘/(RequestedAmount >= 10000) ✔/(RequestedAmount < 15000) ✔",
          "🟡 Initial Source/(CreditScore >= 600) ✘/(RequestedAmount >= 10000) ✔/(RequestedAmount < 15000) ✘",
          "🟡 Initial Source/(CreditScore >= 600) ✘/(RequestedAmount >= 10000) ✔/(RequestedAmount < 15000) ✘",
          "🟡 Initial Source/(CreditScore >= 600) ✘/(RequestedAmount >= 10000) ✘/(RequestedAmount < 15000) ✔",
          "🟡 Initial Source/(CreditScore >= 600) ✘/(RequestedAmount >= 10000) ✘/(RequestedAmount < 15000) ✔",
          "🟡 Initial Source/🟡 (CreditScore >= 600) ✔/🟡 (RequestedAmount >= 10000) ✔",
          "🟡 Initial Source/🟡 (CreditScore >= 600) ✔/🟡 (RequestedAmount >= 10000) ✔",
          "🟡 Initial Source/🟡 (CreditScore >= 600) ✔/(RequestedAmount >= 10000) ✘",
          "🟡 Initial Source/(CreditScore >= 600) ✘/(RequestedAmount >= 10000) ✔",
          "🟡 Initial Source/(CreditScore >= 600) ✘/(RequestedAmount >= 10000) ✔",
          "🟡 Initial Source/(CreditScore >= 600) ✘/(RequestedAmount >= 10000) ✘",
          "🟡 Initial Source/🟡 (CreditScore >= 600) ✔",
          "🟡 Initial Source/🟡 (CreditScore >= 600) ✔",
          "🟡 Initial Source/(CreditScore >= 600) ✘",
          "🟡 Initial Source/(CreditScore >= 600) ✘",
          "🟡 Initial Source",
          "🟡 Initial Source",
          ""
         ],
         "type": "icicle",
         "values": {
          "bdata": "AAAAAAA6o0AAAAAAAABRQAAAAAAAeLxAAAAAAACwcEAAAAAAAHCzQAAAAAAAQGZAAAAAAADcoEAAAAAAAPB1QAAAAAAA1bZAAAAAAAAImkAAAAAAABC1QAAAAAAA2IpAAAAAAADCo0AAAAAAAIO9QAAAAAAAIrRAAAAAAACao0AAAAAAAFe9QAAAAAAAa7hAAAAAAACyw0AAAAAAACK0QAAAAAAAksNAAAAAAABruEAAAAAAAMPNQAAAAACAx89AAAAAAEDF3kA=",
          "dtype": "f8"
         }
        }
       ],
       "layout": {
        "coloraxis": {
         "colorbar": {
          "title": {
           "text": "Avg Case Duration (s)"
          }
         },
         "colorscale": [
          [
           0,
           "rgb(247,251,255)"
          ],
          [
           0.125,
           "rgb(222,235,247)"
          ],
          [
           0.25,
           "rgb(198,219,239)"
          ],
          [
           0.375,
           "rgb(158,202,225)"
          ],
          [
           0.5,
           "rgb(107,174,214)"
          ],
          [
           0.625,
           "rgb(66,146,198)"
          ],
          [
           0.75,
           "rgb(33,113,181)"
          ],
          [
           0.875,
           "rgb(8,81,156)"
          ],
          [
           1,
           "rgb(8,48,107)"
          ]
         ]
        },
        "legend": {
         "tracegroupgap": 0
        },
        "margin": {
         "b": 0,
         "l": 0,
         "r": 0,
         "t": 40
        },
        "template": {
         "data": {
          "bar": [
           {
            "error_x": {
             "color": "#2a3f5f"
            },
            "error_y": {
             "color": "#2a3f5f"
            },
            "marker": {
             "line": {
              "color": "#E5ECF6",
              "width": 0.5
             },
             "pattern": {
              "fillmode": "overlay",
              "size": 10,
              "solidity": 0.2
             }
            },
            "type": "bar"
           }
          ],
          "barpolar": [
           {
            "marker": {
             "line": {
              "color": "#E5ECF6",
              "width": 0.5
             },
             "pattern": {
              "fillmode": "overlay",
              "size": 10,
              "solidity": 0.2
             }
            },
            "type": "barpolar"
           }
          ],
          "carpet": [
           {
            "aaxis": {
             "endlinecolor": "#2a3f5f",
             "gridcolor": "white",
             "linecolor": "white",
             "minorgridcolor": "white",
             "startlinecolor": "#2a3f5f"
            },
            "baxis": {
             "endlinecolor": "#2a3f5f",
             "gridcolor": "white",
             "linecolor": "white",
             "minorgridcolor": "white",
             "startlinecolor": "#2a3f5f"
            },
            "type": "carpet"
           }
          ],
          "choropleth": [
           {
            "colorbar": {
             "outlinewidth": 0,
             "ticks": ""
            },
            "type": "choropleth"
           }
          ],
          "contour": [
           {
            "colorbar": {
             "outlinewidth": 0,
             "ticks": ""
            },
            "colorscale": [
             [
              0,
              "#0d0887"
             ],
             [
              0.1111111111111111,
              "#46039f"
             ],
             [
              0.2222222222222222,
              "#7201a8"
             ],
             [
              0.3333333333333333,
              "#9c179e"
             ],
             [
              0.4444444444444444,
              "#bd3786"
             ],
             [
              0.5555555555555556,
              "#d8576b"
             ],
             [
              0.6666666666666666,
              "#ed7953"
             ],
             [
              0.7777777777777778,
              "#fb9f3a"
             ],
             [
              0.8888888888888888,
              "#fdca26"
             ],
             [
              1,
              "#f0f921"
             ]
            ],
            "type": "contour"
           }
          ],
          "contourcarpet": [
           {
            "colorbar": {
             "outlinewidth": 0,
             "ticks": ""
            },
            "type": "contourcarpet"
           }
          ],
          "heatmap": [
           {
            "colorbar": {
             "outlinewidth": 0,
             "ticks": ""
            },
            "colorscale": [
             [
              0,
              "#0d0887"
             ],
             [
              0.1111111111111111,
              "#46039f"
             ],
             [
              0.2222222222222222,
              "#7201a8"
             ],
             [
              0.3333333333333333,
              "#9c179e"
             ],
             [
              0.4444444444444444,
              "#bd3786"
             ],
             [
              0.5555555555555556,
              "#d8576b"
             ],
             [
              0.6666666666666666,
              "#ed7953"
             ],
             [
              0.7777777777777778,
              "#fb9f3a"
             ],
             [
              0.8888888888888888,
              "#fdca26"
             ],
             [
              1,
              "#f0f921"
             ]
            ],
            "type": "heatmap"
           }
          ],
          "histogram": [
           {
            "marker": {
             "pattern": {
              "fillmode": "overlay",
              "size": 10,
              "solidity": 0.2
             }
            },
            "type": "histogram"
           }
          ],
          "histogram2d": [
           {
            "colorbar": {
             "outlinewidth": 0,
             "ticks": ""
            },
            "colorscale": [
             [
              0,
              "#0d0887"
             ],
             [
              0.1111111111111111,
              "#46039f"
             ],
             [
              0.2222222222222222,
              "#7201a8"
             ],
             [
              0.3333333333333333,
              "#9c179e"
             ],
             [
              0.4444444444444444,
              "#bd3786"
             ],
             [
              0.5555555555555556,
              "#d8576b"
             ],
             [
              0.6666666666666666,
              "#ed7953"
             ],
             [
              0.7777777777777778,
              "#fb9f3a"
             ],
             [
              0.8888888888888888,
              "#fdca26"
             ],
             [
              1,
              "#f0f921"
             ]
            ],
            "type": "histogram2d"
           }
          ],
          "histogram2dcontour": [
           {
            "colorbar": {
             "outlinewidth": 0,
             "ticks": ""
            },
            "colorscale": [
             [
              0,
              "#0d0887"
             ],
             [
              0.1111111111111111,
              "#46039f"
             ],
             [
              0.2222222222222222,
              "#7201a8"
             ],
             [
              0.3333333333333333,
              "#9c179e"
             ],
             [
              0.4444444444444444,
              "#bd3786"
             ],
             [
              0.5555555555555556,
              "#d8576b"
             ],
             [
              0.6666666666666666,
              "#ed7953"
             ],
             [
              0.7777777777777778,
              "#fb9f3a"
             ],
             [
              0.8888888888888888,
              "#fdca26"
             ],
             [
              1,
              "#f0f921"
             ]
            ],
            "type": "histogram2dcontour"
           }
          ],
          "mesh3d": [
           {
            "colorbar": {
             "outlinewidth": 0,
             "ticks": ""
            },
            "type": "mesh3d"
           }
          ],
          "parcoords": [
           {
            "line": {
             "colorbar": {
              "outlinewidth": 0,
              "ticks": ""
             }
            },
            "type": "parcoords"
           }
          ],
          "pie": [
           {
            "automargin": true,
            "type": "pie"
           }
          ],
          "scatter": [
           {
            "fillpattern": {
             "fillmode": "overlay",
             "size": 10,
             "solidity": 0.2
            },
            "type": "scatter"
           }
          ],
          "scatter3d": [
           {
            "line": {
             "colorbar": {
              "outlinewidth": 0,
              "ticks": ""
             }
            },
            "marker": {
             "colorbar": {
              "outlinewidth": 0,
              "ticks": ""
             }
            },
            "type": "scatter3d"
           }
          ],
          "scattercarpet": [
           {
            "marker": {
             "colorbar": {
              "outlinewidth": 0,
              "ticks": ""
             }
            },
            "type": "scattercarpet"
           }
          ],
          "scattergeo": [
           {
            "marker": {
             "colorbar": {
              "outlinewidth": 0,
              "ticks": ""
             }
            },
            "type": "scattergeo"
           }
          ],
          "scattergl": [
           {
            "marker": {
             "colorbar": {
              "outlinewidth": 0,
              "ticks": ""
             }
            },
            "type": "scattergl"
           }
          ],
          "scattermap": [
           {
            "marker": {
             "colorbar": {
              "outlinewidth": 0,
              "ticks": ""
             }
            },
            "type": "scattermap"
           }
          ],
          "scattermapbox": [
           {
            "marker": {
             "colorbar": {
              "outlinewidth": 0,
              "ticks": ""
             }
            },
            "type": "scattermapbox"
           }
          ],
          "scatterpolar": [
           {
            "marker": {
             "colorbar": {
              "outlinewidth": 0,
              "ticks": ""
             }
            },
            "type": "scatterpolar"
           }
          ],
          "scatterpolargl": [
           {
            "marker": {
             "colorbar": {
              "outlinewidth": 0,
              "ticks": ""
             }
            },
            "type": "scatterpolargl"
           }
          ],
          "scatterternary": [
           {
            "marker": {
             "colorbar": {
              "outlinewidth": 0,
              "ticks": ""
             }
            },
            "type": "scatterternary"
           }
          ],
          "surface": [
           {
            "colorbar": {
             "outlinewidth": 0,
             "ticks": ""
            },
            "colorscale": [
             [
              0,
              "#0d0887"
             ],
             [
              0.1111111111111111,
              "#46039f"
             ],
             [
              0.2222222222222222,
              "#7201a8"
             ],
             [
              0.3333333333333333,
              "#9c179e"
             ],
             [
              0.4444444444444444,
              "#bd3786"
             ],
             [
              0.5555555555555556,
              "#d8576b"
             ],
             [
              0.6666666666666666,
              "#ed7953"
             ],
             [
              0.7777777777777778,
              "#fb9f3a"
             ],
             [
              0.8888888888888888,
              "#fdca26"
             ],
             [
              1,
              "#f0f921"
             ]
            ],
            "type": "surface"
           }
          ],
          "table": [
           {
            "cells": {
             "fill": {
              "color": "#EBF0F8"
             },
             "line": {
              "color": "white"
             }
            },
            "header": {
             "fill": {
              "color": "#C8D4E3"
             },
             "line": {
              "color": "white"
             }
            },
            "type": "table"
           }
          ]
         },
         "layout": {
          "annotationdefaults": {
           "arrowcolor": "#2a3f5f",
           "arrowhead": 0,
           "arrowwidth": 1
          },
          "autotypenumbers": "strict",
          "coloraxis": {
           "colorbar": {
            "outlinewidth": 0,
            "ticks": ""
           }
          },
          "colorscale": {
           "diverging": [
            [
             0,
             "#8e0152"
            ],
            [
             0.1,
             "#c51b7d"
            ],
            [
             0.2,
             "#de77ae"
            ],
            [
             0.3,
             "#f1b6da"
            ],
            [
             0.4,
             "#fde0ef"
            ],
            [
             0.5,
             "#f7f7f7"
            ],
            [
             0.6,
             "#e6f5d0"
            ],
            [
             0.7,
             "#b8e186"
            ],
            [
             0.8,
             "#7fbc41"
            ],
            [
             0.9,
             "#4d9221"
            ],
            [
             1,
             "#276419"
            ]
           ],
           "sequential": [
            [
             0,
             "#0d0887"
            ],
            [
             0.1111111111111111,
             "#46039f"
            ],
            [
             0.2222222222222222,
             "#7201a8"
            ],
            [
             0.3333333333333333,
             "#9c179e"
            ],
            [
             0.4444444444444444,
             "#bd3786"
            ],
            [
             0.5555555555555556,
             "#d8576b"
            ],
            [
             0.6666666666666666,
             "#ed7953"
            ],
            [
             0.7777777777777778,
             "#fb9f3a"
            ],
            [
             0.8888888888888888,
             "#fdca26"
            ],
            [
             1,
             "#f0f921"
            ]
           ],
           "sequentialminus": [
            [
             0,
             "#0d0887"
            ],
            [
             0.1111111111111111,
             "#46039f"
            ],
            [
             0.2222222222222222,
             "#7201a8"
            ],
            [
             0.3333333333333333,
             "#9c179e"
            ],
            [
             0.4444444444444444,
             "#bd3786"
            ],
            [
             0.5555555555555556,
             "#d8576b"
            ],
            [
             0.6666666666666666,
             "#ed7953"
            ],
            [
             0.7777777777777778,
             "#fb9f3a"
            ],
            [
             0.8888888888888888,
             "#fdca26"
            ],
            [
             1,
             "#f0f921"
            ]
           ]
          },
          "colorway": [
           "#636efa",
           "#EF553B",
           "#00cc96",
           "#ab63fa",
           "#FFA15A",
           "#19d3f3",
           "#FF6692",
           "#B6E880",
           "#FF97FF",
           "#FECB52"
          ],
          "font": {
           "color": "#2a3f5f"
          },
          "geo": {
           "bgcolor": "white",
           "lakecolor": "white",
           "landcolor": "#E5ECF6",
           "showlakes": true,
           "showland": true,
           "subunitcolor": "white"
          },
          "hoverlabel": {
           "align": "left"
          },
          "hovermode": "closest",
          "mapbox": {
           "style": "light"
          },
          "paper_bgcolor": "white",
          "plot_bgcolor": "#E5ECF6",
          "polar": {
           "angularaxis": {
            "gridcolor": "white",
            "linecolor": "white",
            "ticks": ""
           },
           "bgcolor": "#E5ECF6",
           "radialaxis": {
            "gridcolor": "white",
            "linecolor": "white",
            "ticks": ""
           }
          },
          "scene": {
           "xaxis": {
            "backgroundcolor": "#E5ECF6",
            "gridcolor": "white",
            "gridwidth": 2,
            "linecolor": "white",
            "showbackground": true,
            "ticks": "",
            "zerolinecolor": "white"
           },
           "yaxis": {
            "backgroundcolor": "#E5ECF6",
            "gridcolor": "white",
            "gridwidth": 2,
            "linecolor": "white",
            "showbackground": true,
            "ticks": "",
            "zerolinecolor": "white"
           },
           "zaxis": {
            "backgroundcolor": "#E5ECF6",
            "gridcolor": "white",
            "gridwidth": 2,
            "linecolor": "white",
            "showbackground": true,
            "ticks": "",
            "zerolinecolor": "white"
           }
          },
          "shapedefaults": {
           "line": {
            "color": "#2a3f5f"
           }
          },
          "ternary": {
           "aaxis": {
            "gridcolor": "white",
            "linecolor": "white",
            "ticks": ""
           },
           "baxis": {
            "gridcolor": "white",
            "linecolor": "white",
            "ticks": ""
           },
           "bgcolor": "#E5ECF6",
           "caxis": {
            "gridcolor": "white",
            "linecolor": "white",
            "ticks": ""
           }
          },
          "title": {
           "x": 0.05
          },
          "xaxis": {
           "automargin": true,
           "gridcolor": "white",
           "linecolor": "white",
           "ticks": "",
           "title": {
            "standoff": 15
           },
           "zerolinecolor": "white",
           "zerolinewidth": 2
          },
          "yaxis": {
           "automargin": true,
           "gridcolor": "white",
           "linecolor": "white",
           "ticks": "",
           "title": {
            "standoff": 15
           },
           "zerolinecolor": "white",
           "zerolinewidth": 2
          }
         }
        },
        "title": {
         "text": "Icicle Chart for: rs_IsNewCredit"
        }
       }
      }
     },
     "metadata": {},
     "output_type": "display_data"
    },
    {
     "name": "stdout",
     "output_type": "stream",
     "text": [
      "\n",
      "Main Analysis: 🟡 Initial Source → 🟡 (CreditScore >= 600) ✔ → 🟡 (RequestedAmount >= 10000) ✔ → 🟡 (RequestedAmount < 15000) ✔ → 🟡 (ApplicationType in { 'New credit' }) ✔\n"
     ]
    },
    {
     "data": {
      "application/vnd.plotly.v1+json": {
       "config": {
        "plotlyServerURL": "https://plot.ly"
       },
       "data": [
        {
         "customdata": [
          [
           "(CreditScore >= 600) ✅ → (RequestedAmount >= 10000) ✅ → (RequestedAmount < 15000) ✅ → (ApplicationType in { 'New credit' }) ✅",
           2461,
           1690296.0865650096
          ],
          [
           "(CreditScore >= 600) ✅ → (RequestedAmount >= 10000) ✅ → (RequestedAmount < 15000) ❌ → (ApplicationType in { 'New credit' }) ✅",
           7288,
           1952329.1349915327
          ],
          [
           "(CreditScore >= 600) ✅ → (RequestedAmount >= 10000) ❌ → (RequestedAmount < 15000) ✅ → (ApplicationType in { 'New credit' }) ✅",
           4976,
           1625787.7960035705
          ],
          [
           "(CreditScore >= 600) ❌ → (RequestedAmount >= 10000) ✅ → (RequestedAmount < 15000) ✅ → (ApplicationType in { 'New credit' }) ✅",
           2158,
           2296449.442788506
          ],
          [
           "(CreditScore >= 600) ❌ → (RequestedAmount >= 10000) ✅ → (RequestedAmount < 15000) ❌ → (ApplicationType in { 'New credit' }) ✅",
           5845,
           2392653.2056912784
          ],
          [
           "(CreditScore >= 600) ❌ → (RequestedAmount >= 10000) ❌ → (RequestedAmount < 15000) ✅ → (ApplicationType in { 'New credit' }) ✅",
           5392,
           2268615.627375046
          ]
         ],
         "hovertemplate": "<b>%{customdata[0]}</b><br>Cases: %{customdata[1]:,}<br>Avg Duration (s): %{customdata[2]:.2f}<extra></extra>",
         "labels": [
          "2,461 cases (9%)",
          "7,288 cases (26%)",
          "4,976 cases (18%)",
          "2,158 cases (8%)",
          "5,845 cases (21%)",
          "5,392 cases (19%)"
         ],
         "marker": {
          "colors": [
           "rgb(230, 240, 250)",
           "rgb(137, 191, 221)",
           "rgb(247, 251, 255)",
           "rgb(8, 81, 156)",
           "rgb(8, 48, 107)",
           "rgb(15, 90, 163)"
          ]
         },
         "textinfo": "label",
         "type": "pie",
         "values": {
          "bdata": "nQl4HHATbgjVFhAV",
          "dtype": "i2"
         }
        },
        {
         "hoverinfo": "none",
         "marker": {
          "cmax": 2392653.2056912784,
          "cmin": 1625787.7960035705,
          "color": [
           1625787.7960035705
          ],
          "colorbar": {
           "len": 0.8,
           "thickness": 15,
           "title": {
            "text": "Avg Duration (s)"
           }
          },
          "colorscale": [
           [
            0,
            "rgb(247,251,255)"
           ],
           [
            0.125,
            "rgb(222,235,247)"
           ],
           [
            0.25,
            "rgb(198,219,239)"
           ],
           [
            0.375,
            "rgb(158,202,225)"
           ],
           [
            0.5,
            "rgb(107,174,214)"
           ],
           [
            0.625,
            "rgb(66,146,198)"
           ],
           [
            0.75,
            "rgb(33,113,181)"
           ],
           [
            0.875,
            "rgb(8,81,156)"
           ],
           [
            1,
            "rgb(8,48,107)"
           ]
          ],
          "showscale": true
         },
         "mode": "markers",
         "showlegend": false,
         "type": "scatter",
         "x": [
          null
         ],
         "y": [
          null
         ]
        }
       ],
       "layout": {
        "height": 700,
        "paper_bgcolor": "white",
        "plot_bgcolor": "white",
        "showlegend": false,
        "template": {
         "data": {
          "bar": [
           {
            "error_x": {
             "color": "#2a3f5f"
            },
            "error_y": {
             "color": "#2a3f5f"
            },
            "marker": {
             "line": {
              "color": "#E5ECF6",
              "width": 0.5
             },
             "pattern": {
              "fillmode": "overlay",
              "size": 10,
              "solidity": 0.2
             }
            },
            "type": "bar"
           }
          ],
          "barpolar": [
           {
            "marker": {
             "line": {
              "color": "#E5ECF6",
              "width": 0.5
             },
             "pattern": {
              "fillmode": "overlay",
              "size": 10,
              "solidity": 0.2
             }
            },
            "type": "barpolar"
           }
          ],
          "carpet": [
           {
            "aaxis": {
             "endlinecolor": "#2a3f5f",
             "gridcolor": "white",
             "linecolor": "white",
             "minorgridcolor": "white",
             "startlinecolor": "#2a3f5f"
            },
            "baxis": {
             "endlinecolor": "#2a3f5f",
             "gridcolor": "white",
             "linecolor": "white",
             "minorgridcolor": "white",
             "startlinecolor": "#2a3f5f"
            },
            "type": "carpet"
           }
          ],
          "choropleth": [
           {
            "colorbar": {
             "outlinewidth": 0,
             "ticks": ""
            },
            "type": "choropleth"
           }
          ],
          "contour": [
           {
            "colorbar": {
             "outlinewidth": 0,
             "ticks": ""
            },
            "colorscale": [
             [
              0,
              "#0d0887"
             ],
             [
              0.1111111111111111,
              "#46039f"
             ],
             [
              0.2222222222222222,
              "#7201a8"
             ],
             [
              0.3333333333333333,
              "#9c179e"
             ],
             [
              0.4444444444444444,
              "#bd3786"
             ],
             [
              0.5555555555555556,
              "#d8576b"
             ],
             [
              0.6666666666666666,
              "#ed7953"
             ],
             [
              0.7777777777777778,
              "#fb9f3a"
             ],
             [
              0.8888888888888888,
              "#fdca26"
             ],
             [
              1,
              "#f0f921"
             ]
            ],
            "type": "contour"
           }
          ],
          "contourcarpet": [
           {
            "colorbar": {
             "outlinewidth": 0,
             "ticks": ""
            },
            "type": "contourcarpet"
           }
          ],
          "heatmap": [
           {
            "colorbar": {
             "outlinewidth": 0,
             "ticks": ""
            },
            "colorscale": [
             [
              0,
              "#0d0887"
             ],
             [
              0.1111111111111111,
              "#46039f"
             ],
             [
              0.2222222222222222,
              "#7201a8"
             ],
             [
              0.3333333333333333,
              "#9c179e"
             ],
             [
              0.4444444444444444,
              "#bd3786"
             ],
             [
              0.5555555555555556,
              "#d8576b"
             ],
             [
              0.6666666666666666,
              "#ed7953"
             ],
             [
              0.7777777777777778,
              "#fb9f3a"
             ],
             [
              0.8888888888888888,
              "#fdca26"
             ],
             [
              1,
              "#f0f921"
             ]
            ],
            "type": "heatmap"
           }
          ],
          "histogram": [
           {
            "marker": {
             "pattern": {
              "fillmode": "overlay",
              "size": 10,
              "solidity": 0.2
             }
            },
            "type": "histogram"
           }
          ],
          "histogram2d": [
           {
            "colorbar": {
             "outlinewidth": 0,
             "ticks": ""
            },
            "colorscale": [
             [
              0,
              "#0d0887"
             ],
             [
              0.1111111111111111,
              "#46039f"
             ],
             [
              0.2222222222222222,
              "#7201a8"
             ],
             [
              0.3333333333333333,
              "#9c179e"
             ],
             [
              0.4444444444444444,
              "#bd3786"
             ],
             [
              0.5555555555555556,
              "#d8576b"
             ],
             [
              0.6666666666666666,
              "#ed7953"
             ],
             [
              0.7777777777777778,
              "#fb9f3a"
             ],
             [
              0.8888888888888888,
              "#fdca26"
             ],
             [
              1,
              "#f0f921"
             ]
            ],
            "type": "histogram2d"
           }
          ],
          "histogram2dcontour": [
           {
            "colorbar": {
             "outlinewidth": 0,
             "ticks": ""
            },
            "colorscale": [
             [
              0,
              "#0d0887"
             ],
             [
              0.1111111111111111,
              "#46039f"
             ],
             [
              0.2222222222222222,
              "#7201a8"
             ],
             [
              0.3333333333333333,
              "#9c179e"
             ],
             [
              0.4444444444444444,
              "#bd3786"
             ],
             [
              0.5555555555555556,
              "#d8576b"
             ],
             [
              0.6666666666666666,
              "#ed7953"
             ],
             [
              0.7777777777777778,
              "#fb9f3a"
             ],
             [
              0.8888888888888888,
              "#fdca26"
             ],
             [
              1,
              "#f0f921"
             ]
            ],
            "type": "histogram2dcontour"
           }
          ],
          "mesh3d": [
           {
            "colorbar": {
             "outlinewidth": 0,
             "ticks": ""
            },
            "type": "mesh3d"
           }
          ],
          "parcoords": [
           {
            "line": {
             "colorbar": {
              "outlinewidth": 0,
              "ticks": ""
             }
            },
            "type": "parcoords"
           }
          ],
          "pie": [
           {
            "automargin": true,
            "type": "pie"
           }
          ],
          "scatter": [
           {
            "fillpattern": {
             "fillmode": "overlay",
             "size": 10,
             "solidity": 0.2
            },
            "type": "scatter"
           }
          ],
          "scatter3d": [
           {
            "line": {
             "colorbar": {
              "outlinewidth": 0,
              "ticks": ""
             }
            },
            "marker": {
             "colorbar": {
              "outlinewidth": 0,
              "ticks": ""
             }
            },
            "type": "scatter3d"
           }
          ],
          "scattercarpet": [
           {
            "marker": {
             "colorbar": {
              "outlinewidth": 0,
              "ticks": ""
             }
            },
            "type": "scattercarpet"
           }
          ],
          "scattergeo": [
           {
            "marker": {
             "colorbar": {
              "outlinewidth": 0,
              "ticks": ""
             }
            },
            "type": "scattergeo"
           }
          ],
          "scattergl": [
           {
            "marker": {
             "colorbar": {
              "outlinewidth": 0,
              "ticks": ""
             }
            },
            "type": "scattergl"
           }
          ],
          "scattermap": [
           {
            "marker": {
             "colorbar": {
              "outlinewidth": 0,
              "ticks": ""
             }
            },
            "type": "scattermap"
           }
          ],
          "scattermapbox": [
           {
            "marker": {
             "colorbar": {
              "outlinewidth": 0,
              "ticks": ""
             }
            },
            "type": "scattermapbox"
           }
          ],
          "scatterpolar": [
           {
            "marker": {
             "colorbar": {
              "outlinewidth": 0,
              "ticks": ""
             }
            },
            "type": "scatterpolar"
           }
          ],
          "scatterpolargl": [
           {
            "marker": {
             "colorbar": {
              "outlinewidth": 0,
              "ticks": ""
             }
            },
            "type": "scatterpolargl"
           }
          ],
          "scatterternary": [
           {
            "marker": {
             "colorbar": {
              "outlinewidth": 0,
              "ticks": ""
             }
            },
            "type": "scatterternary"
           }
          ],
          "surface": [
           {
            "colorbar": {
             "outlinewidth": 0,
             "ticks": ""
            },
            "colorscale": [
             [
              0,
              "#0d0887"
             ],
             [
              0.1111111111111111,
              "#46039f"
             ],
             [
              0.2222222222222222,
              "#7201a8"
             ],
             [
              0.3333333333333333,
              "#9c179e"
             ],
             [
              0.4444444444444444,
              "#bd3786"
             ],
             [
              0.5555555555555556,
              "#d8576b"
             ],
             [
              0.6666666666666666,
              "#ed7953"
             ],
             [
              0.7777777777777778,
              "#fb9f3a"
             ],
             [
              0.8888888888888888,
              "#fdca26"
             ],
             [
              1,
              "#f0f921"
             ]
            ],
            "type": "surface"
           }
          ],
          "table": [
           {
            "cells": {
             "fill": {
              "color": "#EBF0F8"
             },
             "line": {
              "color": "white"
             }
            },
            "header": {
             "fill": {
              "color": "#C8D4E3"
             },
             "line": {
              "color": "white"
             }
            },
            "type": "table"
           }
          ]
         },
         "layout": {
          "annotationdefaults": {
           "arrowcolor": "#2a3f5f",
           "arrowhead": 0,
           "arrowwidth": 1
          },
          "autotypenumbers": "strict",
          "coloraxis": {
           "colorbar": {
            "outlinewidth": 0,
            "ticks": ""
           }
          },
          "colorscale": {
           "diverging": [
            [
             0,
             "#8e0152"
            ],
            [
             0.1,
             "#c51b7d"
            ],
            [
             0.2,
             "#de77ae"
            ],
            [
             0.3,
             "#f1b6da"
            ],
            [
             0.4,
             "#fde0ef"
            ],
            [
             0.5,
             "#f7f7f7"
            ],
            [
             0.6,
             "#e6f5d0"
            ],
            [
             0.7,
             "#b8e186"
            ],
            [
             0.8,
             "#7fbc41"
            ],
            [
             0.9,
             "#4d9221"
            ],
            [
             1,
             "#276419"
            ]
           ],
           "sequential": [
            [
             0,
             "#0d0887"
            ],
            [
             0.1111111111111111,
             "#46039f"
            ],
            [
             0.2222222222222222,
             "#7201a8"
            ],
            [
             0.3333333333333333,
             "#9c179e"
            ],
            [
             0.4444444444444444,
             "#bd3786"
            ],
            [
             0.5555555555555556,
             "#d8576b"
            ],
            [
             0.6666666666666666,
             "#ed7953"
            ],
            [
             0.7777777777777778,
             "#fb9f3a"
            ],
            [
             0.8888888888888888,
             "#fdca26"
            ],
            [
             1,
             "#f0f921"
            ]
           ],
           "sequentialminus": [
            [
             0,
             "#0d0887"
            ],
            [
             0.1111111111111111,
             "#46039f"
            ],
            [
             0.2222222222222222,
             "#7201a8"
            ],
            [
             0.3333333333333333,
             "#9c179e"
            ],
            [
             0.4444444444444444,
             "#bd3786"
            ],
            [
             0.5555555555555556,
             "#d8576b"
            ],
            [
             0.6666666666666666,
             "#ed7953"
            ],
            [
             0.7777777777777778,
             "#fb9f3a"
            ],
            [
             0.8888888888888888,
             "#fdca26"
            ],
            [
             1,
             "#f0f921"
            ]
           ]
          },
          "colorway": [
           "#636efa",
           "#EF553B",
           "#00cc96",
           "#ab63fa",
           "#FFA15A",
           "#19d3f3",
           "#FF6692",
           "#B6E880",
           "#FF97FF",
           "#FECB52"
          ],
          "font": {
           "color": "#2a3f5f"
          },
          "geo": {
           "bgcolor": "white",
           "lakecolor": "white",
           "landcolor": "#E5ECF6",
           "showlakes": true,
           "showland": true,
           "subunitcolor": "white"
          },
          "hoverlabel": {
           "align": "left"
          },
          "hovermode": "closest",
          "mapbox": {
           "style": "light"
          },
          "paper_bgcolor": "white",
          "plot_bgcolor": "#E5ECF6",
          "polar": {
           "angularaxis": {
            "gridcolor": "white",
            "linecolor": "white",
            "ticks": ""
           },
           "bgcolor": "#E5ECF6",
           "radialaxis": {
            "gridcolor": "white",
            "linecolor": "white",
            "ticks": ""
           }
          },
          "scene": {
           "xaxis": {
            "backgroundcolor": "#E5ECF6",
            "gridcolor": "white",
            "gridwidth": 2,
            "linecolor": "white",
            "showbackground": true,
            "ticks": "",
            "zerolinecolor": "white"
           },
           "yaxis": {
            "backgroundcolor": "#E5ECF6",
            "gridcolor": "white",
            "gridwidth": 2,
            "linecolor": "white",
            "showbackground": true,
            "ticks": "",
            "zerolinecolor": "white"
           },
           "zaxis": {
            "backgroundcolor": "#E5ECF6",
            "gridcolor": "white",
            "gridwidth": 2,
            "linecolor": "white",
            "showbackground": true,
            "ticks": "",
            "zerolinecolor": "white"
           }
          },
          "shapedefaults": {
           "line": {
            "color": "#2a3f5f"
           }
          },
          "ternary": {
           "aaxis": {
            "gridcolor": "white",
            "linecolor": "white",
            "ticks": ""
           },
           "baxis": {
            "gridcolor": "white",
            "linecolor": "white",
            "ticks": ""
           },
           "bgcolor": "#E5ECF6",
           "caxis": {
            "gridcolor": "white",
            "linecolor": "white",
            "ticks": ""
           }
          },
          "title": {
           "x": 0.05
          },
          "xaxis": {
           "automargin": true,
           "gridcolor": "white",
           "linecolor": "white",
           "ticks": "",
           "title": {
            "standoff": 15
           },
           "zerolinecolor": "white",
           "zerolinewidth": 2
          },
          "yaxis": {
           "automargin": true,
           "gridcolor": "white",
           "linecolor": "white",
           "ticks": "",
           "title": {
            "standoff": 15
           },
           "zerolinecolor": "white",
           "zerolinewidth": 2
          }
         }
        },
        "title": {
         "text": "Breakdown of Filter: (ApplicationType in { 'New credit' })"
        },
        "width": 800,
        "xaxis": {
         "showgrid": false,
         "showticklabels": false,
         "zeroline": false
        },
        "yaxis": {
         "showgrid": false,
         "showticklabels": false,
         "zeroline": false
        }
       }
      }
     },
     "metadata": {},
     "output_type": "display_data"
    },
    {
     "name": "stdout",
     "output_type": "stream",
     "text": [
      "\n",
      "Filter Paths:\n",
      "\n",
      "- 2,461 cases (9%): (CreditScore >= 600) ✅ → (RequestedAmount >= 10000) ✅ → (RequestedAmount < 15000) ✅ → (ApplicationType in { 'New credit' }) ✅ | Avg: 1690296.09\n",
      "- 7,288 cases (26%): (CreditScore >= 600) ✅ → (RequestedAmount >= 10000) ✅ → (RequestedAmount < 15000) ❌ → (ApplicationType in { 'New credit' }) ✅ | Avg: 1952329.13\n",
      "- 4,976 cases (18%): (CreditScore >= 600) ✅ → (RequestedAmount >= 10000) ❌ → (RequestedAmount < 15000) ✅ → (ApplicationType in { 'New credit' }) ✅ | Avg: 1625787.80\n",
      "- 2,158 cases (8%): (CreditScore >= 600) ❌ → (RequestedAmount >= 10000) ✅ → (RequestedAmount < 15000) ✅ → (ApplicationType in { 'New credit' }) ✅ | Avg: 2296449.44\n",
      "- 5,845 cases (21%): (CreditScore >= 600) ❌ → (RequestedAmount >= 10000) ✅ → (RequestedAmount < 15000) ❌ → (ApplicationType in { 'New credit' }) ✅ | Avg: 2392653.21\n",
      "- 5,392 cases (19%): (CreditScore >= 600) ❌ → (RequestedAmount >= 10000) ❌ → (RequestedAmount < 15000) ✅ → (ApplicationType in { 'New credit' }) ✅ | Avg: 2268615.63\n"
     ]
    }
   ],
   "source": [
    "icicle(result_set_name='rs_IsNewCredit', metric='avg_case_duration_seconds')\n",
    "pie(\"rs_IsNewCredit\", metric=\"avg_case_duration_seconds\")"
   ]
  },
  {
   "cell_type": "code",
   "execution_count": 56,
   "id": "41c268cd",
   "metadata": {},
   "outputs": [
    {
     "data": {
      "application/vnd.plotly.v1+json": {
       "config": {
        "plotlyServerURL": "https://plot.ly"
       },
       "data": [
        {
         "branchvalues": "total",
         "customdata": [
          [
           "2,461",
           "100%",
           "46.07",
           "—",
           46.065826899634295
          ],
          [
           "68",
           "100%",
           "39.06",
           "—",
           39.05882352941177
          ],
          [
           "7,288",
           "100%",
           "47.82",
           "—",
           47.81942919868277
          ],
          [
           "267",
           "100%",
           "38.92",
           "—",
           38.91760299625468
          ],
          [
           "4,976",
           "100%",
           "44.86",
           "—",
           44.857516077170416
          ],
          [
           "178",
           "100%",
           "35.46",
           "—",
           35.46067415730337
          ],
          [
           "2,158",
           "100%",
           "29.50",
           "—",
           29.495829471733085
          ],
          [
           "351",
           "100%",
           "33.57",
           "—",
           33.566951566951566
          ],
          [
           "5,845",
           "100%",
           "30.18",
           "—",
           30.182720273738237
          ],
          [
           "1,666",
           "100%",
           "35.13",
           "—",
           35.12545018007203
          ],
          [
           "5,392",
           "100%",
           "29.42",
           "—",
           29.41580118694362
          ],
          [
           "859",
           "100%",
           "33.57",
           "—",
           33.573923166472646
          ],
          [
           "(?)",
           "100%",
           "(?)",
           "—",
           45.87742190589166
          ],
          [
           "(?)",
           "100%",
           "(?)",
           "—",
           47.504831237591
          ],
          [
           "(?)",
           "100%",
           "(?)",
           "—",
           44.53298409002716
          ],
          [
           "(?)",
           "100%",
           "(?)",
           "—",
           30.065364687126344
          ],
          [
           "(?)",
           "100%",
           "(?)",
           "—",
           31.27905738250566
          ],
          [
           "(?)",
           "100%",
           "(?)",
           "—",
           29.987202047672373
          ],
          [
           "(?)",
           "100%",
           "(?)",
           "—",
           47.09668782229274
          ],
          [
           "(?)",
           "100%",
           "(?)",
           "—",
           44.53298409002716
          ],
          [
           "(?)",
           "100%",
           "(?)",
           "—",
           30.975149700598802
          ],
          [
           "(?)",
           "100%",
           "(?)",
           "—",
           29.987202047672373
          ],
          [
           "(?)",
           "100%",
           "(?)",
           "—",
           46.22955768473553
          ],
          [
           "(?)",
           "100%",
           "(?)",
           "—",
           30.595599532911315
          ],
          [
           "(?)",
           "100%",
           "(?)",
           "—",
           38.15630454790695
          ]
         ],
         "domain": {
          "x": [
           0,
           1
          ],
          "y": [
           0,
           1
          ]
         },
         "hovertemplate": "<b>%{label}</b><br>Cases: %{customdata[0]}<br>Share of parent: %{customdata[1]}<br>Avg Events per Case: %{customdata[2]}<br>Δ from parent: %{customdata[3]}<extra></extra>",
         "ids": [
          "🟡 Initial Source/🟡 (CreditScore >= 600) ✔/🟡 (RequestedAmount >= 10000) ✔/🟡 (RequestedAmount < 15000) ✔/🟡 (ApplicationType in { 'New credit' }) ✔",
          "🟡 Initial Source/🟡 (CreditScore >= 600) ✔/🟡 (RequestedAmount >= 10000) ✔/🟡 (RequestedAmount < 15000) ✔/(ApplicationType in { 'New credit' }) ✘",
          "🟡 Initial Source/🟡 (CreditScore >= 600) ✔/🟡 (RequestedAmount >= 10000) ✔/(RequestedAmount < 15000) ✘/(ApplicationType in { 'New credit' }) ✔",
          "🟡 Initial Source/🟡 (CreditScore >= 600) ✔/🟡 (RequestedAmount >= 10000) ✔/(RequestedAmount < 15000) ✘/(ApplicationType in { 'New credit' }) ✘",
          "🟡 Initial Source/🟡 (CreditScore >= 600) ✔/(RequestedAmount >= 10000) ✘/(RequestedAmount < 15000) ✔/(ApplicationType in { 'New credit' }) ✔",
          "🟡 Initial Source/🟡 (CreditScore >= 600) ✔/(RequestedAmount >= 10000) ✘/(RequestedAmount < 15000) ✔/(ApplicationType in { 'New credit' }) ✘",
          "🟡 Initial Source/(CreditScore >= 600) ✘/(RequestedAmount >= 10000) ✔/(RequestedAmount < 15000) ✔/(ApplicationType in { 'New credit' }) ✔",
          "🟡 Initial Source/(CreditScore >= 600) ✘/(RequestedAmount >= 10000) ✔/(RequestedAmount < 15000) ✔/(ApplicationType in { 'New credit' }) ✘",
          "🟡 Initial Source/(CreditScore >= 600) ✘/(RequestedAmount >= 10000) ✔/(RequestedAmount < 15000) ✘/(ApplicationType in { 'New credit' }) ✔",
          "🟡 Initial Source/(CreditScore >= 600) ✘/(RequestedAmount >= 10000) ✔/(RequestedAmount < 15000) ✘/(ApplicationType in { 'New credit' }) ✘",
          "🟡 Initial Source/(CreditScore >= 600) ✘/(RequestedAmount >= 10000) ✘/(RequestedAmount < 15000) ✔/(ApplicationType in { 'New credit' }) ✔",
          "🟡 Initial Source/(CreditScore >= 600) ✘/(RequestedAmount >= 10000) ✘/(RequestedAmount < 15000) ✔/(ApplicationType in { 'New credit' }) ✘",
          "🟡 Initial Source/🟡 (CreditScore >= 600) ✔/🟡 (RequestedAmount >= 10000) ✔/🟡 (RequestedAmount < 15000) ✔",
          "🟡 Initial Source/🟡 (CreditScore >= 600) ✔/🟡 (RequestedAmount >= 10000) ✔/(RequestedAmount < 15000) ✘",
          "🟡 Initial Source/🟡 (CreditScore >= 600) ✔/(RequestedAmount >= 10000) ✘/(RequestedAmount < 15000) ✔",
          "🟡 Initial Source/(CreditScore >= 600) ✘/(RequestedAmount >= 10000) ✔/(RequestedAmount < 15000) ✔",
          "🟡 Initial Source/(CreditScore >= 600) ✘/(RequestedAmount >= 10000) ✔/(RequestedAmount < 15000) ✘",
          "🟡 Initial Source/(CreditScore >= 600) ✘/(RequestedAmount >= 10000) ✘/(RequestedAmount < 15000) ✔",
          "🟡 Initial Source/🟡 (CreditScore >= 600) ✔/🟡 (RequestedAmount >= 10000) ✔",
          "🟡 Initial Source/🟡 (CreditScore >= 600) ✔/(RequestedAmount >= 10000) ✘",
          "🟡 Initial Source/(CreditScore >= 600) ✘/(RequestedAmount >= 10000) ✔",
          "🟡 Initial Source/(CreditScore >= 600) ✘/(RequestedAmount >= 10000) ✘",
          "🟡 Initial Source/🟡 (CreditScore >= 600) ✔",
          "🟡 Initial Source/(CreditScore >= 600) ✘",
          "🟡 Initial Source"
         ],
         "labels": [
          "🟡 (ApplicationType in { 'New credit' }) ✔",
          "(ApplicationType in { 'New credit' }) ✘",
          "(ApplicationType in { 'New credit' }) ✔",
          "(ApplicationType in { 'New credit' }) ✘",
          "(ApplicationType in { 'New credit' }) ✔",
          "(ApplicationType in { 'New credit' }) ✘",
          "(ApplicationType in { 'New credit' }) ✔",
          "(ApplicationType in { 'New credit' }) ✘",
          "(ApplicationType in { 'New credit' }) ✔",
          "(ApplicationType in { 'New credit' }) ✘",
          "(ApplicationType in { 'New credit' }) ✔",
          "(ApplicationType in { 'New credit' }) ✘",
          "🟡 (RequestedAmount < 15000) ✔",
          "(RequestedAmount < 15000) ✘",
          "(RequestedAmount < 15000) ✔",
          "(RequestedAmount < 15000) ✔",
          "(RequestedAmount < 15000) ✘",
          "(RequestedAmount < 15000) ✔",
          "🟡 (RequestedAmount >= 10000) ✔",
          "(RequestedAmount >= 10000) ✘",
          "(RequestedAmount >= 10000) ✔",
          "(RequestedAmount >= 10000) ✘",
          "🟡 (CreditScore >= 600) ✔",
          "(CreditScore >= 600) ✘",
          "🟡 Initial Source"
         ],
         "marker": {
          "coloraxis": "coloraxis",
          "colors": {
           "bdata": "LZAOBG0IR0CIh4eHh4dDQHDdVA7j6EdAD9DVA3R1Q0DenjkWw21GQHzd6173ukFAj3wlru5+PUCJPHPekchAQJsFgMHGLj5A5VdiwA6QQUCTj1PycWo9QFk1d1B2yUBAoUxrXE/wRkDtuVtPnsBHQD36mdI4REZAW4V5vbsQPkC1kftNcEc/QA1M/UW5/D1Am1U9RGCMR0A9+pnSOERGQKvGKGmj+T5ADUz9Rbn8PUAHPm4lYh1HQPJdAzZ5mD5A+7yUyQEUQ0A=",
           "dtype": "f8"
          }
         },
         "name": "",
         "parents": [
          "🟡 Initial Source/🟡 (CreditScore >= 600) ✔/🟡 (RequestedAmount >= 10000) ✔/🟡 (RequestedAmount < 15000) ✔",
          "🟡 Initial Source/🟡 (CreditScore >= 600) ✔/🟡 (RequestedAmount >= 10000) ✔/🟡 (RequestedAmount < 15000) ✔",
          "🟡 Initial Source/🟡 (CreditScore >= 600) ✔/🟡 (RequestedAmount >= 10000) ✔/(RequestedAmount < 15000) ✘",
          "🟡 Initial Source/🟡 (CreditScore >= 600) ✔/🟡 (RequestedAmount >= 10000) ✔/(RequestedAmount < 15000) ✘",
          "🟡 Initial Source/🟡 (CreditScore >= 600) ✔/(RequestedAmount >= 10000) ✘/(RequestedAmount < 15000) ✔",
          "🟡 Initial Source/🟡 (CreditScore >= 600) ✔/(RequestedAmount >= 10000) ✘/(RequestedAmount < 15000) ✔",
          "🟡 Initial Source/(CreditScore >= 600) ✘/(RequestedAmount >= 10000) ✔/(RequestedAmount < 15000) ✔",
          "🟡 Initial Source/(CreditScore >= 600) ✘/(RequestedAmount >= 10000) ✔/(RequestedAmount < 15000) ✔",
          "🟡 Initial Source/(CreditScore >= 600) ✘/(RequestedAmount >= 10000) ✔/(RequestedAmount < 15000) ✘",
          "🟡 Initial Source/(CreditScore >= 600) ✘/(RequestedAmount >= 10000) ✔/(RequestedAmount < 15000) ✘",
          "🟡 Initial Source/(CreditScore >= 600) ✘/(RequestedAmount >= 10000) ✘/(RequestedAmount < 15000) ✔",
          "🟡 Initial Source/(CreditScore >= 600) ✘/(RequestedAmount >= 10000) ✘/(RequestedAmount < 15000) ✔",
          "🟡 Initial Source/🟡 (CreditScore >= 600) ✔/🟡 (RequestedAmount >= 10000) ✔",
          "🟡 Initial Source/🟡 (CreditScore >= 600) ✔/🟡 (RequestedAmount >= 10000) ✔",
          "🟡 Initial Source/🟡 (CreditScore >= 600) ✔/(RequestedAmount >= 10000) ✘",
          "🟡 Initial Source/(CreditScore >= 600) ✘/(RequestedAmount >= 10000) ✔",
          "🟡 Initial Source/(CreditScore >= 600) ✘/(RequestedAmount >= 10000) ✔",
          "🟡 Initial Source/(CreditScore >= 600) ✘/(RequestedAmount >= 10000) ✘",
          "🟡 Initial Source/🟡 (CreditScore >= 600) ✔",
          "🟡 Initial Source/🟡 (CreditScore >= 600) ✔",
          "🟡 Initial Source/(CreditScore >= 600) ✘",
          "🟡 Initial Source/(CreditScore >= 600) ✘",
          "🟡 Initial Source",
          "🟡 Initial Source",
          ""
         ],
         "type": "icicle",
         "values": {
          "bdata": "AAAAAAA6o0AAAAAAAABRQAAAAAAAeLxAAAAAAACwcEAAAAAAAHCzQAAAAAAAQGZAAAAAAADcoEAAAAAAAPB1QAAAAAAA1bZAAAAAAAAImkAAAAAAABC1QAAAAAAA2IpAAAAAAADCo0AAAAAAAIO9QAAAAAAAIrRAAAAAAACao0AAAAAAAFe9QAAAAAAAa7hAAAAAAACyw0AAAAAAACK0QAAAAAAAksNAAAAAAABruEAAAAAAAMPNQAAAAACAx89AAAAAAEDF3kA=",
          "dtype": "f8"
         }
        }
       ],
       "layout": {
        "coloraxis": {
         "colorbar": {
          "title": {
           "text": "Avg Events per Case"
          }
         },
         "colorscale": [
          [
           0,
           "rgb(255,245,240)"
          ],
          [
           0.125,
           "rgb(254,224,210)"
          ],
          [
           0.25,
           "rgb(252,187,161)"
          ],
          [
           0.375,
           "rgb(252,146,114)"
          ],
          [
           0.5,
           "rgb(251,106,74)"
          ],
          [
           0.625,
           "rgb(239,59,44)"
          ],
          [
           0.75,
           "rgb(203,24,29)"
          ],
          [
           0.875,
           "rgb(165,15,21)"
          ],
          [
           1,
           "rgb(103,0,13)"
          ]
         ]
        },
        "legend": {
         "tracegroupgap": 0
        },
        "margin": {
         "b": 0,
         "l": 0,
         "r": 0,
         "t": 40
        },
        "template": {
         "data": {
          "bar": [
           {
            "error_x": {
             "color": "#2a3f5f"
            },
            "error_y": {
             "color": "#2a3f5f"
            },
            "marker": {
             "line": {
              "color": "#E5ECF6",
              "width": 0.5
             },
             "pattern": {
              "fillmode": "overlay",
              "size": 10,
              "solidity": 0.2
             }
            },
            "type": "bar"
           }
          ],
          "barpolar": [
           {
            "marker": {
             "line": {
              "color": "#E5ECF6",
              "width": 0.5
             },
             "pattern": {
              "fillmode": "overlay",
              "size": 10,
              "solidity": 0.2
             }
            },
            "type": "barpolar"
           }
          ],
          "carpet": [
           {
            "aaxis": {
             "endlinecolor": "#2a3f5f",
             "gridcolor": "white",
             "linecolor": "white",
             "minorgridcolor": "white",
             "startlinecolor": "#2a3f5f"
            },
            "baxis": {
             "endlinecolor": "#2a3f5f",
             "gridcolor": "white",
             "linecolor": "white",
             "minorgridcolor": "white",
             "startlinecolor": "#2a3f5f"
            },
            "type": "carpet"
           }
          ],
          "choropleth": [
           {
            "colorbar": {
             "outlinewidth": 0,
             "ticks": ""
            },
            "type": "choropleth"
           }
          ],
          "contour": [
           {
            "colorbar": {
             "outlinewidth": 0,
             "ticks": ""
            },
            "colorscale": [
             [
              0,
              "#0d0887"
             ],
             [
              0.1111111111111111,
              "#46039f"
             ],
             [
              0.2222222222222222,
              "#7201a8"
             ],
             [
              0.3333333333333333,
              "#9c179e"
             ],
             [
              0.4444444444444444,
              "#bd3786"
             ],
             [
              0.5555555555555556,
              "#d8576b"
             ],
             [
              0.6666666666666666,
              "#ed7953"
             ],
             [
              0.7777777777777778,
              "#fb9f3a"
             ],
             [
              0.8888888888888888,
              "#fdca26"
             ],
             [
              1,
              "#f0f921"
             ]
            ],
            "type": "contour"
           }
          ],
          "contourcarpet": [
           {
            "colorbar": {
             "outlinewidth": 0,
             "ticks": ""
            },
            "type": "contourcarpet"
           }
          ],
          "heatmap": [
           {
            "colorbar": {
             "outlinewidth": 0,
             "ticks": ""
            },
            "colorscale": [
             [
              0,
              "#0d0887"
             ],
             [
              0.1111111111111111,
              "#46039f"
             ],
             [
              0.2222222222222222,
              "#7201a8"
             ],
             [
              0.3333333333333333,
              "#9c179e"
             ],
             [
              0.4444444444444444,
              "#bd3786"
             ],
             [
              0.5555555555555556,
              "#d8576b"
             ],
             [
              0.6666666666666666,
              "#ed7953"
             ],
             [
              0.7777777777777778,
              "#fb9f3a"
             ],
             [
              0.8888888888888888,
              "#fdca26"
             ],
             [
              1,
              "#f0f921"
             ]
            ],
            "type": "heatmap"
           }
          ],
          "histogram": [
           {
            "marker": {
             "pattern": {
              "fillmode": "overlay",
              "size": 10,
              "solidity": 0.2
             }
            },
            "type": "histogram"
           }
          ],
          "histogram2d": [
           {
            "colorbar": {
             "outlinewidth": 0,
             "ticks": ""
            },
            "colorscale": [
             [
              0,
              "#0d0887"
             ],
             [
              0.1111111111111111,
              "#46039f"
             ],
             [
              0.2222222222222222,
              "#7201a8"
             ],
             [
              0.3333333333333333,
              "#9c179e"
             ],
             [
              0.4444444444444444,
              "#bd3786"
             ],
             [
              0.5555555555555556,
              "#d8576b"
             ],
             [
              0.6666666666666666,
              "#ed7953"
             ],
             [
              0.7777777777777778,
              "#fb9f3a"
             ],
             [
              0.8888888888888888,
              "#fdca26"
             ],
             [
              1,
              "#f0f921"
             ]
            ],
            "type": "histogram2d"
           }
          ],
          "histogram2dcontour": [
           {
            "colorbar": {
             "outlinewidth": 0,
             "ticks": ""
            },
            "colorscale": [
             [
              0,
              "#0d0887"
             ],
             [
              0.1111111111111111,
              "#46039f"
             ],
             [
              0.2222222222222222,
              "#7201a8"
             ],
             [
              0.3333333333333333,
              "#9c179e"
             ],
             [
              0.4444444444444444,
              "#bd3786"
             ],
             [
              0.5555555555555556,
              "#d8576b"
             ],
             [
              0.6666666666666666,
              "#ed7953"
             ],
             [
              0.7777777777777778,
              "#fb9f3a"
             ],
             [
              0.8888888888888888,
              "#fdca26"
             ],
             [
              1,
              "#f0f921"
             ]
            ],
            "type": "histogram2dcontour"
           }
          ],
          "mesh3d": [
           {
            "colorbar": {
             "outlinewidth": 0,
             "ticks": ""
            },
            "type": "mesh3d"
           }
          ],
          "parcoords": [
           {
            "line": {
             "colorbar": {
              "outlinewidth": 0,
              "ticks": ""
             }
            },
            "type": "parcoords"
           }
          ],
          "pie": [
           {
            "automargin": true,
            "type": "pie"
           }
          ],
          "scatter": [
           {
            "fillpattern": {
             "fillmode": "overlay",
             "size": 10,
             "solidity": 0.2
            },
            "type": "scatter"
           }
          ],
          "scatter3d": [
           {
            "line": {
             "colorbar": {
              "outlinewidth": 0,
              "ticks": ""
             }
            },
            "marker": {
             "colorbar": {
              "outlinewidth": 0,
              "ticks": ""
             }
            },
            "type": "scatter3d"
           }
          ],
          "scattercarpet": [
           {
            "marker": {
             "colorbar": {
              "outlinewidth": 0,
              "ticks": ""
             }
            },
            "type": "scattercarpet"
           }
          ],
          "scattergeo": [
           {
            "marker": {
             "colorbar": {
              "outlinewidth": 0,
              "ticks": ""
             }
            },
            "type": "scattergeo"
           }
          ],
          "scattergl": [
           {
            "marker": {
             "colorbar": {
              "outlinewidth": 0,
              "ticks": ""
             }
            },
            "type": "scattergl"
           }
          ],
          "scattermap": [
           {
            "marker": {
             "colorbar": {
              "outlinewidth": 0,
              "ticks": ""
             }
            },
            "type": "scattermap"
           }
          ],
          "scattermapbox": [
           {
            "marker": {
             "colorbar": {
              "outlinewidth": 0,
              "ticks": ""
             }
            },
            "type": "scattermapbox"
           }
          ],
          "scatterpolar": [
           {
            "marker": {
             "colorbar": {
              "outlinewidth": 0,
              "ticks": ""
             }
            },
            "type": "scatterpolar"
           }
          ],
          "scatterpolargl": [
           {
            "marker": {
             "colorbar": {
              "outlinewidth": 0,
              "ticks": ""
             }
            },
            "type": "scatterpolargl"
           }
          ],
          "scatterternary": [
           {
            "marker": {
             "colorbar": {
              "outlinewidth": 0,
              "ticks": ""
             }
            },
            "type": "scatterternary"
           }
          ],
          "surface": [
           {
            "colorbar": {
             "outlinewidth": 0,
             "ticks": ""
            },
            "colorscale": [
             [
              0,
              "#0d0887"
             ],
             [
              0.1111111111111111,
              "#46039f"
             ],
             [
              0.2222222222222222,
              "#7201a8"
             ],
             [
              0.3333333333333333,
              "#9c179e"
             ],
             [
              0.4444444444444444,
              "#bd3786"
             ],
             [
              0.5555555555555556,
              "#d8576b"
             ],
             [
              0.6666666666666666,
              "#ed7953"
             ],
             [
              0.7777777777777778,
              "#fb9f3a"
             ],
             [
              0.8888888888888888,
              "#fdca26"
             ],
             [
              1,
              "#f0f921"
             ]
            ],
            "type": "surface"
           }
          ],
          "table": [
           {
            "cells": {
             "fill": {
              "color": "#EBF0F8"
             },
             "line": {
              "color": "white"
             }
            },
            "header": {
             "fill": {
              "color": "#C8D4E3"
             },
             "line": {
              "color": "white"
             }
            },
            "type": "table"
           }
          ]
         },
         "layout": {
          "annotationdefaults": {
           "arrowcolor": "#2a3f5f",
           "arrowhead": 0,
           "arrowwidth": 1
          },
          "autotypenumbers": "strict",
          "coloraxis": {
           "colorbar": {
            "outlinewidth": 0,
            "ticks": ""
           }
          },
          "colorscale": {
           "diverging": [
            [
             0,
             "#8e0152"
            ],
            [
             0.1,
             "#c51b7d"
            ],
            [
             0.2,
             "#de77ae"
            ],
            [
             0.3,
             "#f1b6da"
            ],
            [
             0.4,
             "#fde0ef"
            ],
            [
             0.5,
             "#f7f7f7"
            ],
            [
             0.6,
             "#e6f5d0"
            ],
            [
             0.7,
             "#b8e186"
            ],
            [
             0.8,
             "#7fbc41"
            ],
            [
             0.9,
             "#4d9221"
            ],
            [
             1,
             "#276419"
            ]
           ],
           "sequential": [
            [
             0,
             "#0d0887"
            ],
            [
             0.1111111111111111,
             "#46039f"
            ],
            [
             0.2222222222222222,
             "#7201a8"
            ],
            [
             0.3333333333333333,
             "#9c179e"
            ],
            [
             0.4444444444444444,
             "#bd3786"
            ],
            [
             0.5555555555555556,
             "#d8576b"
            ],
            [
             0.6666666666666666,
             "#ed7953"
            ],
            [
             0.7777777777777778,
             "#fb9f3a"
            ],
            [
             0.8888888888888888,
             "#fdca26"
            ],
            [
             1,
             "#f0f921"
            ]
           ],
           "sequentialminus": [
            [
             0,
             "#0d0887"
            ],
            [
             0.1111111111111111,
             "#46039f"
            ],
            [
             0.2222222222222222,
             "#7201a8"
            ],
            [
             0.3333333333333333,
             "#9c179e"
            ],
            [
             0.4444444444444444,
             "#bd3786"
            ],
            [
             0.5555555555555556,
             "#d8576b"
            ],
            [
             0.6666666666666666,
             "#ed7953"
            ],
            [
             0.7777777777777778,
             "#fb9f3a"
            ],
            [
             0.8888888888888888,
             "#fdca26"
            ],
            [
             1,
             "#f0f921"
            ]
           ]
          },
          "colorway": [
           "#636efa",
           "#EF553B",
           "#00cc96",
           "#ab63fa",
           "#FFA15A",
           "#19d3f3",
           "#FF6692",
           "#B6E880",
           "#FF97FF",
           "#FECB52"
          ],
          "font": {
           "color": "#2a3f5f"
          },
          "geo": {
           "bgcolor": "white",
           "lakecolor": "white",
           "landcolor": "#E5ECF6",
           "showlakes": true,
           "showland": true,
           "subunitcolor": "white"
          },
          "hoverlabel": {
           "align": "left"
          },
          "hovermode": "closest",
          "mapbox": {
           "style": "light"
          },
          "paper_bgcolor": "white",
          "plot_bgcolor": "#E5ECF6",
          "polar": {
           "angularaxis": {
            "gridcolor": "white",
            "linecolor": "white",
            "ticks": ""
           },
           "bgcolor": "#E5ECF6",
           "radialaxis": {
            "gridcolor": "white",
            "linecolor": "white",
            "ticks": ""
           }
          },
          "scene": {
           "xaxis": {
            "backgroundcolor": "#E5ECF6",
            "gridcolor": "white",
            "gridwidth": 2,
            "linecolor": "white",
            "showbackground": true,
            "ticks": "",
            "zerolinecolor": "white"
           },
           "yaxis": {
            "backgroundcolor": "#E5ECF6",
            "gridcolor": "white",
            "gridwidth": 2,
            "linecolor": "white",
            "showbackground": true,
            "ticks": "",
            "zerolinecolor": "white"
           },
           "zaxis": {
            "backgroundcolor": "#E5ECF6",
            "gridcolor": "white",
            "gridwidth": 2,
            "linecolor": "white",
            "showbackground": true,
            "ticks": "",
            "zerolinecolor": "white"
           }
          },
          "shapedefaults": {
           "line": {
            "color": "#2a3f5f"
           }
          },
          "ternary": {
           "aaxis": {
            "gridcolor": "white",
            "linecolor": "white",
            "ticks": ""
           },
           "baxis": {
            "gridcolor": "white",
            "linecolor": "white",
            "ticks": ""
           },
           "bgcolor": "#E5ECF6",
           "caxis": {
            "gridcolor": "white",
            "linecolor": "white",
            "ticks": ""
           }
          },
          "title": {
           "x": 0.05
          },
          "xaxis": {
           "automargin": true,
           "gridcolor": "white",
           "linecolor": "white",
           "ticks": "",
           "title": {
            "standoff": 15
           },
           "zerolinecolor": "white",
           "zerolinewidth": 2
          },
          "yaxis": {
           "automargin": true,
           "gridcolor": "white",
           "linecolor": "white",
           "ticks": "",
           "title": {
            "standoff": 15
           },
           "zerolinecolor": "white",
           "zerolinewidth": 2
          }
         }
        },
        "title": {
         "text": "Icicle Chart for: rs_IsNewCredit"
        }
       }
      }
     },
     "metadata": {},
     "output_type": "display_data"
    },
    {
     "name": "stdout",
     "output_type": "stream",
     "text": [
      "\n",
      "Main Analysis: 🟡 Initial Source → 🟡 (CreditScore >= 600) ✔ → 🟡 (RequestedAmount >= 10000) ✔ → 🟡 (RequestedAmount < 15000) ✔ → 🟡 (ApplicationType in { 'New credit' }) ✔\n"
     ]
    },
    {
     "data": {
      "application/vnd.plotly.v1+json": {
       "config": {
        "plotlyServerURL": "https://plot.ly"
       },
       "data": [
        {
         "customdata": [
          [
           "(CreditScore >= 600) ✅ → (RequestedAmount >= 10000) ✅ → (RequestedAmount < 15000) ✅ → (ApplicationType in { 'New credit' }) ✅",
           2461,
           50.99885329193423
          ],
          [
           "(CreditScore >= 600) ✅ → (RequestedAmount >= 10000) ✅ → (RequestedAmount < 15000) ❌ → (ApplicationType in { 'New credit' }) ✅",
           7288,
           54.12006611039058
          ],
          [
           "(CreditScore >= 600) ✅ → (RequestedAmount >= 10000) ❌ → (RequestedAmount < 15000) ✅ → (ApplicationType in { 'New credit' }) ✅",
           4976,
           50.119362397014484
          ],
          [
           "(CreditScore >= 600) ❌ → (RequestedAmount >= 10000) ✅ → (RequestedAmount < 15000) ✅ → (ApplicationType in { 'New credit' }) ✅",
           2158,
           34.302268585433296
          ],
          [
           "(CreditScore >= 600) ❌ → (RequestedAmount >= 10000) ✅ → (RequestedAmount < 15000) ❌ → (ApplicationType in { 'New credit' }) ✅",
           5845,
           36.0135587071614
          ],
          [
           "(CreditScore >= 600) ❌ → (RequestedAmount >= 10000) ❌ → (RequestedAmount < 15000) ✅ → (ApplicationType in { 'New credit' }) ✅",
           5392,
           34.8596683689553
          ]
         ],
         "hovertemplate": "<b>%{customdata[0]}</b><br>Cases: %{customdata[1]:,}<br>Avg Events/Case: %{customdata[2]:.2f}<extra></extra>",
         "labels": [
          "2,461 cases (9%)",
          "7,288 cases (26%)",
          "4,976 cases (18%)",
          "2,158 cases (8%)",
          "5,845 cases (21%)",
          "5,392 cases (19%)"
         ],
         "marker": {
          "colors": [
           "rgb(175, 17, 23)",
           "rgb(103, 0, 13)",
           "rgb(188, 21, 26)",
           "rgb(255, 245, 240)",
           "rgb(254, 230, 219)",
           "rgb(255, 240, 233)"
          ]
         },
         "textinfo": "label",
         "type": "pie",
         "values": {
          "bdata": "nQl4HHATbgjVFhAV",
          "dtype": "i2"
         }
        },
        {
         "hoverinfo": "none",
         "marker": {
          "cmax": 54.12006611039058,
          "cmin": 34.302268585433296,
          "color": [
           34.302268585433296
          ],
          "colorbar": {
           "len": 0.8,
           "thickness": 15,
           "title": {
            "text": "Avg Events/Case"
           }
          },
          "colorscale": [
           [
            0,
            "rgb(255,245,240)"
           ],
           [
            0.125,
            "rgb(254,224,210)"
           ],
           [
            0.25,
            "rgb(252,187,161)"
           ],
           [
            0.375,
            "rgb(252,146,114)"
           ],
           [
            0.5,
            "rgb(251,106,74)"
           ],
           [
            0.625,
            "rgb(239,59,44)"
           ],
           [
            0.75,
            "rgb(203,24,29)"
           ],
           [
            0.875,
            "rgb(165,15,21)"
           ],
           [
            1,
            "rgb(103,0,13)"
           ]
          ],
          "showscale": true
         },
         "mode": "markers",
         "showlegend": false,
         "type": "scatter",
         "x": [
          null
         ],
         "y": [
          null
         ]
        }
       ],
       "layout": {
        "height": 700,
        "paper_bgcolor": "white",
        "plot_bgcolor": "white",
        "showlegend": false,
        "template": {
         "data": {
          "bar": [
           {
            "error_x": {
             "color": "#2a3f5f"
            },
            "error_y": {
             "color": "#2a3f5f"
            },
            "marker": {
             "line": {
              "color": "#E5ECF6",
              "width": 0.5
             },
             "pattern": {
              "fillmode": "overlay",
              "size": 10,
              "solidity": 0.2
             }
            },
            "type": "bar"
           }
          ],
          "barpolar": [
           {
            "marker": {
             "line": {
              "color": "#E5ECF6",
              "width": 0.5
             },
             "pattern": {
              "fillmode": "overlay",
              "size": 10,
              "solidity": 0.2
             }
            },
            "type": "barpolar"
           }
          ],
          "carpet": [
           {
            "aaxis": {
             "endlinecolor": "#2a3f5f",
             "gridcolor": "white",
             "linecolor": "white",
             "minorgridcolor": "white",
             "startlinecolor": "#2a3f5f"
            },
            "baxis": {
             "endlinecolor": "#2a3f5f",
             "gridcolor": "white",
             "linecolor": "white",
             "minorgridcolor": "white",
             "startlinecolor": "#2a3f5f"
            },
            "type": "carpet"
           }
          ],
          "choropleth": [
           {
            "colorbar": {
             "outlinewidth": 0,
             "ticks": ""
            },
            "type": "choropleth"
           }
          ],
          "contour": [
           {
            "colorbar": {
             "outlinewidth": 0,
             "ticks": ""
            },
            "colorscale": [
             [
              0,
              "#0d0887"
             ],
             [
              0.1111111111111111,
              "#46039f"
             ],
             [
              0.2222222222222222,
              "#7201a8"
             ],
             [
              0.3333333333333333,
              "#9c179e"
             ],
             [
              0.4444444444444444,
              "#bd3786"
             ],
             [
              0.5555555555555556,
              "#d8576b"
             ],
             [
              0.6666666666666666,
              "#ed7953"
             ],
             [
              0.7777777777777778,
              "#fb9f3a"
             ],
             [
              0.8888888888888888,
              "#fdca26"
             ],
             [
              1,
              "#f0f921"
             ]
            ],
            "type": "contour"
           }
          ],
          "contourcarpet": [
           {
            "colorbar": {
             "outlinewidth": 0,
             "ticks": ""
            },
            "type": "contourcarpet"
           }
          ],
          "heatmap": [
           {
            "colorbar": {
             "outlinewidth": 0,
             "ticks": ""
            },
            "colorscale": [
             [
              0,
              "#0d0887"
             ],
             [
              0.1111111111111111,
              "#46039f"
             ],
             [
              0.2222222222222222,
              "#7201a8"
             ],
             [
              0.3333333333333333,
              "#9c179e"
             ],
             [
              0.4444444444444444,
              "#bd3786"
             ],
             [
              0.5555555555555556,
              "#d8576b"
             ],
             [
              0.6666666666666666,
              "#ed7953"
             ],
             [
              0.7777777777777778,
              "#fb9f3a"
             ],
             [
              0.8888888888888888,
              "#fdca26"
             ],
             [
              1,
              "#f0f921"
             ]
            ],
            "type": "heatmap"
           }
          ],
          "histogram": [
           {
            "marker": {
             "pattern": {
              "fillmode": "overlay",
              "size": 10,
              "solidity": 0.2
             }
            },
            "type": "histogram"
           }
          ],
          "histogram2d": [
           {
            "colorbar": {
             "outlinewidth": 0,
             "ticks": ""
            },
            "colorscale": [
             [
              0,
              "#0d0887"
             ],
             [
              0.1111111111111111,
              "#46039f"
             ],
             [
              0.2222222222222222,
              "#7201a8"
             ],
             [
              0.3333333333333333,
              "#9c179e"
             ],
             [
              0.4444444444444444,
              "#bd3786"
             ],
             [
              0.5555555555555556,
              "#d8576b"
             ],
             [
              0.6666666666666666,
              "#ed7953"
             ],
             [
              0.7777777777777778,
              "#fb9f3a"
             ],
             [
              0.8888888888888888,
              "#fdca26"
             ],
             [
              1,
              "#f0f921"
             ]
            ],
            "type": "histogram2d"
           }
          ],
          "histogram2dcontour": [
           {
            "colorbar": {
             "outlinewidth": 0,
             "ticks": ""
            },
            "colorscale": [
             [
              0,
              "#0d0887"
             ],
             [
              0.1111111111111111,
              "#46039f"
             ],
             [
              0.2222222222222222,
              "#7201a8"
             ],
             [
              0.3333333333333333,
              "#9c179e"
             ],
             [
              0.4444444444444444,
              "#bd3786"
             ],
             [
              0.5555555555555556,
              "#d8576b"
             ],
             [
              0.6666666666666666,
              "#ed7953"
             ],
             [
              0.7777777777777778,
              "#fb9f3a"
             ],
             [
              0.8888888888888888,
              "#fdca26"
             ],
             [
              1,
              "#f0f921"
             ]
            ],
            "type": "histogram2dcontour"
           }
          ],
          "mesh3d": [
           {
            "colorbar": {
             "outlinewidth": 0,
             "ticks": ""
            },
            "type": "mesh3d"
           }
          ],
          "parcoords": [
           {
            "line": {
             "colorbar": {
              "outlinewidth": 0,
              "ticks": ""
             }
            },
            "type": "parcoords"
           }
          ],
          "pie": [
           {
            "automargin": true,
            "type": "pie"
           }
          ],
          "scatter": [
           {
            "fillpattern": {
             "fillmode": "overlay",
             "size": 10,
             "solidity": 0.2
            },
            "type": "scatter"
           }
          ],
          "scatter3d": [
           {
            "line": {
             "colorbar": {
              "outlinewidth": 0,
              "ticks": ""
             }
            },
            "marker": {
             "colorbar": {
              "outlinewidth": 0,
              "ticks": ""
             }
            },
            "type": "scatter3d"
           }
          ],
          "scattercarpet": [
           {
            "marker": {
             "colorbar": {
              "outlinewidth": 0,
              "ticks": ""
             }
            },
            "type": "scattercarpet"
           }
          ],
          "scattergeo": [
           {
            "marker": {
             "colorbar": {
              "outlinewidth": 0,
              "ticks": ""
             }
            },
            "type": "scattergeo"
           }
          ],
          "scattergl": [
           {
            "marker": {
             "colorbar": {
              "outlinewidth": 0,
              "ticks": ""
             }
            },
            "type": "scattergl"
           }
          ],
          "scattermap": [
           {
            "marker": {
             "colorbar": {
              "outlinewidth": 0,
              "ticks": ""
             }
            },
            "type": "scattermap"
           }
          ],
          "scattermapbox": [
           {
            "marker": {
             "colorbar": {
              "outlinewidth": 0,
              "ticks": ""
             }
            },
            "type": "scattermapbox"
           }
          ],
          "scatterpolar": [
           {
            "marker": {
             "colorbar": {
              "outlinewidth": 0,
              "ticks": ""
             }
            },
            "type": "scatterpolar"
           }
          ],
          "scatterpolargl": [
           {
            "marker": {
             "colorbar": {
              "outlinewidth": 0,
              "ticks": ""
             }
            },
            "type": "scatterpolargl"
           }
          ],
          "scatterternary": [
           {
            "marker": {
             "colorbar": {
              "outlinewidth": 0,
              "ticks": ""
             }
            },
            "type": "scatterternary"
           }
          ],
          "surface": [
           {
            "colorbar": {
             "outlinewidth": 0,
             "ticks": ""
            },
            "colorscale": [
             [
              0,
              "#0d0887"
             ],
             [
              0.1111111111111111,
              "#46039f"
             ],
             [
              0.2222222222222222,
              "#7201a8"
             ],
             [
              0.3333333333333333,
              "#9c179e"
             ],
             [
              0.4444444444444444,
              "#bd3786"
             ],
             [
              0.5555555555555556,
              "#d8576b"
             ],
             [
              0.6666666666666666,
              "#ed7953"
             ],
             [
              0.7777777777777778,
              "#fb9f3a"
             ],
             [
              0.8888888888888888,
              "#fdca26"
             ],
             [
              1,
              "#f0f921"
             ]
            ],
            "type": "surface"
           }
          ],
          "table": [
           {
            "cells": {
             "fill": {
              "color": "#EBF0F8"
             },
             "line": {
              "color": "white"
             }
            },
            "header": {
             "fill": {
              "color": "#C8D4E3"
             },
             "line": {
              "color": "white"
             }
            },
            "type": "table"
           }
          ]
         },
         "layout": {
          "annotationdefaults": {
           "arrowcolor": "#2a3f5f",
           "arrowhead": 0,
           "arrowwidth": 1
          },
          "autotypenumbers": "strict",
          "coloraxis": {
           "colorbar": {
            "outlinewidth": 0,
            "ticks": ""
           }
          },
          "colorscale": {
           "diverging": [
            [
             0,
             "#8e0152"
            ],
            [
             0.1,
             "#c51b7d"
            ],
            [
             0.2,
             "#de77ae"
            ],
            [
             0.3,
             "#f1b6da"
            ],
            [
             0.4,
             "#fde0ef"
            ],
            [
             0.5,
             "#f7f7f7"
            ],
            [
             0.6,
             "#e6f5d0"
            ],
            [
             0.7,
             "#b8e186"
            ],
            [
             0.8,
             "#7fbc41"
            ],
            [
             0.9,
             "#4d9221"
            ],
            [
             1,
             "#276419"
            ]
           ],
           "sequential": [
            [
             0,
             "#0d0887"
            ],
            [
             0.1111111111111111,
             "#46039f"
            ],
            [
             0.2222222222222222,
             "#7201a8"
            ],
            [
             0.3333333333333333,
             "#9c179e"
            ],
            [
             0.4444444444444444,
             "#bd3786"
            ],
            [
             0.5555555555555556,
             "#d8576b"
            ],
            [
             0.6666666666666666,
             "#ed7953"
            ],
            [
             0.7777777777777778,
             "#fb9f3a"
            ],
            [
             0.8888888888888888,
             "#fdca26"
            ],
            [
             1,
             "#f0f921"
            ]
           ],
           "sequentialminus": [
            [
             0,
             "#0d0887"
            ],
            [
             0.1111111111111111,
             "#46039f"
            ],
            [
             0.2222222222222222,
             "#7201a8"
            ],
            [
             0.3333333333333333,
             "#9c179e"
            ],
            [
             0.4444444444444444,
             "#bd3786"
            ],
            [
             0.5555555555555556,
             "#d8576b"
            ],
            [
             0.6666666666666666,
             "#ed7953"
            ],
            [
             0.7777777777777778,
             "#fb9f3a"
            ],
            [
             0.8888888888888888,
             "#fdca26"
            ],
            [
             1,
             "#f0f921"
            ]
           ]
          },
          "colorway": [
           "#636efa",
           "#EF553B",
           "#00cc96",
           "#ab63fa",
           "#FFA15A",
           "#19d3f3",
           "#FF6692",
           "#B6E880",
           "#FF97FF",
           "#FECB52"
          ],
          "font": {
           "color": "#2a3f5f"
          },
          "geo": {
           "bgcolor": "white",
           "lakecolor": "white",
           "landcolor": "#E5ECF6",
           "showlakes": true,
           "showland": true,
           "subunitcolor": "white"
          },
          "hoverlabel": {
           "align": "left"
          },
          "hovermode": "closest",
          "mapbox": {
           "style": "light"
          },
          "paper_bgcolor": "white",
          "plot_bgcolor": "#E5ECF6",
          "polar": {
           "angularaxis": {
            "gridcolor": "white",
            "linecolor": "white",
            "ticks": ""
           },
           "bgcolor": "#E5ECF6",
           "radialaxis": {
            "gridcolor": "white",
            "linecolor": "white",
            "ticks": ""
           }
          },
          "scene": {
           "xaxis": {
            "backgroundcolor": "#E5ECF6",
            "gridcolor": "white",
            "gridwidth": 2,
            "linecolor": "white",
            "showbackground": true,
            "ticks": "",
            "zerolinecolor": "white"
           },
           "yaxis": {
            "backgroundcolor": "#E5ECF6",
            "gridcolor": "white",
            "gridwidth": 2,
            "linecolor": "white",
            "showbackground": true,
            "ticks": "",
            "zerolinecolor": "white"
           },
           "zaxis": {
            "backgroundcolor": "#E5ECF6",
            "gridcolor": "white",
            "gridwidth": 2,
            "linecolor": "white",
            "showbackground": true,
            "ticks": "",
            "zerolinecolor": "white"
           }
          },
          "shapedefaults": {
           "line": {
            "color": "#2a3f5f"
           }
          },
          "ternary": {
           "aaxis": {
            "gridcolor": "white",
            "linecolor": "white",
            "ticks": ""
           },
           "baxis": {
            "gridcolor": "white",
            "linecolor": "white",
            "ticks": ""
           },
           "bgcolor": "#E5ECF6",
           "caxis": {
            "gridcolor": "white",
            "linecolor": "white",
            "ticks": ""
           }
          },
          "title": {
           "x": 0.05
          },
          "xaxis": {
           "automargin": true,
           "gridcolor": "white",
           "linecolor": "white",
           "ticks": "",
           "title": {
            "standoff": 15
           },
           "zerolinecolor": "white",
           "zerolinewidth": 2
          },
          "yaxis": {
           "automargin": true,
           "gridcolor": "white",
           "linecolor": "white",
           "ticks": "",
           "title": {
            "standoff": 15
           },
           "zerolinecolor": "white",
           "zerolinewidth": 2
          }
         }
        },
        "title": {
         "text": "Breakdown of Filter: (ApplicationType in { 'New credit' })"
        },
        "width": 800,
        "xaxis": {
         "showgrid": false,
         "showticklabels": false,
         "zeroline": false
        },
        "yaxis": {
         "showgrid": false,
         "showticklabels": false,
         "zeroline": false
        }
       }
      }
     },
     "metadata": {},
     "output_type": "display_data"
    },
    {
     "name": "stdout",
     "output_type": "stream",
     "text": [
      "\n",
      "Filter Paths:\n",
      "\n",
      "- 2,461 cases (9%): (CreditScore >= 600) ✅ → (RequestedAmount >= 10000) ✅ → (RequestedAmount < 15000) ✅ → (ApplicationType in { 'New credit' }) ✅ | Avg: 51.00\n",
      "- 7,288 cases (26%): (CreditScore >= 600) ✅ → (RequestedAmount >= 10000) ✅ → (RequestedAmount < 15000) ❌ → (ApplicationType in { 'New credit' }) ✅ | Avg: 54.12\n",
      "- 4,976 cases (18%): (CreditScore >= 600) ✅ → (RequestedAmount >= 10000) ❌ → (RequestedAmount < 15000) ✅ → (ApplicationType in { 'New credit' }) ✅ | Avg: 50.12\n",
      "- 2,158 cases (8%): (CreditScore >= 600) ❌ → (RequestedAmount >= 10000) ✅ → (RequestedAmount < 15000) ✅ → (ApplicationType in { 'New credit' }) ✅ | Avg: 34.30\n",
      "- 5,845 cases (21%): (CreditScore >= 600) ❌ → (RequestedAmount >= 10000) ✅ → (RequestedAmount < 15000) ❌ → (ApplicationType in { 'New credit' }) ✅ | Avg: 36.01\n",
      "- 5,392 cases (19%): (CreditScore >= 600) ❌ → (RequestedAmount >= 10000) ❌ → (RequestedAmount < 15000) ✅ → (ApplicationType in { 'New credit' }) ✅ | Avg: 34.86\n"
     ]
    }
   ],
   "source": [
    "icicle(result_set_name='rs_IsNewCredit', metric='avg_events_per_case')\n",
    "pie(\"rs_IsNewCredit\", metric=\"avg_events_per_case\")"
   ]
  },
  {
   "cell_type": "code",
   "execution_count": 57,
   "id": "1f888703",
   "metadata": {},
   "outputs": [
    {
     "data": {
      "application/vnd.plotly.v1+json": {
       "config": {
        "plotlyServerURL": "https://plot.ly"
       },
       "data": [
        {
         "branchvalues": "total",
         "customdata": [
          [
           "2,461",
           "100%",
           "0d 9h 42m",
           "—",
           34970.180817342945
          ],
          [
           "68",
           "100%",
           "0d 8h 37m",
           "—",
           31074.85999469118
          ],
          [
           "7,288",
           "100%",
           "0d 10h 37m",
           "—",
           38255.130039743824
          ],
          [
           "267",
           "100%",
           "0d 9h 31m",
           "—",
           34263.58323255805
          ],
          [
           "4,976",
           "100%",
           "0d 9h 29m",
           "—",
           34150.06342726085
          ],
          [
           "178",
           "100%",
           "0d 8h 59m",
           "—",
           32385.777749224722
          ],
          [
           "2,158",
           "100%",
           "1d 1h 9m",
           "—",
           90597.42252385635
          ],
          [
           "351",
           "100%",
           "0d 15h 0m",
           "—",
           54035.018978111104
          ],
          [
           "5,845",
           "100%",
           "1d 1h 15m",
           "—",
           90945.61541043986
          ],
          [
           "1,666",
           "100%",
           "0d 14h 43m",
           "—",
           52996.7017727623
          ],
          [
           "5,392",
           "100%",
           "1d 0h 42m",
           "—",
           88923.16640844807
          ],
          [
           "859",
           "100%",
           "0d 15h 6m",
           "—",
           54375.810466663555
          ],
          [
           "(?)",
           "100%",
           "(?)",
           "—",
           34865.44304907868
          ],
          [
           "(?)",
           "100%",
           "(?)",
           "—",
           38114.06544708749
          ],
          [
           "(?)",
           "100%",
           "(?)",
           "—",
           34089.1315586752
          ],
          [
           "(?)",
           "100%",
           "(?)",
           "—",
           85482.47487756038
          ],
          [
           "(?)",
           "100%",
           "(?)",
           "—",
           82528.24220842005
          ],
          [
           "(?)",
           "100%",
           "(?)",
           "—",
           84175.73739645114
          ],
          [
           "(?)",
           "100%",
           "(?)",
           "—",
           37299.33259855871
          ],
          [
           "(?)",
           "100%",
           "(?)",
           "—",
           34089.1315586752
          ],
          [
           "(?)",
           "100%",
           "(?)",
           "—",
           83267.97971010399
          ],
          [
           "(?)",
           "100%",
           "(?)",
           "—",
           84175.73739645114
          ],
          [
           "(?)",
           "100%",
           "(?)",
           "—",
           36213.53550185575
          ],
          [
           "(?)",
           "100%",
           "(?)",
           "—",
           83616.72246084802
          ],
          [
           "(?)",
           "100%",
           "(?)",
           "—",
           60692.168749809134
          ]
         ],
         "domain": {
          "x": [
           0,
           1
          ],
          "y": [
           0,
           1
          ]
         },
         "hovertemplate": "<b>%{label}</b><br>Cases: %{customdata[0]}<br>Share of parent: %{customdata[1]}<br>Avg Time Between Events (s): %{customdata[2]}<br>Δ from parent: %{customdata[3]}<extra></extra>",
         "ids": [
          "🟡 Initial Source/🟡 (CreditScore >= 600) ✔/🟡 (RequestedAmount >= 10000) ✔/🟡 (RequestedAmount < 15000) ✔/🟡 (ApplicationType in { 'New credit' }) ✔",
          "🟡 Initial Source/🟡 (CreditScore >= 600) ✔/🟡 (RequestedAmount >= 10000) ✔/🟡 (RequestedAmount < 15000) ✔/(ApplicationType in { 'New credit' }) ✘",
          "🟡 Initial Source/🟡 (CreditScore >= 600) ✔/🟡 (RequestedAmount >= 10000) ✔/(RequestedAmount < 15000) ✘/(ApplicationType in { 'New credit' }) ✔",
          "🟡 Initial Source/🟡 (CreditScore >= 600) ✔/🟡 (RequestedAmount >= 10000) ✔/(RequestedAmount < 15000) ✘/(ApplicationType in { 'New credit' }) ✘",
          "🟡 Initial Source/🟡 (CreditScore >= 600) ✔/(RequestedAmount >= 10000) ✘/(RequestedAmount < 15000) ✔/(ApplicationType in { 'New credit' }) ✔",
          "🟡 Initial Source/🟡 (CreditScore >= 600) ✔/(RequestedAmount >= 10000) ✘/(RequestedAmount < 15000) ✔/(ApplicationType in { 'New credit' }) ✘",
          "🟡 Initial Source/(CreditScore >= 600) ✘/(RequestedAmount >= 10000) ✔/(RequestedAmount < 15000) ✔/(ApplicationType in { 'New credit' }) ✔",
          "🟡 Initial Source/(CreditScore >= 600) ✘/(RequestedAmount >= 10000) ✔/(RequestedAmount < 15000) ✔/(ApplicationType in { 'New credit' }) ✘",
          "🟡 Initial Source/(CreditScore >= 600) ✘/(RequestedAmount >= 10000) ✔/(RequestedAmount < 15000) ✘/(ApplicationType in { 'New credit' }) ✔",
          "🟡 Initial Source/(CreditScore >= 600) ✘/(RequestedAmount >= 10000) ✔/(RequestedAmount < 15000) ✘/(ApplicationType in { 'New credit' }) ✘",
          "🟡 Initial Source/(CreditScore >= 600) ✘/(RequestedAmount >= 10000) ✘/(RequestedAmount < 15000) ✔/(ApplicationType in { 'New credit' }) ✔",
          "🟡 Initial Source/(CreditScore >= 600) ✘/(RequestedAmount >= 10000) ✘/(RequestedAmount < 15000) ✔/(ApplicationType in { 'New credit' }) ✘",
          "🟡 Initial Source/🟡 (CreditScore >= 600) ✔/🟡 (RequestedAmount >= 10000) ✔/🟡 (RequestedAmount < 15000) ✔",
          "🟡 Initial Source/🟡 (CreditScore >= 600) ✔/🟡 (RequestedAmount >= 10000) ✔/(RequestedAmount < 15000) ✘",
          "🟡 Initial Source/🟡 (CreditScore >= 600) ✔/(RequestedAmount >= 10000) ✘/(RequestedAmount < 15000) ✔",
          "🟡 Initial Source/(CreditScore >= 600) ✘/(RequestedAmount >= 10000) ✔/(RequestedAmount < 15000) ✔",
          "🟡 Initial Source/(CreditScore >= 600) ✘/(RequestedAmount >= 10000) ✔/(RequestedAmount < 15000) ✘",
          "🟡 Initial Source/(CreditScore >= 600) ✘/(RequestedAmount >= 10000) ✘/(RequestedAmount < 15000) ✔",
          "🟡 Initial Source/🟡 (CreditScore >= 600) ✔/🟡 (RequestedAmount >= 10000) ✔",
          "🟡 Initial Source/🟡 (CreditScore >= 600) ✔/(RequestedAmount >= 10000) ✘",
          "🟡 Initial Source/(CreditScore >= 600) ✘/(RequestedAmount >= 10000) ✔",
          "🟡 Initial Source/(CreditScore >= 600) ✘/(RequestedAmount >= 10000) ✘",
          "🟡 Initial Source/🟡 (CreditScore >= 600) ✔",
          "🟡 Initial Source/(CreditScore >= 600) ✘",
          "🟡 Initial Source"
         ],
         "labels": [
          "🟡 (ApplicationType in { 'New credit' }) ✔",
          "(ApplicationType in { 'New credit' }) ✘",
          "(ApplicationType in { 'New credit' }) ✔",
          "(ApplicationType in { 'New credit' }) ✘",
          "(ApplicationType in { 'New credit' }) ✔",
          "(ApplicationType in { 'New credit' }) ✘",
          "(ApplicationType in { 'New credit' }) ✔",
          "(ApplicationType in { 'New credit' }) ✘",
          "(ApplicationType in { 'New credit' }) ✔",
          "(ApplicationType in { 'New credit' }) ✘",
          "(ApplicationType in { 'New credit' }) ✔",
          "(ApplicationType in { 'New credit' }) ✘",
          "🟡 (RequestedAmount < 15000) ✔",
          "(RequestedAmount < 15000) ✘",
          "(RequestedAmount < 15000) ✔",
          "(RequestedAmount < 15000) ✔",
          "(RequestedAmount < 15000) ✘",
          "(RequestedAmount < 15000) ✔",
          "🟡 (RequestedAmount >= 10000) ✔",
          "(RequestedAmount >= 10000) ✘",
          "(RequestedAmount >= 10000) ✔",
          "(RequestedAmount >= 10000) ✘",
          "🟡 (CreditScore >= 600) ✔",
          "(CreditScore >= 600) ✘",
          "🟡 Initial Source"
         ],
         "marker": {
          "coloraxis": "coloraxis",
          "colors": {
           "bdata": "0HNByUUT4UBXLCcKt1jeQN0bSSnkreJAWVPXqfK64EBhm5gHwqzgQCuvpMZxoN9ADWCowlYe9kDR+3ebYGLqQA2euNgZNPZA6ibsdJbg6UCk55upsrX1QM/IV+/5jOpA70J1LS4G4UCMfSQYQpziQPCJujUkpeBAdzYZmafe9ECv7xXgAyb0QJ04YMz7jPRAi7ulpGo24kDwibo1JKXgQIOA5Kw/VPRAnThgzPuM9ECtydQisa7hQC4bM48LavRA7v9lZoWi7UA=",
           "dtype": "f8"
          }
         },
         "name": "",
         "parents": [
          "🟡 Initial Source/🟡 (CreditScore >= 600) ✔/🟡 (RequestedAmount >= 10000) ✔/🟡 (RequestedAmount < 15000) ✔",
          "🟡 Initial Source/🟡 (CreditScore >= 600) ✔/🟡 (RequestedAmount >= 10000) ✔/🟡 (RequestedAmount < 15000) ✔",
          "🟡 Initial Source/🟡 (CreditScore >= 600) ✔/🟡 (RequestedAmount >= 10000) ✔/(RequestedAmount < 15000) ✘",
          "🟡 Initial Source/🟡 (CreditScore >= 600) ✔/🟡 (RequestedAmount >= 10000) ✔/(RequestedAmount < 15000) ✘",
          "🟡 Initial Source/🟡 (CreditScore >= 600) ✔/(RequestedAmount >= 10000) ✘/(RequestedAmount < 15000) ✔",
          "🟡 Initial Source/🟡 (CreditScore >= 600) ✔/(RequestedAmount >= 10000) ✘/(RequestedAmount < 15000) ✔",
          "🟡 Initial Source/(CreditScore >= 600) ✘/(RequestedAmount >= 10000) ✔/(RequestedAmount < 15000) ✔",
          "🟡 Initial Source/(CreditScore >= 600) ✘/(RequestedAmount >= 10000) ✔/(RequestedAmount < 15000) ✔",
          "🟡 Initial Source/(CreditScore >= 600) ✘/(RequestedAmount >= 10000) ✔/(RequestedAmount < 15000) ✘",
          "🟡 Initial Source/(CreditScore >= 600) ✘/(RequestedAmount >= 10000) ✔/(RequestedAmount < 15000) ✘",
          "🟡 Initial Source/(CreditScore >= 600) ✘/(RequestedAmount >= 10000) ✘/(RequestedAmount < 15000) ✔",
          "🟡 Initial Source/(CreditScore >= 600) ✘/(RequestedAmount >= 10000) ✘/(RequestedAmount < 15000) ✔",
          "🟡 Initial Source/🟡 (CreditScore >= 600) ✔/🟡 (RequestedAmount >= 10000) ✔",
          "🟡 Initial Source/🟡 (CreditScore >= 600) ✔/🟡 (RequestedAmount >= 10000) ✔",
          "🟡 Initial Source/🟡 (CreditScore >= 600) ✔/(RequestedAmount >= 10000) ✘",
          "🟡 Initial Source/(CreditScore >= 600) ✘/(RequestedAmount >= 10000) ✔",
          "🟡 Initial Source/(CreditScore >= 600) ✘/(RequestedAmount >= 10000) ✔",
          "🟡 Initial Source/(CreditScore >= 600) ✘/(RequestedAmount >= 10000) ✘",
          "🟡 Initial Source/🟡 (CreditScore >= 600) ✔",
          "🟡 Initial Source/🟡 (CreditScore >= 600) ✔",
          "🟡 Initial Source/(CreditScore >= 600) ✘",
          "🟡 Initial Source/(CreditScore >= 600) ✘",
          "🟡 Initial Source",
          "🟡 Initial Source",
          ""
         ],
         "type": "icicle",
         "values": {
          "bdata": "AAAAAAA6o0AAAAAAAABRQAAAAAAAeLxAAAAAAACwcEAAAAAAAHCzQAAAAAAAQGZAAAAAAADcoEAAAAAAAPB1QAAAAAAA1bZAAAAAAAAImkAAAAAAABC1QAAAAAAA2IpAAAAAAADCo0AAAAAAAIO9QAAAAAAAIrRAAAAAAACao0AAAAAAAFe9QAAAAAAAa7hAAAAAAACyw0AAAAAAACK0QAAAAAAAksNAAAAAAABruEAAAAAAAMPNQAAAAACAx89AAAAAAEDF3kA=",
          "dtype": "f8"
         }
        }
       ],
       "layout": {
        "coloraxis": {
         "colorbar": {
          "title": {
           "text": "Avg Time Between Events (s)"
          }
         },
         "colorscale": [
          [
           0,
           "rgb(247,252,245)"
          ],
          [
           0.125,
           "rgb(229,245,224)"
          ],
          [
           0.25,
           "rgb(199,233,192)"
          ],
          [
           0.375,
           "rgb(161,217,155)"
          ],
          [
           0.5,
           "rgb(116,196,118)"
          ],
          [
           0.625,
           "rgb(65,171,93)"
          ],
          [
           0.75,
           "rgb(35,139,69)"
          ],
          [
           0.875,
           "rgb(0,109,44)"
          ],
          [
           1,
           "rgb(0,68,27)"
          ]
         ]
        },
        "legend": {
         "tracegroupgap": 0
        },
        "margin": {
         "b": 0,
         "l": 0,
         "r": 0,
         "t": 40
        },
        "template": {
         "data": {
          "bar": [
           {
            "error_x": {
             "color": "#2a3f5f"
            },
            "error_y": {
             "color": "#2a3f5f"
            },
            "marker": {
             "line": {
              "color": "#E5ECF6",
              "width": 0.5
             },
             "pattern": {
              "fillmode": "overlay",
              "size": 10,
              "solidity": 0.2
             }
            },
            "type": "bar"
           }
          ],
          "barpolar": [
           {
            "marker": {
             "line": {
              "color": "#E5ECF6",
              "width": 0.5
             },
             "pattern": {
              "fillmode": "overlay",
              "size": 10,
              "solidity": 0.2
             }
            },
            "type": "barpolar"
           }
          ],
          "carpet": [
           {
            "aaxis": {
             "endlinecolor": "#2a3f5f",
             "gridcolor": "white",
             "linecolor": "white",
             "minorgridcolor": "white",
             "startlinecolor": "#2a3f5f"
            },
            "baxis": {
             "endlinecolor": "#2a3f5f",
             "gridcolor": "white",
             "linecolor": "white",
             "minorgridcolor": "white",
             "startlinecolor": "#2a3f5f"
            },
            "type": "carpet"
           }
          ],
          "choropleth": [
           {
            "colorbar": {
             "outlinewidth": 0,
             "ticks": ""
            },
            "type": "choropleth"
           }
          ],
          "contour": [
           {
            "colorbar": {
             "outlinewidth": 0,
             "ticks": ""
            },
            "colorscale": [
             [
              0,
              "#0d0887"
             ],
             [
              0.1111111111111111,
              "#46039f"
             ],
             [
              0.2222222222222222,
              "#7201a8"
             ],
             [
              0.3333333333333333,
              "#9c179e"
             ],
             [
              0.4444444444444444,
              "#bd3786"
             ],
             [
              0.5555555555555556,
              "#d8576b"
             ],
             [
              0.6666666666666666,
              "#ed7953"
             ],
             [
              0.7777777777777778,
              "#fb9f3a"
             ],
             [
              0.8888888888888888,
              "#fdca26"
             ],
             [
              1,
              "#f0f921"
             ]
            ],
            "type": "contour"
           }
          ],
          "contourcarpet": [
           {
            "colorbar": {
             "outlinewidth": 0,
             "ticks": ""
            },
            "type": "contourcarpet"
           }
          ],
          "heatmap": [
           {
            "colorbar": {
             "outlinewidth": 0,
             "ticks": ""
            },
            "colorscale": [
             [
              0,
              "#0d0887"
             ],
             [
              0.1111111111111111,
              "#46039f"
             ],
             [
              0.2222222222222222,
              "#7201a8"
             ],
             [
              0.3333333333333333,
              "#9c179e"
             ],
             [
              0.4444444444444444,
              "#bd3786"
             ],
             [
              0.5555555555555556,
              "#d8576b"
             ],
             [
              0.6666666666666666,
              "#ed7953"
             ],
             [
              0.7777777777777778,
              "#fb9f3a"
             ],
             [
              0.8888888888888888,
              "#fdca26"
             ],
             [
              1,
              "#f0f921"
             ]
            ],
            "type": "heatmap"
           }
          ],
          "histogram": [
           {
            "marker": {
             "pattern": {
              "fillmode": "overlay",
              "size": 10,
              "solidity": 0.2
             }
            },
            "type": "histogram"
           }
          ],
          "histogram2d": [
           {
            "colorbar": {
             "outlinewidth": 0,
             "ticks": ""
            },
            "colorscale": [
             [
              0,
              "#0d0887"
             ],
             [
              0.1111111111111111,
              "#46039f"
             ],
             [
              0.2222222222222222,
              "#7201a8"
             ],
             [
              0.3333333333333333,
              "#9c179e"
             ],
             [
              0.4444444444444444,
              "#bd3786"
             ],
             [
              0.5555555555555556,
              "#d8576b"
             ],
             [
              0.6666666666666666,
              "#ed7953"
             ],
             [
              0.7777777777777778,
              "#fb9f3a"
             ],
             [
              0.8888888888888888,
              "#fdca26"
             ],
             [
              1,
              "#f0f921"
             ]
            ],
            "type": "histogram2d"
           }
          ],
          "histogram2dcontour": [
           {
            "colorbar": {
             "outlinewidth": 0,
             "ticks": ""
            },
            "colorscale": [
             [
              0,
              "#0d0887"
             ],
             [
              0.1111111111111111,
              "#46039f"
             ],
             [
              0.2222222222222222,
              "#7201a8"
             ],
             [
              0.3333333333333333,
              "#9c179e"
             ],
             [
              0.4444444444444444,
              "#bd3786"
             ],
             [
              0.5555555555555556,
              "#d8576b"
             ],
             [
              0.6666666666666666,
              "#ed7953"
             ],
             [
              0.7777777777777778,
              "#fb9f3a"
             ],
             [
              0.8888888888888888,
              "#fdca26"
             ],
             [
              1,
              "#f0f921"
             ]
            ],
            "type": "histogram2dcontour"
           }
          ],
          "mesh3d": [
           {
            "colorbar": {
             "outlinewidth": 0,
             "ticks": ""
            },
            "type": "mesh3d"
           }
          ],
          "parcoords": [
           {
            "line": {
             "colorbar": {
              "outlinewidth": 0,
              "ticks": ""
             }
            },
            "type": "parcoords"
           }
          ],
          "pie": [
           {
            "automargin": true,
            "type": "pie"
           }
          ],
          "scatter": [
           {
            "fillpattern": {
             "fillmode": "overlay",
             "size": 10,
             "solidity": 0.2
            },
            "type": "scatter"
           }
          ],
          "scatter3d": [
           {
            "line": {
             "colorbar": {
              "outlinewidth": 0,
              "ticks": ""
             }
            },
            "marker": {
             "colorbar": {
              "outlinewidth": 0,
              "ticks": ""
             }
            },
            "type": "scatter3d"
           }
          ],
          "scattercarpet": [
           {
            "marker": {
             "colorbar": {
              "outlinewidth": 0,
              "ticks": ""
             }
            },
            "type": "scattercarpet"
           }
          ],
          "scattergeo": [
           {
            "marker": {
             "colorbar": {
              "outlinewidth": 0,
              "ticks": ""
             }
            },
            "type": "scattergeo"
           }
          ],
          "scattergl": [
           {
            "marker": {
             "colorbar": {
              "outlinewidth": 0,
              "ticks": ""
             }
            },
            "type": "scattergl"
           }
          ],
          "scattermap": [
           {
            "marker": {
             "colorbar": {
              "outlinewidth": 0,
              "ticks": ""
             }
            },
            "type": "scattermap"
           }
          ],
          "scattermapbox": [
           {
            "marker": {
             "colorbar": {
              "outlinewidth": 0,
              "ticks": ""
             }
            },
            "type": "scattermapbox"
           }
          ],
          "scatterpolar": [
           {
            "marker": {
             "colorbar": {
              "outlinewidth": 0,
              "ticks": ""
             }
            },
            "type": "scatterpolar"
           }
          ],
          "scatterpolargl": [
           {
            "marker": {
             "colorbar": {
              "outlinewidth": 0,
              "ticks": ""
             }
            },
            "type": "scatterpolargl"
           }
          ],
          "scatterternary": [
           {
            "marker": {
             "colorbar": {
              "outlinewidth": 0,
              "ticks": ""
             }
            },
            "type": "scatterternary"
           }
          ],
          "surface": [
           {
            "colorbar": {
             "outlinewidth": 0,
             "ticks": ""
            },
            "colorscale": [
             [
              0,
              "#0d0887"
             ],
             [
              0.1111111111111111,
              "#46039f"
             ],
             [
              0.2222222222222222,
              "#7201a8"
             ],
             [
              0.3333333333333333,
              "#9c179e"
             ],
             [
              0.4444444444444444,
              "#bd3786"
             ],
             [
              0.5555555555555556,
              "#d8576b"
             ],
             [
              0.6666666666666666,
              "#ed7953"
             ],
             [
              0.7777777777777778,
              "#fb9f3a"
             ],
             [
              0.8888888888888888,
              "#fdca26"
             ],
             [
              1,
              "#f0f921"
             ]
            ],
            "type": "surface"
           }
          ],
          "table": [
           {
            "cells": {
             "fill": {
              "color": "#EBF0F8"
             },
             "line": {
              "color": "white"
             }
            },
            "header": {
             "fill": {
              "color": "#C8D4E3"
             },
             "line": {
              "color": "white"
             }
            },
            "type": "table"
           }
          ]
         },
         "layout": {
          "annotationdefaults": {
           "arrowcolor": "#2a3f5f",
           "arrowhead": 0,
           "arrowwidth": 1
          },
          "autotypenumbers": "strict",
          "coloraxis": {
           "colorbar": {
            "outlinewidth": 0,
            "ticks": ""
           }
          },
          "colorscale": {
           "diverging": [
            [
             0,
             "#8e0152"
            ],
            [
             0.1,
             "#c51b7d"
            ],
            [
             0.2,
             "#de77ae"
            ],
            [
             0.3,
             "#f1b6da"
            ],
            [
             0.4,
             "#fde0ef"
            ],
            [
             0.5,
             "#f7f7f7"
            ],
            [
             0.6,
             "#e6f5d0"
            ],
            [
             0.7,
             "#b8e186"
            ],
            [
             0.8,
             "#7fbc41"
            ],
            [
             0.9,
             "#4d9221"
            ],
            [
             1,
             "#276419"
            ]
           ],
           "sequential": [
            [
             0,
             "#0d0887"
            ],
            [
             0.1111111111111111,
             "#46039f"
            ],
            [
             0.2222222222222222,
             "#7201a8"
            ],
            [
             0.3333333333333333,
             "#9c179e"
            ],
            [
             0.4444444444444444,
             "#bd3786"
            ],
            [
             0.5555555555555556,
             "#d8576b"
            ],
            [
             0.6666666666666666,
             "#ed7953"
            ],
            [
             0.7777777777777778,
             "#fb9f3a"
            ],
            [
             0.8888888888888888,
             "#fdca26"
            ],
            [
             1,
             "#f0f921"
            ]
           ],
           "sequentialminus": [
            [
             0,
             "#0d0887"
            ],
            [
             0.1111111111111111,
             "#46039f"
            ],
            [
             0.2222222222222222,
             "#7201a8"
            ],
            [
             0.3333333333333333,
             "#9c179e"
            ],
            [
             0.4444444444444444,
             "#bd3786"
            ],
            [
             0.5555555555555556,
             "#d8576b"
            ],
            [
             0.6666666666666666,
             "#ed7953"
            ],
            [
             0.7777777777777778,
             "#fb9f3a"
            ],
            [
             0.8888888888888888,
             "#fdca26"
            ],
            [
             1,
             "#f0f921"
            ]
           ]
          },
          "colorway": [
           "#636efa",
           "#EF553B",
           "#00cc96",
           "#ab63fa",
           "#FFA15A",
           "#19d3f3",
           "#FF6692",
           "#B6E880",
           "#FF97FF",
           "#FECB52"
          ],
          "font": {
           "color": "#2a3f5f"
          },
          "geo": {
           "bgcolor": "white",
           "lakecolor": "white",
           "landcolor": "#E5ECF6",
           "showlakes": true,
           "showland": true,
           "subunitcolor": "white"
          },
          "hoverlabel": {
           "align": "left"
          },
          "hovermode": "closest",
          "mapbox": {
           "style": "light"
          },
          "paper_bgcolor": "white",
          "plot_bgcolor": "#E5ECF6",
          "polar": {
           "angularaxis": {
            "gridcolor": "white",
            "linecolor": "white",
            "ticks": ""
           },
           "bgcolor": "#E5ECF6",
           "radialaxis": {
            "gridcolor": "white",
            "linecolor": "white",
            "ticks": ""
           }
          },
          "scene": {
           "xaxis": {
            "backgroundcolor": "#E5ECF6",
            "gridcolor": "white",
            "gridwidth": 2,
            "linecolor": "white",
            "showbackground": true,
            "ticks": "",
            "zerolinecolor": "white"
           },
           "yaxis": {
            "backgroundcolor": "#E5ECF6",
            "gridcolor": "white",
            "gridwidth": 2,
            "linecolor": "white",
            "showbackground": true,
            "ticks": "",
            "zerolinecolor": "white"
           },
           "zaxis": {
            "backgroundcolor": "#E5ECF6",
            "gridcolor": "white",
            "gridwidth": 2,
            "linecolor": "white",
            "showbackground": true,
            "ticks": "",
            "zerolinecolor": "white"
           }
          },
          "shapedefaults": {
           "line": {
            "color": "#2a3f5f"
           }
          },
          "ternary": {
           "aaxis": {
            "gridcolor": "white",
            "linecolor": "white",
            "ticks": ""
           },
           "baxis": {
            "gridcolor": "white",
            "linecolor": "white",
            "ticks": ""
           },
           "bgcolor": "#E5ECF6",
           "caxis": {
            "gridcolor": "white",
            "linecolor": "white",
            "ticks": ""
           }
          },
          "title": {
           "x": 0.05
          },
          "xaxis": {
           "automargin": true,
           "gridcolor": "white",
           "linecolor": "white",
           "ticks": "",
           "title": {
            "standoff": 15
           },
           "zerolinecolor": "white",
           "zerolinewidth": 2
          },
          "yaxis": {
           "automargin": true,
           "gridcolor": "white",
           "linecolor": "white",
           "ticks": "",
           "title": {
            "standoff": 15
           },
           "zerolinecolor": "white",
           "zerolinewidth": 2
          }
         }
        },
        "title": {
         "text": "Icicle Chart for: rs_IsNewCredit"
        }
       }
      }
     },
     "metadata": {},
     "output_type": "display_data"
    },
    {
     "name": "stdout",
     "output_type": "stream",
     "text": [
      "\n",
      "Main Analysis: 🟡 Initial Source → 🟡 (CreditScore >= 600) ✔ → 🟡 (RequestedAmount >= 10000) ✔ → 🟡 (RequestedAmount < 15000) ✔ → 🟡 (ApplicationType in { 'New credit' }) ✔\n"
     ]
    },
    {
     "data": {
      "application/vnd.plotly.v1+json": {
       "config": {
        "plotlyServerURL": "https://plot.ly"
       },
       "data": [
        {
         "customdata": [
          [
           "(CreditScore >= 600) ✅ → (RequestedAmount >= 10000) ✅ → (RequestedAmount < 15000) ✅ → (ApplicationType in { 'New credit' }) ✅",
           2461,
           34382.90341120833
          ],
          [
           "(CreditScore >= 600) ✅ → (RequestedAmount >= 10000) ✅ → (RequestedAmount < 15000) ❌ → (ApplicationType in { 'New credit' }) ✅",
           7288,
           37496.791881137084
          ],
          [
           "(CreditScore >= 600) ✅ → (RequestedAmount >= 10000) ❌ → (RequestedAmount < 15000) ✅ → (ApplicationType in { 'New credit' }) ✅",
           4976,
           33576.437701710696
          ],
          [
           "(CreditScore >= 600) ❌ → (RequestedAmount >= 10000) ✅ → (RequestedAmount < 15000) ✅ → (ApplicationType in { 'New credit' }) ✅",
           2158,
           80848.06076149485
          ],
          [
           "(CreditScore >= 600) ❌ → (RequestedAmount >= 10000) ✅ → (RequestedAmount < 15000) ❌ → (ApplicationType in { 'New credit' }) ✅",
           5845,
           80560.96912359814
          ],
          [
           "(CreditScore >= 600) ❌ → (RequestedAmount >= 10000) ❌ → (RequestedAmount < 15000) ✅ → (ApplicationType in { 'New credit' }) ✅",
           5392,
           78857.7199462804
          ]
         ],
         "hovertemplate": "<b>%{customdata[0]}</b><br>Cases: %{customdata[1]:,}<br>Avg Time Between Events (s): %{customdata[2]:.2f}<extra></extra>",
         "labels": [
          "2,461 cases (9%)",
          "7,288 cases (26%)",
          "4,976 cases (18%)",
          "2,158 cases (8%)",
          "5,845 cases (21%)",
          "5,392 cases (19%)"
         ],
         "marker": {
          "colors": [
           "rgb(245, 251, 242)",
           "rgb(235, 247, 231)",
           "rgb(247, 252, 245)",
           "rgb(0, 68, 27)",
           "rgb(0, 70, 28)",
           "rgb(0, 82, 33)"
          ]
         },
         "textinfo": "label",
         "type": "pie",
         "values": {
          "bdata": "nQl4HHATbgjVFhAV",
          "dtype": "i2"
         }
        },
        {
         "hoverinfo": "none",
         "marker": {
          "cmax": 80848.06076149485,
          "cmin": 33576.437701710696,
          "color": [
           33576.437701710696
          ],
          "colorbar": {
           "len": 0.8,
           "thickness": 15,
           "title": {
            "text": "Avg Time Between Events (s)"
           }
          },
          "colorscale": [
           [
            0,
            "rgb(247,252,245)"
           ],
           [
            0.125,
            "rgb(229,245,224)"
           ],
           [
            0.25,
            "rgb(199,233,192)"
           ],
           [
            0.375,
            "rgb(161,217,155)"
           ],
           [
            0.5,
            "rgb(116,196,118)"
           ],
           [
            0.625,
            "rgb(65,171,93)"
           ],
           [
            0.75,
            "rgb(35,139,69)"
           ],
           [
            0.875,
            "rgb(0,109,44)"
           ],
           [
            1,
            "rgb(0,68,27)"
           ]
          ],
          "showscale": true
         },
         "mode": "markers",
         "showlegend": false,
         "type": "scatter",
         "x": [
          null
         ],
         "y": [
          null
         ]
        }
       ],
       "layout": {
        "height": 700,
        "paper_bgcolor": "white",
        "plot_bgcolor": "white",
        "showlegend": false,
        "template": {
         "data": {
          "bar": [
           {
            "error_x": {
             "color": "#2a3f5f"
            },
            "error_y": {
             "color": "#2a3f5f"
            },
            "marker": {
             "line": {
              "color": "#E5ECF6",
              "width": 0.5
             },
             "pattern": {
              "fillmode": "overlay",
              "size": 10,
              "solidity": 0.2
             }
            },
            "type": "bar"
           }
          ],
          "barpolar": [
           {
            "marker": {
             "line": {
              "color": "#E5ECF6",
              "width": 0.5
             },
             "pattern": {
              "fillmode": "overlay",
              "size": 10,
              "solidity": 0.2
             }
            },
            "type": "barpolar"
           }
          ],
          "carpet": [
           {
            "aaxis": {
             "endlinecolor": "#2a3f5f",
             "gridcolor": "white",
             "linecolor": "white",
             "minorgridcolor": "white",
             "startlinecolor": "#2a3f5f"
            },
            "baxis": {
             "endlinecolor": "#2a3f5f",
             "gridcolor": "white",
             "linecolor": "white",
             "minorgridcolor": "white",
             "startlinecolor": "#2a3f5f"
            },
            "type": "carpet"
           }
          ],
          "choropleth": [
           {
            "colorbar": {
             "outlinewidth": 0,
             "ticks": ""
            },
            "type": "choropleth"
           }
          ],
          "contour": [
           {
            "colorbar": {
             "outlinewidth": 0,
             "ticks": ""
            },
            "colorscale": [
             [
              0,
              "#0d0887"
             ],
             [
              0.1111111111111111,
              "#46039f"
             ],
             [
              0.2222222222222222,
              "#7201a8"
             ],
             [
              0.3333333333333333,
              "#9c179e"
             ],
             [
              0.4444444444444444,
              "#bd3786"
             ],
             [
              0.5555555555555556,
              "#d8576b"
             ],
             [
              0.6666666666666666,
              "#ed7953"
             ],
             [
              0.7777777777777778,
              "#fb9f3a"
             ],
             [
              0.8888888888888888,
              "#fdca26"
             ],
             [
              1,
              "#f0f921"
             ]
            ],
            "type": "contour"
           }
          ],
          "contourcarpet": [
           {
            "colorbar": {
             "outlinewidth": 0,
             "ticks": ""
            },
            "type": "contourcarpet"
           }
          ],
          "heatmap": [
           {
            "colorbar": {
             "outlinewidth": 0,
             "ticks": ""
            },
            "colorscale": [
             [
              0,
              "#0d0887"
             ],
             [
              0.1111111111111111,
              "#46039f"
             ],
             [
              0.2222222222222222,
              "#7201a8"
             ],
             [
              0.3333333333333333,
              "#9c179e"
             ],
             [
              0.4444444444444444,
              "#bd3786"
             ],
             [
              0.5555555555555556,
              "#d8576b"
             ],
             [
              0.6666666666666666,
              "#ed7953"
             ],
             [
              0.7777777777777778,
              "#fb9f3a"
             ],
             [
              0.8888888888888888,
              "#fdca26"
             ],
             [
              1,
              "#f0f921"
             ]
            ],
            "type": "heatmap"
           }
          ],
          "histogram": [
           {
            "marker": {
             "pattern": {
              "fillmode": "overlay",
              "size": 10,
              "solidity": 0.2
             }
            },
            "type": "histogram"
           }
          ],
          "histogram2d": [
           {
            "colorbar": {
             "outlinewidth": 0,
             "ticks": ""
            },
            "colorscale": [
             [
              0,
              "#0d0887"
             ],
             [
              0.1111111111111111,
              "#46039f"
             ],
             [
              0.2222222222222222,
              "#7201a8"
             ],
             [
              0.3333333333333333,
              "#9c179e"
             ],
             [
              0.4444444444444444,
              "#bd3786"
             ],
             [
              0.5555555555555556,
              "#d8576b"
             ],
             [
              0.6666666666666666,
              "#ed7953"
             ],
             [
              0.7777777777777778,
              "#fb9f3a"
             ],
             [
              0.8888888888888888,
              "#fdca26"
             ],
             [
              1,
              "#f0f921"
             ]
            ],
            "type": "histogram2d"
           }
          ],
          "histogram2dcontour": [
           {
            "colorbar": {
             "outlinewidth": 0,
             "ticks": ""
            },
            "colorscale": [
             [
              0,
              "#0d0887"
             ],
             [
              0.1111111111111111,
              "#46039f"
             ],
             [
              0.2222222222222222,
              "#7201a8"
             ],
             [
              0.3333333333333333,
              "#9c179e"
             ],
             [
              0.4444444444444444,
              "#bd3786"
             ],
             [
              0.5555555555555556,
              "#d8576b"
             ],
             [
              0.6666666666666666,
              "#ed7953"
             ],
             [
              0.7777777777777778,
              "#fb9f3a"
             ],
             [
              0.8888888888888888,
              "#fdca26"
             ],
             [
              1,
              "#f0f921"
             ]
            ],
            "type": "histogram2dcontour"
           }
          ],
          "mesh3d": [
           {
            "colorbar": {
             "outlinewidth": 0,
             "ticks": ""
            },
            "type": "mesh3d"
           }
          ],
          "parcoords": [
           {
            "line": {
             "colorbar": {
              "outlinewidth": 0,
              "ticks": ""
             }
            },
            "type": "parcoords"
           }
          ],
          "pie": [
           {
            "automargin": true,
            "type": "pie"
           }
          ],
          "scatter": [
           {
            "fillpattern": {
             "fillmode": "overlay",
             "size": 10,
             "solidity": 0.2
            },
            "type": "scatter"
           }
          ],
          "scatter3d": [
           {
            "line": {
             "colorbar": {
              "outlinewidth": 0,
              "ticks": ""
             }
            },
            "marker": {
             "colorbar": {
              "outlinewidth": 0,
              "ticks": ""
             }
            },
            "type": "scatter3d"
           }
          ],
          "scattercarpet": [
           {
            "marker": {
             "colorbar": {
              "outlinewidth": 0,
              "ticks": ""
             }
            },
            "type": "scattercarpet"
           }
          ],
          "scattergeo": [
           {
            "marker": {
             "colorbar": {
              "outlinewidth": 0,
              "ticks": ""
             }
            },
            "type": "scattergeo"
           }
          ],
          "scattergl": [
           {
            "marker": {
             "colorbar": {
              "outlinewidth": 0,
              "ticks": ""
             }
            },
            "type": "scattergl"
           }
          ],
          "scattermap": [
           {
            "marker": {
             "colorbar": {
              "outlinewidth": 0,
              "ticks": ""
             }
            },
            "type": "scattermap"
           }
          ],
          "scattermapbox": [
           {
            "marker": {
             "colorbar": {
              "outlinewidth": 0,
              "ticks": ""
             }
            },
            "type": "scattermapbox"
           }
          ],
          "scatterpolar": [
           {
            "marker": {
             "colorbar": {
              "outlinewidth": 0,
              "ticks": ""
             }
            },
            "type": "scatterpolar"
           }
          ],
          "scatterpolargl": [
           {
            "marker": {
             "colorbar": {
              "outlinewidth": 0,
              "ticks": ""
             }
            },
            "type": "scatterpolargl"
           }
          ],
          "scatterternary": [
           {
            "marker": {
             "colorbar": {
              "outlinewidth": 0,
              "ticks": ""
             }
            },
            "type": "scatterternary"
           }
          ],
          "surface": [
           {
            "colorbar": {
             "outlinewidth": 0,
             "ticks": ""
            },
            "colorscale": [
             [
              0,
              "#0d0887"
             ],
             [
              0.1111111111111111,
              "#46039f"
             ],
             [
              0.2222222222222222,
              "#7201a8"
             ],
             [
              0.3333333333333333,
              "#9c179e"
             ],
             [
              0.4444444444444444,
              "#bd3786"
             ],
             [
              0.5555555555555556,
              "#d8576b"
             ],
             [
              0.6666666666666666,
              "#ed7953"
             ],
             [
              0.7777777777777778,
              "#fb9f3a"
             ],
             [
              0.8888888888888888,
              "#fdca26"
             ],
             [
              1,
              "#f0f921"
             ]
            ],
            "type": "surface"
           }
          ],
          "table": [
           {
            "cells": {
             "fill": {
              "color": "#EBF0F8"
             },
             "line": {
              "color": "white"
             }
            },
            "header": {
             "fill": {
              "color": "#C8D4E3"
             },
             "line": {
              "color": "white"
             }
            },
            "type": "table"
           }
          ]
         },
         "layout": {
          "annotationdefaults": {
           "arrowcolor": "#2a3f5f",
           "arrowhead": 0,
           "arrowwidth": 1
          },
          "autotypenumbers": "strict",
          "coloraxis": {
           "colorbar": {
            "outlinewidth": 0,
            "ticks": ""
           }
          },
          "colorscale": {
           "diverging": [
            [
             0,
             "#8e0152"
            ],
            [
             0.1,
             "#c51b7d"
            ],
            [
             0.2,
             "#de77ae"
            ],
            [
             0.3,
             "#f1b6da"
            ],
            [
             0.4,
             "#fde0ef"
            ],
            [
             0.5,
             "#f7f7f7"
            ],
            [
             0.6,
             "#e6f5d0"
            ],
            [
             0.7,
             "#b8e186"
            ],
            [
             0.8,
             "#7fbc41"
            ],
            [
             0.9,
             "#4d9221"
            ],
            [
             1,
             "#276419"
            ]
           ],
           "sequential": [
            [
             0,
             "#0d0887"
            ],
            [
             0.1111111111111111,
             "#46039f"
            ],
            [
             0.2222222222222222,
             "#7201a8"
            ],
            [
             0.3333333333333333,
             "#9c179e"
            ],
            [
             0.4444444444444444,
             "#bd3786"
            ],
            [
             0.5555555555555556,
             "#d8576b"
            ],
            [
             0.6666666666666666,
             "#ed7953"
            ],
            [
             0.7777777777777778,
             "#fb9f3a"
            ],
            [
             0.8888888888888888,
             "#fdca26"
            ],
            [
             1,
             "#f0f921"
            ]
           ],
           "sequentialminus": [
            [
             0,
             "#0d0887"
            ],
            [
             0.1111111111111111,
             "#46039f"
            ],
            [
             0.2222222222222222,
             "#7201a8"
            ],
            [
             0.3333333333333333,
             "#9c179e"
            ],
            [
             0.4444444444444444,
             "#bd3786"
            ],
            [
             0.5555555555555556,
             "#d8576b"
            ],
            [
             0.6666666666666666,
             "#ed7953"
            ],
            [
             0.7777777777777778,
             "#fb9f3a"
            ],
            [
             0.8888888888888888,
             "#fdca26"
            ],
            [
             1,
             "#f0f921"
            ]
           ]
          },
          "colorway": [
           "#636efa",
           "#EF553B",
           "#00cc96",
           "#ab63fa",
           "#FFA15A",
           "#19d3f3",
           "#FF6692",
           "#B6E880",
           "#FF97FF",
           "#FECB52"
          ],
          "font": {
           "color": "#2a3f5f"
          },
          "geo": {
           "bgcolor": "white",
           "lakecolor": "white",
           "landcolor": "#E5ECF6",
           "showlakes": true,
           "showland": true,
           "subunitcolor": "white"
          },
          "hoverlabel": {
           "align": "left"
          },
          "hovermode": "closest",
          "mapbox": {
           "style": "light"
          },
          "paper_bgcolor": "white",
          "plot_bgcolor": "#E5ECF6",
          "polar": {
           "angularaxis": {
            "gridcolor": "white",
            "linecolor": "white",
            "ticks": ""
           },
           "bgcolor": "#E5ECF6",
           "radialaxis": {
            "gridcolor": "white",
            "linecolor": "white",
            "ticks": ""
           }
          },
          "scene": {
           "xaxis": {
            "backgroundcolor": "#E5ECF6",
            "gridcolor": "white",
            "gridwidth": 2,
            "linecolor": "white",
            "showbackground": true,
            "ticks": "",
            "zerolinecolor": "white"
           },
           "yaxis": {
            "backgroundcolor": "#E5ECF6",
            "gridcolor": "white",
            "gridwidth": 2,
            "linecolor": "white",
            "showbackground": true,
            "ticks": "",
            "zerolinecolor": "white"
           },
           "zaxis": {
            "backgroundcolor": "#E5ECF6",
            "gridcolor": "white",
            "gridwidth": 2,
            "linecolor": "white",
            "showbackground": true,
            "ticks": "",
            "zerolinecolor": "white"
           }
          },
          "shapedefaults": {
           "line": {
            "color": "#2a3f5f"
           }
          },
          "ternary": {
           "aaxis": {
            "gridcolor": "white",
            "linecolor": "white",
            "ticks": ""
           },
           "baxis": {
            "gridcolor": "white",
            "linecolor": "white",
            "ticks": ""
           },
           "bgcolor": "#E5ECF6",
           "caxis": {
            "gridcolor": "white",
            "linecolor": "white",
            "ticks": ""
           }
          },
          "title": {
           "x": 0.05
          },
          "xaxis": {
           "automargin": true,
           "gridcolor": "white",
           "linecolor": "white",
           "ticks": "",
           "title": {
            "standoff": 15
           },
           "zerolinecolor": "white",
           "zerolinewidth": 2
          },
          "yaxis": {
           "automargin": true,
           "gridcolor": "white",
           "linecolor": "white",
           "ticks": "",
           "title": {
            "standoff": 15
           },
           "zerolinecolor": "white",
           "zerolinewidth": 2
          }
         }
        },
        "title": {
         "text": "Breakdown of Filter: (ApplicationType in { 'New credit' })"
        },
        "width": 800,
        "xaxis": {
         "showgrid": false,
         "showticklabels": false,
         "zeroline": false
        },
        "yaxis": {
         "showgrid": false,
         "showticklabels": false,
         "zeroline": false
        }
       }
      }
     },
     "metadata": {},
     "output_type": "display_data"
    },
    {
     "name": "stdout",
     "output_type": "stream",
     "text": [
      "\n",
      "Filter Paths:\n",
      "\n",
      "- 2,461 cases (9%): (CreditScore >= 600) ✅ → (RequestedAmount >= 10000) ✅ → (RequestedAmount < 15000) ✅ → (ApplicationType in { 'New credit' }) ✅ | Avg: 34382.90\n",
      "- 7,288 cases (26%): (CreditScore >= 600) ✅ → (RequestedAmount >= 10000) ✅ → (RequestedAmount < 15000) ❌ → (ApplicationType in { 'New credit' }) ✅ | Avg: 37496.79\n",
      "- 4,976 cases (18%): (CreditScore >= 600) ✅ → (RequestedAmount >= 10000) ❌ → (RequestedAmount < 15000) ✅ → (ApplicationType in { 'New credit' }) ✅ | Avg: 33576.44\n",
      "- 2,158 cases (8%): (CreditScore >= 600) ❌ → (RequestedAmount >= 10000) ✅ → (RequestedAmount < 15000) ✅ → (ApplicationType in { 'New credit' }) ✅ | Avg: 80848.06\n",
      "- 5,845 cases (21%): (CreditScore >= 600) ❌ → (RequestedAmount >= 10000) ✅ → (RequestedAmount < 15000) ❌ → (ApplicationType in { 'New credit' }) ✅ | Avg: 80560.97\n",
      "- 5,392 cases (19%): (CreditScore >= 600) ❌ → (RequestedAmount >= 10000) ❌ → (RequestedAmount < 15000) ✅ → (ApplicationType in { 'New credit' }) ✅ | Avg: 78857.72\n"
     ]
    }
   ],
   "source": [
    "icicle(result_set_name='rs_IsNewCredit', metric='avg_time_between_events')\n",
    "pie(\"rs_IsNewCredit\", metric=\"avg_time_between_events\")"
   ]
  }
 ],
 "metadata": {
  "kernelspec": {
   "display_name": "Python 3",
   "language": "python",
   "name": "python3"
  },
  "language_info": {
   "codemirror_mode": {
    "name": "ipython",
    "version": 3
   },
   "file_extension": ".py",
   "mimetype": "text/x-python",
   "name": "python",
   "nbconvert_exporter": "python",
   "pygments_lexer": "ipython3",
   "version": "3.10.2"
  }
 },
 "nbformat": 4,
 "nbformat_minor": 5
}
