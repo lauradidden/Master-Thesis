{
 "cells": [
  {
   "cell_type": "code",
   "execution_count": 1,
   "id": "3aa7bfd0",
   "metadata": {},
   "outputs": [],
   "source": [
    "import pandas as pd\n",
    "import plotly.express as px\n",
    "import plotly.graph_objects as go\n",
    "import matplotlib.colors as mcolors\n",
    "import networkx as nx\n",
    "import matplotlib.pyplot as plt\n",
    "from matplotlib import cm\n",
    "from matplotlib.colors import Normalize"
   ]
  },
  {
   "cell_type": "code",
   "execution_count": 2,
   "id": "fa5635a0",
   "metadata": {},
   "outputs": [],
   "source": [
    "data = {\n",
    "    \"Level1\": [\"Initial Source\"] * 12,\n",
    "    \"Level2\": [\"['GoodCredit'] ✓\"] * 6 + [\"['GoodCredit'] ✗\"] * 6,\n",
    "    \"Level3\": [\"['LoanOverThreshold'] ✓\", \"['LoanOverThreshold'] ✓\", \"['LoanOverThreshold'] ✓\", \"['LoanOverThreshold'] ✓\",\n",
    "               \"['LoanOverThreshold'] ✗\", \"['LoanOverThreshold'] ✗\", \"['LoanOverThreshold'] ✓\", \"['LoanOverThreshold'] ✓\",\n",
    "               \"['LoanOverThreshold'] ✓\", \"['LoanOverThreshold'] ✓\", \"['LoanOverThreshold'] ✗\", \"['LoanOverThreshold'] ✗\"],\n",
    "    \"Level4\": [\"['SmallAmount'] ✓\", \"['SmallAmount'] ✓\", \"['SmallAmount'] ✗\", \"['SmallAmount'] ✗\",\n",
    "               \"['SmallAmount'] ✓\", \"['SmallAmount'] ✓\", \"['SmallAmount'] ✓\", \"['SmallAmount'] ✓\",\n",
    "               \"['SmallAmount'] ✗\", \"['SmallAmount'] ✗\", \"['SmallAmount'] ✓\", \"['SmallAmount'] ✓\"],\n",
    "    \"Level5\": [\"['IsNewCredit'] ✓\", \"['IsNewCredit'] ✗\", \"['IsNewCredit'] ✓\", \"['IsNewCredit'] ✗\",\n",
    "               \"['IsNewCredit'] ✓\", \"['IsNewCredit'] ✗\", \"['IsNewCredit'] ✓\", \"['IsNewCredit'] ✗\",\n",
    "               \"['IsNewCredit'] ✓\", \"['IsNewCredit'] ✗\", \"['IsNewCredit'] ✓\", \"['IsNewCredit'] ✗\"],\n",
    "    \"num_cases\": [2461, 68, 7288, 267, 4976, 178, 2158, 351, 5845, 1666, 5392, 859],\n",
    "    \"avg_case_duration_seconds\": [\n",
    "        1548907.0, 1171228.0, 1754820.0, 1245295.0, 1472006.0, 1097686.0,\n",
    "        2294083.0, 1490905.0, 2340604.0, 1548217.0, 2230740.0, 1539130.0\n",
    "    ]\n",
    "}"
   ]
  },
  {
   "cell_type": "code",
   "execution_count": 3,
   "id": "8114be83",
   "metadata": {},
   "outputs": [
    {
     "data": {
      "application/vnd.plotly.v1+json": {
       "config": {
        "plotlyServerURL": "https://plot.ly"
       },
       "data": [
        {
         "branchvalues": "total",
         "customdata": {
          "bdata": "AAAAAGuiN0EAAAAAHN8xQQAAAADExjpBAAAAAG8AM0EAAAAABnY2QQAAAADWvzBBAAAAgKGAQUEAAAAA2b82QQAAAAB+20FBAAAAALmfN0EAAAAA6gRBQQAAAAA6fDdB5kEV7r96N0GfYyz2bIA6QUnG9GCGQzZBafHKpyylQEF60TIbN4RAQUMv+ilKS0BBlUAkk2S+OUFJxvRghkM2QcmmoNx3jEBBQy/6KUpLQEHsXr1UEpE4QRVyA4ttc0BBbD5J5fDePEE=",
          "dtype": "f8",
          "shape": "25, 1"
         },
         "domain": {
          "x": [
           0,
           1
          ],
          "y": [
           0,
           1
          ]
         },
         "hovertemplate": "labels=%{label}<br>num_cases=%{value}<br>parent=%{parent}<br>id=%{id}<br>avg_case_duration_seconds=%{color}<extra></extra>",
         "ids": [
          "Initial Source/['GoodCredit'] ✓/['LoanOverThreshold'] ✓/['SmallAmount'] ✓/['IsNewCredit'] ✓",
          "Initial Source/['GoodCredit'] ✓/['LoanOverThreshold'] ✓/['SmallAmount'] ✓/['IsNewCredit'] ✗",
          "Initial Source/['GoodCredit'] ✓/['LoanOverThreshold'] ✓/['SmallAmount'] ✗/['IsNewCredit'] ✓",
          "Initial Source/['GoodCredit'] ✓/['LoanOverThreshold'] ✓/['SmallAmount'] ✗/['IsNewCredit'] ✗",
          "Initial Source/['GoodCredit'] ✓/['LoanOverThreshold'] ✗/['SmallAmount'] ✓/['IsNewCredit'] ✓",
          "Initial Source/['GoodCredit'] ✓/['LoanOverThreshold'] ✗/['SmallAmount'] ✓/['IsNewCredit'] ✗",
          "Initial Source/['GoodCredit'] ✗/['LoanOverThreshold'] ✓/['SmallAmount'] ✓/['IsNewCredit'] ✓",
          "Initial Source/['GoodCredit'] ✗/['LoanOverThreshold'] ✓/['SmallAmount'] ✓/['IsNewCredit'] ✗",
          "Initial Source/['GoodCredit'] ✗/['LoanOverThreshold'] ✓/['SmallAmount'] ✗/['IsNewCredit'] ✓",
          "Initial Source/['GoodCredit'] ✗/['LoanOverThreshold'] ✓/['SmallAmount'] ✗/['IsNewCredit'] ✗",
          "Initial Source/['GoodCredit'] ✗/['LoanOverThreshold'] ✗/['SmallAmount'] ✓/['IsNewCredit'] ✓",
          "Initial Source/['GoodCredit'] ✗/['LoanOverThreshold'] ✗/['SmallAmount'] ✓/['IsNewCredit'] ✗",
          "Initial Source/['GoodCredit'] ✓/['LoanOverThreshold'] ✓/['SmallAmount'] ✓",
          "Initial Source/['GoodCredit'] ✓/['LoanOverThreshold'] ✓/['SmallAmount'] ✗",
          "Initial Source/['GoodCredit'] ✓/['LoanOverThreshold'] ✗/['SmallAmount'] ✓",
          "Initial Source/['GoodCredit'] ✗/['LoanOverThreshold'] ✓/['SmallAmount'] ✓",
          "Initial Source/['GoodCredit'] ✗/['LoanOverThreshold'] ✓/['SmallAmount'] ✗",
          "Initial Source/['GoodCredit'] ✗/['LoanOverThreshold'] ✗/['SmallAmount'] ✓",
          "Initial Source/['GoodCredit'] ✓/['LoanOverThreshold'] ✓",
          "Initial Source/['GoodCredit'] ✓/['LoanOverThreshold'] ✗",
          "Initial Source/['GoodCredit'] ✗/['LoanOverThreshold'] ✓",
          "Initial Source/['GoodCredit'] ✗/['LoanOverThreshold'] ✗",
          "Initial Source/['GoodCredit'] ✓",
          "Initial Source/['GoodCredit'] ✗",
          "Initial Source"
         ],
         "labels": [
          "['IsNewCredit'] ✓",
          "['IsNewCredit'] ✗",
          "['IsNewCredit'] ✓",
          "['IsNewCredit'] ✗",
          "['IsNewCredit'] ✓",
          "['IsNewCredit'] ✗",
          "['IsNewCredit'] ✓",
          "['IsNewCredit'] ✗",
          "['IsNewCredit'] ✓",
          "['IsNewCredit'] ✗",
          "['IsNewCredit'] ✓",
          "['IsNewCredit'] ✗",
          "['SmallAmount'] ✓",
          "['SmallAmount'] ✗",
          "['SmallAmount'] ✓",
          "['SmallAmount'] ✓",
          "['SmallAmount'] ✗",
          "['SmallAmount'] ✓",
          "['LoanOverThreshold'] ✓",
          "['LoanOverThreshold'] ✗",
          "['LoanOverThreshold'] ✓",
          "['LoanOverThreshold'] ✗",
          "['GoodCredit'] ✓",
          "['GoodCredit'] ✗",
          "Initial Source"
         ],
         "marker": {
          "coloraxis": "coloraxis",
          "colors": {
           "bdata": "AAAAAGuiN0EAAAAAHN8xQQAAAADExjpBAAAAAG8AM0EAAAAABnY2QQAAAADWvzBBAAAAgKGAQUEAAAAA2b82QQAAAAB+20FBAAAAALmfN0EAAAAA6gRBQQAAAAA6fDdB5kEV7r96N0GfYyz2bIA6QUnG9GCGQzZBafHKpyylQEF60TIbN4RAQUMv+ilKS0BBlUAkk2S+OUFJxvRghkM2QcmmoNx3jEBBQy/6KUpLQEHsXr1UEpE4QRVyA4ttc0BBbD5J5fDePEE=",
           "dtype": "f8"
          }
         },
         "name": "",
         "parents": [
          "Initial Source/['GoodCredit'] ✓/['LoanOverThreshold'] ✓/['SmallAmount'] ✓",
          "Initial Source/['GoodCredit'] ✓/['LoanOverThreshold'] ✓/['SmallAmount'] ✓",
          "Initial Source/['GoodCredit'] ✓/['LoanOverThreshold'] ✓/['SmallAmount'] ✗",
          "Initial Source/['GoodCredit'] ✓/['LoanOverThreshold'] ✓/['SmallAmount'] ✗",
          "Initial Source/['GoodCredit'] ✓/['LoanOverThreshold'] ✗/['SmallAmount'] ✓",
          "Initial Source/['GoodCredit'] ✓/['LoanOverThreshold'] ✗/['SmallAmount'] ✓",
          "Initial Source/['GoodCredit'] ✗/['LoanOverThreshold'] ✓/['SmallAmount'] ✓",
          "Initial Source/['GoodCredit'] ✗/['LoanOverThreshold'] ✓/['SmallAmount'] ✓",
          "Initial Source/['GoodCredit'] ✗/['LoanOverThreshold'] ✓/['SmallAmount'] ✗",
          "Initial Source/['GoodCredit'] ✗/['LoanOverThreshold'] ✓/['SmallAmount'] ✗",
          "Initial Source/['GoodCredit'] ✗/['LoanOverThreshold'] ✗/['SmallAmount'] ✓",
          "Initial Source/['GoodCredit'] ✗/['LoanOverThreshold'] ✗/['SmallAmount'] ✓",
          "Initial Source/['GoodCredit'] ✓/['LoanOverThreshold'] ✓",
          "Initial Source/['GoodCredit'] ✓/['LoanOverThreshold'] ✓",
          "Initial Source/['GoodCredit'] ✓/['LoanOverThreshold'] ✗",
          "Initial Source/['GoodCredit'] ✗/['LoanOverThreshold'] ✓",
          "Initial Source/['GoodCredit'] ✗/['LoanOverThreshold'] ✓",
          "Initial Source/['GoodCredit'] ✗/['LoanOverThreshold'] ✗",
          "Initial Source/['GoodCredit'] ✓",
          "Initial Source/['GoodCredit'] ✓",
          "Initial Source/['GoodCredit'] ✗",
          "Initial Source/['GoodCredit'] ✗",
          "Initial Source",
          "Initial Source",
          ""
         ],
         "type": "icicle",
         "values": {
          "bdata": "AAAAAAA6o0AAAAAAAABRQAAAAAAAeLxAAAAAAACwcEAAAAAAAHCzQAAAAAAAQGZAAAAAAADcoEAAAAAAAPB1QAAAAAAA1bZAAAAAAAAImkAAAAAAABC1QAAAAAAA2IpAAAAAAADCo0AAAAAAAIO9QAAAAAAAIrRAAAAAAACao0AAAAAAAFe9QAAAAAAAa7hAAAAAAACyw0AAAAAAACK0QAAAAAAAksNAAAAAAABruEAAAAAAAMPNQAAAAACAx89AAAAAAEDF3kA=",
          "dtype": "f8"
         }
        }
       ],
       "layout": {
        "coloraxis": {
         "colorbar": {
          "title": {
           "text": "avg_case_duration_seconds"
          }
         },
         "colorscale": [
          [
           0,
           "rgb(247,251,255)"
          ],
          [
           0.125,
           "rgb(222,235,247)"
          ],
          [
           0.25,
           "rgb(198,219,239)"
          ],
          [
           0.375,
           "rgb(158,202,225)"
          ],
          [
           0.5,
           "rgb(107,174,214)"
          ],
          [
           0.625,
           "rgb(66,146,198)"
          ],
          [
           0.75,
           "rgb(33,113,181)"
          ],
          [
           0.875,
           "rgb(8,81,156)"
          ],
          [
           1,
           "rgb(8,48,107)"
          ]
         ]
        },
        "legend": {
         "tracegroupgap": 0
        },
        "margin": {
         "b": 0,
         "l": 0,
         "r": 0,
         "t": 50
        },
        "template": {
         "data": {
          "bar": [
           {
            "error_x": {
             "color": "#2a3f5f"
            },
            "error_y": {
             "color": "#2a3f5f"
            },
            "marker": {
             "line": {
              "color": "#E5ECF6",
              "width": 0.5
             },
             "pattern": {
              "fillmode": "overlay",
              "size": 10,
              "solidity": 0.2
             }
            },
            "type": "bar"
           }
          ],
          "barpolar": [
           {
            "marker": {
             "line": {
              "color": "#E5ECF6",
              "width": 0.5
             },
             "pattern": {
              "fillmode": "overlay",
              "size": 10,
              "solidity": 0.2
             }
            },
            "type": "barpolar"
           }
          ],
          "carpet": [
           {
            "aaxis": {
             "endlinecolor": "#2a3f5f",
             "gridcolor": "white",
             "linecolor": "white",
             "minorgridcolor": "white",
             "startlinecolor": "#2a3f5f"
            },
            "baxis": {
             "endlinecolor": "#2a3f5f",
             "gridcolor": "white",
             "linecolor": "white",
             "minorgridcolor": "white",
             "startlinecolor": "#2a3f5f"
            },
            "type": "carpet"
           }
          ],
          "choropleth": [
           {
            "colorbar": {
             "outlinewidth": 0,
             "ticks": ""
            },
            "type": "choropleth"
           }
          ],
          "contour": [
           {
            "colorbar": {
             "outlinewidth": 0,
             "ticks": ""
            },
            "colorscale": [
             [
              0,
              "#0d0887"
             ],
             [
              0.1111111111111111,
              "#46039f"
             ],
             [
              0.2222222222222222,
              "#7201a8"
             ],
             [
              0.3333333333333333,
              "#9c179e"
             ],
             [
              0.4444444444444444,
              "#bd3786"
             ],
             [
              0.5555555555555556,
              "#d8576b"
             ],
             [
              0.6666666666666666,
              "#ed7953"
             ],
             [
              0.7777777777777778,
              "#fb9f3a"
             ],
             [
              0.8888888888888888,
              "#fdca26"
             ],
             [
              1,
              "#f0f921"
             ]
            ],
            "type": "contour"
           }
          ],
          "contourcarpet": [
           {
            "colorbar": {
             "outlinewidth": 0,
             "ticks": ""
            },
            "type": "contourcarpet"
           }
          ],
          "heatmap": [
           {
            "colorbar": {
             "outlinewidth": 0,
             "ticks": ""
            },
            "colorscale": [
             [
              0,
              "#0d0887"
             ],
             [
              0.1111111111111111,
              "#46039f"
             ],
             [
              0.2222222222222222,
              "#7201a8"
             ],
             [
              0.3333333333333333,
              "#9c179e"
             ],
             [
              0.4444444444444444,
              "#bd3786"
             ],
             [
              0.5555555555555556,
              "#d8576b"
             ],
             [
              0.6666666666666666,
              "#ed7953"
             ],
             [
              0.7777777777777778,
              "#fb9f3a"
             ],
             [
              0.8888888888888888,
              "#fdca26"
             ],
             [
              1,
              "#f0f921"
             ]
            ],
            "type": "heatmap"
           }
          ],
          "histogram": [
           {
            "marker": {
             "pattern": {
              "fillmode": "overlay",
              "size": 10,
              "solidity": 0.2
             }
            },
            "type": "histogram"
           }
          ],
          "histogram2d": [
           {
            "colorbar": {
             "outlinewidth": 0,
             "ticks": ""
            },
            "colorscale": [
             [
              0,
              "#0d0887"
             ],
             [
              0.1111111111111111,
              "#46039f"
             ],
             [
              0.2222222222222222,
              "#7201a8"
             ],
             [
              0.3333333333333333,
              "#9c179e"
             ],
             [
              0.4444444444444444,
              "#bd3786"
             ],
             [
              0.5555555555555556,
              "#d8576b"
             ],
             [
              0.6666666666666666,
              "#ed7953"
             ],
             [
              0.7777777777777778,
              "#fb9f3a"
             ],
             [
              0.8888888888888888,
              "#fdca26"
             ],
             [
              1,
              "#f0f921"
             ]
            ],
            "type": "histogram2d"
           }
          ],
          "histogram2dcontour": [
           {
            "colorbar": {
             "outlinewidth": 0,
             "ticks": ""
            },
            "colorscale": [
             [
              0,
              "#0d0887"
             ],
             [
              0.1111111111111111,
              "#46039f"
             ],
             [
              0.2222222222222222,
              "#7201a8"
             ],
             [
              0.3333333333333333,
              "#9c179e"
             ],
             [
              0.4444444444444444,
              "#bd3786"
             ],
             [
              0.5555555555555556,
              "#d8576b"
             ],
             [
              0.6666666666666666,
              "#ed7953"
             ],
             [
              0.7777777777777778,
              "#fb9f3a"
             ],
             [
              0.8888888888888888,
              "#fdca26"
             ],
             [
              1,
              "#f0f921"
             ]
            ],
            "type": "histogram2dcontour"
           }
          ],
          "mesh3d": [
           {
            "colorbar": {
             "outlinewidth": 0,
             "ticks": ""
            },
            "type": "mesh3d"
           }
          ],
          "parcoords": [
           {
            "line": {
             "colorbar": {
              "outlinewidth": 0,
              "ticks": ""
             }
            },
            "type": "parcoords"
           }
          ],
          "pie": [
           {
            "automargin": true,
            "type": "pie"
           }
          ],
          "scatter": [
           {
            "fillpattern": {
             "fillmode": "overlay",
             "size": 10,
             "solidity": 0.2
            },
            "type": "scatter"
           }
          ],
          "scatter3d": [
           {
            "line": {
             "colorbar": {
              "outlinewidth": 0,
              "ticks": ""
             }
            },
            "marker": {
             "colorbar": {
              "outlinewidth": 0,
              "ticks": ""
             }
            },
            "type": "scatter3d"
           }
          ],
          "scattercarpet": [
           {
            "marker": {
             "colorbar": {
              "outlinewidth": 0,
              "ticks": ""
             }
            },
            "type": "scattercarpet"
           }
          ],
          "scattergeo": [
           {
            "marker": {
             "colorbar": {
              "outlinewidth": 0,
              "ticks": ""
             }
            },
            "type": "scattergeo"
           }
          ],
          "scattergl": [
           {
            "marker": {
             "colorbar": {
              "outlinewidth": 0,
              "ticks": ""
             }
            },
            "type": "scattergl"
           }
          ],
          "scattermap": [
           {
            "marker": {
             "colorbar": {
              "outlinewidth": 0,
              "ticks": ""
             }
            },
            "type": "scattermap"
           }
          ],
          "scattermapbox": [
           {
            "marker": {
             "colorbar": {
              "outlinewidth": 0,
              "ticks": ""
             }
            },
            "type": "scattermapbox"
           }
          ],
          "scatterpolar": [
           {
            "marker": {
             "colorbar": {
              "outlinewidth": 0,
              "ticks": ""
             }
            },
            "type": "scatterpolar"
           }
          ],
          "scatterpolargl": [
           {
            "marker": {
             "colorbar": {
              "outlinewidth": 0,
              "ticks": ""
             }
            },
            "type": "scatterpolargl"
           }
          ],
          "scatterternary": [
           {
            "marker": {
             "colorbar": {
              "outlinewidth": 0,
              "ticks": ""
             }
            },
            "type": "scatterternary"
           }
          ],
          "surface": [
           {
            "colorbar": {
             "outlinewidth": 0,
             "ticks": ""
            },
            "colorscale": [
             [
              0,
              "#0d0887"
             ],
             [
              0.1111111111111111,
              "#46039f"
             ],
             [
              0.2222222222222222,
              "#7201a8"
             ],
             [
              0.3333333333333333,
              "#9c179e"
             ],
             [
              0.4444444444444444,
              "#bd3786"
             ],
             [
              0.5555555555555556,
              "#d8576b"
             ],
             [
              0.6666666666666666,
              "#ed7953"
             ],
             [
              0.7777777777777778,
              "#fb9f3a"
             ],
             [
              0.8888888888888888,
              "#fdca26"
             ],
             [
              1,
              "#f0f921"
             ]
            ],
            "type": "surface"
           }
          ],
          "table": [
           {
            "cells": {
             "fill": {
              "color": "#EBF0F8"
             },
             "line": {
              "color": "white"
             }
            },
            "header": {
             "fill": {
              "color": "#C8D4E3"
             },
             "line": {
              "color": "white"
             }
            },
            "type": "table"
           }
          ]
         },
         "layout": {
          "annotationdefaults": {
           "arrowcolor": "#2a3f5f",
           "arrowhead": 0,
           "arrowwidth": 1
          },
          "autotypenumbers": "strict",
          "coloraxis": {
           "colorbar": {
            "outlinewidth": 0,
            "ticks": ""
           }
          },
          "colorscale": {
           "diverging": [
            [
             0,
             "#8e0152"
            ],
            [
             0.1,
             "#c51b7d"
            ],
            [
             0.2,
             "#de77ae"
            ],
            [
             0.3,
             "#f1b6da"
            ],
            [
             0.4,
             "#fde0ef"
            ],
            [
             0.5,
             "#f7f7f7"
            ],
            [
             0.6,
             "#e6f5d0"
            ],
            [
             0.7,
             "#b8e186"
            ],
            [
             0.8,
             "#7fbc41"
            ],
            [
             0.9,
             "#4d9221"
            ],
            [
             1,
             "#276419"
            ]
           ],
           "sequential": [
            [
             0,
             "#0d0887"
            ],
            [
             0.1111111111111111,
             "#46039f"
            ],
            [
             0.2222222222222222,
             "#7201a8"
            ],
            [
             0.3333333333333333,
             "#9c179e"
            ],
            [
             0.4444444444444444,
             "#bd3786"
            ],
            [
             0.5555555555555556,
             "#d8576b"
            ],
            [
             0.6666666666666666,
             "#ed7953"
            ],
            [
             0.7777777777777778,
             "#fb9f3a"
            ],
            [
             0.8888888888888888,
             "#fdca26"
            ],
            [
             1,
             "#f0f921"
            ]
           ],
           "sequentialminus": [
            [
             0,
             "#0d0887"
            ],
            [
             0.1111111111111111,
             "#46039f"
            ],
            [
             0.2222222222222222,
             "#7201a8"
            ],
            [
             0.3333333333333333,
             "#9c179e"
            ],
            [
             0.4444444444444444,
             "#bd3786"
            ],
            [
             0.5555555555555556,
             "#d8576b"
            ],
            [
             0.6666666666666666,
             "#ed7953"
            ],
            [
             0.7777777777777778,
             "#fb9f3a"
            ],
            [
             0.8888888888888888,
             "#fdca26"
            ],
            [
             1,
             "#f0f921"
            ]
           ]
          },
          "colorway": [
           "#636efa",
           "#EF553B",
           "#00cc96",
           "#ab63fa",
           "#FFA15A",
           "#19d3f3",
           "#FF6692",
           "#B6E880",
           "#FF97FF",
           "#FECB52"
          ],
          "font": {
           "color": "#2a3f5f"
          },
          "geo": {
           "bgcolor": "white",
           "lakecolor": "white",
           "landcolor": "#E5ECF6",
           "showlakes": true,
           "showland": true,
           "subunitcolor": "white"
          },
          "hoverlabel": {
           "align": "left"
          },
          "hovermode": "closest",
          "mapbox": {
           "style": "light"
          },
          "paper_bgcolor": "white",
          "plot_bgcolor": "#E5ECF6",
          "polar": {
           "angularaxis": {
            "gridcolor": "white",
            "linecolor": "white",
            "ticks": ""
           },
           "bgcolor": "#E5ECF6",
           "radialaxis": {
            "gridcolor": "white",
            "linecolor": "white",
            "ticks": ""
           }
          },
          "scene": {
           "xaxis": {
            "backgroundcolor": "#E5ECF6",
            "gridcolor": "white",
            "gridwidth": 2,
            "linecolor": "white",
            "showbackground": true,
            "ticks": "",
            "zerolinecolor": "white"
           },
           "yaxis": {
            "backgroundcolor": "#E5ECF6",
            "gridcolor": "white",
            "gridwidth": 2,
            "linecolor": "white",
            "showbackground": true,
            "ticks": "",
            "zerolinecolor": "white"
           },
           "zaxis": {
            "backgroundcolor": "#E5ECF6",
            "gridcolor": "white",
            "gridwidth": 2,
            "linecolor": "white",
            "showbackground": true,
            "ticks": "",
            "zerolinecolor": "white"
           }
          },
          "shapedefaults": {
           "line": {
            "color": "#2a3f5f"
           }
          },
          "ternary": {
           "aaxis": {
            "gridcolor": "white",
            "linecolor": "white",
            "ticks": ""
           },
           "baxis": {
            "gridcolor": "white",
            "linecolor": "white",
            "ticks": ""
           },
           "bgcolor": "#E5ECF6",
           "caxis": {
            "gridcolor": "white",
            "linecolor": "white",
            "ticks": ""
           }
          },
          "title": {
           "x": 0.05
          },
          "xaxis": {
           "automargin": true,
           "gridcolor": "white",
           "linecolor": "white",
           "ticks": "",
           "title": {
            "standoff": 15
           },
           "zerolinecolor": "white",
           "zerolinewidth": 2
          },
          "yaxis": {
           "automargin": true,
           "gridcolor": "white",
           "linecolor": "white",
           "ticks": "",
           "title": {
            "standoff": 15
           },
           "zerolinecolor": "white",
           "zerolinewidth": 2
          }
         }
        },
        "title": {
         "text": "Sequential Query Paths – Icicle Chart"
        }
       }
      }
     },
     "metadata": {},
     "output_type": "display_data"
    }
   ],
   "source": [
    "df = pd.DataFrame(data)\n",
    "\n",
    "fig = px.icicle(\n",
    "    df,\n",
    "    path=[\"Level1\", \"Level2\", \"Level3\", \"Level4\", \"Level5\"],\n",
    "    values=\"num_cases\",\n",
    "    color=\"avg_case_duration_seconds\",\n",
    "    color_continuous_scale=\"Blues\",\n",
    "    title=\"Sequential Query Paths – Icicle Chart\"\n",
    ")\n",
    "\n",
    "fig.update_layout(margin=dict(t=50, l=0, r=0, b=0))\n",
    "fig.show()"
   ]
  },
  {
   "cell_type": "code",
   "execution_count": 4,
   "id": "ea9a075e",
   "metadata": {},
   "outputs": [
    {
     "data": {
      "application/vnd.plotly.v1+json": {
       "config": {
        "plotlyServerURL": "https://plot.ly"
       },
       "data": [
        {
         "branchvalues": "total",
         "customdata": {
          "bdata": "AAAAAGuiN0EAAAAAHN8xQQAAAADExjpBAAAAAG8AM0EAAAAABnY2QQAAAADWvzBBAAAAgKGAQUEAAAAA2b82QQAAAAB+20FBAAAAALmfN0EAAAAA6gRBQQAAAAA6fDdB5kEV7r96N0GfYyz2bIA6QUnG9GCGQzZBafHKpyylQEF60TIbN4RAQUMv+ilKS0BBlUAkk2S+OUFJxvRghkM2QcmmoNx3jEBBQy/6KUpLQEHsXr1UEpE4QRVyA4ttc0BBbD5J5fDePEE=",
          "dtype": "f8",
          "shape": "25, 1"
         },
         "domain": {
          "x": [
           0,
           1
          ],
          "y": [
           0,
           1
          ]
         },
         "hovertemplate": "labels=%{label}<br>num_cases=%{value}<br>parent=%{parent}<br>id=%{id}<br>avg_case_duration_seconds=%{color}<extra></extra>",
         "ids": [
          "Initial Source/['GoodCredit'] ✓/['LoanOverThreshold'] ✓/['SmallAmount'] ✓/['IsNewCredit'] ✓",
          "Initial Source/['GoodCredit'] ✓/['LoanOverThreshold'] ✓/['SmallAmount'] ✓/['IsNewCredit'] ✗",
          "Initial Source/['GoodCredit'] ✓/['LoanOverThreshold'] ✓/['SmallAmount'] ✗/['IsNewCredit'] ✓",
          "Initial Source/['GoodCredit'] ✓/['LoanOverThreshold'] ✓/['SmallAmount'] ✗/['IsNewCredit'] ✗",
          "Initial Source/['GoodCredit'] ✓/['LoanOverThreshold'] ✗/['SmallAmount'] ✓/['IsNewCredit'] ✓",
          "Initial Source/['GoodCredit'] ✓/['LoanOverThreshold'] ✗/['SmallAmount'] ✓/['IsNewCredit'] ✗",
          "Initial Source/['GoodCredit'] ✗/['LoanOverThreshold'] ✓/['SmallAmount'] ✓/['IsNewCredit'] ✓",
          "Initial Source/['GoodCredit'] ✗/['LoanOverThreshold'] ✓/['SmallAmount'] ✓/['IsNewCredit'] ✗",
          "Initial Source/['GoodCredit'] ✗/['LoanOverThreshold'] ✓/['SmallAmount'] ✗/['IsNewCredit'] ✓",
          "Initial Source/['GoodCredit'] ✗/['LoanOverThreshold'] ✓/['SmallAmount'] ✗/['IsNewCredit'] ✗",
          "Initial Source/['GoodCredit'] ✗/['LoanOverThreshold'] ✗/['SmallAmount'] ✓/['IsNewCredit'] ✓",
          "Initial Source/['GoodCredit'] ✗/['LoanOverThreshold'] ✗/['SmallAmount'] ✓/['IsNewCredit'] ✗",
          "Initial Source/['GoodCredit'] ✓/['LoanOverThreshold'] ✓/['SmallAmount'] ✓",
          "Initial Source/['GoodCredit'] ✓/['LoanOverThreshold'] ✓/['SmallAmount'] ✗",
          "Initial Source/['GoodCredit'] ✓/['LoanOverThreshold'] ✗/['SmallAmount'] ✓",
          "Initial Source/['GoodCredit'] ✗/['LoanOverThreshold'] ✓/['SmallAmount'] ✓",
          "Initial Source/['GoodCredit'] ✗/['LoanOverThreshold'] ✓/['SmallAmount'] ✗",
          "Initial Source/['GoodCredit'] ✗/['LoanOverThreshold'] ✗/['SmallAmount'] ✓",
          "Initial Source/['GoodCredit'] ✓/['LoanOverThreshold'] ✓",
          "Initial Source/['GoodCredit'] ✓/['LoanOverThreshold'] ✗",
          "Initial Source/['GoodCredit'] ✗/['LoanOverThreshold'] ✓",
          "Initial Source/['GoodCredit'] ✗/['LoanOverThreshold'] ✗",
          "Initial Source/['GoodCredit'] ✓",
          "Initial Source/['GoodCredit'] ✗",
          "Initial Source"
         ],
         "labels": [
          "['IsNewCredit'] ✓",
          "['IsNewCredit'] ✗",
          "['IsNewCredit'] ✓",
          "['IsNewCredit'] ✗",
          "['IsNewCredit'] ✓",
          "['IsNewCredit'] ✗",
          "['IsNewCredit'] ✓",
          "['IsNewCredit'] ✗",
          "['IsNewCredit'] ✓",
          "['IsNewCredit'] ✗",
          "['IsNewCredit'] ✓",
          "['IsNewCredit'] ✗",
          "['SmallAmount'] ✓",
          "['SmallAmount'] ✗",
          "['SmallAmount'] ✓",
          "['SmallAmount'] ✓",
          "['SmallAmount'] ✗",
          "['SmallAmount'] ✓",
          "['LoanOverThreshold'] ✓",
          "['LoanOverThreshold'] ✗",
          "['LoanOverThreshold'] ✓",
          "['LoanOverThreshold'] ✗",
          "['GoodCredit'] ✓",
          "['GoodCredit'] ✗",
          "Initial Source"
         ],
         "marker": {
          "coloraxis": "coloraxis",
          "colors": {
           "bdata": "AAAAAGuiN0EAAAAAHN8xQQAAAADExjpBAAAAAG8AM0EAAAAABnY2QQAAAADWvzBBAAAAgKGAQUEAAAAA2b82QQAAAAB+20FBAAAAALmfN0EAAAAA6gRBQQAAAAA6fDdB5kEV7r96N0GfYyz2bIA6QUnG9GCGQzZBafHKpyylQEF60TIbN4RAQUMv+ilKS0BBlUAkk2S+OUFJxvRghkM2QcmmoNx3jEBBQy/6KUpLQEHsXr1UEpE4QRVyA4ttc0BBbD5J5fDePEE=",
           "dtype": "f8"
          }
         },
         "name": "",
         "parents": [
          "Initial Source/['GoodCredit'] ✓/['LoanOverThreshold'] ✓/['SmallAmount'] ✓",
          "Initial Source/['GoodCredit'] ✓/['LoanOverThreshold'] ✓/['SmallAmount'] ✓",
          "Initial Source/['GoodCredit'] ✓/['LoanOverThreshold'] ✓/['SmallAmount'] ✗",
          "Initial Source/['GoodCredit'] ✓/['LoanOverThreshold'] ✓/['SmallAmount'] ✗",
          "Initial Source/['GoodCredit'] ✓/['LoanOverThreshold'] ✗/['SmallAmount'] ✓",
          "Initial Source/['GoodCredit'] ✓/['LoanOverThreshold'] ✗/['SmallAmount'] ✓",
          "Initial Source/['GoodCredit'] ✗/['LoanOverThreshold'] ✓/['SmallAmount'] ✓",
          "Initial Source/['GoodCredit'] ✗/['LoanOverThreshold'] ✓/['SmallAmount'] ✓",
          "Initial Source/['GoodCredit'] ✗/['LoanOverThreshold'] ✓/['SmallAmount'] ✗",
          "Initial Source/['GoodCredit'] ✗/['LoanOverThreshold'] ✓/['SmallAmount'] ✗",
          "Initial Source/['GoodCredit'] ✗/['LoanOverThreshold'] ✗/['SmallAmount'] ✓",
          "Initial Source/['GoodCredit'] ✗/['LoanOverThreshold'] ✗/['SmallAmount'] ✓",
          "Initial Source/['GoodCredit'] ✓/['LoanOverThreshold'] ✓",
          "Initial Source/['GoodCredit'] ✓/['LoanOverThreshold'] ✓",
          "Initial Source/['GoodCredit'] ✓/['LoanOverThreshold'] ✗",
          "Initial Source/['GoodCredit'] ✗/['LoanOverThreshold'] ✓",
          "Initial Source/['GoodCredit'] ✗/['LoanOverThreshold'] ✓",
          "Initial Source/['GoodCredit'] ✗/['LoanOverThreshold'] ✗",
          "Initial Source/['GoodCredit'] ✓",
          "Initial Source/['GoodCredit'] ✓",
          "Initial Source/['GoodCredit'] ✗",
          "Initial Source/['GoodCredit'] ✗",
          "Initial Source",
          "Initial Source",
          ""
         ],
         "type": "treemap",
         "values": {
          "bdata": "AAAAAAA6o0AAAAAAAABRQAAAAAAAeLxAAAAAAACwcEAAAAAAAHCzQAAAAAAAQGZAAAAAAADcoEAAAAAAAPB1QAAAAAAA1bZAAAAAAAAImkAAAAAAABC1QAAAAAAA2IpAAAAAAADCo0AAAAAAAIO9QAAAAAAAIrRAAAAAAACao0AAAAAAAFe9QAAAAAAAa7hAAAAAAACyw0AAAAAAACK0QAAAAAAAksNAAAAAAABruEAAAAAAAMPNQAAAAACAx89AAAAAAEDF3kA=",
          "dtype": "f8"
         }
        }
       ],
       "layout": {
        "coloraxis": {
         "colorbar": {
          "title": {
           "text": "avg_case_duration_seconds"
          }
         },
         "colorscale": [
          [
           0,
           "rgb(247,251,255)"
          ],
          [
           0.125,
           "rgb(222,235,247)"
          ],
          [
           0.25,
           "rgb(198,219,239)"
          ],
          [
           0.375,
           "rgb(158,202,225)"
          ],
          [
           0.5,
           "rgb(107,174,214)"
          ],
          [
           0.625,
           "rgb(66,146,198)"
          ],
          [
           0.75,
           "rgb(33,113,181)"
          ],
          [
           0.875,
           "rgb(8,81,156)"
          ],
          [
           1,
           "rgb(8,48,107)"
          ]
         ]
        },
        "legend": {
         "tracegroupgap": 0
        },
        "margin": {
         "b": 0,
         "l": 0,
         "r": 0,
         "t": 50
        },
        "template": {
         "data": {
          "bar": [
           {
            "error_x": {
             "color": "#2a3f5f"
            },
            "error_y": {
             "color": "#2a3f5f"
            },
            "marker": {
             "line": {
              "color": "#E5ECF6",
              "width": 0.5
             },
             "pattern": {
              "fillmode": "overlay",
              "size": 10,
              "solidity": 0.2
             }
            },
            "type": "bar"
           }
          ],
          "barpolar": [
           {
            "marker": {
             "line": {
              "color": "#E5ECF6",
              "width": 0.5
             },
             "pattern": {
              "fillmode": "overlay",
              "size": 10,
              "solidity": 0.2
             }
            },
            "type": "barpolar"
           }
          ],
          "carpet": [
           {
            "aaxis": {
             "endlinecolor": "#2a3f5f",
             "gridcolor": "white",
             "linecolor": "white",
             "minorgridcolor": "white",
             "startlinecolor": "#2a3f5f"
            },
            "baxis": {
             "endlinecolor": "#2a3f5f",
             "gridcolor": "white",
             "linecolor": "white",
             "minorgridcolor": "white",
             "startlinecolor": "#2a3f5f"
            },
            "type": "carpet"
           }
          ],
          "choropleth": [
           {
            "colorbar": {
             "outlinewidth": 0,
             "ticks": ""
            },
            "type": "choropleth"
           }
          ],
          "contour": [
           {
            "colorbar": {
             "outlinewidth": 0,
             "ticks": ""
            },
            "colorscale": [
             [
              0,
              "#0d0887"
             ],
             [
              0.1111111111111111,
              "#46039f"
             ],
             [
              0.2222222222222222,
              "#7201a8"
             ],
             [
              0.3333333333333333,
              "#9c179e"
             ],
             [
              0.4444444444444444,
              "#bd3786"
             ],
             [
              0.5555555555555556,
              "#d8576b"
             ],
             [
              0.6666666666666666,
              "#ed7953"
             ],
             [
              0.7777777777777778,
              "#fb9f3a"
             ],
             [
              0.8888888888888888,
              "#fdca26"
             ],
             [
              1,
              "#f0f921"
             ]
            ],
            "type": "contour"
           }
          ],
          "contourcarpet": [
           {
            "colorbar": {
             "outlinewidth": 0,
             "ticks": ""
            },
            "type": "contourcarpet"
           }
          ],
          "heatmap": [
           {
            "colorbar": {
             "outlinewidth": 0,
             "ticks": ""
            },
            "colorscale": [
             [
              0,
              "#0d0887"
             ],
             [
              0.1111111111111111,
              "#46039f"
             ],
             [
              0.2222222222222222,
              "#7201a8"
             ],
             [
              0.3333333333333333,
              "#9c179e"
             ],
             [
              0.4444444444444444,
              "#bd3786"
             ],
             [
              0.5555555555555556,
              "#d8576b"
             ],
             [
              0.6666666666666666,
              "#ed7953"
             ],
             [
              0.7777777777777778,
              "#fb9f3a"
             ],
             [
              0.8888888888888888,
              "#fdca26"
             ],
             [
              1,
              "#f0f921"
             ]
            ],
            "type": "heatmap"
           }
          ],
          "histogram": [
           {
            "marker": {
             "pattern": {
              "fillmode": "overlay",
              "size": 10,
              "solidity": 0.2
             }
            },
            "type": "histogram"
           }
          ],
          "histogram2d": [
           {
            "colorbar": {
             "outlinewidth": 0,
             "ticks": ""
            },
            "colorscale": [
             [
              0,
              "#0d0887"
             ],
             [
              0.1111111111111111,
              "#46039f"
             ],
             [
              0.2222222222222222,
              "#7201a8"
             ],
             [
              0.3333333333333333,
              "#9c179e"
             ],
             [
              0.4444444444444444,
              "#bd3786"
             ],
             [
              0.5555555555555556,
              "#d8576b"
             ],
             [
              0.6666666666666666,
              "#ed7953"
             ],
             [
              0.7777777777777778,
              "#fb9f3a"
             ],
             [
              0.8888888888888888,
              "#fdca26"
             ],
             [
              1,
              "#f0f921"
             ]
            ],
            "type": "histogram2d"
           }
          ],
          "histogram2dcontour": [
           {
            "colorbar": {
             "outlinewidth": 0,
             "ticks": ""
            },
            "colorscale": [
             [
              0,
              "#0d0887"
             ],
             [
              0.1111111111111111,
              "#46039f"
             ],
             [
              0.2222222222222222,
              "#7201a8"
             ],
             [
              0.3333333333333333,
              "#9c179e"
             ],
             [
              0.4444444444444444,
              "#bd3786"
             ],
             [
              0.5555555555555556,
              "#d8576b"
             ],
             [
              0.6666666666666666,
              "#ed7953"
             ],
             [
              0.7777777777777778,
              "#fb9f3a"
             ],
             [
              0.8888888888888888,
              "#fdca26"
             ],
             [
              1,
              "#f0f921"
             ]
            ],
            "type": "histogram2dcontour"
           }
          ],
          "mesh3d": [
           {
            "colorbar": {
             "outlinewidth": 0,
             "ticks": ""
            },
            "type": "mesh3d"
           }
          ],
          "parcoords": [
           {
            "line": {
             "colorbar": {
              "outlinewidth": 0,
              "ticks": ""
             }
            },
            "type": "parcoords"
           }
          ],
          "pie": [
           {
            "automargin": true,
            "type": "pie"
           }
          ],
          "scatter": [
           {
            "fillpattern": {
             "fillmode": "overlay",
             "size": 10,
             "solidity": 0.2
            },
            "type": "scatter"
           }
          ],
          "scatter3d": [
           {
            "line": {
             "colorbar": {
              "outlinewidth": 0,
              "ticks": ""
             }
            },
            "marker": {
             "colorbar": {
              "outlinewidth": 0,
              "ticks": ""
             }
            },
            "type": "scatter3d"
           }
          ],
          "scattercarpet": [
           {
            "marker": {
             "colorbar": {
              "outlinewidth": 0,
              "ticks": ""
             }
            },
            "type": "scattercarpet"
           }
          ],
          "scattergeo": [
           {
            "marker": {
             "colorbar": {
              "outlinewidth": 0,
              "ticks": ""
             }
            },
            "type": "scattergeo"
           }
          ],
          "scattergl": [
           {
            "marker": {
             "colorbar": {
              "outlinewidth": 0,
              "ticks": ""
             }
            },
            "type": "scattergl"
           }
          ],
          "scattermap": [
           {
            "marker": {
             "colorbar": {
              "outlinewidth": 0,
              "ticks": ""
             }
            },
            "type": "scattermap"
           }
          ],
          "scattermapbox": [
           {
            "marker": {
             "colorbar": {
              "outlinewidth": 0,
              "ticks": ""
             }
            },
            "type": "scattermapbox"
           }
          ],
          "scatterpolar": [
           {
            "marker": {
             "colorbar": {
              "outlinewidth": 0,
              "ticks": ""
             }
            },
            "type": "scatterpolar"
           }
          ],
          "scatterpolargl": [
           {
            "marker": {
             "colorbar": {
              "outlinewidth": 0,
              "ticks": ""
             }
            },
            "type": "scatterpolargl"
           }
          ],
          "scatterternary": [
           {
            "marker": {
             "colorbar": {
              "outlinewidth": 0,
              "ticks": ""
             }
            },
            "type": "scatterternary"
           }
          ],
          "surface": [
           {
            "colorbar": {
             "outlinewidth": 0,
             "ticks": ""
            },
            "colorscale": [
             [
              0,
              "#0d0887"
             ],
             [
              0.1111111111111111,
              "#46039f"
             ],
             [
              0.2222222222222222,
              "#7201a8"
             ],
             [
              0.3333333333333333,
              "#9c179e"
             ],
             [
              0.4444444444444444,
              "#bd3786"
             ],
             [
              0.5555555555555556,
              "#d8576b"
             ],
             [
              0.6666666666666666,
              "#ed7953"
             ],
             [
              0.7777777777777778,
              "#fb9f3a"
             ],
             [
              0.8888888888888888,
              "#fdca26"
             ],
             [
              1,
              "#f0f921"
             ]
            ],
            "type": "surface"
           }
          ],
          "table": [
           {
            "cells": {
             "fill": {
              "color": "#EBF0F8"
             },
             "line": {
              "color": "white"
             }
            },
            "header": {
             "fill": {
              "color": "#C8D4E3"
             },
             "line": {
              "color": "white"
             }
            },
            "type": "table"
           }
          ]
         },
         "layout": {
          "annotationdefaults": {
           "arrowcolor": "#2a3f5f",
           "arrowhead": 0,
           "arrowwidth": 1
          },
          "autotypenumbers": "strict",
          "coloraxis": {
           "colorbar": {
            "outlinewidth": 0,
            "ticks": ""
           }
          },
          "colorscale": {
           "diverging": [
            [
             0,
             "#8e0152"
            ],
            [
             0.1,
             "#c51b7d"
            ],
            [
             0.2,
             "#de77ae"
            ],
            [
             0.3,
             "#f1b6da"
            ],
            [
             0.4,
             "#fde0ef"
            ],
            [
             0.5,
             "#f7f7f7"
            ],
            [
             0.6,
             "#e6f5d0"
            ],
            [
             0.7,
             "#b8e186"
            ],
            [
             0.8,
             "#7fbc41"
            ],
            [
             0.9,
             "#4d9221"
            ],
            [
             1,
             "#276419"
            ]
           ],
           "sequential": [
            [
             0,
             "#0d0887"
            ],
            [
             0.1111111111111111,
             "#46039f"
            ],
            [
             0.2222222222222222,
             "#7201a8"
            ],
            [
             0.3333333333333333,
             "#9c179e"
            ],
            [
             0.4444444444444444,
             "#bd3786"
            ],
            [
             0.5555555555555556,
             "#d8576b"
            ],
            [
             0.6666666666666666,
             "#ed7953"
            ],
            [
             0.7777777777777778,
             "#fb9f3a"
            ],
            [
             0.8888888888888888,
             "#fdca26"
            ],
            [
             1,
             "#f0f921"
            ]
           ],
           "sequentialminus": [
            [
             0,
             "#0d0887"
            ],
            [
             0.1111111111111111,
             "#46039f"
            ],
            [
             0.2222222222222222,
             "#7201a8"
            ],
            [
             0.3333333333333333,
             "#9c179e"
            ],
            [
             0.4444444444444444,
             "#bd3786"
            ],
            [
             0.5555555555555556,
             "#d8576b"
            ],
            [
             0.6666666666666666,
             "#ed7953"
            ],
            [
             0.7777777777777778,
             "#fb9f3a"
            ],
            [
             0.8888888888888888,
             "#fdca26"
            ],
            [
             1,
             "#f0f921"
            ]
           ]
          },
          "colorway": [
           "#636efa",
           "#EF553B",
           "#00cc96",
           "#ab63fa",
           "#FFA15A",
           "#19d3f3",
           "#FF6692",
           "#B6E880",
           "#FF97FF",
           "#FECB52"
          ],
          "font": {
           "color": "#2a3f5f"
          },
          "geo": {
           "bgcolor": "white",
           "lakecolor": "white",
           "landcolor": "#E5ECF6",
           "showlakes": true,
           "showland": true,
           "subunitcolor": "white"
          },
          "hoverlabel": {
           "align": "left"
          },
          "hovermode": "closest",
          "mapbox": {
           "style": "light"
          },
          "paper_bgcolor": "white",
          "plot_bgcolor": "#E5ECF6",
          "polar": {
           "angularaxis": {
            "gridcolor": "white",
            "linecolor": "white",
            "ticks": ""
           },
           "bgcolor": "#E5ECF6",
           "radialaxis": {
            "gridcolor": "white",
            "linecolor": "white",
            "ticks": ""
           }
          },
          "scene": {
           "xaxis": {
            "backgroundcolor": "#E5ECF6",
            "gridcolor": "white",
            "gridwidth": 2,
            "linecolor": "white",
            "showbackground": true,
            "ticks": "",
            "zerolinecolor": "white"
           },
           "yaxis": {
            "backgroundcolor": "#E5ECF6",
            "gridcolor": "white",
            "gridwidth": 2,
            "linecolor": "white",
            "showbackground": true,
            "ticks": "",
            "zerolinecolor": "white"
           },
           "zaxis": {
            "backgroundcolor": "#E5ECF6",
            "gridcolor": "white",
            "gridwidth": 2,
            "linecolor": "white",
            "showbackground": true,
            "ticks": "",
            "zerolinecolor": "white"
           }
          },
          "shapedefaults": {
           "line": {
            "color": "#2a3f5f"
           }
          },
          "ternary": {
           "aaxis": {
            "gridcolor": "white",
            "linecolor": "white",
            "ticks": ""
           },
           "baxis": {
            "gridcolor": "white",
            "linecolor": "white",
            "ticks": ""
           },
           "bgcolor": "#E5ECF6",
           "caxis": {
            "gridcolor": "white",
            "linecolor": "white",
            "ticks": ""
           }
          },
          "title": {
           "x": 0.05
          },
          "xaxis": {
           "automargin": true,
           "gridcolor": "white",
           "linecolor": "white",
           "ticks": "",
           "title": {
            "standoff": 15
           },
           "zerolinecolor": "white",
           "zerolinewidth": 2
          },
          "yaxis": {
           "automargin": true,
           "gridcolor": "white",
           "linecolor": "white",
           "ticks": "",
           "title": {
            "standoff": 15
           },
           "zerolinecolor": "white",
           "zerolinewidth": 2
          }
         }
        },
        "title": {
         "text": "Treemap of Case Subsets (colored by Avg Duration)"
        }
       }
      }
     },
     "metadata": {},
     "output_type": "display_data"
    }
   ],
   "source": [
    "df = pd.DataFrame(data)\n",
    "\n",
    "fig = px.treemap(\n",
    "    df,\n",
    "    path=[\"Level1\", \"Level2\", \"Level3\", \"Level4\", \"Level5\"],\n",
    "    values=\"num_cases\",\n",
    "    color=\"avg_case_duration_seconds\",\n",
    "    color_continuous_scale=\"Blues\",\n",
    "    title=\"Treemap of Case Subsets (colored by Avg Duration)\"\n",
    ")\n",
    "\n",
    "fig.update_layout(margin=dict(t=50, l=0, r=0, b=0))\n",
    "fig.show()"
   ]
  },
  {
   "cell_type": "code",
   "execution_count": 5,
   "id": "15ecdcf6",
   "metadata": {},
   "outputs": [
    {
     "name": "stderr",
     "output_type": "stream",
     "text": [
      "C:\\Users\\cshek\\AppData\\Local\\Temp\\ipykernel_12388\\2974217220.py:19: MatplotlibDeprecationWarning:\n",
      "\n",
      "The get_cmap function was deprecated in Matplotlib 3.7 and will be removed two minor releases later. Use ``matplotlib.colormaps[name]`` or ``matplotlib.colormaps.get_cmap(obj)`` instead.\n",
      "\n"
     ]
    },
    {
     "data": {
      "application/vnd.plotly.v1+json": {
       "config": {
        "plotlyServerURL": "https://plot.ly"
       },
       "data": [
        {
         "arrangement": "snap",
         "link": {
          "color": [
           "#deebf7",
           "#d2e3f3",
           "#81badb",
           "#1967ad",
           "#edf4fc",
           "#539ecd",
           "#08306b",
           "#dae8f6",
           "#f7fbff",
           "#97c6df",
           "#1460a8",
           "#115ca5",
           "#1967ad"
          ],
          "hovertemplate": "Avg Duration: %{value:.0f} sec<extra></extra>",
          "source": [
           0,
           1,
           5,
           7,
           7,
           5,
           8,
           8,
           1,
           6,
           0,
           2,
           2
          ],
          "target": [
           1,
           5,
           7,
           3,
           4,
           8,
           3,
           4,
           6,
           7,
           2,
           5,
           6
          ],
          "value": [
           1381657,
           1430062.5,
           1626280.75,
           1886434,
           1324737.25,
           1722234,
           2047712,
           1396756,
           1284846,
           1584890.5,
           1907279.8333333333,
           1918452.25,
           1884935
          ]
         },
         "node": {
          "color": "lightblue",
          "label": [
           "Initial Source",
           "['GoodCredit'] ✓",
           "['GoodCredit'] ✗",
           "['IsNewCredit'] ✓",
           "['IsNewCredit'] ✗",
           "['LoanOverThreshold'] ✓",
           "['LoanOverThreshold'] ✗",
           "['SmallAmount'] ✓",
           "['SmallAmount'] ✗"
          ],
          "line": {
           "color": "black",
           "width": 0.5
          },
          "pad": 15,
          "thickness": 20
         },
         "orientation": "v",
         "type": "sankey"
        }
       ],
       "layout": {
        "font": {
         "size": 12
        },
        "template": {
         "data": {
          "bar": [
           {
            "error_x": {
             "color": "#2a3f5f"
            },
            "error_y": {
             "color": "#2a3f5f"
            },
            "marker": {
             "line": {
              "color": "#E5ECF6",
              "width": 0.5
             },
             "pattern": {
              "fillmode": "overlay",
              "size": 10,
              "solidity": 0.2
             }
            },
            "type": "bar"
           }
          ],
          "barpolar": [
           {
            "marker": {
             "line": {
              "color": "#E5ECF6",
              "width": 0.5
             },
             "pattern": {
              "fillmode": "overlay",
              "size": 10,
              "solidity": 0.2
             }
            },
            "type": "barpolar"
           }
          ],
          "carpet": [
           {
            "aaxis": {
             "endlinecolor": "#2a3f5f",
             "gridcolor": "white",
             "linecolor": "white",
             "minorgridcolor": "white",
             "startlinecolor": "#2a3f5f"
            },
            "baxis": {
             "endlinecolor": "#2a3f5f",
             "gridcolor": "white",
             "linecolor": "white",
             "minorgridcolor": "white",
             "startlinecolor": "#2a3f5f"
            },
            "type": "carpet"
           }
          ],
          "choropleth": [
           {
            "colorbar": {
             "outlinewidth": 0,
             "ticks": ""
            },
            "type": "choropleth"
           }
          ],
          "contour": [
           {
            "colorbar": {
             "outlinewidth": 0,
             "ticks": ""
            },
            "colorscale": [
             [
              0,
              "#0d0887"
             ],
             [
              0.1111111111111111,
              "#46039f"
             ],
             [
              0.2222222222222222,
              "#7201a8"
             ],
             [
              0.3333333333333333,
              "#9c179e"
             ],
             [
              0.4444444444444444,
              "#bd3786"
             ],
             [
              0.5555555555555556,
              "#d8576b"
             ],
             [
              0.6666666666666666,
              "#ed7953"
             ],
             [
              0.7777777777777778,
              "#fb9f3a"
             ],
             [
              0.8888888888888888,
              "#fdca26"
             ],
             [
              1,
              "#f0f921"
             ]
            ],
            "type": "contour"
           }
          ],
          "contourcarpet": [
           {
            "colorbar": {
             "outlinewidth": 0,
             "ticks": ""
            },
            "type": "contourcarpet"
           }
          ],
          "heatmap": [
           {
            "colorbar": {
             "outlinewidth": 0,
             "ticks": ""
            },
            "colorscale": [
             [
              0,
              "#0d0887"
             ],
             [
              0.1111111111111111,
              "#46039f"
             ],
             [
              0.2222222222222222,
              "#7201a8"
             ],
             [
              0.3333333333333333,
              "#9c179e"
             ],
             [
              0.4444444444444444,
              "#bd3786"
             ],
             [
              0.5555555555555556,
              "#d8576b"
             ],
             [
              0.6666666666666666,
              "#ed7953"
             ],
             [
              0.7777777777777778,
              "#fb9f3a"
             ],
             [
              0.8888888888888888,
              "#fdca26"
             ],
             [
              1,
              "#f0f921"
             ]
            ],
            "type": "heatmap"
           }
          ],
          "histogram": [
           {
            "marker": {
             "pattern": {
              "fillmode": "overlay",
              "size": 10,
              "solidity": 0.2
             }
            },
            "type": "histogram"
           }
          ],
          "histogram2d": [
           {
            "colorbar": {
             "outlinewidth": 0,
             "ticks": ""
            },
            "colorscale": [
             [
              0,
              "#0d0887"
             ],
             [
              0.1111111111111111,
              "#46039f"
             ],
             [
              0.2222222222222222,
              "#7201a8"
             ],
             [
              0.3333333333333333,
              "#9c179e"
             ],
             [
              0.4444444444444444,
              "#bd3786"
             ],
             [
              0.5555555555555556,
              "#d8576b"
             ],
             [
              0.6666666666666666,
              "#ed7953"
             ],
             [
              0.7777777777777778,
              "#fb9f3a"
             ],
             [
              0.8888888888888888,
              "#fdca26"
             ],
             [
              1,
              "#f0f921"
             ]
            ],
            "type": "histogram2d"
           }
          ],
          "histogram2dcontour": [
           {
            "colorbar": {
             "outlinewidth": 0,
             "ticks": ""
            },
            "colorscale": [
             [
              0,
              "#0d0887"
             ],
             [
              0.1111111111111111,
              "#46039f"
             ],
             [
              0.2222222222222222,
              "#7201a8"
             ],
             [
              0.3333333333333333,
              "#9c179e"
             ],
             [
              0.4444444444444444,
              "#bd3786"
             ],
             [
              0.5555555555555556,
              "#d8576b"
             ],
             [
              0.6666666666666666,
              "#ed7953"
             ],
             [
              0.7777777777777778,
              "#fb9f3a"
             ],
             [
              0.8888888888888888,
              "#fdca26"
             ],
             [
              1,
              "#f0f921"
             ]
            ],
            "type": "histogram2dcontour"
           }
          ],
          "mesh3d": [
           {
            "colorbar": {
             "outlinewidth": 0,
             "ticks": ""
            },
            "type": "mesh3d"
           }
          ],
          "parcoords": [
           {
            "line": {
             "colorbar": {
              "outlinewidth": 0,
              "ticks": ""
             }
            },
            "type": "parcoords"
           }
          ],
          "pie": [
           {
            "automargin": true,
            "type": "pie"
           }
          ],
          "scatter": [
           {
            "fillpattern": {
             "fillmode": "overlay",
             "size": 10,
             "solidity": 0.2
            },
            "type": "scatter"
           }
          ],
          "scatter3d": [
           {
            "line": {
             "colorbar": {
              "outlinewidth": 0,
              "ticks": ""
             }
            },
            "marker": {
             "colorbar": {
              "outlinewidth": 0,
              "ticks": ""
             }
            },
            "type": "scatter3d"
           }
          ],
          "scattercarpet": [
           {
            "marker": {
             "colorbar": {
              "outlinewidth": 0,
              "ticks": ""
             }
            },
            "type": "scattercarpet"
           }
          ],
          "scattergeo": [
           {
            "marker": {
             "colorbar": {
              "outlinewidth": 0,
              "ticks": ""
             }
            },
            "type": "scattergeo"
           }
          ],
          "scattergl": [
           {
            "marker": {
             "colorbar": {
              "outlinewidth": 0,
              "ticks": ""
             }
            },
            "type": "scattergl"
           }
          ],
          "scattermap": [
           {
            "marker": {
             "colorbar": {
              "outlinewidth": 0,
              "ticks": ""
             }
            },
            "type": "scattermap"
           }
          ],
          "scattermapbox": [
           {
            "marker": {
             "colorbar": {
              "outlinewidth": 0,
              "ticks": ""
             }
            },
            "type": "scattermapbox"
           }
          ],
          "scatterpolar": [
           {
            "marker": {
             "colorbar": {
              "outlinewidth": 0,
              "ticks": ""
             }
            },
            "type": "scatterpolar"
           }
          ],
          "scatterpolargl": [
           {
            "marker": {
             "colorbar": {
              "outlinewidth": 0,
              "ticks": ""
             }
            },
            "type": "scatterpolargl"
           }
          ],
          "scatterternary": [
           {
            "marker": {
             "colorbar": {
              "outlinewidth": 0,
              "ticks": ""
             }
            },
            "type": "scatterternary"
           }
          ],
          "surface": [
           {
            "colorbar": {
             "outlinewidth": 0,
             "ticks": ""
            },
            "colorscale": [
             [
              0,
              "#0d0887"
             ],
             [
              0.1111111111111111,
              "#46039f"
             ],
             [
              0.2222222222222222,
              "#7201a8"
             ],
             [
              0.3333333333333333,
              "#9c179e"
             ],
             [
              0.4444444444444444,
              "#bd3786"
             ],
             [
              0.5555555555555556,
              "#d8576b"
             ],
             [
              0.6666666666666666,
              "#ed7953"
             ],
             [
              0.7777777777777778,
              "#fb9f3a"
             ],
             [
              0.8888888888888888,
              "#fdca26"
             ],
             [
              1,
              "#f0f921"
             ]
            ],
            "type": "surface"
           }
          ],
          "table": [
           {
            "cells": {
             "fill": {
              "color": "#EBF0F8"
             },
             "line": {
              "color": "white"
             }
            },
            "header": {
             "fill": {
              "color": "#C8D4E3"
             },
             "line": {
              "color": "white"
             }
            },
            "type": "table"
           }
          ]
         },
         "layout": {
          "annotationdefaults": {
           "arrowcolor": "#2a3f5f",
           "arrowhead": 0,
           "arrowwidth": 1
          },
          "autotypenumbers": "strict",
          "coloraxis": {
           "colorbar": {
            "outlinewidth": 0,
            "ticks": ""
           }
          },
          "colorscale": {
           "diverging": [
            [
             0,
             "#8e0152"
            ],
            [
             0.1,
             "#c51b7d"
            ],
            [
             0.2,
             "#de77ae"
            ],
            [
             0.3,
             "#f1b6da"
            ],
            [
             0.4,
             "#fde0ef"
            ],
            [
             0.5,
             "#f7f7f7"
            ],
            [
             0.6,
             "#e6f5d0"
            ],
            [
             0.7,
             "#b8e186"
            ],
            [
             0.8,
             "#7fbc41"
            ],
            [
             0.9,
             "#4d9221"
            ],
            [
             1,
             "#276419"
            ]
           ],
           "sequential": [
            [
             0,
             "#0d0887"
            ],
            [
             0.1111111111111111,
             "#46039f"
            ],
            [
             0.2222222222222222,
             "#7201a8"
            ],
            [
             0.3333333333333333,
             "#9c179e"
            ],
            [
             0.4444444444444444,
             "#bd3786"
            ],
            [
             0.5555555555555556,
             "#d8576b"
            ],
            [
             0.6666666666666666,
             "#ed7953"
            ],
            [
             0.7777777777777778,
             "#fb9f3a"
            ],
            [
             0.8888888888888888,
             "#fdca26"
            ],
            [
             1,
             "#f0f921"
            ]
           ],
           "sequentialminus": [
            [
             0,
             "#0d0887"
            ],
            [
             0.1111111111111111,
             "#46039f"
            ],
            [
             0.2222222222222222,
             "#7201a8"
            ],
            [
             0.3333333333333333,
             "#9c179e"
            ],
            [
             0.4444444444444444,
             "#bd3786"
            ],
            [
             0.5555555555555556,
             "#d8576b"
            ],
            [
             0.6666666666666666,
             "#ed7953"
            ],
            [
             0.7777777777777778,
             "#fb9f3a"
            ],
            [
             0.8888888888888888,
             "#fdca26"
            ],
            [
             1,
             "#f0f921"
            ]
           ]
          },
          "colorway": [
           "#636efa",
           "#EF553B",
           "#00cc96",
           "#ab63fa",
           "#FFA15A",
           "#19d3f3",
           "#FF6692",
           "#B6E880",
           "#FF97FF",
           "#FECB52"
          ],
          "font": {
           "color": "#2a3f5f"
          },
          "geo": {
           "bgcolor": "white",
           "lakecolor": "white",
           "landcolor": "#E5ECF6",
           "showlakes": true,
           "showland": true,
           "subunitcolor": "white"
          },
          "hoverlabel": {
           "align": "left"
          },
          "hovermode": "closest",
          "mapbox": {
           "style": "light"
          },
          "paper_bgcolor": "white",
          "plot_bgcolor": "#E5ECF6",
          "polar": {
           "angularaxis": {
            "gridcolor": "white",
            "linecolor": "white",
            "ticks": ""
           },
           "bgcolor": "#E5ECF6",
           "radialaxis": {
            "gridcolor": "white",
            "linecolor": "white",
            "ticks": ""
           }
          },
          "scene": {
           "xaxis": {
            "backgroundcolor": "#E5ECF6",
            "gridcolor": "white",
            "gridwidth": 2,
            "linecolor": "white",
            "showbackground": true,
            "ticks": "",
            "zerolinecolor": "white"
           },
           "yaxis": {
            "backgroundcolor": "#E5ECF6",
            "gridcolor": "white",
            "gridwidth": 2,
            "linecolor": "white",
            "showbackground": true,
            "ticks": "",
            "zerolinecolor": "white"
           },
           "zaxis": {
            "backgroundcolor": "#E5ECF6",
            "gridcolor": "white",
            "gridwidth": 2,
            "linecolor": "white",
            "showbackground": true,
            "ticks": "",
            "zerolinecolor": "white"
           }
          },
          "shapedefaults": {
           "line": {
            "color": "#2a3f5f"
           }
          },
          "ternary": {
           "aaxis": {
            "gridcolor": "white",
            "linecolor": "white",
            "ticks": ""
           },
           "baxis": {
            "gridcolor": "white",
            "linecolor": "white",
            "ticks": ""
           },
           "bgcolor": "#E5ECF6",
           "caxis": {
            "gridcolor": "white",
            "linecolor": "white",
            "ticks": ""
           }
          },
          "title": {
           "x": 0.05
          },
          "xaxis": {
           "automargin": true,
           "gridcolor": "white",
           "linecolor": "white",
           "ticks": "",
           "title": {
            "standoff": 15
           },
           "zerolinecolor": "white",
           "zerolinewidth": 2
          },
          "yaxis": {
           "automargin": true,
           "gridcolor": "white",
           "linecolor": "white",
           "ticks": "",
           "title": {
            "standoff": 15
           },
           "zerolinecolor": "white",
           "zerolinewidth": 2
          }
         }
        },
        "title": {
         "text": "Tree Visualization of Sequential Filters (Link Colored by Duration)"
        }
       }
      }
     },
     "metadata": {},
     "output_type": "display_data"
    }
   ],
   "source": [
    "df = pd.DataFrame(data)\n",
    "\n",
    "path_edges = []\n",
    "for _, row in df.iterrows():\n",
    "    full_path = [row[\"Level1\"], row[\"Level2\"], row[\"Level3\"], row[\"Level4\"], row[\"Level5\"]]\n",
    "    for i in range(len(full_path) - 1):\n",
    "        edge = (full_path[i], full_path[i + 1])\n",
    "        path_edges.append((edge, row[\"avg_case_duration_seconds\"]))\n",
    "\n",
    "edge_dict = {}\n",
    "for (src, tgt), dur in path_edges:\n",
    "    key = (src, tgt)\n",
    "    edge_dict.setdefault(key, []).append(dur)\n",
    "\n",
    "edges = list(edge_dict.keys())\n",
    "durations = [sum(durs) / len(durs) for durs in edge_dict.values()]\n",
    "\n",
    "norm = mcolors.Normalize(vmin=min(durations), vmax=max(durations))\n",
    "cmap = cm.get_cmap('Blues')\n",
    "colors = [mcolors.to_hex(cmap(norm(d))) for d in durations]\n",
    "\n",
    "nodes = sorted({n for e in edges for n in e})\n",
    "node_indices = {n: i for i, n in enumerate(nodes)}\n",
    "\n",
    "link_source = [node_indices[src] for src, tgt in edges]\n",
    "link_target = [node_indices[tgt] for src, tgt in edges]\n",
    "\n",
    "fig = go.Figure(go.Sankey(\n",
    "    arrangement=\"snap\",\n",
    "    orientation=\"v\",\n",
    "    node=dict(\n",
    "        pad=15,\n",
    "        thickness=20,\n",
    "        line=dict(color=\"black\", width=0.5),\n",
    "        label=nodes,\n",
    "        color=\"lightblue\"\n",
    "    ),\n",
    "    link=dict(\n",
    "        source=link_source,\n",
    "        target=link_target,\n",
    "        value=durations,\n",
    "        color=colors,\n",
    "        hovertemplate='Avg Duration: %{value:.0f} sec<extra></extra>'\n",
    "    )\n",
    "))\n",
    "\n",
    "fig.update_layout(title=\"Tree Visualization of Sequential Filters (Link Colored by Duration)\", font_size=12)\n",
    "fig.show()"
   ]
  },
  {
   "cell_type": "code",
   "execution_count": 6,
   "id": "cde35cde",
   "metadata": {},
   "outputs": [
    {
     "ename": "ValueError",
     "evalue": "Unable to determine Axes to steal space for Colorbar. Either provide the *cax* argument to use as the Axes for the Colorbar, provide the *ax* argument to steal space from it, or add *mappable* to an Axes.",
     "output_type": "error",
     "traceback": [
      "\u001b[1;31m---------------------------------------------------------------------------\u001b[0m",
      "\u001b[1;31mValueError\u001b[0m                                Traceback (most recent call last)",
      "Cell \u001b[1;32mIn[6], line 72\u001b[0m\n\u001b[0;32m     70\u001b[0m sm \u001b[38;5;241m=\u001b[39m plt\u001b[38;5;241m.\u001b[39mcm\u001b[38;5;241m.\u001b[39mScalarMappable(cmap\u001b[38;5;241m=\u001b[39mcm\u001b[38;5;241m.\u001b[39mBlues, norm\u001b[38;5;241m=\u001b[39mnorm)\n\u001b[0;32m     71\u001b[0m sm\u001b[38;5;241m.\u001b[39mset_array([])\n\u001b[1;32m---> 72\u001b[0m \u001b[43mplt\u001b[49m\u001b[38;5;241;43m.\u001b[39;49m\u001b[43mcolorbar\u001b[49m\u001b[43m(\u001b[49m\u001b[43msm\u001b[49m\u001b[43m,\u001b[49m\u001b[43m \u001b[49m\u001b[43mlabel\u001b[49m\u001b[38;5;241;43m=\u001b[39;49m\u001b[38;5;124;43m\"\u001b[39;49m\u001b[38;5;124;43mAvg Case Duration (seconds)\u001b[39;49m\u001b[38;5;124;43m\"\u001b[39;49m\u001b[43m)\u001b[49m\n\u001b[0;32m     73\u001b[0m plt\u001b[38;5;241m.\u001b[39mtitle(\u001b[38;5;124m\"\u001b[39m\u001b[38;5;124mBinary Filter Tree with Avg Duration as Node Color\u001b[39m\u001b[38;5;124m\"\u001b[39m, fontsize\u001b[38;5;241m=\u001b[39m\u001b[38;5;241m16\u001b[39m)\n\u001b[0;32m     74\u001b[0m plt\u001b[38;5;241m.\u001b[39maxis(\u001b[38;5;124m\"\u001b[39m\u001b[38;5;124moff\u001b[39m\u001b[38;5;124m\"\u001b[39m)\n",
      "File \u001b[1;32m~\\AppData\\Roaming\\Python\\Python310\\site-packages\\matplotlib\\pyplot.py:2341\u001b[0m, in \u001b[0;36mcolorbar\u001b[1;34m(mappable, cax, ax, **kwargs)\u001b[0m\n\u001b[0;32m   2336\u001b[0m     \u001b[38;5;28;01mif\u001b[39;00m mappable \u001b[38;5;129;01mis\u001b[39;00m \u001b[38;5;28;01mNone\u001b[39;00m:\n\u001b[0;32m   2337\u001b[0m         \u001b[38;5;28;01mraise\u001b[39;00m \u001b[38;5;167;01mRuntimeError\u001b[39;00m(\u001b[38;5;124m'\u001b[39m\u001b[38;5;124mNo mappable was found to use for colorbar \u001b[39m\u001b[38;5;124m'\u001b[39m\n\u001b[0;32m   2338\u001b[0m                            \u001b[38;5;124m'\u001b[39m\u001b[38;5;124mcreation. First define a mappable such as \u001b[39m\u001b[38;5;124m'\u001b[39m\n\u001b[0;32m   2339\u001b[0m                            \u001b[38;5;124m'\u001b[39m\u001b[38;5;124man image (with imshow) or a contour set (\u001b[39m\u001b[38;5;124m'\u001b[39m\n\u001b[0;32m   2340\u001b[0m                            \u001b[38;5;124m'\u001b[39m\u001b[38;5;124mwith contourf).\u001b[39m\u001b[38;5;124m'\u001b[39m)\n\u001b[1;32m-> 2341\u001b[0m ret \u001b[38;5;241m=\u001b[39m gcf()\u001b[38;5;241m.\u001b[39mcolorbar(mappable, cax\u001b[38;5;241m=\u001b[39mcax, ax\u001b[38;5;241m=\u001b[39max, \u001b[38;5;241m*\u001b[39m\u001b[38;5;241m*\u001b[39mkwargs)\n\u001b[0;32m   2342\u001b[0m \u001b[38;5;28;01mreturn\u001b[39;00m ret\n",
      "File \u001b[1;32m~\\AppData\\Roaming\\Python\\Python310\\site-packages\\matplotlib\\figure.py:1285\u001b[0m, in \u001b[0;36mFigureBase.colorbar\u001b[1;34m(self, mappable, cax, ax, use_gridspec, **kwargs)\u001b[0m\n\u001b[0;32m   1283\u001b[0m \u001b[38;5;28;01mif\u001b[39;00m cax \u001b[38;5;129;01mis\u001b[39;00m \u001b[38;5;28;01mNone\u001b[39;00m:\n\u001b[0;32m   1284\u001b[0m     \u001b[38;5;28;01mif\u001b[39;00m ax \u001b[38;5;129;01mis\u001b[39;00m \u001b[38;5;28;01mNone\u001b[39;00m:\n\u001b[1;32m-> 1285\u001b[0m         \u001b[38;5;28;01mraise\u001b[39;00m \u001b[38;5;167;01mValueError\u001b[39;00m(\n\u001b[0;32m   1286\u001b[0m             \u001b[38;5;124m'\u001b[39m\u001b[38;5;124mUnable to determine Axes to steal space for Colorbar. \u001b[39m\u001b[38;5;124m'\u001b[39m\n\u001b[0;32m   1287\u001b[0m             \u001b[38;5;124m'\u001b[39m\u001b[38;5;124mEither provide the *cax* argument to use as the Axes for \u001b[39m\u001b[38;5;124m'\u001b[39m\n\u001b[0;32m   1288\u001b[0m             \u001b[38;5;124m'\u001b[39m\u001b[38;5;124mthe Colorbar, provide the *ax* argument to steal space \u001b[39m\u001b[38;5;124m'\u001b[39m\n\u001b[0;32m   1289\u001b[0m             \u001b[38;5;124m'\u001b[39m\u001b[38;5;124mfrom it, or add *mappable* to an Axes.\u001b[39m\u001b[38;5;124m'\u001b[39m)\n\u001b[0;32m   1290\u001b[0m     fig \u001b[38;5;241m=\u001b[39m (  \u001b[38;5;66;03m# Figure of first axes; logic copied from make_axes.\u001b[39;00m\n\u001b[0;32m   1291\u001b[0m         [\u001b[38;5;241m*\u001b[39max\u001b[38;5;241m.\u001b[39mflat] \u001b[38;5;28;01mif\u001b[39;00m \u001b[38;5;28misinstance\u001b[39m(ax, np\u001b[38;5;241m.\u001b[39mndarray)\n\u001b[0;32m   1292\u001b[0m         \u001b[38;5;28;01melse\u001b[39;00m [\u001b[38;5;241m*\u001b[39max] \u001b[38;5;28;01mif\u001b[39;00m np\u001b[38;5;241m.\u001b[39miterable(ax)\n\u001b[0;32m   1293\u001b[0m         \u001b[38;5;28;01melse\u001b[39;00m [ax])[\u001b[38;5;241m0\u001b[39m]\u001b[38;5;241m.\u001b[39mfigure\n\u001b[0;32m   1294\u001b[0m     current_ax \u001b[38;5;241m=\u001b[39m fig\u001b[38;5;241m.\u001b[39mgca()\n",
      "\u001b[1;31mValueError\u001b[0m: Unable to determine Axes to steal space for Colorbar. Either provide the *cax* argument to use as the Axes for the Colorbar, provide the *ax* argument to steal space from it, or add *mappable* to an Axes."
     ]
    },
    {
     "data": {
      "image/png": "[encoded data removed]",
      "text/plain": [
       "<Figure size 2400x1400 with 1 Axes>"
      ]
     },
     "metadata": {},
     "output_type": "display_data"
    }
   ],
   "source": [
    "df = pd.DataFrame(data)\n",
    "\n",
    "G = nx.DiGraph()\n",
    "\n",
    "def add_binary_splits(df, G, parent='Initial Source', level=2, max_level=5):\n",
    "    if level > max_level or df.empty:\n",
    "        return\n",
    "    col = f'Level{level}'\n",
    "    values = df[col].unique()\n",
    "    if len(values) != 2:\n",
    "        return\n",
    "    val_1, val_2 = values\n",
    "    node_1 = f\"{parent}\\n{val_1}\"\n",
    "    node_2 = f\"{parent}\\n{val_2}\"\n",
    "    G.add_edge(parent, node_1)\n",
    "    G.add_edge(parent, node_2)\n",
    "    add_binary_splits(df[df[col] == val_1], G, node_1, level + 1, max_level)\n",
    "    add_binary_splits(df[df[col] == val_2], G, node_2, level + 1, max_level)\n",
    "\n",
    "add_binary_splits(df, G)\n",
    "\n",
    "node_durations = {}\n",
    "\n",
    "for i, row in df.iterrows():\n",
    "    path = [\"Initial Source\", row[\"Level2\"], row[\"Level3\"], row[\"Level4\"], row[\"Level5\"]]\n",
    "    current = path[0]\n",
    "    for level in path[1:]:\n",
    "        next_node = f\"{current}\\n{level}\"\n",
    "        current = next_node\n",
    "    node_durations[current] = row[\"avg_case_duration_seconds\"]\n",
    "\n",
    "def assign_internal_durations(G, node):\n",
    "    if node in node_durations:\n",
    "        return node_durations[node]\n",
    "    children = list(G.successors(node))\n",
    "    if not children:\n",
    "        return None\n",
    "    values = [assign_internal_durations(G, child) for child in children if assign_internal_durations(G, child) is not None]\n",
    "    if values:\n",
    "        avg = sum(values) / len(values)\n",
    "        node_durations[node] = avg\n",
    "        return avg\n",
    "    return None\n",
    "\n",
    "assign_internal_durations(G, \"Initial Source\")\n",
    "\n",
    "durations = list(node_durations.values())\n",
    "norm = Normalize(vmin=min(durations), vmax=max(durations))\n",
    "colors = {node: cm.Blues(norm(node_durations[node])) for node in G.nodes if node in node_durations}\n",
    "\n",
    "def improved_hierarchy_pos(G, root, width=2., vert_gap=0.5, vert_loc=0, xcenter=0.5):\n",
    "    pos = {root: (xcenter, vert_loc)}\n",
    "    children = list(G.successors(root))\n",
    "    if not children:\n",
    "        return pos\n",
    "    dx = width / len(children)\n",
    "    nextx = xcenter - width / 2 + dx / 2\n",
    "    for child in children:\n",
    "        pos.update(improved_hierarchy_pos(G, child, width=dx, vert_gap=vert_gap,\n",
    "                                          vert_loc=vert_loc - vert_gap, xcenter=nextx))\n",
    "        nextx += dx\n",
    "    return pos\n",
    "\n",
    "plt.figure(figsize=(24, 14))\n",
    "pos = improved_hierarchy_pos(G, \"Initial Source\")\n",
    "node_colors = [colors.get(node, (0.8, 0.8, 0.8)) for node in G.nodes]\n",
    "\n",
    "nx.draw(G, pos, with_labels=True, node_color=node_colors, node_size=10000,\n",
    "        font_size=9, font_weight=\"bold\", edge_color=\"#BBBBBB\", linewidths=1)\n",
    "sm = plt.cm.ScalarMappable(cmap=cm.Blues, norm=norm)\n",
    "sm.set_array([])\n",
    "plt.colorbar(sm, label=\"Avg Case Duration (seconds)\")\n",
    "plt.title(\"Binary Filter Tree with Avg Duration as Node Color\", fontsize=16)\n",
    "plt.axis(\"off\")\n",
    "plt.show()"
   ]
  }
 ],
 "metadata": {
  "kernelspec": {
   "display_name": "Python 3",
   "language": "python",
   "name": "python3"
  },
  "language_info": {
   "codemirror_mode": {
    "name": "ipython",
    "version": 3
   },
   "file_extension": ".py",
   "mimetype": "text/x-python",
   "name": "python",
   "nbconvert_exporter": "python",
   "pygments_lexer": "ipython3",
   "version": "3.10.2"
  }
 },
 "nbformat": 4,
 "nbformat_minor": 5
}
