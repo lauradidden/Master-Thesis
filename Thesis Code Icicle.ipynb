{
 "cells": [
  {
   "cell_type": "code",
   "execution_count": 66,
   "id": "8920755f",
   "metadata": {},
   "outputs": [],
   "source": [
    "import pandas as pd\n",
    "import pm4py\n",
    "from logview.utils import LogViewBuilder\n",
    "from logview.predicate import Query, EqToConstant, NotEqToConstant, GreaterEqualToConstant, LessThanConstant, StartWith, EndWith, DurationWithin\n",
    "import plotly.express as px\n",
    "import time"
   ]
  },
  {
   "cell_type": "code",
   "execution_count": 67,
   "id": "ab2d69e0",
   "metadata": {},
   "outputs": [
    {
     "data": {
      "text/html": [
       "<div>\n",
       "<style scoped>\n",
       "    .dataframe tbody tr th:only-of-type {\n",
       "        vertical-align: middle;\n",
       "    }\n",
       "\n",
       "    .dataframe tbody tr th {\n",
       "        vertical-align: top;\n",
       "    }\n",
       "\n",
       "    .dataframe thead th {\n",
       "        text-align: right;\n",
       "    }\n",
       "</style>\n",
       "<table border=\"1\" class=\"dataframe\">\n",
       "  <thead>\n",
       "    <tr style=\"text-align: right;\">\n",
       "      <th></th>\n",
       "      <th>case</th>\n",
       "      <th>event</th>\n",
       "      <th>time</th>\n",
       "      <th>lifecycle:transition</th>\n",
       "      <th>ApplicationType</th>\n",
       "      <th>LoanGoal</th>\n",
       "      <th>RequestedAmount</th>\n",
       "      <th>MonthlyCost</th>\n",
       "      <th>org:resource</th>\n",
       "      <th>Selected</th>\n",
       "      <th>...</th>\n",
       "      <th>Accepted</th>\n",
       "      <th>CreditScore</th>\n",
       "      <th>NumberOfTerms</th>\n",
       "      <th>EventOrigin</th>\n",
       "      <th>OfferedAmount</th>\n",
       "      <th>case:concept:name</th>\n",
       "      <th>concept:name</th>\n",
       "      <th>time:timestamp</th>\n",
       "      <th>@@index</th>\n",
       "      <th>@@case_index</th>\n",
       "    </tr>\n",
       "  </thead>\n",
       "  <tbody>\n",
       "    <tr>\n",
       "      <th>0</th>\n",
       "      <td>Application_1000086665</td>\n",
       "      <td>A_Create Application</td>\n",
       "      <td>2016-08-03 17:57:21.673000+00:00</td>\n",
       "      <td>COMPLETE</td>\n",
       "      <td>New credit</td>\n",
       "      <td>Other, see explanation</td>\n",
       "      <td>5000.0</td>\n",
       "      <td>NaN</td>\n",
       "      <td>User_1</td>\n",
       "      <td>NaN</td>\n",
       "      <td>...</td>\n",
       "      <td>NaN</td>\n",
       "      <td>NaN</td>\n",
       "      <td>NaN</td>\n",
       "      <td>Application</td>\n",
       "      <td>NaN</td>\n",
       "      <td>Application_1000086665</td>\n",
       "      <td>A_Create Application</td>\n",
       "      <td>2016-08-03 17:57:21.673000+00:00</td>\n",
       "      <td>0</td>\n",
       "      <td>0</td>\n",
       "    </tr>\n",
       "    <tr>\n",
       "      <th>1</th>\n",
       "      <td>Application_1000086665</td>\n",
       "      <td>A_Submitted</td>\n",
       "      <td>2016-08-03 17:57:21.734000+00:00</td>\n",
       "      <td>COMPLETE</td>\n",
       "      <td>New credit</td>\n",
       "      <td>Other, see explanation</td>\n",
       "      <td>5000.0</td>\n",
       "      <td>NaN</td>\n",
       "      <td>User_1</td>\n",
       "      <td>NaN</td>\n",
       "      <td>...</td>\n",
       "      <td>NaN</td>\n",
       "      <td>NaN</td>\n",
       "      <td>NaN</td>\n",
       "      <td>Application</td>\n",
       "      <td>NaN</td>\n",
       "      <td>Application_1000086665</td>\n",
       "      <td>A_Submitted</td>\n",
       "      <td>2016-08-03 17:57:21.734000+00:00</td>\n",
       "      <td>1</td>\n",
       "      <td>0</td>\n",
       "    </tr>\n",
       "    <tr>\n",
       "      <th>2</th>\n",
       "      <td>Application_1000086665</td>\n",
       "      <td>W_Handle leads</td>\n",
       "      <td>2016-08-03 17:57:21.963000+00:00</td>\n",
       "      <td>SCHEDULE</td>\n",
       "      <td>New credit</td>\n",
       "      <td>Other, see explanation</td>\n",
       "      <td>5000.0</td>\n",
       "      <td>NaN</td>\n",
       "      <td>User_1</td>\n",
       "      <td>NaN</td>\n",
       "      <td>...</td>\n",
       "      <td>NaN</td>\n",
       "      <td>NaN</td>\n",
       "      <td>NaN</td>\n",
       "      <td>Workflow</td>\n",
       "      <td>NaN</td>\n",
       "      <td>Application_1000086665</td>\n",
       "      <td>W_Handle leads</td>\n",
       "      <td>2016-08-03 17:57:21.963000+00:00</td>\n",
       "      <td>2</td>\n",
       "      <td>0</td>\n",
       "    </tr>\n",
       "    <tr>\n",
       "      <th>3</th>\n",
       "      <td>Application_1000086665</td>\n",
       "      <td>W_Handle leads</td>\n",
       "      <td>2016-08-03 17:58:28.286000+00:00</td>\n",
       "      <td>WITHDRAW</td>\n",
       "      <td>New credit</td>\n",
       "      <td>Other, see explanation</td>\n",
       "      <td>5000.0</td>\n",
       "      <td>NaN</td>\n",
       "      <td>User_1</td>\n",
       "      <td>NaN</td>\n",
       "      <td>...</td>\n",
       "      <td>NaN</td>\n",
       "      <td>NaN</td>\n",
       "      <td>NaN</td>\n",
       "      <td>Workflow</td>\n",
       "      <td>NaN</td>\n",
       "      <td>Application_1000086665</td>\n",
       "      <td>W_Handle leads</td>\n",
       "      <td>2016-08-03 17:58:28.286000+00:00</td>\n",
       "      <td>3</td>\n",
       "      <td>0</td>\n",
       "    </tr>\n",
       "    <tr>\n",
       "      <th>4</th>\n",
       "      <td>Application_1000086665</td>\n",
       "      <td>W_Complete application</td>\n",
       "      <td>2016-08-03 17:58:28.293000+00:00</td>\n",
       "      <td>SCHEDULE</td>\n",
       "      <td>New credit</td>\n",
       "      <td>Other, see explanation</td>\n",
       "      <td>5000.0</td>\n",
       "      <td>NaN</td>\n",
       "      <td>User_1</td>\n",
       "      <td>NaN</td>\n",
       "      <td>...</td>\n",
       "      <td>NaN</td>\n",
       "      <td>NaN</td>\n",
       "      <td>NaN</td>\n",
       "      <td>Workflow</td>\n",
       "      <td>NaN</td>\n",
       "      <td>Application_1000086665</td>\n",
       "      <td>W_Complete application</td>\n",
       "      <td>2016-08-03 17:58:28.293000+00:00</td>\n",
       "      <td>4</td>\n",
       "      <td>0</td>\n",
       "    </tr>\n",
       "    <tr>\n",
       "      <th>...</th>\n",
       "      <td>...</td>\n",
       "      <td>...</td>\n",
       "      <td>...</td>\n",
       "      <td>...</td>\n",
       "      <td>...</td>\n",
       "      <td>...</td>\n",
       "      <td>...</td>\n",
       "      <td>...</td>\n",
       "      <td>...</td>\n",
       "      <td>...</td>\n",
       "      <td>...</td>\n",
       "      <td>...</td>\n",
       "      <td>...</td>\n",
       "      <td>...</td>\n",
       "      <td>...</td>\n",
       "      <td>...</td>\n",
       "      <td>...</td>\n",
       "      <td>...</td>\n",
       "      <td>...</td>\n",
       "      <td>...</td>\n",
       "      <td>...</td>\n",
       "    </tr>\n",
       "    <tr>\n",
       "      <th>1202262</th>\n",
       "      <td>Application_999993812</td>\n",
       "      <td>W_Call incomplete files</td>\n",
       "      <td>2016-10-20 10:19:28.812000+00:00</td>\n",
       "      <td>RESUME</td>\n",
       "      <td>New credit</td>\n",
       "      <td>Caravan / Camper</td>\n",
       "      <td>30000.0</td>\n",
       "      <td>NaN</td>\n",
       "      <td>User_41</td>\n",
       "      <td>NaN</td>\n",
       "      <td>...</td>\n",
       "      <td>NaN</td>\n",
       "      <td>NaN</td>\n",
       "      <td>NaN</td>\n",
       "      <td>Workflow</td>\n",
       "      <td>NaN</td>\n",
       "      <td>Application_999993812</td>\n",
       "      <td>W_Call incomplete files</td>\n",
       "      <td>2016-10-20 10:19:28.812000+00:00</td>\n",
       "      <td>1202262</td>\n",
       "      <td>31508</td>\n",
       "    </tr>\n",
       "    <tr>\n",
       "      <th>1202263</th>\n",
       "      <td>Application_999993812</td>\n",
       "      <td>W_Call incomplete files</td>\n",
       "      <td>2016-10-20 10:21:59.667000+00:00</td>\n",
       "      <td>SUSPEND</td>\n",
       "      <td>New credit</td>\n",
       "      <td>Caravan / Camper</td>\n",
       "      <td>30000.0</td>\n",
       "      <td>NaN</td>\n",
       "      <td>User_41</td>\n",
       "      <td>NaN</td>\n",
       "      <td>...</td>\n",
       "      <td>NaN</td>\n",
       "      <td>NaN</td>\n",
       "      <td>NaN</td>\n",
       "      <td>Workflow</td>\n",
       "      <td>NaN</td>\n",
       "      <td>Application_999993812</td>\n",
       "      <td>W_Call incomplete files</td>\n",
       "      <td>2016-10-20 10:21:59.667000+00:00</td>\n",
       "      <td>1202263</td>\n",
       "      <td>31508</td>\n",
       "    </tr>\n",
       "    <tr>\n",
       "      <th>1202264</th>\n",
       "      <td>Application_999993812</td>\n",
       "      <td>O_Accepted</td>\n",
       "      <td>2016-10-24 08:24:30.056000+00:00</td>\n",
       "      <td>COMPLETE</td>\n",
       "      <td>New credit</td>\n",
       "      <td>Caravan / Camper</td>\n",
       "      <td>30000.0</td>\n",
       "      <td>NaN</td>\n",
       "      <td>User_68</td>\n",
       "      <td>NaN</td>\n",
       "      <td>...</td>\n",
       "      <td>NaN</td>\n",
       "      <td>NaN</td>\n",
       "      <td>NaN</td>\n",
       "      <td>Offer</td>\n",
       "      <td>NaN</td>\n",
       "      <td>Application_999993812</td>\n",
       "      <td>O_Accepted</td>\n",
       "      <td>2016-10-24 08:24:30.056000+00:00</td>\n",
       "      <td>1202264</td>\n",
       "      <td>31508</td>\n",
       "    </tr>\n",
       "    <tr>\n",
       "      <th>1202265</th>\n",
       "      <td>Application_999993812</td>\n",
       "      <td>A_Pending</td>\n",
       "      <td>2016-10-24 08:24:30.059000+00:00</td>\n",
       "      <td>COMPLETE</td>\n",
       "      <td>New credit</td>\n",
       "      <td>Caravan / Camper</td>\n",
       "      <td>30000.0</td>\n",
       "      <td>NaN</td>\n",
       "      <td>User_68</td>\n",
       "      <td>NaN</td>\n",
       "      <td>...</td>\n",
       "      <td>NaN</td>\n",
       "      <td>NaN</td>\n",
       "      <td>NaN</td>\n",
       "      <td>Application</td>\n",
       "      <td>NaN</td>\n",
       "      <td>Application_999993812</td>\n",
       "      <td>A_Pending</td>\n",
       "      <td>2016-10-24 08:24:30.059000+00:00</td>\n",
       "      <td>1202265</td>\n",
       "      <td>31508</td>\n",
       "    </tr>\n",
       "    <tr>\n",
       "      <th>1202266</th>\n",
       "      <td>Application_999993812</td>\n",
       "      <td>W_Call incomplete files</td>\n",
       "      <td>2016-10-24 08:24:30.061000+00:00</td>\n",
       "      <td>ATE_ABORT</td>\n",
       "      <td>New credit</td>\n",
       "      <td>Caravan / Camper</td>\n",
       "      <td>30000.0</td>\n",
       "      <td>NaN</td>\n",
       "      <td>User_68</td>\n",
       "      <td>NaN</td>\n",
       "      <td>...</td>\n",
       "      <td>NaN</td>\n",
       "      <td>NaN</td>\n",
       "      <td>NaN</td>\n",
       "      <td>Workflow</td>\n",
       "      <td>NaN</td>\n",
       "      <td>Application_999993812</td>\n",
       "      <td>W_Call incomplete files</td>\n",
       "      <td>2016-10-24 08:24:30.061000+00:00</td>\n",
       "      <td>1202266</td>\n",
       "      <td>31508</td>\n",
       "    </tr>\n",
       "  </tbody>\n",
       "</table>\n",
       "<p>1202267 rows × 24 columns</p>\n",
       "</div>"
      ],
      "text/plain": [
       "                           case                    event  \\\n",
       "0        Application_1000086665     A_Create Application   \n",
       "1        Application_1000086665              A_Submitted   \n",
       "2        Application_1000086665           W_Handle leads   \n",
       "3        Application_1000086665           W_Handle leads   \n",
       "4        Application_1000086665   W_Complete application   \n",
       "...                         ...                      ...   \n",
       "1202262   Application_999993812  W_Call incomplete files   \n",
       "1202263   Application_999993812  W_Call incomplete files   \n",
       "1202264   Application_999993812               O_Accepted   \n",
       "1202265   Application_999993812                A_Pending   \n",
       "1202266   Application_999993812  W_Call incomplete files   \n",
       "\n",
       "                                    time lifecycle:transition ApplicationType  \\\n",
       "0       2016-08-03 17:57:21.673000+00:00             COMPLETE      New credit   \n",
       "1       2016-08-03 17:57:21.734000+00:00             COMPLETE      New credit   \n",
       "2       2016-08-03 17:57:21.963000+00:00             SCHEDULE      New credit   \n",
       "3       2016-08-03 17:58:28.286000+00:00             WITHDRAW      New credit   \n",
       "4       2016-08-03 17:58:28.293000+00:00             SCHEDULE      New credit   \n",
       "...                                  ...                  ...             ...   \n",
       "1202262 2016-10-20 10:19:28.812000+00:00               RESUME      New credit   \n",
       "1202263 2016-10-20 10:21:59.667000+00:00              SUSPEND      New credit   \n",
       "1202264 2016-10-24 08:24:30.056000+00:00             COMPLETE      New credit   \n",
       "1202265 2016-10-24 08:24:30.059000+00:00             COMPLETE      New credit   \n",
       "1202266 2016-10-24 08:24:30.061000+00:00            ATE_ABORT      New credit   \n",
       "\n",
       "                       LoanGoal  RequestedAmount  MonthlyCost org:resource  \\\n",
       "0        Other, see explanation           5000.0          NaN       User_1   \n",
       "1        Other, see explanation           5000.0          NaN       User_1   \n",
       "2        Other, see explanation           5000.0          NaN       User_1   \n",
       "3        Other, see explanation           5000.0          NaN       User_1   \n",
       "4        Other, see explanation           5000.0          NaN       User_1   \n",
       "...                         ...              ...          ...          ...   \n",
       "1202262        Caravan / Camper          30000.0          NaN      User_41   \n",
       "1202263        Caravan / Camper          30000.0          NaN      User_41   \n",
       "1202264        Caravan / Camper          30000.0          NaN      User_68   \n",
       "1202265        Caravan / Camper          30000.0          NaN      User_68   \n",
       "1202266        Caravan / Camper          30000.0          NaN      User_68   \n",
       "\n",
       "        Selected  ... Accepted CreditScore  NumberOfTerms  EventOrigin  \\\n",
       "0            NaN  ...      NaN         NaN            NaN  Application   \n",
       "1            NaN  ...      NaN         NaN            NaN  Application   \n",
       "2            NaN  ...      NaN         NaN            NaN     Workflow   \n",
       "3            NaN  ...      NaN         NaN            NaN     Workflow   \n",
       "4            NaN  ...      NaN         NaN            NaN     Workflow   \n",
       "...          ...  ...      ...         ...            ...          ...   \n",
       "1202262      NaN  ...      NaN         NaN            NaN     Workflow   \n",
       "1202263      NaN  ...      NaN         NaN            NaN     Workflow   \n",
       "1202264      NaN  ...      NaN         NaN            NaN        Offer   \n",
       "1202265      NaN  ...      NaN         NaN            NaN  Application   \n",
       "1202266      NaN  ...      NaN         NaN            NaN     Workflow   \n",
       "\n",
       "        OfferedAmount       case:concept:name             concept:name  \\\n",
       "0                 NaN  Application_1000086665     A_Create Application   \n",
       "1                 NaN  Application_1000086665              A_Submitted   \n",
       "2                 NaN  Application_1000086665           W_Handle leads   \n",
       "3                 NaN  Application_1000086665           W_Handle leads   \n",
       "4                 NaN  Application_1000086665   W_Complete application   \n",
       "...               ...                     ...                      ...   \n",
       "1202262           NaN   Application_999993812  W_Call incomplete files   \n",
       "1202263           NaN   Application_999993812  W_Call incomplete files   \n",
       "1202264           NaN   Application_999993812               O_Accepted   \n",
       "1202265           NaN   Application_999993812                A_Pending   \n",
       "1202266           NaN   Application_999993812  W_Call incomplete files   \n",
       "\n",
       "                          time:timestamp  @@index @@case_index  \n",
       "0       2016-08-03 17:57:21.673000+00:00        0            0  \n",
       "1       2016-08-03 17:57:21.734000+00:00        1            0  \n",
       "2       2016-08-03 17:57:21.963000+00:00        2            0  \n",
       "3       2016-08-03 17:58:28.286000+00:00        3            0  \n",
       "4       2016-08-03 17:58:28.293000+00:00        4            0  \n",
       "...                                  ...      ...          ...  \n",
       "1202262 2016-10-20 10:19:28.812000+00:00  1202262        31508  \n",
       "1202263 2016-10-20 10:21:59.667000+00:00  1202263        31508  \n",
       "1202264 2016-10-24 08:24:30.056000+00:00  1202264        31508  \n",
       "1202265 2016-10-24 08:24:30.059000+00:00  1202265        31508  \n",
       "1202266 2016-10-24 08:24:30.061000+00:00  1202266        31508  \n",
       "\n",
       "[1202267 rows x 24 columns]"
      ]
     },
     "metadata": {},
     "output_type": "display_data"
    }
   ],
   "source": [
    "# Load data\n",
    "bpi_data = pd.read_csv(\"C:/Users/cshek/OneDrive/Bureaublad/Thesis/BPI_Challenge_2017.csv\", sep=',', quotechar='\"')\n",
    "bpi_data.columns = bpi_data.columns.str.strip()\n",
    "bpi_data['time'] = pd.to_datetime(bpi_data['time'], format='%Y/%m/%d %H:%M:%S.%f')\n",
    "log = pm4py.format_dataframe(bpi_data, case_id='case', activity_key='event', timestamp_key='time')\n",
    "display(log)\n",
    "\n",
    "# Build LogView\n",
    "log_view = LogViewBuilder.build_log_view(log)"
   ]
  },
  {
   "cell_type": "code",
   "execution_count": 68,
   "id": "8ea4abea",
   "metadata": {},
   "outputs": [],
   "source": [
    "# CreditScore ≥ 600\n",
    "query_1 = Query('GoodCredit', [GreaterEqualToConstant('CreditScore', 600)])\n",
    "result_set_1, complement_1 = log_view.evaluate_query('rs_GoodCredit', log, query_1)\n",
    "log_view.label_result_set(result_set_1, 'GoodCredit')\n",
    "\n",
    "# RequestedAmount ≥ 10000\n",
    "query_2 = Query('LoanOverThreshold', [GreaterEqualToConstant('RequestedAmount', 10000)])\n",
    "result_set_2, complement_2 = log_view.evaluate_query('rs_LoanOverThreshold', result_set_1, query_2)\n",
    "log_view.label_result_set(result_set_2, 'LoanOverThreshold')\n",
    "\n",
    "# RequestedAmount < 15000\n",
    "query_3 = Query('SmallAmount', [LessThanConstant('RequestedAmount', 15000)])\n",
    "result_set_3, complement_3 = log_view.evaluate_query('rs_SmallAmount', result_set_2, query_3)\n",
    "log_view.label_result_set(result_set_3, 'SmallAmount')\n",
    "\n",
    "# ApplicationType = 'New credit'\n",
    "query_4 = Query('IsNewCredit', [EqToConstant('ApplicationType', 'New credit')])\n",
    "result_set_4, complement_4 = log_view.evaluate_query('rs_IsNewCredit', result_set_3, query_4)\n",
    "log_view.label_result_set(result_set_4, 'IsNewCredit')\n",
    "\n",
    "# Starts with A_Create Application\n",
    "query_5 = Query('StartWithCreate', [StartWith(['A_Create Application'])])\n",
    "result_set_5, complement_5 = log_view.evaluate_query('rs_StartWithCreate', log, query_5)\n",
    "log_view.label_result_set(result_set_5, 'StartWithCreate')\n",
    "\n",
    "# Duration between 2 and 7 days\n",
    "query_6 = Query('ModerateDuration', [DurationWithin(172800, 604800)])\n",
    "result_set_6, complement_6 = log_view.evaluate_query('rs_ModerateDuration', log, query_6)\n",
    "log_view.label_result_set(result_set_6, 'ModerateDuration')"
   ]
  },
  {
   "cell_type": "code",
   "execution_count": null,
   "id": "840b9c4e",
   "metadata": {},
   "outputs": [],
   "source": [
    "def get_lineage(registry, result_set_name):\n",
    "    \"\"\"\n",
    "    Given a registry and a result_set name, return a filtered DataFrame\n",
    "    showing the lineage of how that result_set was derived.\n",
    "    \"\"\"\n",
    "    evaluations = registry['evaluations']\n",
    "    \n",
    "    lineage_rows = []\n",
    "\n",
    "    def trace_back(current_result_set):\n",
    "        for _, row in evaluations.iterrows():\n",
    "            if row['result_set'] == current_result_set:\n",
    "                lineage_rows.append(row)\n",
    "                trace_back(row['source_log'])\n",
    "\n",
    "    trace_back(result_set_name)\n",
    "    \n",
    "    # Reverse the result to show forward lineage\n",
    "    lineage_df = pd.DataFrame(lineage_rows[::-1])\n",
    "    return lineage_df\n",
    "\n",
    "def precompute_case_durations(log_df):\n",
    "    \"\"\"\n",
    "    Adds a 'case_duration' column to the original log dataframe.\n",
    "    \"\"\"\n",
    "    case_durations = (\n",
    "        log_df.groupby(\"case:concept:name\")[\"time:timestamp\"]\n",
    "        .agg([\"min\", \"max\"])\n",
    "        .apply(lambda row: (row[\"max\"] - row[\"min\"]).total_seconds(), axis=1)\n",
    "    )\n",
    "    log_df = log_df.copy()\n",
    "    log_df[\"case_duration\"] = log_df[\"case:concept:name\"].map(case_durations)\n",
    "    return log_df\n",
    "\n",
    "def compute_case_stats(df, name, label_path):\n",
    "    \"\"\"\n",
    "    Computes statistics for a filtered DataFrame subset.\n",
    "    \"\"\"\n",
    "    if df.empty:\n",
    "        return {\n",
    "            \"subset_name\": name,\n",
    "            \"label_path\": \" → \".join(label_path),\n",
    "            \"num_cases\": 0,\n",
    "            \"avg_case_duration_seconds\": 0\n",
    "        }\n",
    "\n",
    "    durations = df.drop_duplicates(\"case:concept:name\")[\"case_duration\"]\n",
    "    return {\n",
    "        \"subset_name\": name,\n",
    "        \"label_path\": \" → \".join(label_path),\n",
    "        \"num_cases\": df[\"case:concept:name\"].nunique(),\n",
    "        \"avg_case_duration_seconds\": durations.mean()\n",
    "    }\n",
    "\n",
    "def split_subsets(subsets, query_obj, filter_label, step_index, query_evaluator, filter_cache):\n",
    "    \"\"\"\n",
    "    Applies a filter to each subset and splits it into matching and non-matching subsets.\n",
    "    \"\"\"\n",
    "    new_subsets = []\n",
    "\n",
    "    for subset in subsets:\n",
    "        subset_df = subset[\"df\"]\n",
    "        subset_name = subset[\"name\"]\n",
    "        path = subset[\"label_path\"]\n",
    "\n",
    "        cache_key = (subset_name, query_obj.name)\n",
    "        if cache_key in filter_cache:\n",
    "            df_filtered, df_complement = filter_cache[cache_key]\n",
    "        else:\n",
    "            df_filtered, df_complement = query_evaluator.evaluate(subset_df, query_obj)\n",
    "            filter_cache[cache_key] = (df_filtered, df_complement)\n",
    "\n",
    "        # Create new names and paths\n",
    "        filtered_name = f\"{subset_name}_F{step_index+1}\"\n",
    "        complement_name = f\"{subset_name}_C{step_index+1}\"\n",
    "        path_filtered = path + [f\"{filter_label} ✓\"]\n",
    "        path_complement = path + [f\"{filter_label} ✗\"]\n",
    "\n",
    "        # Append next subsets\n",
    "        new_subsets.append({\n",
    "            \"df\": df_filtered,\n",
    "            \"name\": filtered_name,\n",
    "            \"label_path\": path_filtered\n",
    "        })\n",
    "        new_subsets.append({\n",
    "            \"df\": df_complement,\n",
    "            \"name\": complement_name,\n",
    "            \"label_path\": path_complement\n",
    "        })\n",
    "\n",
    "    return new_subsets\n",
    "\n",
    "def recursively_apply_filters(selected_sequence_df, log_view):\n",
    "    \"\"\"\n",
    "    Applies a sequence of filters recursively and returns a DataFrame\n",
    "    ready for icicle/sunburst visualization, with hierarchical levels and stats.\n",
    "    \"\"\"\n",
    "    # Precompute query map\n",
    "    query_map = {\n",
    "        evaluation[\"query\"].name: evaluation[\"query\"]\n",
    "        for result_set_id in log_view.query_registry.get_registered_result_set_ids()\n",
    "        for evaluation in [log_view.query_registry.get_evaluation(result_set_id)]\n",
    "    }\n",
    "\n",
    "    # Get the initial log and precompute durations\n",
    "    initial_log_name = selected_sequence_df.iloc[0]['source_log']\n",
    "    initial_df = precompute_case_durations(log_view.result_set_name_cache[initial_log_name])\n",
    "\n",
    "    current_subsets = [{\n",
    "        \"df\": initial_df,\n",
    "        \"name\": initial_log_name,\n",
    "        \"label_path\": [\"Initial Source\"]\n",
    "    }]\n",
    "\n",
    "    filter_cache = {}\n",
    "\n",
    "    # Apply filters iteratively\n",
    "    for i, row in selected_sequence_df.iterrows():\n",
    "        query_name = row[\"query\"]\n",
    "        filter_label = row[\"labels\"]\n",
    "        query_obj = query_map.get(query_name)\n",
    "        if query_obj is None:\n",
    "            raise ValueError(f\"Query '{query_name}' not found in registry.\")\n",
    "\n",
    "        current_subsets = split_subsets(\n",
    "            current_subsets,\n",
    "            query_obj,\n",
    "            filter_label,\n",
    "            i,\n",
    "            log_view.query_evaluator,\n",
    "            filter_cache\n",
    "        )\n",
    "\n",
    "    # Compute stats\n",
    "    result_rows = []\n",
    "    for subset in current_subsets:\n",
    "        df = subset[\"df\"]\n",
    "        if df.empty:\n",
    "            continue\n",
    "        label_path = subset[\"label_path\"]\n",
    "        stats = compute_case_stats(df, subset[\"name\"], label_path)\n",
    "        row = {\n",
    "            **{f\"Level{i+1}\": label for i, label in enumerate(label_path)},\n",
    "            \"num_cases\": stats[\"num_cases\"],\n",
    "            \"avg_case_duration_seconds\": stats[\"avg_case_duration_seconds\"]\n",
    "        }\n",
    "        result_rows.append(row)\n",
    "\n",
    "    return pd.DataFrame(result_rows)\n",
    "\n",
    "def icicle(result_set_name, show_time=True):\n",
    "    import time\n",
    "    import plotly.express as px\n",
    "\n",
    "    times = {}\n",
    "    start_all = time.time()\n",
    "\n",
    "    # Lineage\n",
    "    t0 = time.time()\n",
    "    lineage = get_lineage(log_view.query_registry.summary(), result_set_name)\n",
    "    times['lineage'] = time.time() - t0\n",
    "\n",
    "    # Apply filters and prepare icicle data\n",
    "    t1 = time.time()\n",
    "    icicle_df = recursively_apply_filters(lineage, log_view)\n",
    "    times['apply_filters'] = time.time() - t1\n",
    "\n",
    "    # Plot\n",
    "    t2 = time.time()\n",
    "    fig = px.icicle(\n",
    "        icicle_df,\n",
    "        path=[col for col in icicle_df.columns if col.startswith(\"Level\")],\n",
    "        values='num_cases',\n",
    "        color='avg_case_duration_seconds',\n",
    "        color_continuous_scale='Blues',\n",
    "        title=f'Icicle Chart for Result Set: {result_set_name}'\n",
    "    )\n",
    "    \n",
    "    fig.update_layout(\n",
    "    margin=dict(t=40, l=0, r=0, b=0),\n",
    "    coloraxis_colorbar=dict(title=\"Average Case Duration (seconds)\"))\n",
    "\n",
    "\n",
    "    fig.show()\n",
    "    times['plot'] = time.time() - t2\n",
    "\n",
    "    times['total'] = time.time() - start_all\n",
    "\n",
    "    if show_time:\n",
    "        print(\"\\n--- Execution Time (seconds) ---\")\n",
    "        for k, v in times.items():\n",
    "            print(f\"{k:25}: {v:.4f}\")\n"
   ]
  },
  {
   "cell_type": "code",
   "execution_count": 84,
   "id": "18057973",
   "metadata": {},
   "outputs": [
    {
     "data": {
      "application/vnd.plotly.v1+json": {
       "config": {
        "plotlyServerURL": "https://plot.ly"
       },
       "data": [
        {
         "branchvalues": "total",
         "customdata": {
          "bdata": "21QwsmqiN0GrocqOG98xQVrv9A3ExjpBxT1VqW4AM0FfDdaHBXY2Qa+aBq3VvzBB3BFtmKGAQUF/MNiM2L82QTRoUsp920FBSkB3qLifN0Erkjzs6QRBQeYLnpI5fDdB4O9Rn796N0F+9JIAbYA6QZmhE+qFQzZB9Su/tCylQEEvALjnNoRAQZ4GahFKS0BB7jwuh2S+OUGZoRPqhUM2QSwuSLl3jEBBngZqEUpLQEEIh50kEpE4Qbtuz2ttc0BBXWDJrfDePEE=",
          "dtype": "f8",
          "shape": "25, 1"
         },
         "domain": {
          "x": [
           0,
           1
          ],
          "y": [
           0,
           1
          ]
         },
         "hovertemplate": "labels=%{label}<br>num_cases=%{value}<br>parent=%{parent}<br>id=%{id}<br>avg_case_duration_seconds=%{color}<extra></extra>",
         "ids": [
          "Initial Source/['GoodCredit'] ✓/['LoanOverThreshold'] ✓/['SmallAmount'] ✓/['IsNewCredit'] ✓",
          "Initial Source/['GoodCredit'] ✓/['LoanOverThreshold'] ✓/['SmallAmount'] ✓/['IsNewCredit'] ✗",
          "Initial Source/['GoodCredit'] ✓/['LoanOverThreshold'] ✓/['SmallAmount'] ✗/['IsNewCredit'] ✓",
          "Initial Source/['GoodCredit'] ✓/['LoanOverThreshold'] ✓/['SmallAmount'] ✗/['IsNewCredit'] ✗",
          "Initial Source/['GoodCredit'] ✓/['LoanOverThreshold'] ✗/['SmallAmount'] ✓/['IsNewCredit'] ✓",
          "Initial Source/['GoodCredit'] ✓/['LoanOverThreshold'] ✗/['SmallAmount'] ✓/['IsNewCredit'] ✗",
          "Initial Source/['GoodCredit'] ✗/['LoanOverThreshold'] ✓/['SmallAmount'] ✓/['IsNewCredit'] ✓",
          "Initial Source/['GoodCredit'] ✗/['LoanOverThreshold'] ✓/['SmallAmount'] ✓/['IsNewCredit'] ✗",
          "Initial Source/['GoodCredit'] ✗/['LoanOverThreshold'] ✓/['SmallAmount'] ✗/['IsNewCredit'] ✓",
          "Initial Source/['GoodCredit'] ✗/['LoanOverThreshold'] ✓/['SmallAmount'] ✗/['IsNewCredit'] ✗",
          "Initial Source/['GoodCredit'] ✗/['LoanOverThreshold'] ✗/['SmallAmount'] ✓/['IsNewCredit'] ✓",
          "Initial Source/['GoodCredit'] ✗/['LoanOverThreshold'] ✗/['SmallAmount'] ✓/['IsNewCredit'] ✗",
          "Initial Source/['GoodCredit'] ✓/['LoanOverThreshold'] ✓/['SmallAmount'] ✓",
          "Initial Source/['GoodCredit'] ✓/['LoanOverThreshold'] ✓/['SmallAmount'] ✗",
          "Initial Source/['GoodCredit'] ✓/['LoanOverThreshold'] ✗/['SmallAmount'] ✓",
          "Initial Source/['GoodCredit'] ✗/['LoanOverThreshold'] ✓/['SmallAmount'] ✓",
          "Initial Source/['GoodCredit'] ✗/['LoanOverThreshold'] ✓/['SmallAmount'] ✗",
          "Initial Source/['GoodCredit'] ✗/['LoanOverThreshold'] ✗/['SmallAmount'] ✓",
          "Initial Source/['GoodCredit'] ✓/['LoanOverThreshold'] ✓",
          "Initial Source/['GoodCredit'] ✓/['LoanOverThreshold'] ✗",
          "Initial Source/['GoodCredit'] ✗/['LoanOverThreshold'] ✓",
          "Initial Source/['GoodCredit'] ✗/['LoanOverThreshold'] ✗",
          "Initial Source/['GoodCredit'] ✓",
          "Initial Source/['GoodCredit'] ✗",
          "Initial Source"
         ],
         "labels": [
          "['IsNewCredit'] ✓",
          "['IsNewCredit'] ✗",
          "['IsNewCredit'] ✓",
          "['IsNewCredit'] ✗",
          "['IsNewCredit'] ✓",
          "['IsNewCredit'] ✗",
          "['IsNewCredit'] ✓",
          "['IsNewCredit'] ✗",
          "['IsNewCredit'] ✓",
          "['IsNewCredit'] ✗",
          "['IsNewCredit'] ✓",
          "['IsNewCredit'] ✗",
          "['SmallAmount'] ✓",
          "['SmallAmount'] ✗",
          "['SmallAmount'] ✓",
          "['SmallAmount'] ✓",
          "['SmallAmount'] ✗",
          "['SmallAmount'] ✓",
          "['LoanOverThreshold'] ✓",
          "['LoanOverThreshold'] ✗",
          "['LoanOverThreshold'] ✓",
          "['LoanOverThreshold'] ✗",
          "['GoodCredit'] ✓",
          "['GoodCredit'] ✗",
          "Initial Source"
         ],
         "marker": {
          "coloraxis": "coloraxis",
          "colors": {
           "bdata": "21QwsmqiN0GrocqOG98xQVrv9A3ExjpBxT1VqW4AM0FfDdaHBXY2Qa+aBq3VvzBB3BFtmKGAQUF/MNiM2L82QTRoUsp920FBSkB3qLifN0Erkjzs6QRBQeYLnpI5fDdB4O9Rn796N0F+9JIAbYA6QZmhE+qFQzZB9Su/tCylQEEvALjnNoRAQZ4GahFKS0BB7jwuh2S+OUGZoRPqhUM2QSwuSLl3jEBBngZqEUpLQEEIh50kEpE4Qbtuz2ttc0BBXWDJrfDePEE=",
           "dtype": "f8"
          }
         },
         "name": "",
         "parents": [
          "Initial Source/['GoodCredit'] ✓/['LoanOverThreshold'] ✓/['SmallAmount'] ✓",
          "Initial Source/['GoodCredit'] ✓/['LoanOverThreshold'] ✓/['SmallAmount'] ✓",
          "Initial Source/['GoodCredit'] ✓/['LoanOverThreshold'] ✓/['SmallAmount'] ✗",
          "Initial Source/['GoodCredit'] ✓/['LoanOverThreshold'] ✓/['SmallAmount'] ✗",
          "Initial Source/['GoodCredit'] ✓/['LoanOverThreshold'] ✗/['SmallAmount'] ✓",
          "Initial Source/['GoodCredit'] ✓/['LoanOverThreshold'] ✗/['SmallAmount'] ✓",
          "Initial Source/['GoodCredit'] ✗/['LoanOverThreshold'] ✓/['SmallAmount'] ✓",
          "Initial Source/['GoodCredit'] ✗/['LoanOverThreshold'] ✓/['SmallAmount'] ✓",
          "Initial Source/['GoodCredit'] ✗/['LoanOverThreshold'] ✓/['SmallAmount'] ✗",
          "Initial Source/['GoodCredit'] ✗/['LoanOverThreshold'] ✓/['SmallAmount'] ✗",
          "Initial Source/['GoodCredit'] ✗/['LoanOverThreshold'] ✗/['SmallAmount'] ✓",
          "Initial Source/['GoodCredit'] ✗/['LoanOverThreshold'] ✗/['SmallAmount'] ✓",
          "Initial Source/['GoodCredit'] ✓/['LoanOverThreshold'] ✓",
          "Initial Source/['GoodCredit'] ✓/['LoanOverThreshold'] ✓",
          "Initial Source/['GoodCredit'] ✓/['LoanOverThreshold'] ✗",
          "Initial Source/['GoodCredit'] ✗/['LoanOverThreshold'] ✓",
          "Initial Source/['GoodCredit'] ✗/['LoanOverThreshold'] ✓",
          "Initial Source/['GoodCredit'] ✗/['LoanOverThreshold'] ✗",
          "Initial Source/['GoodCredit'] ✓",
          "Initial Source/['GoodCredit'] ✓",
          "Initial Source/['GoodCredit'] ✗",
          "Initial Source/['GoodCredit'] ✗",
          "Initial Source",
          "Initial Source",
          ""
         ],
         "type": "icicle",
         "values": {
          "bdata": "AAAAAAA6o0AAAAAAAABRQAAAAAAAeLxAAAAAAACwcEAAAAAAAHCzQAAAAAAAQGZAAAAAAADcoEAAAAAAAPB1QAAAAAAA1bZAAAAAAAAImkAAAAAAABC1QAAAAAAA2IpAAAAAAADCo0AAAAAAAIO9QAAAAAAAIrRAAAAAAACao0AAAAAAAFe9QAAAAAAAa7hAAAAAAACyw0AAAAAAACK0QAAAAAAAksNAAAAAAABruEAAAAAAAMPNQAAAAACAx89AAAAAAEDF3kA=",
          "dtype": "f8"
         }
        }
       ],
       "layout": {
        "coloraxis": {
         "colorbar": {
          "title": {
           "text": "Average Case Duration (seconds)"
          }
         },
         "colorscale": [
          [
           0,
           "rgb(247,251,255)"
          ],
          [
           0.125,
           "rgb(222,235,247)"
          ],
          [
           0.25,
           "rgb(198,219,239)"
          ],
          [
           0.375,
           "rgb(158,202,225)"
          ],
          [
           0.5,
           "rgb(107,174,214)"
          ],
          [
           0.625,
           "rgb(66,146,198)"
          ],
          [
           0.75,
           "rgb(33,113,181)"
          ],
          [
           0.875,
           "rgb(8,81,156)"
          ],
          [
           1,
           "rgb(8,48,107)"
          ]
         ]
        },
        "legend": {
         "tracegroupgap": 0
        },
        "margin": {
         "b": 0,
         "l": 0,
         "r": 0,
         "t": 40
        },
        "template": {
         "data": {
          "bar": [
           {
            "error_x": {
             "color": "#2a3f5f"
            },
            "error_y": {
             "color": "#2a3f5f"
            },
            "marker": {
             "line": {
              "color": "#E5ECF6",
              "width": 0.5
             },
             "pattern": {
              "fillmode": "overlay",
              "size": 10,
              "solidity": 0.2
             }
            },
            "type": "bar"
           }
          ],
          "barpolar": [
           {
            "marker": {
             "line": {
              "color": "#E5ECF6",
              "width": 0.5
             },
             "pattern": {
              "fillmode": "overlay",
              "size": 10,
              "solidity": 0.2
             }
            },
            "type": "barpolar"
           }
          ],
          "carpet": [
           {
            "aaxis": {
             "endlinecolor": "#2a3f5f",
             "gridcolor": "white",
             "linecolor": "white",
             "minorgridcolor": "white",
             "startlinecolor": "#2a3f5f"
            },
            "baxis": {
             "endlinecolor": "#2a3f5f",
             "gridcolor": "white",
             "linecolor": "white",
             "minorgridcolor": "white",
             "startlinecolor": "#2a3f5f"
            },
            "type": "carpet"
           }
          ],
          "choropleth": [
           {
            "colorbar": {
             "outlinewidth": 0,
             "ticks": ""
            },
            "type": "choropleth"
           }
          ],
          "contour": [
           {
            "colorbar": {
             "outlinewidth": 0,
             "ticks": ""
            },
            "colorscale": [
             [
              0,
              "#0d0887"
             ],
             [
              0.1111111111111111,
              "#46039f"
             ],
             [
              0.2222222222222222,
              "#7201a8"
             ],
             [
              0.3333333333333333,
              "#9c179e"
             ],
             [
              0.4444444444444444,
              "#bd3786"
             ],
             [
              0.5555555555555556,
              "#d8576b"
             ],
             [
              0.6666666666666666,
              "#ed7953"
             ],
             [
              0.7777777777777778,
              "#fb9f3a"
             ],
             [
              0.8888888888888888,
              "#fdca26"
             ],
             [
              1,
              "#f0f921"
             ]
            ],
            "type": "contour"
           }
          ],
          "contourcarpet": [
           {
            "colorbar": {
             "outlinewidth": 0,
             "ticks": ""
            },
            "type": "contourcarpet"
           }
          ],
          "heatmap": [
           {
            "colorbar": {
             "outlinewidth": 0,
             "ticks": ""
            },
            "colorscale": [
             [
              0,
              "#0d0887"
             ],
             [
              0.1111111111111111,
              "#46039f"
             ],
             [
              0.2222222222222222,
              "#7201a8"
             ],
             [
              0.3333333333333333,
              "#9c179e"
             ],
             [
              0.4444444444444444,
              "#bd3786"
             ],
             [
              0.5555555555555556,
              "#d8576b"
             ],
             [
              0.6666666666666666,
              "#ed7953"
             ],
             [
              0.7777777777777778,
              "#fb9f3a"
             ],
             [
              0.8888888888888888,
              "#fdca26"
             ],
             [
              1,
              "#f0f921"
             ]
            ],
            "type": "heatmap"
           }
          ],
          "histogram": [
           {
            "marker": {
             "pattern": {
              "fillmode": "overlay",
              "size": 10,
              "solidity": 0.2
             }
            },
            "type": "histogram"
           }
          ],
          "histogram2d": [
           {
            "colorbar": {
             "outlinewidth": 0,
             "ticks": ""
            },
            "colorscale": [
             [
              0,
              "#0d0887"
             ],
             [
              0.1111111111111111,
              "#46039f"
             ],
             [
              0.2222222222222222,
              "#7201a8"
             ],
             [
              0.3333333333333333,
              "#9c179e"
             ],
             [
              0.4444444444444444,
              "#bd3786"
             ],
             [
              0.5555555555555556,
              "#d8576b"
             ],
             [
              0.6666666666666666,
              "#ed7953"
             ],
             [
              0.7777777777777778,
              "#fb9f3a"
             ],
             [
              0.8888888888888888,
              "#fdca26"
             ],
             [
              1,
              "#f0f921"
             ]
            ],
            "type": "histogram2d"
           }
          ],
          "histogram2dcontour": [
           {
            "colorbar": {
             "outlinewidth": 0,
             "ticks": ""
            },
            "colorscale": [
             [
              0,
              "#0d0887"
             ],
             [
              0.1111111111111111,
              "#46039f"
             ],
             [
              0.2222222222222222,
              "#7201a8"
             ],
             [
              0.3333333333333333,
              "#9c179e"
             ],
             [
              0.4444444444444444,
              "#bd3786"
             ],
             [
              0.5555555555555556,
              "#d8576b"
             ],
             [
              0.6666666666666666,
              "#ed7953"
             ],
             [
              0.7777777777777778,
              "#fb9f3a"
             ],
             [
              0.8888888888888888,
              "#fdca26"
             ],
             [
              1,
              "#f0f921"
             ]
            ],
            "type": "histogram2dcontour"
           }
          ],
          "mesh3d": [
           {
            "colorbar": {
             "outlinewidth": 0,
             "ticks": ""
            },
            "type": "mesh3d"
           }
          ],
          "parcoords": [
           {
            "line": {
             "colorbar": {
              "outlinewidth": 0,
              "ticks": ""
             }
            },
            "type": "parcoords"
           }
          ],
          "pie": [
           {
            "automargin": true,
            "type": "pie"
           }
          ],
          "scatter": [
           {
            "fillpattern": {
             "fillmode": "overlay",
             "size": 10,
             "solidity": 0.2
            },
            "type": "scatter"
           }
          ],
          "scatter3d": [
           {
            "line": {
             "colorbar": {
              "outlinewidth": 0,
              "ticks": ""
             }
            },
            "marker": {
             "colorbar": {
              "outlinewidth": 0,
              "ticks": ""
             }
            },
            "type": "scatter3d"
           }
          ],
          "scattercarpet": [
           {
            "marker": {
             "colorbar": {
              "outlinewidth": 0,
              "ticks": ""
             }
            },
            "type": "scattercarpet"
           }
          ],
          "scattergeo": [
           {
            "marker": {
             "colorbar": {
              "outlinewidth": 0,
              "ticks": ""
             }
            },
            "type": "scattergeo"
           }
          ],
          "scattergl": [
           {
            "marker": {
             "colorbar": {
              "outlinewidth": 0,
              "ticks": ""
             }
            },
            "type": "scattergl"
           }
          ],
          "scattermap": [
           {
            "marker": {
             "colorbar": {
              "outlinewidth": 0,
              "ticks": ""
             }
            },
            "type": "scattermap"
           }
          ],
          "scattermapbox": [
           {
            "marker": {
             "colorbar": {
              "outlinewidth": 0,
              "ticks": ""
             }
            },
            "type": "scattermapbox"
           }
          ],
          "scatterpolar": [
           {
            "marker": {
             "colorbar": {
              "outlinewidth": 0,
              "ticks": ""
             }
            },
            "type": "scatterpolar"
           }
          ],
          "scatterpolargl": [
           {
            "marker": {
             "colorbar": {
              "outlinewidth": 0,
              "ticks": ""
             }
            },
            "type": "scatterpolargl"
           }
          ],
          "scatterternary": [
           {
            "marker": {
             "colorbar": {
              "outlinewidth": 0,
              "ticks": ""
             }
            },
            "type": "scatterternary"
           }
          ],
          "surface": [
           {
            "colorbar": {
             "outlinewidth": 0,
             "ticks": ""
            },
            "colorscale": [
             [
              0,
              "#0d0887"
             ],
             [
              0.1111111111111111,
              "#46039f"
             ],
             [
              0.2222222222222222,
              "#7201a8"
             ],
             [
              0.3333333333333333,
              "#9c179e"
             ],
             [
              0.4444444444444444,
              "#bd3786"
             ],
             [
              0.5555555555555556,
              "#d8576b"
             ],
             [
              0.6666666666666666,
              "#ed7953"
             ],
             [
              0.7777777777777778,
              "#fb9f3a"
             ],
             [
              0.8888888888888888,
              "#fdca26"
             ],
             [
              1,
              "#f0f921"
             ]
            ],
            "type": "surface"
           }
          ],
          "table": [
           {
            "cells": {
             "fill": {
              "color": "#EBF0F8"
             },
             "line": {
              "color": "white"
             }
            },
            "header": {
             "fill": {
              "color": "#C8D4E3"
             },
             "line": {
              "color": "white"
             }
            },
            "type": "table"
           }
          ]
         },
         "layout": {
          "annotationdefaults": {
           "arrowcolor": "#2a3f5f",
           "arrowhead": 0,
           "arrowwidth": 1
          },
          "autotypenumbers": "strict",
          "coloraxis": {
           "colorbar": {
            "outlinewidth": 0,
            "ticks": ""
           }
          },
          "colorscale": {
           "diverging": [
            [
             0,
             "#8e0152"
            ],
            [
             0.1,
             "#c51b7d"
            ],
            [
             0.2,
             "#de77ae"
            ],
            [
             0.3,
             "#f1b6da"
            ],
            [
             0.4,
             "#fde0ef"
            ],
            [
             0.5,
             "#f7f7f7"
            ],
            [
             0.6,
             "#e6f5d0"
            ],
            [
             0.7,
             "#b8e186"
            ],
            [
             0.8,
             "#7fbc41"
            ],
            [
             0.9,
             "#4d9221"
            ],
            [
             1,
             "#276419"
            ]
           ],
           "sequential": [
            [
             0,
             "#0d0887"
            ],
            [
             0.1111111111111111,
             "#46039f"
            ],
            [
             0.2222222222222222,
             "#7201a8"
            ],
            [
             0.3333333333333333,
             "#9c179e"
            ],
            [
             0.4444444444444444,
             "#bd3786"
            ],
            [
             0.5555555555555556,
             "#d8576b"
            ],
            [
             0.6666666666666666,
             "#ed7953"
            ],
            [
             0.7777777777777778,
             "#fb9f3a"
            ],
            [
             0.8888888888888888,
             "#fdca26"
            ],
            [
             1,
             "#f0f921"
            ]
           ],
           "sequentialminus": [
            [
             0,
             "#0d0887"
            ],
            [
             0.1111111111111111,
             "#46039f"
            ],
            [
             0.2222222222222222,
             "#7201a8"
            ],
            [
             0.3333333333333333,
             "#9c179e"
            ],
            [
             0.4444444444444444,
             "#bd3786"
            ],
            [
             0.5555555555555556,
             "#d8576b"
            ],
            [
             0.6666666666666666,
             "#ed7953"
            ],
            [
             0.7777777777777778,
             "#fb9f3a"
            ],
            [
             0.8888888888888888,
             "#fdca26"
            ],
            [
             1,
             "#f0f921"
            ]
           ]
          },
          "colorway": [
           "#636efa",
           "#EF553B",
           "#00cc96",
           "#ab63fa",
           "#FFA15A",
           "#19d3f3",
           "#FF6692",
           "#B6E880",
           "#FF97FF",
           "#FECB52"
          ],
          "font": {
           "color": "#2a3f5f"
          },
          "geo": {
           "bgcolor": "white",
           "lakecolor": "white",
           "landcolor": "#E5ECF6",
           "showlakes": true,
           "showland": true,
           "subunitcolor": "white"
          },
          "hoverlabel": {
           "align": "left"
          },
          "hovermode": "closest",
          "mapbox": {
           "style": "light"
          },
          "paper_bgcolor": "white",
          "plot_bgcolor": "#E5ECF6",
          "polar": {
           "angularaxis": {
            "gridcolor": "white",
            "linecolor": "white",
            "ticks": ""
           },
           "bgcolor": "#E5ECF6",
           "radialaxis": {
            "gridcolor": "white",
            "linecolor": "white",
            "ticks": ""
           }
          },
          "scene": {
           "xaxis": {
            "backgroundcolor": "#E5ECF6",
            "gridcolor": "white",
            "gridwidth": 2,
            "linecolor": "white",
            "showbackground": true,
            "ticks": "",
            "zerolinecolor": "white"
           },
           "yaxis": {
            "backgroundcolor": "#E5ECF6",
            "gridcolor": "white",
            "gridwidth": 2,
            "linecolor": "white",
            "showbackground": true,
            "ticks": "",
            "zerolinecolor": "white"
           },
           "zaxis": {
            "backgroundcolor": "#E5ECF6",
            "gridcolor": "white",
            "gridwidth": 2,
            "linecolor": "white",
            "showbackground": true,
            "ticks": "",
            "zerolinecolor": "white"
           }
          },
          "shapedefaults": {
           "line": {
            "color": "#2a3f5f"
           }
          },
          "ternary": {
           "aaxis": {
            "gridcolor": "white",
            "linecolor": "white",
            "ticks": ""
           },
           "baxis": {
            "gridcolor": "white",
            "linecolor": "white",
            "ticks": ""
           },
           "bgcolor": "#E5ECF6",
           "caxis": {
            "gridcolor": "white",
            "linecolor": "white",
            "ticks": ""
           }
          },
          "title": {
           "x": 0.05
          },
          "xaxis": {
           "automargin": true,
           "gridcolor": "white",
           "linecolor": "white",
           "ticks": "",
           "title": {
            "standoff": 15
           },
           "zerolinecolor": "white",
           "zerolinewidth": 2
          },
          "yaxis": {
           "automargin": true,
           "gridcolor": "white",
           "linecolor": "white",
           "ticks": "",
           "title": {
            "standoff": 15
           },
           "zerolinecolor": "white",
           "zerolinewidth": 2
          }
         }
        },
        "title": {
         "text": "Icicle Chart for Result Set: rs_IsNewCredit"
        }
       }
      }
     },
     "metadata": {},
     "output_type": "display_data"
    },
    {
     "name": "stdout",
     "output_type": "stream",
     "text": [
      "\n",
      "--- Execution Time (seconds) ---\n",
      "lineage                  : 0.0077\n",
      "apply_filters            : 10.5565\n",
      "plot                     : 0.2171\n",
      "total                    : 10.7813\n"
     ]
    }
   ],
   "source": [
    "icicle('rs_IsNewCredit')"
   ]
  }
 ],
 "metadata": {
  "kernelspec": {
   "display_name": "Python 3",
   "language": "python",
   "name": "python3"
  },
  "language_info": {
   "codemirror_mode": {
    "name": "ipython",
    "version": 3
   },
   "file_extension": ".py",
   "mimetype": "text/x-python",
   "name": "python",
   "nbconvert_exporter": "python",
   "pygments_lexer": "ipython3",
   "version": "3.10.2"
  }
 },
 "nbformat": 4,
 "nbformat_minor": 5
}
